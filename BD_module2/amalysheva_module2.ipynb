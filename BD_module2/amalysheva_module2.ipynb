{
 "cells": [
  {
   "cell_type": "code",
   "execution_count": 13,
   "id": "62677d4c-51dc-4c71-b250-aab6a3e5b47d",
   "metadata": {},
   "outputs": [],
   "source": [
    "import pandas as pd\n",
    "import numpy as np\n",
    "import warnings\n",
    "warnings.filterwarnings('ignore')"
   ]
  },
  {
   "cell_type": "code",
   "execution_count": 8,
   "id": "d453839a-da54-45b1-95dc-d572246f4cfe",
   "metadata": {},
   "outputs": [],
   "source": [
    "customer = pd.read_csv('customer.csv', sep=';')\n",
    "transaction = pd.read_csv('transaction.csv', sep=';')"
   ]
  },
  {
   "cell_type": "code",
   "execution_count": 14,
   "id": "265edb6a-4364-487c-9b80-8404df8f9c2d",
   "metadata": {},
   "outputs": [],
   "source": [
    "transaction = transaction.replace({np.nan: None})\n",
    "customer = customer.replace({np.nan: None})"
   ]
  },
  {
   "cell_type": "code",
   "execution_count": 19,
   "id": "efedfccd-4d4b-4a4d-9604-6710dad08b81",
   "metadata": {},
   "outputs": [],
   "source": [
    "transaction['list_price']=transaction['list_price'].str.replace(',','.')\n",
    "transaction['standard_cost']=transaction['standard_cost'].str.replace(',','.')"
   ]
  },
  {
   "cell_type": "code",
   "execution_count": 5,
   "id": "fd951c51-764c-42eb-849d-0085f96968d7",
   "metadata": {},
   "outputs": [],
   "source": [
    "import psycopg2 \n",
    "\n",
    "import psycopg2.extras as extras \n",
    "import pandas as pd \n",
    "\n",
    "\n",
    "def execute_values(conn, df, table): \n",
    "\n",
    "\ttuples = [tuple(x) for x in df.to_numpy()] \n",
    "\n",
    "\tcols = ','.join(list(df.columns)) \n",
    "\t# SQL query to execute \n",
    "\tquery = \"INSERT INTO %s(%s) VALUES %%s\" % (table, cols) \n",
    "\tcursor = conn.cursor() \n",
    "\ttry: \n",
    "\t\textras.execute_values(cursor, query, tuples) \n",
    "\t\tconn.commit() \n",
    "\texcept (Exception, psycopg2.DatabaseError) as error: \n",
    "\t\tprint(\"Error: %s\" % error) \n",
    "\t\tconn.rollback() \n",
    "\t\tcursor.close() \n",
    "\t\treturn 1\n",
    "\tprint(\"the dataframe is inserted\") \n",
    "\tcursor.close() \n",
    "\n",
    "\n",
    "conn = psycopg2.connect( \n",
    "\tdatabase=\"postgres\", user='postgres', password='admin', host='127.0.0.1', port='5432'\n",
    ") \n"
   ]
  },
  {
   "cell_type": "code",
   "execution_count": 15,
   "id": "8ae6d3ce-d370-41a4-b1e7-6fb24e1e2ad8",
   "metadata": {},
   "outputs": [
    {
     "name": "stdout",
     "output_type": "stream",
     "text": [
      "the dataframe is inserted\n"
     ]
    }
   ],
   "source": [
    "execute_values(conn, customer, 'module2.customer') "
   ]
  },
  {
   "cell_type": "code",
   "execution_count": 20,
   "id": "5f6ae8cc-a9c2-4777-9e65-77f02a4a6f8d",
   "metadata": {},
   "outputs": [
    {
     "name": "stdout",
     "output_type": "stream",
     "text": [
      "the dataframe is inserted\n"
     ]
    }
   ],
   "source": [
    "execute_values(conn, transaction, 'module2.transaction') "
   ]
  },
  {
   "cell_type": "code",
   "execution_count": null,
   "id": "8624c5ff-63aa-41e3-a856-259674c074e0",
   "metadata": {},
   "outputs": [],
   "source": []
  }
 ],
 "metadata": {
  "kernelspec": {
   "display_name": "Python 3 (ipykernel)",
   "language": "python",
   "name": "python3"
  },
  "language_info": {
   "codemirror_mode": {
    "name": "ipython",
    "version": 3
   },
   "file_extension": ".py",
   "mimetype": "text/x-python",
   "name": "python",
   "nbconvert_exporter": "python",
   "pygments_lexer": "ipython3",
   "version": "3.11.1"
  }
 },
 "nbformat": 4,
 "nbformat_minor": 5
}
