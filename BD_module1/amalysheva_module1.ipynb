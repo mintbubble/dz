{
 "cells": [
  {
   "cell_type": "code",
   "execution_count": 1,
   "id": "f3fc7e2e-ccb7-4899-98a6-1609393ed06e",
   "metadata": {},
   "outputs": [],
   "source": [
    "import pandas as pd\n",
    "import numpy as np \n",
    "import uuid"
   ]
  },
  {
   "cell_type": "code",
   "execution_count": 2,
   "id": "11ea6f13-763d-4a42-a403-dd4168250534",
   "metadata": {},
   "outputs": [],
   "source": [
    "import warnings\n",
    "warnings.filterwarnings('ignore')"
   ]
  },
  {
   "cell_type": "code",
   "execution_count": 3,
   "id": "13649738-38c4-447f-9995-364af4bc577d",
   "metadata": {},
   "outputs": [],
   "source": [
    "df0 = pd.read_excel('asset-v1_SkillFactory+MFTIDS+SEP2023+type@asset+block@customer_and_transaction__2_.xlsx', sheet_name='transaction')\n",
    "df_customer = pd.read_excel('asset-v1_SkillFactory+MFTIDS+SEP2023+type@asset+block@customer_and_transaction__2_.xlsx', sheet_name='customer')"
   ]
  },
  {
   "cell_type": "code",
   "execution_count": 4,
   "id": "ba3e57c1-7ba9-4e22-9581-0c2b86e22d23",
   "metadata": {},
   "outputs": [],
   "source": [
    "df_customer.loc[df_customer['gender'].isin(['F', 'Femal']), 'gender'] = 'Female'\n",
    "df_customer.loc[df_customer['gender'] == 'M', 'gender'] = 'Male'"
   ]
  },
  {
   "cell_type": "code",
   "execution_count": 5,
   "id": "53b074ea-f54c-425f-94af-c8d6dcef5c49",
   "metadata": {},
   "outputs": [],
   "source": [
    "df_customer['address_code'] = df_customer.address.apply(lambda x: x.split(' ')[0])\n",
    "df_customer['address_name'] = df_customer.address.apply(lambda x: ' '.join(x.split(' ')[1:]))"
   ]
  },
  {
   "cell_type": "code",
   "execution_count": 6,
   "id": "a0abbc4e-3fc1-45da-a569-685526877b25",
   "metadata": {},
   "outputs": [],
   "source": [
    "df_customer = df_customer.drop(columns='address')"
   ]
  },
  {
   "cell_type": "code",
   "execution_count": 7,
   "id": "e9c78e1d-9f17-4551-9489-478cbdaffef7",
   "metadata": {},
   "outputs": [],
   "source": [
    "df_product = df0[['product_id','brand','product_line','product_class','product_size']]"
   ]
  },
  {
   "cell_type": "code",
   "execution_count": 8,
   "id": "e77eaf30-4341-416e-9f84-a8970d3f66a1",
   "metadata": {},
   "outputs": [],
   "source": [
    "df_product_ = df_product.drop_duplicates() "
   ]
  },
  {
   "cell_type": "code",
   "execution_count": 9,
   "id": "63c6565a-21e2-4690-8c2e-ef1675c8db2b",
   "metadata": {},
   "outputs": [],
   "source": [
    "df_product_['product_uid'] = df_product_['product_id'].apply(lambda x: uuid.uuid4())"
   ]
  },
  {
   "cell_type": "code",
   "execution_count": 10,
   "id": "e57dac57-3191-4bcc-9150-ed503357189a",
   "metadata": {},
   "outputs": [],
   "source": [
    "df0 = df0.merge(df_product_, how='left', on=['product_id','brand','product_line','product_class','product_size'])"
   ]
  },
  {
   "cell_type": "code",
   "execution_count": 11,
   "id": "904722d3-05a2-41bb-8bbe-dd28e773a374",
   "metadata": {},
   "outputs": [],
   "source": [
    "df_transaction = df0[['transaction_id','product_uid','customer_id','transaction_date','online_order','order_status','list_price', 'standard_cost']]"
   ]
  },
  {
   "cell_type": "code",
   "execution_count": 13,
   "id": "c9e7f1aa-0fcb-41cc-a50d-b80dcea24d0d",
   "metadata": {},
   "outputs": [],
   "source": [
    "df_product_ = df_product_.replace({np.nan: None})\n",
    "df_transaction = df_transaction.replace({np.nan: None})\n",
    "df_customer = df_customer.replace({np.nan: None})"
   ]
  },
  {
   "cell_type": "code",
   "execution_count": 14,
   "id": "752917e1-accb-4dd1-b520-77efe319add9",
   "metadata": {},
   "outputs": [],
   "source": [
    "import psycopg2 \n",
    "\n",
    "import psycopg2.extras as extras \n",
    "import pandas as pd \n",
    "\n",
    "\n",
    "def execute_values(conn, df, table): \n",
    "\n",
    "\ttuples = [tuple(x) for x in df.to_numpy()] \n",
    "\n",
    "\tcols = ','.join(list(df.columns)) \n",
    "\t# SQL query to execute \n",
    "\tquery = \"INSERT INTO %s(%s) VALUES %%s\" % (table, cols) \n",
    "\tcursor = conn.cursor() \n",
    "\ttry: \n",
    "\t\textras.execute_values(cursor, query, tuples) \n",
    "\t\tconn.commit() \n",
    "\texcept (Exception, psycopg2.DatabaseError) as error: \n",
    "\t\tprint(\"Error: %s\" % error) \n",
    "\t\tconn.rollback() \n",
    "\t\tcursor.close() \n",
    "\t\treturn 1\n",
    "\tprint(\"the dataframe is inserted\") \n",
    "\tcursor.close() \n",
    "\n",
    "\n",
    "conn = psycopg2.connect( \n",
    "\tdatabase=\"postgres\", user='postgres', password='admin', host='127.0.0.1', port='5432'\n",
    ") \n"
   ]
  },
  {
   "cell_type": "code",
   "execution_count": 15,
   "id": "96403bb9-c46d-4025-9ebd-1f429893217e",
   "metadata": {},
   "outputs": [],
   "source": [
    "# df_order['uid']=df_order['uid'].astype(str)\n",
    "df_transaction['product_uid']=df_transaction['product_uid'].astype(str)\n",
    "df_product_['product_uid']=df_product_['product_uid'].astype(str)"
   ]
  },
  {
   "cell_type": "code",
   "execution_count": 16,
   "id": "83e9c180-978b-4744-9649-5b4de38e04d0",
   "metadata": {},
   "outputs": [
    {
     "name": "stdout",
     "output_type": "stream",
     "text": [
      "the dataframe is inserted\n"
     ]
    }
   ],
   "source": [
    "execute_values(conn, df_customer, 'module1.customer') "
   ]
  },
  {
   "cell_type": "code",
   "execution_count": 17,
   "id": "43a31f0b-10d7-44f3-99df-47729dfb1c65",
   "metadata": {},
   "outputs": [
    {
     "name": "stdout",
     "output_type": "stream",
     "text": [
      "the dataframe is inserted\n"
     ]
    }
   ],
   "source": [
    "execute_values(conn, df_product_, 'module1.product') "
   ]
  },
  {
   "cell_type": "code",
   "execution_count": 20,
   "id": "809c4b17-b153-44d5-a8de-e13fffda5121",
   "metadata": {},
   "outputs": [],
   "source": [
    "customer_temp = pd.DataFrame(data={'customer_id':[5034], 'first_name':[None], 'last_name':[None], 'gender':[None], 'DOB':[None], 'job_title':[None],\n",
    "       'job_industry_category':[None], 'wealth_segment':[None], 'deceased_indicator':[None], 'owns_car':[None],\n",
    "        'address_code':[None], 'address_name':[None], 'postcode':[None], 'state':[None], 'country':[None], 'property_valuation':[None]})"
   ]
  },
  {
   "cell_type": "code",
   "execution_count": 21,
   "id": "87708515-cee7-4708-a3a8-954028e102c8",
   "metadata": {},
   "outputs": [
    {
     "name": "stdout",
     "output_type": "stream",
     "text": [
      "the dataframe is inserted\n"
     ]
    }
   ],
   "source": [
    "#Error: ОШИБКА:  INSERT или UPDATE в таблице \"order\" нарушает ограничение внешнего ключа \"order_customer_id_fkey\"\n",
    "#DETAIL:  Ключ (customer_id)=(5034) отсутствует в таблице \"customer\".\n",
    "execute_values(conn, customer_temp, 'module1.customer') "
   ]
  },
  {
   "cell_type": "code",
   "execution_count": 22,
   "id": "30c110f0-7577-4603-b89e-2da1d7b516e1",
   "metadata": {},
   "outputs": [
    {
     "name": "stdout",
     "output_type": "stream",
     "text": [
      "the dataframe is inserted\n"
     ]
    }
   ],
   "source": [
    "execute_values(conn, df_transaction, 'module1.transaction') "
   ]
  },
  {
   "cell_type": "code",
   "execution_count": null,
   "id": "acdfc49d-9428-42bb-b342-ec7c955a896b",
   "metadata": {},
   "outputs": [],
   "source": []
  },
  {
   "cell_type": "code",
   "execution_count": null,
   "id": "15e90413-f333-4451-b53c-8262f677f2b1",
   "metadata": {},
   "outputs": [],
   "source": [
    "### ОПИСАНИЕ РЕШЕНИЯ ###"
   ]
  },
  {
   "cell_type": "markdown",
   "id": "2aeeb673-c5c4-41e3-acdf-88e811df2999",
   "metadata": {},
   "source": [
    "Выделим три таблицы: customer, product, transaction\n",
    "Для преведения их к 3НФ сделаем следующие шаги:\n",
    "1) все таблицы не содержат составных данных в ячейках/столбцах\n",
    "2) таблица customer не содержит дубликатов, содержит уникальный первичный ключ customer_id, при этом в колонке gender таблицы customers есть неуникальные названия - переименуем. Так же разделим поле address на поля address_code и address_name\n",
    "3) таблица product содержит дубликаты, product_id не является уникальным, уникальным является сочетание всех столбцов - удалим дубликаты и введем уникальный product_uid\n",
    "4) таблица transaction не содержит дубликатов, содержит уникальный первичный ключ transaction_id, + добавляем product_uid, оставляем customer_id\n",
    "5) таблица customer не содержит (customer_id)=(5034) поэтому добавим customer_id с пустыми полями в таблицу \n",
    "\n",
    "Теперь таблицы находятся в 3НФ: 1НФ - атрибуты простые, скалярные, нет дублей в записях, 2НФ - 1НФ + каждый не ключевой атрибут неприводимо зависит от первичного ключа (составе потенциального ключа отсутствует меньшее подмножество атрибутов), 3НФ - 2НФ +  каждый не ключевой атрибут нетранзитивно зависит от первичного ключа (все не ключевые поля, содержимое которых может относиться к нескольким записям таблицы вынесены в отдельные таблицы).\n",
    "\n"
   ]
  },
  {
   "cell_type": "code",
   "execution_count": null,
   "id": "bf1f3b75-050e-414b-a08e-17bf0103e3a9",
   "metadata": {},
   "outputs": [],
   "source": []
  }
 ],
 "metadata": {
  "kernelspec": {
   "display_name": "Python 3 (ipykernel)",
   "language": "python",
   "name": "python3"
  },
  "language_info": {
   "codemirror_mode": {
    "name": "ipython",
    "version": 3
   },
   "file_extension": ".py",
   "mimetype": "text/x-python",
   "name": "python",
   "nbconvert_exporter": "python",
   "pygments_lexer": "ipython3",
   "version": "3.11.1"
  }
 },
 "nbformat": 4,
 "nbformat_minor": 5
}
