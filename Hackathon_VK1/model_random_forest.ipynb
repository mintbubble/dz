{
 "cells": [
  {
   "cell_type": "code",
   "execution_count": 1,
   "metadata": {},
   "outputs": [],
   "source": [
    "import pandas as pd\n",
    "import numpy as np\n",
    "import ast\n",
    "\n",
    "from sklearn.model_selection import train_test_split\n",
    "from sklearn.preprocessing import StandardScaler\n",
    "from sklearn.ensemble import RandomForestClassifier\n",
    "from sklearn.metrics import accuracy_score, classification_report\n",
    "from sklearn.feature_selection import chi2\n",
    "from sklearn.preprocessing import LabelEncoder"
   ]
  },
  {
   "cell_type": "code",
   "execution_count": 2,
   "metadata": {},
   "outputs": [],
   "source": [
    "geo_info = pd.read_csv('geo_info.csv', sep=';')\n",
    "referer_vectors = pd.read_csv('referer_vectors.csv', sep=';')\n",
    "test_users = pd.read_csv('test_users.csv', sep=';')\n",
    "test = pd.read_csv('test.csv', sep=';')\n",
    "train_labels = pd.read_csv('train_labels.csv', sep=';')\n",
    "train = pd.read_csv('train.csv', sep=';')\n",
    "\n",
    "referer_vectors = referer_vectors.drop_duplicates()"
   ]
  },
  {
   "cell_type": "code",
   "execution_count": 3,
   "metadata": {},
   "outputs": [],
   "source": [
    "# Функция для безопасного извлечения данных из user_agent\n",
    "def extract_user_agent_info(user_agent, key):\n",
    "    try:\n",
    "        if pd.notna(user_agent):\n",
    "            return ast.literal_eval(user_agent).get(key, np.nan)\n",
    "        else:\n",
    "            return np.nan\n",
    "    except (ValueError, SyntaxError):\n",
    "        return np.nan\n",
    "\n",
    "# Обработка данных train\n",
    "train['request_ts'] = pd.to_datetime(train['request_ts'], unit='s')\n",
    "train['hour'] = train['request_ts'].dt.hour\n",
    "train['day_of_week'] = train['request_ts'].dt.dayofweek\n",
    "train['browser'] = train['user_agent'].apply(lambda x: extract_user_agent_info(x, 'browser'))\n",
    "train['os'] = train['user_agent'].apply(lambda x: extract_user_agent_info(x, 'os'))\n",
    "train['browser_version'] = train['user_agent'].apply(lambda x: extract_user_agent_info(x, 'browser_version'))\n",
    "train['os_version'] = train['user_agent'].apply(lambda x: extract_user_agent_info(x, 'os_version'))\n",
    "\n",
    "# Обработка данных test\n",
    "test['request_ts'] = pd.to_datetime(test['request_ts'], unit='s')\n",
    "test['hour'] = test['request_ts'].dt.hour\n",
    "test['day_of_week'] = test['request_ts'].dt.dayofweek\n",
    "test['browser'] = test['user_agent'].apply(lambda x: extract_user_agent_info(x, 'browser'))\n",
    "test['os'] = test['user_agent'].apply(lambda x: extract_user_agent_info(x, 'os'))\n",
    "test['browser_version'] = test['user_agent'].apply(lambda x: extract_user_agent_info(x, 'browser_version'))\n",
    "test['os_version'] = test['user_agent'].apply(lambda x: extract_user_agent_info(x, 'os_version'))"
   ]
  },
  {
   "cell_type": "code",
   "execution_count": 4,
   "metadata": {},
   "outputs": [
    {
     "name": "stdout",
     "output_type": "stream",
     "text": [
      "Old: [(150000, 11), (750000, 11)], New: ((150000, 24), (750000, 24))\n"
     ]
    }
   ],
   "source": [
    "old_shapes = [test.shape, train.shape]\n",
    "\n",
    "# Присоединение информации о referer и geo\n",
    "train = train.merge(referer_vectors, on='referer', how='left')\n",
    "train = train.merge(geo_info, on='geo_id', how='left')\n",
    "\n",
    "test = test.merge(referer_vectors, on='referer', how='left')\n",
    "test = test.merge(geo_info, on='geo_id', how='left')\n",
    "\n",
    "# Проверяем результат преобразований\n",
    "print(f'Old: {old_shapes}, New: {test.shape, train.shape}')\n"
   ]
  },
  {
   "cell_type": "code",
   "execution_count": 5,
   "metadata": {},
   "outputs": [
    {
     "data": {
      "text/plain": [
       "0.0    309409\n",
       "1.0    284034\n",
       "NaN    156557\n",
       "Name: target, dtype: int64"
      ]
     },
     "execution_count": 5,
     "metadata": {},
     "output_type": "execute_result"
    }
   ],
   "source": [
    "train_df = train.merge(train_labels, on='user_id', how='left')\n",
    "train_df['target'].value_counts(dropna=False)"
   ]
  },
  {
   "cell_type": "code",
   "execution_count": 6,
   "metadata": {},
   "outputs": [],
   "source": [
    "# Выбираем все доступные признаки для обучения\n",
    "features = [\n",
    "    'hour', 'day_of_week', 'browser', 'os', 'os_version',\n",
    "    'component0', 'component1', 'component2', 'component3', 'component4',\n",
    "    'component5', 'component6', 'component7', 'component8', 'component9',\n",
    "    'country_id', 'region_id', 'timezone_id'\n",
    "]\n",
    "X = train_df[features]\n",
    "y = train_df['target']\n",
    "\n",
    "X = X[~y.isna()]\n",
    "y = y[~y.isna()]"
   ]
  },
  {
   "cell_type": "code",
   "execution_count": 7,
   "metadata": {},
   "outputs": [
    {
     "name": "stdout",
     "output_type": "stream",
     "text": [
      "      feature    chi2_stat  p_value\n",
      "0  country_id  2010.230195      0.0\n",
      "1   region_id  2921.141304      0.0\n"
     ]
    }
   ],
   "source": [
    "\n",
    "# Кодируем целевую переменную, если она категориальная\n",
    "y_encoded = LabelEncoder().fit_transform(y)\n",
    "\n",
    "# Убедимся, что категориальные признаки закодированы в числовой формат\n",
    "X_categorical = X[['country_id', 'region_id']].apply(LabelEncoder().fit_transform)\n",
    "\n",
    "# Применение хи-квадрат теста\n",
    "chi2_stats, p_values = chi2(X_categorical, y_encoded)\n",
    "\n",
    "# Создание DataFrame для визуализации значимости\n",
    "chi2_results = pd.DataFrame({\n",
    "    'feature': ['country_id', 'region_id'],\n",
    "    'chi2_stat': chi2_stats,\n",
    "    'p_value': p_values\n",
    "})\n",
    "\n",
    "# Вывод результатов\n",
    "print(chi2_results.sort_values(by='p_value'))"
   ]
  },
  {
   "cell_type": "code",
   "execution_count": 31,
   "metadata": {},
   "outputs": [
    {
     "name": "stdout",
     "output_type": "stream",
     "text": [
      "Accuracy: 0.8233\n",
      "Classification Report:\n",
      "              precision    recall  f1-score   support\n",
      "\n",
      "         0.0       0.83      0.84      0.83     61922\n",
      "         1.0       0.82      0.81      0.81     56767\n",
      "\n",
      "    accuracy                           0.82    118689\n",
      "   macro avg       0.82      0.82      0.82    118689\n",
      "weighted avg       0.82      0.82      0.82    118689\n",
      "\n"
     ]
    }
   ],
   "source": [
    "# Кодируем категориальные признаки\n",
    "X = pd.get_dummies(X, columns=['browser', 'os', 'os_version',\n",
    "                               'country_id', 'region_id', 'timezone_id'], drop_first=True)\n",
    "\n",
    "# Разделяем на обучающую и тестовую выборки\n",
    "X_train, X_valid, y_train, y_valid = train_test_split(X, y, test_size=0.2, random_state=42)\n",
    "\n",
    "# Стандартизация признаков\n",
    "scaler = StandardScaler()\n",
    "X_train_scaled = scaler.fit_transform(X_train)\n",
    "X_valid_scaled = scaler.transform(X_valid)\n",
    "\n",
    "# Создание и обучение модели случайного леса\n",
    "model = RandomForestClassifier(n_estimators=100, random_state=42)\n",
    "model.fit(X_train_scaled, y_train)\n",
    "\n",
    "# Предсказание и оценка модели\n",
    "y_pred = model.predict(X_valid_scaled)\n",
    "print(f\"Accuracy: {accuracy_score(y_valid, y_pred):.4f}\")\n",
    "print(\"Classification Report:\")\n",
    "print(classification_report(y_valid, y_pred))"
   ]
  },
  {
   "cell_type": "code",
   "execution_count": 33,
   "metadata": {},
   "outputs": [
    {
     "name": "stdout",
     "output_type": "stream",
     "text": [
      "                           feature  importance\n",
      "0                             hour    0.113313\n",
      "3                       component1    0.083520\n",
      "10                      component8    0.069875\n",
      "4                       component2    0.068117\n",
      "5                       component3    0.064612\n",
      "7                       component5    0.057350\n",
      "2                       component0    0.056745\n",
      "8                       component6    0.056678\n",
      "11                      component9    0.056415\n",
      "9                       component7    0.055370\n",
      "6                       component4    0.051184\n",
      "69            browser_YandexSearch    0.010975\n",
      "67          browser_Yandex Browser    0.010010\n",
      "79                      os_Windows    0.009218\n",
      "17                  browser_Chrome    0.008544\n",
      "699               region_id_8ccc01    0.007262\n",
      "82                   os_version_10    0.007059\n",
      "18           browser_Chrome Mobile    0.007059\n",
      "1                      day_of_week    0.006317\n",
      "19   browser_Chrome Mobile WebView    0.005833\n",
      "712               region_id_97023a    0.005038\n",
      "896             timezone_id_e56e80    0.004516\n",
      "413              country_id_c31b4e    0.004500\n",
      "46                   browser_Opera    0.004007\n",
      "172                  os_version_13    0.003974\n",
      "131                  os_version_11    0.003816\n",
      "142                  os_version_12    0.003406\n",
      "480               region_id_1b18a1    0.003228\n",
      "922             timezone_id_f6155e    0.003008\n",
      "81                          os_iOS    0.002952\n",
      "598               region_id_54fad0    0.002832\n",
      "618               region_id_607a45    0.002633\n",
      "25                    browser_Edge    0.002395\n",
      "303                   os_version_9    0.002364\n",
      "488               region_id_1fbfa5    0.002181\n",
      "546               region_id_36e3f3    0.002157\n",
      "508               region_id_245864    0.002089\n",
      "44           browser_Mobile Safari    0.001893\n",
      "571               region_id_44520b    0.001887\n",
      "29                 browser_Firefox    0.001866\n",
      "739            timezone_id_10b7947    0.001784\n",
      "716                region_id_f66ff    0.001695\n",
      "714               region_id_978f9b    0.001690\n",
      "290                   os_version_7    0.001643\n",
      "407              country_id_b98648    0.001623\n",
      "541               region_id_33ed7a    0.001617\n",
      "892             timezone_id_e1fb2c    0.001586\n",
      "790             timezone_id_9cdb77    0.001542\n",
      "507               region_id_24389d    0.001508\n",
      "616               region_id_5f9c68    0.001508\n"
     ]
    }
   ],
   "source": [
    "# Получение важности признаков\n",
    "feature_importances = model.feature_importances_\n",
    "\n",
    "# Создание DataFrame для визуализации важности признаков\n",
    "importance_df = pd.DataFrame({\n",
    "    'feature': X_train.columns,\n",
    "    'importance': feature_importances\n",
    "})\n",
    "\n",
    "# Сортировка признаков по важности\n",
    "importance_df = importance_df.sort_values(by='importance', ascending=False)\n",
    "\n",
    "# Вывод значимости первых 10 признаков\n",
    "print(importance_df.head(50))"
   ]
  },
  {
   "cell_type": "code",
   "execution_count": 8,
   "metadata": {},
   "outputs": [
    {
     "name": "stdout",
     "output_type": "stream",
     "text": [
      "Accuracy: 0.8245\n",
      "Classification Report:\n",
      "              precision    recall  f1-score   support\n",
      "\n",
      "         0.0       0.83      0.84      0.83     61922\n",
      "         1.0       0.82      0.81      0.82     56767\n",
      "\n",
      "    accuracy                           0.82    118689\n",
      "   macro avg       0.82      0.82      0.82    118689\n",
      "weighted avg       0.82      0.82      0.82    118689\n",
      "\n"
     ]
    }
   ],
   "source": [
    "# Выбираем все доступные признаки для обучения\n",
    "features = [\n",
    "    'hour', 'day_of_week', 'browser', 'os',\n",
    "    'component0', 'component1', 'component2', 'component3', 'component4',\n",
    "    'component5', 'component6', 'component7', 'component8', 'component9',\n",
    "    'country_id', 'region_id', 'timezone_id'\n",
    "]\n",
    "X = train_df[features]\n",
    "y = train_df['target']\n",
    "\n",
    "X = X[~y.isna()]\n",
    "y = y[~y.isna()]\n",
    "\n",
    "# Кодируем категориальные признаки\n",
    "X = pd.get_dummies(X, columns=['browser', 'os',\n",
    "                               'country_id', 'region_id', 'timezone_id'], drop_first=True)\n",
    "\n",
    "# Разделяем на обучающую и тестовую выборки\n",
    "X_train, X_valid, y_train, y_valid = train_test_split(X, y, test_size=0.2, random_state=42)\n",
    "\n",
    "# Стандартизация признаков\n",
    "scaler = StandardScaler()\n",
    "X_train_scaled = scaler.fit_transform(X_train)\n",
    "X_valid_scaled = scaler.transform(X_valid)\n",
    "\n",
    "# Создание и обучение модели случайного леса\n",
    "model = RandomForestClassifier(n_estimators=100, random_state=42)\n",
    "model.fit(X_train_scaled, y_train)\n",
    "\n",
    "# Предсказание и оценка модели\n",
    "y_pred = model.predict(X_valid_scaled)\n",
    "print(f\"Accuracy: {accuracy_score(y_valid, y_pred):.4f}\")\n",
    "print(\"Classification Report:\")\n",
    "print(classification_report(y_valid, y_pred))"
   ]
  },
  {
   "cell_type": "code",
   "execution_count": 19,
   "metadata": {},
   "outputs": [
    {
     "name": "stdout",
     "output_type": "stream",
     "text": [
      "Accuracy: 0.8244\n",
      "Classification Report:\n",
      "              precision    recall  f1-score   support\n",
      "\n",
      "         0.0       0.83      0.84      0.83     61922\n",
      "         1.0       0.82      0.81      0.81     56767\n",
      "\n",
      "    accuracy                           0.82    118689\n",
      "   macro avg       0.82      0.82      0.82    118689\n",
      "weighted avg       0.82      0.82      0.82    118689\n",
      "\n"
     ]
    }
   ],
   "source": [
    "# Выбираем все доступные признаки для обучения\n",
    "features = [\n",
    "    'hour', 'day_of_week', 'browser', 'os',\n",
    "    'component0', 'component1', 'component2', 'component3', 'component4',\n",
    "    'component5', 'component6', 'component7', 'component8', 'component9',\n",
    "    'country_id', 'region_id', 'timezone_id'\n",
    "]\n",
    "X = train_df[features]\n",
    "y = train_df['target']\n",
    "\n",
    "X = X[~y.isna()]\n",
    "y = y[~y.isna()]\n",
    "\n",
    "# Убедимся, что категориальные признаки закодированы в числовой формат\n",
    "X[['browser', 'os', 'country_id', 'region_id', 'timezone_id']] = X[['browser', 'os', 'country_id', 'region_id', 'timezone_id']].apply(LabelEncoder().fit_transform)\n",
    "\n",
    "# Разделяем на обучающую и тестовую выборки\n",
    "X_train, X_valid, y_train, y_valid = train_test_split(X, y, test_size=0.2, random_state=42)\n",
    "\n",
    "# Стандартизация признаков\n",
    "scaler = StandardScaler()\n",
    "X_train_scaled = scaler.fit_transform(X_train)\n",
    "X_valid_scaled = scaler.transform(X_valid)\n",
    "\n",
    "# Создание и обучение модели случайного леса\n",
    "model = RandomForestClassifier(n_estimators=100, random_state=42)\n",
    "model.fit(X_train_scaled, y_train)\n",
    "\n",
    "# Предсказание и оценка модели\n",
    "y_pred = model.predict(X_valid_scaled)\n",
    "print(f\"Accuracy: {accuracy_score(y_valid, y_pred):.4f}\")\n",
    "print(\"Classification Report:\")\n",
    "print(classification_report(y_valid, y_pred))"
   ]
  },
  {
   "cell_type": "code",
   "execution_count": 20,
   "metadata": {},
   "outputs": [
    {
     "name": "stdout",
     "output_type": "stream",
     "text": [
      "Accuracy: 0.8252\n",
      "Classification Report:\n",
      "              precision    recall  f1-score   support\n",
      "\n",
      "         0.0       0.83      0.84      0.83     61922\n",
      "         1.0       0.82      0.81      0.82     56767\n",
      "\n",
      "    accuracy                           0.83    118689\n",
      "   macro avg       0.83      0.82      0.82    118689\n",
      "weighted avg       0.83      0.83      0.83    118689\n",
      "\n"
     ]
    }
   ],
   "source": [
    "# Выбираем все доступные признаки для обучения\n",
    "features = [\n",
    "    'hour', 'day_of_week', 'browser', 'os', 'os_version',\n",
    "    'component0', 'component1', 'component2', 'component3', 'component4',\n",
    "    'component5', 'component6', 'component7', 'component8', 'component9',\n",
    "    'country_id', 'region_id', 'timezone_id'\n",
    "]\n",
    "X = train_df[features]\n",
    "y = train_df['target']\n",
    "\n",
    "X = X[~y.isna()]\n",
    "y = y[~y.isna()]\n",
    "\n",
    "# Убедимся, что категориальные признаки закодированы в числовой формат\n",
    "X[['browser', 'os', 'os_version', 'country_id', 'region_id', 'timezone_id']] = X[['browser', 'os', 'os_version', 'country_id', 'region_id', 'timezone_id']].apply(LabelEncoder().fit_transform)\n",
    "\n",
    "# Разделяем на обучающую и тестовую выборки\n",
    "X_train, X_valid, y_train, y_valid = train_test_split(X, y, test_size=0.2, random_state=42)\n",
    "\n",
    "# Стандартизация признаков\n",
    "scaler = StandardScaler()\n",
    "X_train_scaled = scaler.fit_transform(X_train)\n",
    "X_valid_scaled = scaler.transform(X_valid)\n",
    "\n",
    "# Создание и обучение модели случайного леса\n",
    "model = RandomForestClassifier(n_estimators=100, random_state=42)\n",
    "model.fit(X_train_scaled, y_train)\n",
    "\n",
    "# Предсказание и оценка модели\n",
    "y_pred = model.predict(X_valid_scaled)\n",
    "print(f\"Accuracy: {accuracy_score(y_valid, y_pred):.4f}\")\n",
    "print(\"Classification Report:\")\n",
    "print(classification_report(y_valid, y_pred))"
   ]
  },
  {
   "cell_type": "markdown",
   "metadata": {},
   "source": [
    "# Краткий вывод:\n",
    "\n",
    "1. Случайный лес со всеми признаками, кодирование категориальных с помощью лейблов\n",
    "\n",
    "**Accuracy: 0.8252**\n",
    "\n",
    "2. Случайный лес без признака os_version, кодирование категориальных с помощью лейблов\n",
    "\n",
    "**Accuracy: 0.8244**\n",
    "\n",
    "3. Случайный лес со всеми признаками, кодирование категориальных с помощью One_hot\n",
    "\n",
    "**Accuracy: 0.8233**\n",
    "\n",
    "4. Случайный лес без признака os_version, кодирование категориальных с помощью One_hot\n",
    "\n",
    "**Accuracy: 0.8245**"
   ]
  }
 ],
 "metadata": {
  "kernelspec": {
   "display_name": "base",
   "language": "python",
   "name": "python3"
  },
  "language_info": {
   "codemirror_mode": {
    "name": "ipython",
    "version": 3
   },
   "file_extension": ".py",
   "mimetype": "text/x-python",
   "name": "python",
   "nbconvert_exporter": "python",
   "pygments_lexer": "ipython3",
   "version": "3.11.4"
  }
 },
 "nbformat": 4,
 "nbformat_minor": 2
}
