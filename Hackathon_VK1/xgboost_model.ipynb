{
 "cells": [
  {
   "cell_type": "code",
   "execution_count": 2,
   "id": "6c85f4e5-15fd-46a6-a679-734c9ad9efd2",
   "metadata": {},
   "outputs": [],
   "source": [
    "import pandas as pd\n",
    "import numpy as np\n",
    "import ast\n",
    "from sklearn.model_selection import train_test_split\n",
    "from sklearn.preprocessing import OrdinalEncoder\n",
    "from sklearn.preprocessing import StandardScaler\n",
    "from hyperopt import STATUS_OK, Trials, fmin, hp, tpe"
   ]
  },
  {
   "cell_type": "code",
   "execution_count": 53,
   "id": "61492fde-07cb-43f6-9a39-7eea2f63eb42",
   "metadata": {},
   "outputs": [],
   "source": [
    "import xgboost as xgb\n",
    "from sklearn.metrics import precision_score, recall_score, accuracy_score, f1_score, roc_auc_score\n",
    "from sklearn.metrics import roc_curve, auc\n",
    "from sklearn.metrics import confusion_matrix, ConfusionMatrixDisplay\n",
    "import scikitplot as skplt"
   ]
  },
  {
   "cell_type": "code",
   "execution_count": 3,
   "id": "fc71c0ad-6869-4a64-93bb-f1e45c865dd3",
   "metadata": {},
   "outputs": [],
   "source": [
    "import warnings\n",
    "warnings.filterwarnings('ignore')"
   ]
  },
  {
   "cell_type": "code",
   "execution_count": 4,
   "id": "04d867da-ab93-43a9-aacf-211a1d61aba1",
   "metadata": {},
   "outputs": [],
   "source": [
    "train_labels = pd.read_csv('train_labels.csv', sep=';')\n",
    "test = pd.read_csv('test.csv', sep=';')\n",
    "referer_vectors = pd.read_csv('referer_vectors.csv', sep=';')\n",
    "train = pd.read_csv('train.csv', sep=';')\n",
    "test_users = pd.read_csv('test_users.csv', sep=';')\n",
    "geo_info = pd.read_csv('geo_info.csv', sep=';')"
   ]
  },
  {
   "cell_type": "code",
   "execution_count": 5,
   "id": "ff0d7f1a-7b32-4849-ade5-f9469ee08c24",
   "metadata": {},
   "outputs": [
    {
     "data": {
      "text/plain": [
       "((500000, 2), (750000, 5), (150000, 5))"
      ]
     },
     "execution_count": 5,
     "metadata": {},
     "output_type": "execute_result"
    }
   ],
   "source": [
    "train_labels.shape, train.shape, test.shape"
   ]
  },
  {
   "cell_type": "code",
   "execution_count": 6,
   "id": "90b21d0f-deae-43f8-9652-1e4c2ad91b42",
   "metadata": {},
   "outputs": [
    {
     "data": {
      "text/plain": [
       "(500000, 655672, 131998)"
      ]
     },
     "execution_count": 6,
     "metadata": {},
     "output_type": "execute_result"
    }
   ],
   "source": [
    "train_labels.user_id.nunique(), train.user_id.nunique(), test.user_id.nunique()"
   ]
  },
  {
   "cell_type": "code",
   "execution_count": 7,
   "id": "8bcc102e-733b-43bf-8806-12f6eb021661",
   "metadata": {},
   "outputs": [
    {
     "data": {
      "text/plain": [
       "\"{'browser': 'Chrome Mobile', 'browser_version': '119.0.0', 'os': 'Android', 'os_version': '10'}\""
      ]
     },
     "execution_count": 7,
     "metadata": {},
     "output_type": "execute_result"
    }
   ],
   "source": [
    "train.user_agent[0]"
   ]
  },
  {
   "cell_type": "code",
   "execution_count": 8,
   "id": "37022419-281a-4f57-b1f4-a8c440511961",
   "metadata": {},
   "outputs": [],
   "source": [
    "df = train.copy()"
   ]
  },
  {
   "cell_type": "code",
   "execution_count": 9,
   "id": "1dbe65c6-d3b3-4ec3-b697-98e170e3cce8",
   "metadata": {},
   "outputs": [],
   "source": [
    "df.user_agent = df.user_agent.fillna('{}')"
   ]
  },
  {
   "cell_type": "code",
   "execution_count": 10,
   "id": "2dce84ee-7aee-435a-b405-f0bffdeb98df",
   "metadata": {},
   "outputs": [],
   "source": [
    "df.user_agent = df.user_agent.apply(ast.literal_eval)"
   ]
  },
  {
   "cell_type": "code",
   "execution_count": 11,
   "id": "cf4a3cf8-a143-4916-8a83-c5becc270d08",
   "metadata": {},
   "outputs": [],
   "source": [
    "df = df.merge(referer_vectors, how='left', on='referer')"
   ]
  },
  {
   "cell_type": "code",
   "execution_count": 12,
   "id": "98a848fb-dd2e-482a-9809-17cfe48cbc10",
   "metadata": {},
   "outputs": [],
   "source": [
    "df = df.merge(geo_info, how='left', on='geo_id')"
   ]
  },
  {
   "cell_type": "code",
   "execution_count": 13,
   "id": "2636f883-586e-460a-aa81-8a5570e7adc3",
   "metadata": {},
   "outputs": [],
   "source": [
    "df['browser'] = df.user_agent.apply(lambda x: x.get('browser', 'undefined'))\n",
    "df['browser_version'] = df.user_agent.apply(lambda x: x.get('browser_version', 'undefined'))\n",
    "df['os'] = df.user_agent.apply(lambda x: x.get('os', 'undefined'))\n",
    "df['os_version'] = df.user_agent.apply(lambda x: x.get('os_version', 'undefined'))"
   ]
  },
  {
   "cell_type": "code",
   "execution_count": 14,
   "id": "4353f36f-47a0-497c-9445-87e334acdcc4",
   "metadata": {},
   "outputs": [],
   "source": [
    "df = df.merge(train_labels, how='left', on='user_id')"
   ]
  },
  {
   "cell_type": "code",
   "execution_count": 15,
   "id": "b4e060e2-96c1-45ed-a7da-9e159945ba92",
   "metadata": {},
   "outputs": [],
   "source": [
    "df['request_datetime'] = pd.to_datetime(df.request_ts, unit='s')"
   ]
  },
  {
   "cell_type": "code",
   "execution_count": 16,
   "id": "75e5b717-c2a8-4a88-8c04-79c5f9ce19de",
   "metadata": {},
   "outputs": [],
   "source": [
    "df['year'] = df.request_datetime.dt.year\n",
    "df['month'] = df.request_datetime.dt.month\n",
    "df['day'] = df.request_datetime.dt.day\n",
    "df['hour'] = df.request_datetime.dt.hour\n",
    "df['minute'] = df.request_datetime.dt.minute"
   ]
  },
  {
   "cell_type": "code",
   "execution_count": 17,
   "id": "9a4e3e20-5a52-42fa-aca5-d0c6cc80c28d",
   "metadata": {},
   "outputs": [
    {
     "data": {
      "text/plain": [
       "Index(['request_ts', 'user_id', 'referer', 'geo_id', 'user_agent',\n",
       "       'component0', 'component1', 'component2', 'component3', 'component4',\n",
       "       'component5', 'component6', 'component7', 'component8', 'component9',\n",
       "       'country_id', 'region_id', 'timezone_id', 'browser', 'browser_version',\n",
       "       'os', 'os_version', 'target', 'request_datetime', 'year', 'month',\n",
       "       'day', 'hour', 'minute'],\n",
       "      dtype='object')"
      ]
     },
     "execution_count": 17,
     "metadata": {},
     "output_type": "execute_result"
    }
   ],
   "source": [
    "df.columns"
   ]
  },
  {
   "cell_type": "code",
   "execution_count": 18,
   "id": "ba790618-4254-4b80-9ad8-d439f8176fdc",
   "metadata": {},
   "outputs": [
    {
     "data": {
      "text/plain": [
       "request_ts                   int64\n",
       "user_id                     object\n",
       "referer                     object\n",
       "geo_id                       int64\n",
       "user_agent                  object\n",
       "component0                   int64\n",
       "component1                   int64\n",
       "component2                   int64\n",
       "component3                   int64\n",
       "component4                   int64\n",
       "component5                   int64\n",
       "component6                   int64\n",
       "component7                   int64\n",
       "component8                   int64\n",
       "component9                   int64\n",
       "country_id                  object\n",
       "region_id                   object\n",
       "timezone_id                 object\n",
       "browser                     object\n",
       "browser_version             object\n",
       "os                          object\n",
       "os_version                  object\n",
       "target                     float64\n",
       "request_datetime    datetime64[ns]\n",
       "year                         int64\n",
       "month                        int64\n",
       "day                          int64\n",
       "hour                         int64\n",
       "minute                       int64\n",
       "dtype: object"
      ]
     },
     "execution_count": 18,
     "metadata": {},
     "output_type": "execute_result"
    }
   ],
   "source": [
    "df.dtypes"
   ]
  },
  {
   "cell_type": "code",
   "execution_count": 19,
   "id": "38e8dfb1-91ec-4b1c-980f-12fa0208dd80",
   "metadata": {},
   "outputs": [
    {
     "data": {
      "text/plain": [
       "((759972, 29), (158682, 29))"
      ]
     },
     "execution_count": 19,
     "metadata": {},
     "output_type": "execute_result"
    }
   ],
   "source": [
    "df.shape, df[df.target.isnull()].shape"
   ]
  },
  {
   "cell_type": "code",
   "execution_count": 20,
   "id": "9c786db9-2982-481d-999b-054006f2993c",
   "metadata": {},
   "outputs": [],
   "source": [
    "df = df.drop(columns='user_agent').drop_duplicates()"
   ]
  },
  {
   "cell_type": "code",
   "execution_count": 21,
   "id": "0c142e03-941e-45a7-95c9-e0808fbc459c",
   "metadata": {},
   "outputs": [],
   "source": [
    "df = df[df.target.notnull()]"
   ]
  },
  {
   "cell_type": "code",
   "execution_count": 22,
   "id": "c75e52c9-cf1e-4161-81de-98e879774a7e",
   "metadata": {},
   "outputs": [
    {
     "data": {
      "text/plain": [
       "(591836, 28)"
      ]
     },
     "execution_count": 22,
     "metadata": {},
     "output_type": "execute_result"
    }
   ],
   "source": [
    "df.shape"
   ]
  },
  {
   "cell_type": "code",
   "execution_count": 23,
   "id": "6423bf73-50ee-4f9a-a444-e18e2e5b2762",
   "metadata": {},
   "outputs": [
    {
     "data": {
      "text/plain": [
       "Index(['request_ts', 'user_id', 'referer', 'geo_id', 'component0',\n",
       "       'component1', 'component2', 'component3', 'component4', 'component5',\n",
       "       'component6', 'component7', 'component8', 'component9', 'country_id',\n",
       "       'region_id', 'timezone_id', 'browser', 'browser_version', 'os',\n",
       "       'os_version', 'target', 'request_datetime', 'year', 'month', 'day',\n",
       "       'hour', 'minute'],\n",
       "      dtype='object')"
      ]
     },
     "execution_count": 23,
     "metadata": {},
     "output_type": "execute_result"
    }
   ],
   "source": [
    "df.columns"
   ]
  },
  {
   "cell_type": "code",
   "execution_count": 24,
   "id": "03eecef7-87b2-43d5-b040-0270253adf43",
   "metadata": {},
   "outputs": [],
   "source": [
    "# df = pd.get_dummies(df, columns=['country_id','region_id','timezone_id','browser','os','os_version'], drop_first=True )"
   ]
  },
  {
   "cell_type": "code",
   "execution_count": 25,
   "id": "fd3c4748-9bbe-429a-8788-b609e9d98a99",
   "metadata": {},
   "outputs": [],
   "source": [
    "\n",
    "encoder = OrdinalEncoder()\n",
    "df[['country_id','region_id','timezone_id','browser','browser_version','os','os_version']] = encoder.fit_transform(df[['country_id','region_id','timezone_id','browser','browser_version','os','os_version']])"
   ]
  },
  {
   "cell_type": "code",
   "execution_count": 26,
   "id": "88a419f0-5286-47d4-8954-af67324ae688",
   "metadata": {},
   "outputs": [],
   "source": [
    "train_users, val_users = train_test_split( df.user_id, test_size=0.2, random_state=42)\n"
   ]
  },
  {
   "cell_type": "code",
   "execution_count": 27,
   "id": "974f92df-3914-4fec-af1f-00e5ccebd62a",
   "metadata": {},
   "outputs": [],
   "source": [
    "X_train = df[df.user_id.isin(train_users)][['component0', 'component1', 'component2', 'component3', 'component4',\n",
    "       'component5', 'component6', 'component7', 'component8', 'component9',\n",
    "       'country_id', 'region_id', 'timezone_id', 'browser', 'browser_version',\n",
    "       'os', 'os_version','hour']]\n",
    "y_train = df[df.user_id.isin(train_users)]['target']\n",
    "X_val = df[df.user_id.isin(val_users)][['component0', 'component1', 'component2', 'component3', 'component4',\n",
    "       'component5', 'component6', 'component7', 'component8', 'component9',\n",
    "       'country_id', 'region_id', 'timezone_id', 'browser', 'browser_version',\n",
    "       'os', 'os_version','hour']]\n",
    "y_val = df[df.user_id.isin(val_users)]['target']"
   ]
  },
  {
   "cell_type": "code",
   "execution_count": null,
   "id": "5a6881ae-a0cc-40ee-8388-4d7c7964527e",
   "metadata": {},
   "outputs": [],
   "source": []
  },
  {
   "cell_type": "code",
   "execution_count": 28,
   "id": "81388e91-092b-440d-9a13-6c5722639b38",
   "metadata": {},
   "outputs": [],
   "source": [
    "scaler = StandardScaler()\n",
    "X_train_scaled = scaler.fit_transform(X_train)\n",
    "X_val_scaled = scaler.transform(X_val)"
   ]
  },
  {
   "cell_type": "code",
   "execution_count": 29,
   "id": "7efbbf61-bf88-4d6f-a3ff-a179b2bc1807",
   "metadata": {},
   "outputs": [
    {
     "data": {
      "text/plain": [
       "((501952, 18), (501952,), (151076, 18), (151076,))"
      ]
     },
     "execution_count": 29,
     "metadata": {},
     "output_type": "execute_result"
    }
   ],
   "source": [
    "X_train.shape, y_train.shape, X_val.shape, y_val.shape"
   ]
  },
  {
   "cell_type": "code",
   "execution_count": 31,
   "id": "6d582965-408b-4ba5-ab03-cad95bc477a3",
   "metadata": {},
   "outputs": [],
   "source": [
    "D_train = xgb.DMatrix(X_train_scaled, label=y_train)\n",
    "D_val = xgb.DMatrix(X_val_scaled, label=y_val)"
   ]
  },
  {
   "cell_type": "code",
   "execution_count": 32,
   "id": "5d640dc7-30d2-4a48-942c-fd7f628fd560",
   "metadata": {},
   "outputs": [],
   "source": [
    "param = {\n",
    "'eta': 0.3,\n",
    "'max_depth': 20,\n",
    "'objective': 'multi:softprob',\n",
    "'num_class': 18}\n",
    "\n",
    "steps = 20"
   ]
  },
  {
   "cell_type": "code",
   "execution_count": 33,
   "id": "b8923e88-87f9-40d4-a022-352ca613b8ed",
   "metadata": {},
   "outputs": [],
   "source": [
    "model = xgb.train(param, D_train, steps)\n",
    "preds = model.predict(D_val)\n",
    "best_preds = np.asarray([np.argmax(line) for line in preds])"
   ]
  },
  {
   "cell_type": "code",
   "execution_count": 34,
   "id": "8095a077-9c7f-4554-97da-d7c9ee363e3d",
   "metadata": {},
   "outputs": [
    {
     "name": "stdout",
     "output_type": "stream",
     "text": [
      "precision_score: 0.8685880872721967\n",
      "recall_score: 0.868119623930363\n",
      "accuracy_score: 0.868576080912918\n",
      "f1_score: 0.8623942227058196\n",
      "roc_auc_score: 0.868119623930363\n"
     ]
    }
   ],
   "source": [
    "print(\"precision_score: {}\".format(precision_score(y_val, best_preds, average='macro')))\n",
    "print(\"recall_score: {}\".format(recall_score(y_val, best_preds, average='macro')))\n",
    "print(\"accuracy_score: {}\".format(accuracy_score(y_val, best_preds)))\n",
    "print(\"f1_score: {}\".format(f1_score(y_val, best_preds)))\n",
    "print(\"roc_auc_score: {}\".format(roc_auc_score(y_val, best_preds)))"
   ]
  },
  {
   "cell_type": "code",
   "execution_count": 42,
   "id": "21f3345b-c47a-43e4-869e-0f85ed9bf098",
   "metadata": {},
   "outputs": [
    {
     "data": {
      "text/plain": [
       "<sklearn.metrics._plot.confusion_matrix.ConfusionMatrixDisplay at 0x221b1f420d0>"
      ]
     },
     "execution_count": 42,
     "metadata": {},
     "output_type": "execute_result"
    },
    {
     "data": {
      "image/png": "[encoded data removed]",
      "text/plain": [
       "<Figure size 640x480 with 2 Axes>"
      ]
     },
     "metadata": {},
     "output_type": "display_data"
    }
   ],
   "source": [
    "disp=ConfusionMatrixDisplay(confusion_matrix=confusion_matrix(y_val, best_preds))\n",
    "disp.plot()"
   ]
  },
  {
   "cell_type": "code",
   "execution_count": 54,
   "id": "95c276ae-9ac7-46b7-bbb2-65e66b5a2af7",
   "metadata": {},
   "outputs": [],
   "source": [
    "fpr, tpr, thresholds = roc_curve(y_val, best_preds)\n",
    "roc_auc = auc(fpr, tpr)"
   ]
  },
  {
   "cell_type": "code",
   "execution_count": 55,
   "id": "f7beebdf-0263-47d3-aa10-830748c20fef",
   "metadata": {},
   "outputs": [
    {
     "data": {
      "image/png": "[encoded data removed]",
      "text/plain": [
       "<Figure size 800x600 with 1 Axes>"
      ]
     },
     "metadata": {},
     "output_type": "display_data"
    }
   ],
   "source": [
    "plt.figure(figsize=(8, 6))\n",
    "plt.plot(fpr, tpr, color='blue', label=f'ROC curve (AUC = {roc_auc:.2f})')\n",
    "plt.plot([0, 1], [0, 1], color='red', linestyle='--', label='Random guess')\n",
    "plt.xlim([0.0, 1.0])\n",
    "plt.ylim([0.0, 1.05])\n",
    "plt.xlabel('False Positive Rate')\n",
    "plt.ylabel('True Positive Rate')\n",
    "plt.title('Receiver Operating Characteristic (ROC) Curve')\n",
    "plt.legend(loc=\"lower right\")\n",
    "plt.show()"
   ]
  },
  {
   "cell_type": "code",
   "execution_count": 60,
   "id": "730f6356-422a-4719-b186-11f6a5dd921c",
   "metadata": {},
   "outputs": [
    {
     "data": {
      "text/plain": [
       "<Axes: >"
      ]
     },
     "execution_count": 60,
     "metadata": {},
     "output_type": "execute_result"
    },
    {
     "data": {
      "image/png": "[encoded data removed]",
      "text/plain": [
       "<Figure size 2000x1000 with 1 Axes>"
      ]
     },
     "metadata": {},
     "output_type": "display_data"
    }
   ],
   "source": [
    "feature_important = model.get_score(importance_type='weight')\n",
    "keys = list(feature_important.keys())\n",
    "values = list(feature_important.values())\n",
    "\n",
    "data = pd.DataFrame(data=values, index=keys, columns=[\"score\"]).sort_values(by = \"score\", ascending=False)\n",
    "data.nlargest(40, columns=\"score\").plot(kind='barh', figsize = (20,10)) ## plot top 40 features"
   ]
  },
  {
   "cell_type": "code",
   "execution_count": null,
   "id": "b23a2093-ab80-4f6d-984f-f7b4317f9db2",
   "metadata": {},
   "outputs": [],
   "source": []
  },
  {
   "cell_type": "code",
   "execution_count": null,
   "id": "e7e35fde-0872-4f66-bdb4-bfc92917c1ad",
   "metadata": {},
   "outputs": [],
   "source": []
  },
  {
   "cell_type": "code",
   "execution_count": 56,
   "id": "629acf84-6940-4d12-a17e-b1bbc2b7830c",
   "metadata": {},
   "outputs": [],
   "source": [
    "space = {\n",
    "    'eta': hp.uniform('eta', 0.01, 0.3),\n",
    "    'max_depth': hp.randint('max_depth', 15, 30),\n",
    "    # 'min_child_weight': hp.randint('min_child_weight', 1, 10),\n",
    "    # 'subsample': hp.uniform('subsample', 0.5, 1.0),\n",
    "    # 'colsample_bytree': hp.uniform('colsample_bytree', 0.5, 1.0),\n",
    "    # 'gamma': hp.uniform('gamma', 0, 5),\n",
    "    # 'n_estimators': hp.choice('n_estimators', [30, 50, 70, 100, 150]),\n",
    "    # 'scale_pos_weight': hp.uniform('scale_pos_weight', 1, 10),\n",
    "    'objective': 'multi:softprob',\n",
    "    'num_class': 18\n",
    "}"
   ]
  },
  {
   "cell_type": "code",
   "execution_count": 57,
   "id": "57c2fc08-b37d-48bd-be47-f3c271f4c8bb",
   "metadata": {},
   "outputs": [],
   "source": [
    "def objective(params):\n",
    "    model = xgb.train(params, dtrain=D_train, num_boost_round=steps)\n",
    "    preds = model.predict(D_val)\n",
    "    best_preds = np.asarray([np.argmax(line) for line in preds])\n",
    "    score = roc_auc_score(y_val, best_preds)\n",
    "    return score"
   ]
  },
  {
   "cell_type": "code",
   "execution_count": 58,
   "id": "0d79dc52-799d-42c7-940c-5eb026007681",
   "metadata": {},
   "outputs": [
    {
     "name": "stdout",
     "output_type": "stream",
     "text": [
      "100%|████████████████████████████████████████████| 100/100 [1:43:29<00:00, 62.09s/trial, best loss: 0.8126184661770892]\n"
     ]
    }
   ],
   "source": [
    "trials = Trials()\n",
    "best = fmin(objective, space, algo=tpe.suggest, max_evals=100, trials=trials)"
   ]
  },
  {
   "cell_type": "code",
   "execution_count": 63,
   "id": "8b9ff1d1-00b8-4c43-b570-165db61377ca",
   "metadata": {},
   "outputs": [],
   "source": [
    "# Получаем лучшие значения гиперпараметров\n",
    "final_best_params = {}\n",
    "for key in best:\n",
    "    try:\n",
    "        final_best_params[key] = dict_of_params[key][best[key]]\n",
    "    except:\n",
    "        final_best_params[key] = best[key]\n"
   ]
  },
  {
   "cell_type": "code",
   "execution_count": null,
   "id": "113c0a80-823d-40ce-83b7-4228e181c24c",
   "metadata": {},
   "outputs": [],
   "source": []
  }
 ],
 "metadata": {
  "kernelspec": {
   "display_name": "Python 3 (ipykernel)",
   "language": "python",
   "name": "python3"
  },
  "language_info": {
   "codemirror_mode": {
    "name": "ipython",
    "version": 3
   },
   "file_extension": ".py",
   "mimetype": "text/x-python",
   "name": "python",
   "nbconvert_exporter": "python",
   "pygments_lexer": "ipython3",
   "version": "3.11.1"
  }
 },
 "nbformat": 4,
 "nbformat_minor": 5
}
