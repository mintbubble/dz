{
 "cells": [
  {
   "cell_type": "code",
   "execution_count": 4,
   "metadata": {},
   "outputs": [],
   "source": [
    "import pandas as pd\n",
    "\n",
    "df = pd.read_csv('C:/Users/ekart/casual_inference/communications.csv', sep=';')"
   ]
  },
  {
   "cell_type": "code",
   "execution_count": 5,
   "metadata": {},
   "outputs": [
    {
     "data": {
      "text/html": [
       "<div>\n",
       "<style scoped>\n",
       "    .dataframe tbody tr th:only-of-type {\n",
       "        vertical-align: middle;\n",
       "    }\n",
       "\n",
       "    .dataframe tbody tr th {\n",
       "        vertical-align: top;\n",
       "    }\n",
       "\n",
       "    .dataframe thead th {\n",
       "        text-align: right;\n",
       "    }\n",
       "</style>\n",
       "<table border=\"1\" class=\"dataframe\">\n",
       "  <thead>\n",
       "    <tr style=\"text-align: right;\">\n",
       "      <th></th>\n",
       "      <th>communication_id</th>\n",
       "      <th>communication_dt</th>\n",
       "      <th>employee_id</th>\n",
       "      <th>communication_score</th>\n",
       "      <th>util_flg</th>\n",
       "    </tr>\n",
       "  </thead>\n",
       "  <tbody>\n",
       "    <tr>\n",
       "      <th>0</th>\n",
       "      <td>177074281189583840</td>\n",
       "      <td>2023-02-07 00:00:00</td>\n",
       "      <td>269d837a-fada-308d-d4ae-ab28ca2d57e4</td>\n",
       "      <td>85</td>\n",
       "      <td>0</td>\n",
       "    </tr>\n",
       "    <tr>\n",
       "      <th>1</th>\n",
       "      <td>189925315406757324</td>\n",
       "      <td>2023-07-29 00:00:00</td>\n",
       "      <td>e6384711-4917-13d2-9bc6-3fc5eeb5ba4f</td>\n",
       "      <td>100</td>\n",
       "      <td>0</td>\n",
       "    </tr>\n",
       "    <tr>\n",
       "      <th>2</th>\n",
       "      <td>321818238739717242</td>\n",
       "      <td>2023-09-06 00:00:00</td>\n",
       "      <td>ab541d87-4c7b-c19a-b776-42849e02b89f</td>\n",
       "      <td>43</td>\n",
       "      <td>1</td>\n",
       "    </tr>\n",
       "    <tr>\n",
       "      <th>3</th>\n",
       "      <td>192259329962028989</td>\n",
       "      <td>2023-06-19 00:00:00</td>\n",
       "      <td>0a0a0c8a-aa00-ade5-0f74-a3f0ca981ed7</td>\n",
       "      <td>100</td>\n",
       "      <td>1</td>\n",
       "    </tr>\n",
       "    <tr>\n",
       "      <th>4</th>\n",
       "      <td>705274671052151857</td>\n",
       "      <td>2023-08-11 00:00:00</td>\n",
       "      <td>f93882cb-d8fc-7fb7-94c1-011d63be6fb6</td>\n",
       "      <td>46</td>\n",
       "      <td>0</td>\n",
       "    </tr>\n",
       "  </tbody>\n",
       "</table>\n",
       "</div>"
      ],
      "text/plain": [
       "     communication_id     communication_dt  \\\n",
       "0  177074281189583840  2023-02-07 00:00:00   \n",
       "1  189925315406757324  2023-07-29 00:00:00   \n",
       "2  321818238739717242  2023-09-06 00:00:00   \n",
       "3  192259329962028989  2023-06-19 00:00:00   \n",
       "4  705274671052151857  2023-08-11 00:00:00   \n",
       "\n",
       "                            employee_id  communication_score  util_flg  \n",
       "0  269d837a-fada-308d-d4ae-ab28ca2d57e4                   85         0  \n",
       "1  e6384711-4917-13d2-9bc6-3fc5eeb5ba4f                  100         0  \n",
       "2  ab541d87-4c7b-c19a-b776-42849e02b89f                   43         1  \n",
       "3  0a0a0c8a-aa00-ade5-0f74-a3f0ca981ed7                  100         1  \n",
       "4  f93882cb-d8fc-7fb7-94c1-011d63be6fb6                   46         0  "
      ]
     },
     "execution_count": 5,
     "metadata": {},
     "output_type": "execute_result"
    }
   ],
   "source": [
    "df.head()"
   ]
  },
  {
   "cell_type": "code",
   "execution_count": 6,
   "metadata": {},
   "outputs": [
    {
     "name": "stdout",
     "output_type": "stream",
     "text": [
      "<class 'pandas.core.frame.DataFrame'>\n",
      "RangeIndex: 5345246 entries, 0 to 5345245\n",
      "Data columns (total 5 columns):\n",
      " #   Column               Dtype \n",
      "---  ------               ----- \n",
      " 0   communication_id     int64 \n",
      " 1   communication_dt     object\n",
      " 2   employee_id          object\n",
      " 3   communication_score  int64 \n",
      " 4   util_flg             int64 \n",
      "dtypes: int64(3), object(2)\n",
      "memory usage: 203.9+ MB\n"
     ]
    }
   ],
   "source": [
    "df.info()"
   ]
  },
  {
   "cell_type": "code",
   "execution_count": 7,
   "metadata": {},
   "outputs": [
    {
     "data": {
      "text/html": [
       "<div>\n",
       "<style scoped>\n",
       "    .dataframe tbody tr th:only-of-type {\n",
       "        vertical-align: middle;\n",
       "    }\n",
       "\n",
       "    .dataframe tbody tr th {\n",
       "        vertical-align: top;\n",
       "    }\n",
       "\n",
       "    .dataframe thead th {\n",
       "        text-align: right;\n",
       "    }\n",
       "</style>\n",
       "<table border=\"1\" class=\"dataframe\">\n",
       "  <thead>\n",
       "    <tr style=\"text-align: right;\">\n",
       "      <th></th>\n",
       "      <th>communication_id</th>\n",
       "      <th>communication_score</th>\n",
       "      <th>util_flg</th>\n",
       "    </tr>\n",
       "  </thead>\n",
       "  <tbody>\n",
       "    <tr>\n",
       "      <th>count</th>\n",
       "      <td>5.345246e+06</td>\n",
       "      <td>5.345246e+06</td>\n",
       "      <td>5.345246e+06</td>\n",
       "    </tr>\n",
       "    <tr>\n",
       "      <th>mean</th>\n",
       "      <td>5.001990e+17</td>\n",
       "      <td>5.855952e+01</td>\n",
       "      <td>7.524716e-01</td>\n",
       "    </tr>\n",
       "    <tr>\n",
       "      <th>std</th>\n",
       "      <td>2.917627e+17</td>\n",
       "      <td>3.707632e+01</td>\n",
       "      <td>4.315763e-01</td>\n",
       "    </tr>\n",
       "    <tr>\n",
       "      <th>min</th>\n",
       "      <td>1.052382e+09</td>\n",
       "      <td>0.000000e+00</td>\n",
       "      <td>0.000000e+00</td>\n",
       "    </tr>\n",
       "    <tr>\n",
       "      <th>25%</th>\n",
       "      <td>2.437200e+17</td>\n",
       "      <td>2.900000e+01</td>\n",
       "      <td>1.000000e+00</td>\n",
       "    </tr>\n",
       "    <tr>\n",
       "      <th>50%</th>\n",
       "      <td>5.004468e+17</td>\n",
       "      <td>6.700000e+01</td>\n",
       "      <td>1.000000e+00</td>\n",
       "    </tr>\n",
       "    <tr>\n",
       "      <th>75%</th>\n",
       "      <td>7.565783e+17</td>\n",
       "      <td>1.000000e+02</td>\n",
       "      <td>1.000000e+00</td>\n",
       "    </tr>\n",
       "    <tr>\n",
       "      <th>max</th>\n",
       "      <td>9.999998e+17</td>\n",
       "      <td>1.000000e+02</td>\n",
       "      <td>1.000000e+00</td>\n",
       "    </tr>\n",
       "  </tbody>\n",
       "</table>\n",
       "</div>"
      ],
      "text/plain": [
       "       communication_id  communication_score      util_flg\n",
       "count      5.345246e+06         5.345246e+06  5.345246e+06\n",
       "mean       5.001990e+17         5.855952e+01  7.524716e-01\n",
       "std        2.917627e+17         3.707632e+01  4.315763e-01\n",
       "min        1.052382e+09         0.000000e+00  0.000000e+00\n",
       "25%        2.437200e+17         2.900000e+01  1.000000e+00\n",
       "50%        5.004468e+17         6.700000e+01  1.000000e+00\n",
       "75%        7.565783e+17         1.000000e+02  1.000000e+00\n",
       "max        9.999998e+17         1.000000e+02  1.000000e+00"
      ]
     },
     "execution_count": 7,
     "metadata": {},
     "output_type": "execute_result"
    }
   ],
   "source": [
    "df.describe()"
   ]
  },
  {
   "cell_type": "code",
   "execution_count": 1,
   "metadata": {},
   "outputs": [
    {
     "name": "stdout",
     "output_type": "stream",
     "text": [
      "*** Causal Estimate ***\n",
      "\n",
      "## Identified estimand\n",
      "Estimand type: EstimandType.NONPARAMETRIC_ATE\n",
      "\n",
      "### Estimand : 1\n",
      "Estimand name: backdoor\n",
      "Estimand expression:\n",
      "        d                                               \n",
      "──────────────────(E[pass_frac|sex,region,age,exp_days])\n",
      "d[work_online_flg]                                      \n",
      "Estimand assumption 1, Unconfoundedness: If U→{work_online_flg} and U→pass_frac then P(pass_frac|work_online_flg,sex,region,age,exp_days,U) = P(pass_frac|work_online_flg,sex,region,age,exp_days)\n",
      "\n",
      "## Realized estimand\n",
      "b: pass_frac~work_online_flg+sex+region+age+exp_days\n",
      "Target units: ate\n",
      "\n",
      "## Estimate\n",
      "Mean value: -0.0017541446321209797\n",
      "\n"
     ]
    }
   ],
   "source": [
    "from dowhy import CausalModel\n",
    "\n",
    "# Загружаем данные (у вас уже должны быть загружены данные)\n",
    "employees_df = pd.read_csv('C:/Users/ekart/casual_inference/employees.csv', sep=';')\n",
    "courses_passing_df = pd.read_csv('C:/Users/ekart/casual_inference/courses_passing.csv', sep=';')\n",
    "\n",
    "# Объединение данных по идентификатору сотрудника\n",
    "merged_df = pd.merge(courses_passing_df, employees_df, on='employee_id')\n",
    "\n",
    "# Пример причинно-следственного анализа: влияние работы онлайн на успеваемость по курсам\n",
    "model = CausalModel(\n",
    "    data=merged_df,\n",
    "    treatment='work_online_flg',\n",
    "    outcome='pass_frac',\n",
    "    common_causes=['age', 'region', 'exp_days', 'sex']\n",
    ")\n",
    "\n",
    "# Идентификация эффекта\n",
    "identified_estimand = model.identify_effect()\n",
    "\n",
    "# Оценка эффекта\n",
    "estimate = model.estimate_effect(identified_estimand,\n",
    "                                 method_name=\"backdoor.linear_regression\")\n",
    "\n",
    "# Вывод результатов\n",
    "print(estimate)"
   ]
  },
  {
   "cell_type": "markdown",
   "metadata": {},
   "source": [
    "* Identified estimand (Идентифицированная оценка): Это математическое выражение оценки причинного эффекта, которое DoWhy сгенерировало на основе вашей модели данных и указанных вами причинных связей.\n",
    "\n",
    "* Estimand expression (Выражение оценки): Показывает, что оценка эффекта будет рассчитываться как производная ожидаемого значения pass_frac по work_online_flg, контролируя переменные sex, region, age, exp_days.\n",
    "\n",
    "* Estimand assumption (Предположение оценки): Предположение об отсутствии путаницы, означающее, что нет скрытых переменных U, которые одновременно влияют на work_online_flg и pass_frac.\n",
    "\n",
    "* Realized estimand (Реализованная оценка): Указывает, какие переменные включены в линейную регрессионную модель для оценки воздействия.\n",
    "\n",
    "* Mean value (Среднее значение): Это численное значение оценки эффекта. В вашем случае -0.0017541446321209797 означает, что переход от не работающих онлайн к работающим онлайн связан со снижением доли прохождения курса на величину 0.0017 или 0.17%. Это очень маленькое изменение, что может означать, что эффект работы онлайн на успеваемость по курсам минимален.\n",
    "\n",
    "\n",
    "Таким образом, если предположение о непутанице верно, и модель адекватно специфицирована, то работа онлайн не оказывает значительного прямого влияния на долю прохождения курса среди сотрудников. "
   ]
  },
  {
   "cell_type": "code",
   "execution_count": 2,
   "metadata": {},
   "outputs": [
    {
     "name": "stdout",
     "output_type": "stream",
     "text": [
      "0.11.1\n",
      "1.1.3\n"
     ]
    }
   ],
   "source": [
    "print(dowhy.__version__)\n",
    "print(sklearn.__version__)\n"
   ]
  }
 ],
 "metadata": {
  "kernelspec": {
   "display_name": "Python 3 (ipykernel)",
   "language": "python",
   "name": "python3"
  },
  "language_info": {
   "codemirror_mode": {
    "name": "ipython",
    "version": 3
   },
   "file_extension": ".py",
   "mimetype": "text/x-python",
   "name": "python",
   "nbconvert_exporter": "python",
   "pygments_lexer": "ipython3",
   "version": "3.11.1"
  }
 },
 "nbformat": 4,
 "nbformat_minor": 4
}
