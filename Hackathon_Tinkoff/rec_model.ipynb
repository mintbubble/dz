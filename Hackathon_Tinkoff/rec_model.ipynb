{
  "nbformat": 4,
  "nbformat_minor": 0,
  "metadata": {
    "colab": {
      "provenance": []
    },
    "kernelspec": {
      "name": "python3",
      "display_name": "Python 3"
    },
    "language_info": {
      "name": "python"
    }
  },
  "cells": [
    {
      "cell_type": "code",
      "source": [
        "!pip install torchmetrics"
      ],
      "metadata": {
        "id": "_IKKzL_z2oSv"
      },
      "execution_count": null,
      "outputs": []
    },
    {
      "cell_type": "code",
      "source": [
        "!pip install pytorch_accelerated"
      ],
      "metadata": {
        "id": "KXeH3S6B2rY2"
      },
      "execution_count": null,
      "outputs": []
    },
    {
      "cell_type": "code",
      "execution_count": 1,
      "metadata": {
        "id": "N6LBvYvHTBZH"
      },
      "outputs": [],
      "source": [
        "from pathlib import Path\n",
        "\n",
        "import numpy as np\n",
        "import pandas as pd\n",
        "from statsmodels.distributions.empirical_distribution import ECDF\n",
        "import matplotlib.pyplot as plt"
      ]
    },
    {
      "cell_type": "code",
      "source": [
        "from google.colab import files\n",
        "\n",
        "uploaded = files.upload()\n",
        "for fn in uploaded.keys():\n",
        " print('User uploaded file \"{name}\" with length {length} bytes'.format(\n",
        "     name=fn, length=len(uploaded[fn])))"
      ],
      "metadata": {
        "id": "iRjouWo-q56i",
        "colab": {
          "base_uri": "https://localhost:8080/",
          "height": 38
        },
        "outputId": "4c89387a-38ac-4b01-d276-de5e3cb089d6"
      },
      "execution_count": 9,
      "outputs": [
        {
          "output_type": "display_data",
          "data": {
            "text/plain": [
              "<IPython.core.display.HTML object>"
            ],
            "text/html": [
              "\n",
              "     <input type=\"file\" id=\"files-0911bb90-ca0c-4f2b-9d46-f29a847c4b4e\" name=\"files[]\" multiple disabled\n",
              "        style=\"border:none\" />\n",
              "     <output id=\"result-0911bb90-ca0c-4f2b-9d46-f29a847c4b4e\">\n",
              "      Upload widget is only available when the cell has been executed in the\n",
              "      current browser session. Please rerun this cell to enable.\n",
              "      </output>\n",
              "      <script>// Copyright 2017 Google LLC\n",
              "//\n",
              "// Licensed under the Apache License, Version 2.0 (the \"License\");\n",
              "// you may not use this file except in compliance with the License.\n",
              "// You may obtain a copy of the License at\n",
              "//\n",
              "//      http://www.apache.org/licenses/LICENSE-2.0\n",
              "//\n",
              "// Unless required by applicable law or agreed to in writing, software\n",
              "// distributed under the License is distributed on an \"AS IS\" BASIS,\n",
              "// WITHOUT WARRANTIES OR CONDITIONS OF ANY KIND, either express or implied.\n",
              "// See the License for the specific language governing permissions and\n",
              "// limitations under the License.\n",
              "\n",
              "/**\n",
              " * @fileoverview Helpers for google.colab Python module.\n",
              " */\n",
              "(function(scope) {\n",
              "function span(text, styleAttributes = {}) {\n",
              "  const element = document.createElement('span');\n",
              "  element.textContent = text;\n",
              "  for (const key of Object.keys(styleAttributes)) {\n",
              "    element.style[key] = styleAttributes[key];\n",
              "  }\n",
              "  return element;\n",
              "}\n",
              "\n",
              "// Max number of bytes which will be uploaded at a time.\n",
              "const MAX_PAYLOAD_SIZE = 100 * 1024;\n",
              "\n",
              "function _uploadFiles(inputId, outputId) {\n",
              "  const steps = uploadFilesStep(inputId, outputId);\n",
              "  const outputElement = document.getElementById(outputId);\n",
              "  // Cache steps on the outputElement to make it available for the next call\n",
              "  // to uploadFilesContinue from Python.\n",
              "  outputElement.steps = steps;\n",
              "\n",
              "  return _uploadFilesContinue(outputId);\n",
              "}\n",
              "\n",
              "// This is roughly an async generator (not supported in the browser yet),\n",
              "// where there are multiple asynchronous steps and the Python side is going\n",
              "// to poll for completion of each step.\n",
              "// This uses a Promise to block the python side on completion of each step,\n",
              "// then passes the result of the previous step as the input to the next step.\n",
              "function _uploadFilesContinue(outputId) {\n",
              "  const outputElement = document.getElementById(outputId);\n",
              "  const steps = outputElement.steps;\n",
              "\n",
              "  const next = steps.next(outputElement.lastPromiseValue);\n",
              "  return Promise.resolve(next.value.promise).then((value) => {\n",
              "    // Cache the last promise value to make it available to the next\n",
              "    // step of the generator.\n",
              "    outputElement.lastPromiseValue = value;\n",
              "    return next.value.response;\n",
              "  });\n",
              "}\n",
              "\n",
              "/**\n",
              " * Generator function which is called between each async step of the upload\n",
              " * process.\n",
              " * @param {string} inputId Element ID of the input file picker element.\n",
              " * @param {string} outputId Element ID of the output display.\n",
              " * @return {!Iterable<!Object>} Iterable of next steps.\n",
              " */\n",
              "function* uploadFilesStep(inputId, outputId) {\n",
              "  const inputElement = document.getElementById(inputId);\n",
              "  inputElement.disabled = false;\n",
              "\n",
              "  const outputElement = document.getElementById(outputId);\n",
              "  outputElement.innerHTML = '';\n",
              "\n",
              "  const pickedPromise = new Promise((resolve) => {\n",
              "    inputElement.addEventListener('change', (e) => {\n",
              "      resolve(e.target.files);\n",
              "    });\n",
              "  });\n",
              "\n",
              "  const cancel = document.createElement('button');\n",
              "  inputElement.parentElement.appendChild(cancel);\n",
              "  cancel.textContent = 'Cancel upload';\n",
              "  const cancelPromise = new Promise((resolve) => {\n",
              "    cancel.onclick = () => {\n",
              "      resolve(null);\n",
              "    };\n",
              "  });\n",
              "\n",
              "  // Wait for the user to pick the files.\n",
              "  const files = yield {\n",
              "    promise: Promise.race([pickedPromise, cancelPromise]),\n",
              "    response: {\n",
              "      action: 'starting',\n",
              "    }\n",
              "  };\n",
              "\n",
              "  cancel.remove();\n",
              "\n",
              "  // Disable the input element since further picks are not allowed.\n",
              "  inputElement.disabled = true;\n",
              "\n",
              "  if (!files) {\n",
              "    return {\n",
              "      response: {\n",
              "        action: 'complete',\n",
              "      }\n",
              "    };\n",
              "  }\n",
              "\n",
              "  for (const file of files) {\n",
              "    const li = document.createElement('li');\n",
              "    li.append(span(file.name, {fontWeight: 'bold'}));\n",
              "    li.append(span(\n",
              "        `(${file.type || 'n/a'}) - ${file.size} bytes, ` +\n",
              "        `last modified: ${\n",
              "            file.lastModifiedDate ? file.lastModifiedDate.toLocaleDateString() :\n",
              "                                    'n/a'} - `));\n",
              "    const percent = span('0% done');\n",
              "    li.appendChild(percent);\n",
              "\n",
              "    outputElement.appendChild(li);\n",
              "\n",
              "    const fileDataPromise = new Promise((resolve) => {\n",
              "      const reader = new FileReader();\n",
              "      reader.onload = (e) => {\n",
              "        resolve(e.target.result);\n",
              "      };\n",
              "      reader.readAsArrayBuffer(file);\n",
              "    });\n",
              "    // Wait for the data to be ready.\n",
              "    let fileData = yield {\n",
              "      promise: fileDataPromise,\n",
              "      response: {\n",
              "        action: 'continue',\n",
              "      }\n",
              "    };\n",
              "\n",
              "    // Use a chunked sending to avoid message size limits. See b/62115660.\n",
              "    let position = 0;\n",
              "    do {\n",
              "      const length = Math.min(fileData.byteLength - position, MAX_PAYLOAD_SIZE);\n",
              "      const chunk = new Uint8Array(fileData, position, length);\n",
              "      position += length;\n",
              "\n",
              "      const base64 = btoa(String.fromCharCode.apply(null, chunk));\n",
              "      yield {\n",
              "        response: {\n",
              "          action: 'append',\n",
              "          file: file.name,\n",
              "          data: base64,\n",
              "        },\n",
              "      };\n",
              "\n",
              "      let percentDone = fileData.byteLength === 0 ?\n",
              "          100 :\n",
              "          Math.round((position / fileData.byteLength) * 100);\n",
              "      percent.textContent = `${percentDone}% done`;\n",
              "\n",
              "    } while (position < fileData.byteLength);\n",
              "  }\n",
              "\n",
              "  // All done.\n",
              "  yield {\n",
              "    response: {\n",
              "      action: 'complete',\n",
              "    }\n",
              "  };\n",
              "}\n",
              "\n",
              "scope.google = scope.google || {};\n",
              "scope.google.colab = scope.google.colab || {};\n",
              "scope.google.colab._files = {\n",
              "  _uploadFiles,\n",
              "  _uploadFilesContinue,\n",
              "};\n",
              "})(self);\n",
              "</script> "
            ]
          },
          "metadata": {}
        }
      ]
    },
    {
      "cell_type": "code",
      "source": [
        "employees = pd.read_csv('employees.csv', sep=';')"
      ],
      "metadata": {
        "id": "Mb5kxoJ-4DRX"
      },
      "execution_count": 2,
      "outputs": []
    },
    {
      "cell_type": "code",
      "source": [
        "data_df = pd.read_csv('new_df.csv').drop(columns='Unnamed: 0')"
      ],
      "metadata": {
        "id": "yPBSxde8wUkM"
      },
      "execution_count": 3,
      "outputs": []
    },
    {
      "cell_type": "code",
      "source": [
        "from sklearn.preprocessing import LabelEncoder\n",
        "le = LabelEncoder()"
      ],
      "metadata": {
        "id": "gSNWmGJ9LCNx"
      },
      "execution_count": 4,
      "outputs": []
    },
    {
      "cell_type": "code",
      "source": [
        "data_df['rating_cut']=pd.qcut(data_df.rating, 5)"
      ],
      "metadata": {
        "id": "vX0psgBHLHH8"
      },
      "execution_count": 5,
      "outputs": []
    },
    {
      "cell_type": "code",
      "source": [
        "data_df['rating_encoded'] = le.fit_transform(data_df.rating_cut)\n",
        "data_df['rating_encoded'] = data_df['rating_encoded']+1"
      ],
      "metadata": {
        "id": "-hTLZngDLKHi"
      },
      "execution_count": 6,
      "outputs": []
    },
    {
      "cell_type": "code",
      "source": [
        "data_df[['rating_cut','rating_encoded']].drop_duplicates().sort_values('rating_encoded')"
      ],
      "metadata": {
        "colab": {
          "base_uri": "https://localhost:8080/",
          "height": 206
        },
        "id": "ysnLKn11PoDg",
        "outputId": "2cd38987-0767-4c56-9de7-3256055de70a"
      },
      "execution_count": 7,
      "outputs": [
        {
          "output_type": "execute_result",
          "data": {
            "text/plain": [
              "           rating_cut  rating_encoded\n",
              "3   (-15.814, 0.0328]               1\n",
              "9     (0.0328, 1.458]               2\n",
              "1       (1.458, 2.85]               3\n",
              "18      (2.85, 4.591]               4\n",
              "0     (4.591, 17.737]               5"
            ],
            "text/html": [
              "\n",
              "  <div id=\"df-890ca70e-944d-47c7-890d-be279c706ed3\" class=\"colab-df-container\">\n",
              "    <div>\n",
              "<style scoped>\n",
              "    .dataframe tbody tr th:only-of-type {\n",
              "        vertical-align: middle;\n",
              "    }\n",
              "\n",
              "    .dataframe tbody tr th {\n",
              "        vertical-align: top;\n",
              "    }\n",
              "\n",
              "    .dataframe thead th {\n",
              "        text-align: right;\n",
              "    }\n",
              "</style>\n",
              "<table border=\"1\" class=\"dataframe\">\n",
              "  <thead>\n",
              "    <tr style=\"text-align: right;\">\n",
              "      <th></th>\n",
              "      <th>rating_cut</th>\n",
              "      <th>rating_encoded</th>\n",
              "    </tr>\n",
              "  </thead>\n",
              "  <tbody>\n",
              "    <tr>\n",
              "      <th>3</th>\n",
              "      <td>(-15.814, 0.0328]</td>\n",
              "      <td>1</td>\n",
              "    </tr>\n",
              "    <tr>\n",
              "      <th>9</th>\n",
              "      <td>(0.0328, 1.458]</td>\n",
              "      <td>2</td>\n",
              "    </tr>\n",
              "    <tr>\n",
              "      <th>1</th>\n",
              "      <td>(1.458, 2.85]</td>\n",
              "      <td>3</td>\n",
              "    </tr>\n",
              "    <tr>\n",
              "      <th>18</th>\n",
              "      <td>(2.85, 4.591]</td>\n",
              "      <td>4</td>\n",
              "    </tr>\n",
              "    <tr>\n",
              "      <th>0</th>\n",
              "      <td>(4.591, 17.737]</td>\n",
              "      <td>5</td>\n",
              "    </tr>\n",
              "  </tbody>\n",
              "</table>\n",
              "</div>\n",
              "    <div class=\"colab-df-buttons\">\n",
              "\n",
              "  <div class=\"colab-df-container\">\n",
              "    <button class=\"colab-df-convert\" onclick=\"convertToInteractive('df-890ca70e-944d-47c7-890d-be279c706ed3')\"\n",
              "            title=\"Convert this dataframe to an interactive table.\"\n",
              "            style=\"display:none;\">\n",
              "\n",
              "  <svg xmlns=\"http://www.w3.org/2000/svg\" height=\"24px\" viewBox=\"0 -960 960 960\">\n",
              "    <path d=\"M120-120v-720h720v720H120Zm60-500h600v-160H180v160Zm220 220h160v-160H400v160Zm0 220h160v-160H400v160ZM180-400h160v-160H180v160Zm440 0h160v-160H620v160ZM180-180h160v-160H180v160Zm440 0h160v-160H620v160Z\"/>\n",
              "  </svg>\n",
              "    </button>\n",
              "\n",
              "  <style>\n",
              "    .colab-df-container {\n",
              "      display:flex;\n",
              "      gap: 12px;\n",
              "    }\n",
              "\n",
              "    .colab-df-convert {\n",
              "      background-color: #E8F0FE;\n",
              "      border: none;\n",
              "      border-radius: 50%;\n",
              "      cursor: pointer;\n",
              "      display: none;\n",
              "      fill: #1967D2;\n",
              "      height: 32px;\n",
              "      padding: 0 0 0 0;\n",
              "      width: 32px;\n",
              "    }\n",
              "\n",
              "    .colab-df-convert:hover {\n",
              "      background-color: #E2EBFA;\n",
              "      box-shadow: 0px 1px 2px rgba(60, 64, 67, 0.3), 0px 1px 3px 1px rgba(60, 64, 67, 0.15);\n",
              "      fill: #174EA6;\n",
              "    }\n",
              "\n",
              "    .colab-df-buttons div {\n",
              "      margin-bottom: 4px;\n",
              "    }\n",
              "\n",
              "    [theme=dark] .colab-df-convert {\n",
              "      background-color: #3B4455;\n",
              "      fill: #D2E3FC;\n",
              "    }\n",
              "\n",
              "    [theme=dark] .colab-df-convert:hover {\n",
              "      background-color: #434B5C;\n",
              "      box-shadow: 0px 1px 3px 1px rgba(0, 0, 0, 0.15);\n",
              "      filter: drop-shadow(0px 1px 2px rgba(0, 0, 0, 0.3));\n",
              "      fill: #FFFFFF;\n",
              "    }\n",
              "  </style>\n",
              "\n",
              "    <script>\n",
              "      const buttonEl =\n",
              "        document.querySelector('#df-890ca70e-944d-47c7-890d-be279c706ed3 button.colab-df-convert');\n",
              "      buttonEl.style.display =\n",
              "        google.colab.kernel.accessAllowed ? 'block' : 'none';\n",
              "\n",
              "      async function convertToInteractive(key) {\n",
              "        const element = document.querySelector('#df-890ca70e-944d-47c7-890d-be279c706ed3');\n",
              "        const dataTable =\n",
              "          await google.colab.kernel.invokeFunction('convertToInteractive',\n",
              "                                                    [key], {});\n",
              "        if (!dataTable) return;\n",
              "\n",
              "        const docLinkHtml = 'Like what you see? Visit the ' +\n",
              "          '<a target=\"_blank\" href=https://colab.research.google.com/notebooks/data_table.ipynb>data table notebook</a>'\n",
              "          + ' to learn more about interactive tables.';\n",
              "        element.innerHTML = '';\n",
              "        dataTable['output_type'] = 'display_data';\n",
              "        await google.colab.output.renderOutput(dataTable, element);\n",
              "        const docLink = document.createElement('div');\n",
              "        docLink.innerHTML = docLinkHtml;\n",
              "        element.appendChild(docLink);\n",
              "      }\n",
              "    </script>\n",
              "  </div>\n",
              "\n",
              "\n",
              "<div id=\"df-1c430b4b-c8e1-4053-a52b-05986f6ce1ad\">\n",
              "  <button class=\"colab-df-quickchart\" onclick=\"quickchart('df-1c430b4b-c8e1-4053-a52b-05986f6ce1ad')\"\n",
              "            title=\"Suggest charts\"\n",
              "            style=\"display:none;\">\n",
              "\n",
              "<svg xmlns=\"http://www.w3.org/2000/svg\" height=\"24px\"viewBox=\"0 0 24 24\"\n",
              "     width=\"24px\">\n",
              "    <g>\n",
              "        <path d=\"M19 3H5c-1.1 0-2 .9-2 2v14c0 1.1.9 2 2 2h14c1.1 0 2-.9 2-2V5c0-1.1-.9-2-2-2zM9 17H7v-7h2v7zm4 0h-2V7h2v10zm4 0h-2v-4h2v4z\"/>\n",
              "    </g>\n",
              "</svg>\n",
              "  </button>\n",
              "\n",
              "<style>\n",
              "  .colab-df-quickchart {\n",
              "      --bg-color: #E8F0FE;\n",
              "      --fill-color: #1967D2;\n",
              "      --hover-bg-color: #E2EBFA;\n",
              "      --hover-fill-color: #174EA6;\n",
              "      --disabled-fill-color: #AAA;\n",
              "      --disabled-bg-color: #DDD;\n",
              "  }\n",
              "\n",
              "  [theme=dark] .colab-df-quickchart {\n",
              "      --bg-color: #3B4455;\n",
              "      --fill-color: #D2E3FC;\n",
              "      --hover-bg-color: #434B5C;\n",
              "      --hover-fill-color: #FFFFFF;\n",
              "      --disabled-bg-color: #3B4455;\n",
              "      --disabled-fill-color: #666;\n",
              "  }\n",
              "\n",
              "  .colab-df-quickchart {\n",
              "    background-color: var(--bg-color);\n",
              "    border: none;\n",
              "    border-radius: 50%;\n",
              "    cursor: pointer;\n",
              "    display: none;\n",
              "    fill: var(--fill-color);\n",
              "    height: 32px;\n",
              "    padding: 0;\n",
              "    width: 32px;\n",
              "  }\n",
              "\n",
              "  .colab-df-quickchart:hover {\n",
              "    background-color: var(--hover-bg-color);\n",
              "    box-shadow: 0 1px 2px rgba(60, 64, 67, 0.3), 0 1px 3px 1px rgba(60, 64, 67, 0.15);\n",
              "    fill: var(--button-hover-fill-color);\n",
              "  }\n",
              "\n",
              "  .colab-df-quickchart-complete:disabled,\n",
              "  .colab-df-quickchart-complete:disabled:hover {\n",
              "    background-color: var(--disabled-bg-color);\n",
              "    fill: var(--disabled-fill-color);\n",
              "    box-shadow: none;\n",
              "  }\n",
              "\n",
              "  .colab-df-spinner {\n",
              "    border: 2px solid var(--fill-color);\n",
              "    border-color: transparent;\n",
              "    border-bottom-color: var(--fill-color);\n",
              "    animation:\n",
              "      spin 1s steps(1) infinite;\n",
              "  }\n",
              "\n",
              "  @keyframes spin {\n",
              "    0% {\n",
              "      border-color: transparent;\n",
              "      border-bottom-color: var(--fill-color);\n",
              "      border-left-color: var(--fill-color);\n",
              "    }\n",
              "    20% {\n",
              "      border-color: transparent;\n",
              "      border-left-color: var(--fill-color);\n",
              "      border-top-color: var(--fill-color);\n",
              "    }\n",
              "    30% {\n",
              "      border-color: transparent;\n",
              "      border-left-color: var(--fill-color);\n",
              "      border-top-color: var(--fill-color);\n",
              "      border-right-color: var(--fill-color);\n",
              "    }\n",
              "    40% {\n",
              "      border-color: transparent;\n",
              "      border-right-color: var(--fill-color);\n",
              "      border-top-color: var(--fill-color);\n",
              "    }\n",
              "    60% {\n",
              "      border-color: transparent;\n",
              "      border-right-color: var(--fill-color);\n",
              "    }\n",
              "    80% {\n",
              "      border-color: transparent;\n",
              "      border-right-color: var(--fill-color);\n",
              "      border-bottom-color: var(--fill-color);\n",
              "    }\n",
              "    90% {\n",
              "      border-color: transparent;\n",
              "      border-bottom-color: var(--fill-color);\n",
              "    }\n",
              "  }\n",
              "</style>\n",
              "\n",
              "  <script>\n",
              "    async function quickchart(key) {\n",
              "      const quickchartButtonEl =\n",
              "        document.querySelector('#' + key + ' button');\n",
              "      quickchartButtonEl.disabled = true;  // To prevent multiple clicks.\n",
              "      quickchartButtonEl.classList.add('colab-df-spinner');\n",
              "      try {\n",
              "        const charts = await google.colab.kernel.invokeFunction(\n",
              "            'suggestCharts', [key], {});\n",
              "      } catch (error) {\n",
              "        console.error('Error during call to suggestCharts:', error);\n",
              "      }\n",
              "      quickchartButtonEl.classList.remove('colab-df-spinner');\n",
              "      quickchartButtonEl.classList.add('colab-df-quickchart-complete');\n",
              "    }\n",
              "    (() => {\n",
              "      let quickchartButtonEl =\n",
              "        document.querySelector('#df-1c430b4b-c8e1-4053-a52b-05986f6ce1ad button');\n",
              "      quickchartButtonEl.style.display =\n",
              "        google.colab.kernel.accessAllowed ? 'block' : 'none';\n",
              "    })();\n",
              "  </script>\n",
              "</div>\n",
              "    </div>\n",
              "  </div>\n"
            ],
            "application/vnd.google.colaboratory.intrinsic+json": {
              "type": "dataframe",
              "summary": "{\n  \"name\": \"data_df[['rating_cut','rating_encoded']]\",\n  \"rows\": 5,\n  \"fields\": [\n    {\n      \"column\": \"rating_cut\",\n      \"properties\": {\n        \"dtype\": \"category\",\n        \"num_unique_values\": 5,\n        \"samples\": [\n          \"(0.0328, 1.458]\",\n          \"(4.591, 17.737]\",\n          \"(1.458, 2.85]\"\n        ],\n        \"semantic_type\": \"\",\n        \"description\": \"\"\n      }\n    },\n    {\n      \"column\": \"rating_encoded\",\n      \"properties\": {\n        \"dtype\": \"number\",\n        \"std\": 1,\n        \"min\": 1,\n        \"max\": 5,\n        \"num_unique_values\": 5,\n        \"samples\": [\n          2,\n          5,\n          3\n        ],\n        \"semantic_type\": \"\",\n        \"description\": \"\"\n      }\n    }\n  ]\n}"
            }
          },
          "metadata": {},
          "execution_count": 7
        }
      ]
    },
    {
      "cell_type": "code",
      "source": [
        "data_df[['rating_cut','rating_encoded']].groupby('rating_encoded')['rating_encoded'].count()"
      ],
      "metadata": {
        "colab": {
          "base_uri": "https://localhost:8080/"
        },
        "id": "Vvr1MkmF_6_B",
        "outputId": "80388696-50d5-4a5e-8abe-a796122ef46d"
      },
      "execution_count": 8,
      "outputs": [
        {
          "output_type": "execute_result",
          "data": {
            "text/plain": [
              "rating_encoded\n",
              "1    1681\n",
              "2    1681\n",
              "3    1680\n",
              "4    1681\n",
              "5    1681\n",
              "Name: rating_encoded, dtype: int64"
            ]
          },
          "metadata": {},
          "execution_count": 8
        }
      ]
    },
    {
      "cell_type": "code",
      "source": [
        "data_df['rating'] = data_df.rating_encoded"
      ],
      "metadata": {
        "id": "unFu0DG1ME0X"
      },
      "execution_count": 9,
      "outputs": []
    },
    {
      "cell_type": "code",
      "source": [
        "data_df = data_df.drop(columns=['rating_cut', 'rating_encoded'])"
      ],
      "metadata": {
        "id": "8BkBENa8MImN"
      },
      "execution_count": 10,
      "outputs": []
    },
    {
      "cell_type": "code",
      "source": [
        "ratings_df = data_df[['user_id', 'title', 'rating', 'unix_timestamp']]"
      ],
      "metadata": {
        "id": "NJg5hOpmTkR2"
      },
      "execution_count": 11,
      "outputs": []
    },
    {
      "cell_type": "code",
      "source": [
        "ratings_df[\"user_id\"] = ratings_df[\"user_id\"].astype(str)"
      ],
      "metadata": {
        "colab": {
          "base_uri": "https://localhost:8080/"
        },
        "id": "j3ihwaZVwgbQ",
        "outputId": "e7fd86ae-997e-4b8a-fa12-c77d6e573653"
      },
      "execution_count": 12,
      "outputs": [
        {
          "output_type": "stream",
          "name": "stderr",
          "text": [
            "<ipython-input-12-8d0edbd79945>:1: SettingWithCopyWarning: \n",
            "A value is trying to be set on a copy of a slice from a DataFrame.\n",
            "Try using .loc[row_indexer,col_indexer] = value instead\n",
            "\n",
            "See the caveats in the documentation: https://pandas.pydata.org/pandas-docs/stable/user_guide/indexing.html#returning-a-view-versus-a-copy\n",
            "  ratings_df[\"user_id\"] = ratings_df[\"user_id\"].astype(str)\n"
          ]
        }
      ]
    },
    {
      "cell_type": "markdown",
      "source": [
        "Общая статистика о наборе данных"
      ],
      "metadata": {
        "id": "2ZtHuSS6p9Rl"
      }
    },
    {
      "cell_type": "code",
      "source": [
        "ratings_per_user = ratings_df.groupby('user_id').rating.count()\n",
        "ratings_per_item = ratings_df.groupby('title').rating.count()\n",
        "\n",
        "print(f\"Total No. of users: {len(ratings_df.user_id.unique())}\")\n",
        "print(f\"Total No. of items: {len(ratings_df.title.unique())}\")\n",
        "print(\"\\n\")\n",
        "\n",
        "print(f\"Max observed rating: {ratings_df.rating.max()}\")\n",
        "print(f\"Min observed rating: {ratings_df.rating.min()}\")\n",
        "print(\"\\n\")\n",
        "\n",
        "print(f\"Max no. of user ratings: {ratings_per_user.max()}\")\n",
        "print(f\"Min no. of user ratings: {ratings_per_user.min()}\")\n",
        "print(f\"Median no. of ratings per user: {ratings_per_user.median()}\")\n",
        "print(\"\\n\")\n",
        "\n",
        "print(f\"Max no. of item ratings: {ratings_per_item.max()}\")\n",
        "print(f\"Min no. of item ratings: {ratings_per_item.min()}\")\n",
        "print(f\"Median no. of ratings per item: {ratings_per_item.median()}\")\n"
      ],
      "metadata": {
        "colab": {
          "base_uri": "https://localhost:8080/"
        },
        "id": "JTl4GfgxwjO7",
        "outputId": "1ef56e2c-6a28-42e1-e19f-a9edc5bb7039"
      },
      "execution_count": 13,
      "outputs": [
        {
          "output_type": "stream",
          "name": "stdout",
          "text": [
            "Total No. of users: 1677\n",
            "Total No. of items: 92\n",
            "\n",
            "\n",
            "Max observed rating: 5\n",
            "Min observed rating: 1\n",
            "\n",
            "\n",
            "Max no. of user ratings: 24\n",
            "Min no. of user ratings: 1\n",
            "Median no. of ratings per user: 4.0\n",
            "\n",
            "\n",
            "Max no. of item ratings: 348\n",
            "Min no. of item ratings: 15\n",
            "Median no. of ratings per item: 59.0\n"
          ]
        }
      ]
    },
    {
      "cell_type": "markdown",
      "source": [
        "**Разделение на training/validation**"
      ],
      "metadata": {
        "id": "55CqPcKkqfWz"
      }
    },
    {
      "cell_type": "markdown",
      "source": [
        "Поскольку мы намерены обучать модель трансформатора на последовательностях оценок, то набор случайных строк не является хорошим представлением задачи, которую мы пытаемся смоделировать, т.к. для некоторых пользователей оценки из середины последовательности окажутся в наборе проверки. Поэтому будем использовать стратегию\"проверка с исключением одного\", при которой мы выбираем последний хронологический рейтинг для каждого пользователя, учитывая, что он оценил некоторое количество элементов, превышающее определенный порог.\n",
        "Определим функцию для получения последних n для каждого пользователя."
      ],
      "metadata": {
        "id": "40mXiXC7q245"
      }
    },
    {
      "cell_type": "code",
      "source": [
        "def get_last_n_ratings_by_user(\n",
        "    df, n, min_ratings_per_user=1, user_colname=\"user_id\", timestamp_colname=\"unix_timestamp\"\n",
        "):\n",
        "    return (\n",
        "        df.groupby(user_colname)\n",
        "        .filter(lambda x: len(x) >= min_ratings_per_user)\n",
        "        .sort_values(timestamp_colname)\n",
        "        .groupby(user_colname)\n",
        "        .tail(n)\n",
        "        .sort_values(user_colname)\n",
        "    )"
      ],
      "metadata": {
        "id": "EPNc8o3iwlu2"
      },
      "execution_count": 14,
      "outputs": []
    },
    {
      "cell_type": "code",
      "source": [
        "get_last_n_ratings_by_user(ratings_df, 1)"
      ],
      "metadata": {
        "colab": {
          "base_uri": "https://localhost:8080/",
          "height": 423
        },
        "id": "KhCQvpEywtz3",
        "outputId": "dbe3e65c-8fc9-4a46-8ab4-8ccee65d53d8"
      },
      "execution_count": 15,
      "outputs": [
        {
          "output_type": "execute_result",
          "data": {
            "text/plain": [
              "                                   user_id  \\\n",
              "5105  00411460-f7c9-2d21-24a6-7ea0f4cb5f85   \n",
              "2182  006f52e9-102a-8d3b-e2fe-5614f42ba989   \n",
              "2787  00a03ec6-533c-a7f5-c644-d198d815329c   \n",
              "2788  00ac8ed3-b432-7bdd-4ebb-ebcb2ba10a00   \n",
              "3162  00e26af6-ac3b-1c1c-49d7-c3d79c60d000   \n",
              "...                                    ...   \n",
              "880   ff1418e8-cc99-3fe8-abcf-e3ce2003e5c5   \n",
              "2942  ff49cc40-a889-0e6a-60f4-0ff3026d2730   \n",
              "4381  fface838-5abb-f94b-4593-a0ed53a0c70f   \n",
              "8129  ffedf5be-3a86-e2ee-281d-54cdc97bc1cf   \n",
              "6815  ffeed84c-7cb1-ae7b-f4ec-4bd78275bb98   \n",
              "\n",
              "                                                  title  rating unix_timestamp  \n",
              "5105  Эффективное планирование и организация работы ...       4     2023-09-08  \n",
              "2182  Использование социальных сетей для улучшения к...       3     2023-11-07  \n",
              "2787  Использование эмоционального интеллекта в обще...       5     2023-10-15  \n",
              "2788  Использование эмоционального интеллекта в обще...       1     2023-09-28  \n",
              "3162  Техники переговоров и урегулирования спорных в...       4     2023-09-29  \n",
              "...                                                 ...     ...            ...  \n",
              "880   Развитие навыков эмпатии в клиентском обслужив...       1     2023-06-15  \n",
              "2942  Использование эмоционального интеллекта в обще...       1     2023-06-01  \n",
              "4381  Управление ожиданиями и эмоциями клиентов в ус...       5     2023-11-03  \n",
              "8129  Развитие навыков адаптации к различным типам к...       2     2023-11-02  \n",
              "6815  Проектирование и внедрение программ лояльности...       5     2023-10-25  \n",
              "\n",
              "[1677 rows x 4 columns]"
            ],
            "text/html": [
              "\n",
              "  <div id=\"df-8c674e3f-c066-4cbc-81cb-ed315c3e46be\" class=\"colab-df-container\">\n",
              "    <div>\n",
              "<style scoped>\n",
              "    .dataframe tbody tr th:only-of-type {\n",
              "        vertical-align: middle;\n",
              "    }\n",
              "\n",
              "    .dataframe tbody tr th {\n",
              "        vertical-align: top;\n",
              "    }\n",
              "\n",
              "    .dataframe thead th {\n",
              "        text-align: right;\n",
              "    }\n",
              "</style>\n",
              "<table border=\"1\" class=\"dataframe\">\n",
              "  <thead>\n",
              "    <tr style=\"text-align: right;\">\n",
              "      <th></th>\n",
              "      <th>user_id</th>\n",
              "      <th>title</th>\n",
              "      <th>rating</th>\n",
              "      <th>unix_timestamp</th>\n",
              "    </tr>\n",
              "  </thead>\n",
              "  <tbody>\n",
              "    <tr>\n",
              "      <th>5105</th>\n",
              "      <td>00411460-f7c9-2d21-24a6-7ea0f4cb5f85</td>\n",
              "      <td>Эффективное планирование и организация работы ...</td>\n",
              "      <td>4</td>\n",
              "      <td>2023-09-08</td>\n",
              "    </tr>\n",
              "    <tr>\n",
              "      <th>2182</th>\n",
              "      <td>006f52e9-102a-8d3b-e2fe-5614f42ba989</td>\n",
              "      <td>Использование социальных сетей для улучшения к...</td>\n",
              "      <td>3</td>\n",
              "      <td>2023-11-07</td>\n",
              "    </tr>\n",
              "    <tr>\n",
              "      <th>2787</th>\n",
              "      <td>00a03ec6-533c-a7f5-c644-d198d815329c</td>\n",
              "      <td>Использование эмоционального интеллекта в обще...</td>\n",
              "      <td>5</td>\n",
              "      <td>2023-10-15</td>\n",
              "    </tr>\n",
              "    <tr>\n",
              "      <th>2788</th>\n",
              "      <td>00ac8ed3-b432-7bdd-4ebb-ebcb2ba10a00</td>\n",
              "      <td>Использование эмоционального интеллекта в обще...</td>\n",
              "      <td>1</td>\n",
              "      <td>2023-09-28</td>\n",
              "    </tr>\n",
              "    <tr>\n",
              "      <th>3162</th>\n",
              "      <td>00e26af6-ac3b-1c1c-49d7-c3d79c60d000</td>\n",
              "      <td>Техники переговоров и урегулирования спорных в...</td>\n",
              "      <td>4</td>\n",
              "      <td>2023-09-29</td>\n",
              "    </tr>\n",
              "    <tr>\n",
              "      <th>...</th>\n",
              "      <td>...</td>\n",
              "      <td>...</td>\n",
              "      <td>...</td>\n",
              "      <td>...</td>\n",
              "    </tr>\n",
              "    <tr>\n",
              "      <th>880</th>\n",
              "      <td>ff1418e8-cc99-3fe8-abcf-e3ce2003e5c5</td>\n",
              "      <td>Развитие навыков эмпатии в клиентском обслужив...</td>\n",
              "      <td>1</td>\n",
              "      <td>2023-06-15</td>\n",
              "    </tr>\n",
              "    <tr>\n",
              "      <th>2942</th>\n",
              "      <td>ff49cc40-a889-0e6a-60f4-0ff3026d2730</td>\n",
              "      <td>Использование эмоционального интеллекта в обще...</td>\n",
              "      <td>1</td>\n",
              "      <td>2023-06-01</td>\n",
              "    </tr>\n",
              "    <tr>\n",
              "      <th>4381</th>\n",
              "      <td>fface838-5abb-f94b-4593-a0ed53a0c70f</td>\n",
              "      <td>Управление ожиданиями и эмоциями клиентов в ус...</td>\n",
              "      <td>5</td>\n",
              "      <td>2023-11-03</td>\n",
              "    </tr>\n",
              "    <tr>\n",
              "      <th>8129</th>\n",
              "      <td>ffedf5be-3a86-e2ee-281d-54cdc97bc1cf</td>\n",
              "      <td>Развитие навыков адаптации к различным типам к...</td>\n",
              "      <td>2</td>\n",
              "      <td>2023-11-02</td>\n",
              "    </tr>\n",
              "    <tr>\n",
              "      <th>6815</th>\n",
              "      <td>ffeed84c-7cb1-ae7b-f4ec-4bd78275bb98</td>\n",
              "      <td>Проектирование и внедрение программ лояльности...</td>\n",
              "      <td>5</td>\n",
              "      <td>2023-10-25</td>\n",
              "    </tr>\n",
              "  </tbody>\n",
              "</table>\n",
              "<p>1677 rows × 4 columns</p>\n",
              "</div>\n",
              "    <div class=\"colab-df-buttons\">\n",
              "\n",
              "  <div class=\"colab-df-container\">\n",
              "    <button class=\"colab-df-convert\" onclick=\"convertToInteractive('df-8c674e3f-c066-4cbc-81cb-ed315c3e46be')\"\n",
              "            title=\"Convert this dataframe to an interactive table.\"\n",
              "            style=\"display:none;\">\n",
              "\n",
              "  <svg xmlns=\"http://www.w3.org/2000/svg\" height=\"24px\" viewBox=\"0 -960 960 960\">\n",
              "    <path d=\"M120-120v-720h720v720H120Zm60-500h600v-160H180v160Zm220 220h160v-160H400v160Zm0 220h160v-160H400v160ZM180-400h160v-160H180v160Zm440 0h160v-160H620v160ZM180-180h160v-160H180v160Zm440 0h160v-160H620v160Z\"/>\n",
              "  </svg>\n",
              "    </button>\n",
              "\n",
              "  <style>\n",
              "    .colab-df-container {\n",
              "      display:flex;\n",
              "      gap: 12px;\n",
              "    }\n",
              "\n",
              "    .colab-df-convert {\n",
              "      background-color: #E8F0FE;\n",
              "      border: none;\n",
              "      border-radius: 50%;\n",
              "      cursor: pointer;\n",
              "      display: none;\n",
              "      fill: #1967D2;\n",
              "      height: 32px;\n",
              "      padding: 0 0 0 0;\n",
              "      width: 32px;\n",
              "    }\n",
              "\n",
              "    .colab-df-convert:hover {\n",
              "      background-color: #E2EBFA;\n",
              "      box-shadow: 0px 1px 2px rgba(60, 64, 67, 0.3), 0px 1px 3px 1px rgba(60, 64, 67, 0.15);\n",
              "      fill: #174EA6;\n",
              "    }\n",
              "\n",
              "    .colab-df-buttons div {\n",
              "      margin-bottom: 4px;\n",
              "    }\n",
              "\n",
              "    [theme=dark] .colab-df-convert {\n",
              "      background-color: #3B4455;\n",
              "      fill: #D2E3FC;\n",
              "    }\n",
              "\n",
              "    [theme=dark] .colab-df-convert:hover {\n",
              "      background-color: #434B5C;\n",
              "      box-shadow: 0px 1px 3px 1px rgba(0, 0, 0, 0.15);\n",
              "      filter: drop-shadow(0px 1px 2px rgba(0, 0, 0, 0.3));\n",
              "      fill: #FFFFFF;\n",
              "    }\n",
              "  </style>\n",
              "\n",
              "    <script>\n",
              "      const buttonEl =\n",
              "        document.querySelector('#df-8c674e3f-c066-4cbc-81cb-ed315c3e46be button.colab-df-convert');\n",
              "      buttonEl.style.display =\n",
              "        google.colab.kernel.accessAllowed ? 'block' : 'none';\n",
              "\n",
              "      async function convertToInteractive(key) {\n",
              "        const element = document.querySelector('#df-8c674e3f-c066-4cbc-81cb-ed315c3e46be');\n",
              "        const dataTable =\n",
              "          await google.colab.kernel.invokeFunction('convertToInteractive',\n",
              "                                                    [key], {});\n",
              "        if (!dataTable) return;\n",
              "\n",
              "        const docLinkHtml = 'Like what you see? Visit the ' +\n",
              "          '<a target=\"_blank\" href=https://colab.research.google.com/notebooks/data_table.ipynb>data table notebook</a>'\n",
              "          + ' to learn more about interactive tables.';\n",
              "        element.innerHTML = '';\n",
              "        dataTable['output_type'] = 'display_data';\n",
              "        await google.colab.output.renderOutput(dataTable, element);\n",
              "        const docLink = document.createElement('div');\n",
              "        docLink.innerHTML = docLinkHtml;\n",
              "        element.appendChild(docLink);\n",
              "      }\n",
              "    </script>\n",
              "  </div>\n",
              "\n",
              "\n",
              "<div id=\"df-c2bdec31-519a-4a8e-a99b-b4c056e01083\">\n",
              "  <button class=\"colab-df-quickchart\" onclick=\"quickchart('df-c2bdec31-519a-4a8e-a99b-b4c056e01083')\"\n",
              "            title=\"Suggest charts\"\n",
              "            style=\"display:none;\">\n",
              "\n",
              "<svg xmlns=\"http://www.w3.org/2000/svg\" height=\"24px\"viewBox=\"0 0 24 24\"\n",
              "     width=\"24px\">\n",
              "    <g>\n",
              "        <path d=\"M19 3H5c-1.1 0-2 .9-2 2v14c0 1.1.9 2 2 2h14c1.1 0 2-.9 2-2V5c0-1.1-.9-2-2-2zM9 17H7v-7h2v7zm4 0h-2V7h2v10zm4 0h-2v-4h2v4z\"/>\n",
              "    </g>\n",
              "</svg>\n",
              "  </button>\n",
              "\n",
              "<style>\n",
              "  .colab-df-quickchart {\n",
              "      --bg-color: #E8F0FE;\n",
              "      --fill-color: #1967D2;\n",
              "      --hover-bg-color: #E2EBFA;\n",
              "      --hover-fill-color: #174EA6;\n",
              "      --disabled-fill-color: #AAA;\n",
              "      --disabled-bg-color: #DDD;\n",
              "  }\n",
              "\n",
              "  [theme=dark] .colab-df-quickchart {\n",
              "      --bg-color: #3B4455;\n",
              "      --fill-color: #D2E3FC;\n",
              "      --hover-bg-color: #434B5C;\n",
              "      --hover-fill-color: #FFFFFF;\n",
              "      --disabled-bg-color: #3B4455;\n",
              "      --disabled-fill-color: #666;\n",
              "  }\n",
              "\n",
              "  .colab-df-quickchart {\n",
              "    background-color: var(--bg-color);\n",
              "    border: none;\n",
              "    border-radius: 50%;\n",
              "    cursor: pointer;\n",
              "    display: none;\n",
              "    fill: var(--fill-color);\n",
              "    height: 32px;\n",
              "    padding: 0;\n",
              "    width: 32px;\n",
              "  }\n",
              "\n",
              "  .colab-df-quickchart:hover {\n",
              "    background-color: var(--hover-bg-color);\n",
              "    box-shadow: 0 1px 2px rgba(60, 64, 67, 0.3), 0 1px 3px 1px rgba(60, 64, 67, 0.15);\n",
              "    fill: var(--button-hover-fill-color);\n",
              "  }\n",
              "\n",
              "  .colab-df-quickchart-complete:disabled,\n",
              "  .colab-df-quickchart-complete:disabled:hover {\n",
              "    background-color: var(--disabled-bg-color);\n",
              "    fill: var(--disabled-fill-color);\n",
              "    box-shadow: none;\n",
              "  }\n",
              "\n",
              "  .colab-df-spinner {\n",
              "    border: 2px solid var(--fill-color);\n",
              "    border-color: transparent;\n",
              "    border-bottom-color: var(--fill-color);\n",
              "    animation:\n",
              "      spin 1s steps(1) infinite;\n",
              "  }\n",
              "\n",
              "  @keyframes spin {\n",
              "    0% {\n",
              "      border-color: transparent;\n",
              "      border-bottom-color: var(--fill-color);\n",
              "      border-left-color: var(--fill-color);\n",
              "    }\n",
              "    20% {\n",
              "      border-color: transparent;\n",
              "      border-left-color: var(--fill-color);\n",
              "      border-top-color: var(--fill-color);\n",
              "    }\n",
              "    30% {\n",
              "      border-color: transparent;\n",
              "      border-left-color: var(--fill-color);\n",
              "      border-top-color: var(--fill-color);\n",
              "      border-right-color: var(--fill-color);\n",
              "    }\n",
              "    40% {\n",
              "      border-color: transparent;\n",
              "      border-right-color: var(--fill-color);\n",
              "      border-top-color: var(--fill-color);\n",
              "    }\n",
              "    60% {\n",
              "      border-color: transparent;\n",
              "      border-right-color: var(--fill-color);\n",
              "    }\n",
              "    80% {\n",
              "      border-color: transparent;\n",
              "      border-right-color: var(--fill-color);\n",
              "      border-bottom-color: var(--fill-color);\n",
              "    }\n",
              "    90% {\n",
              "      border-color: transparent;\n",
              "      border-bottom-color: var(--fill-color);\n",
              "    }\n",
              "  }\n",
              "</style>\n",
              "\n",
              "  <script>\n",
              "    async function quickchart(key) {\n",
              "      const quickchartButtonEl =\n",
              "        document.querySelector('#' + key + ' button');\n",
              "      quickchartButtonEl.disabled = true;  // To prevent multiple clicks.\n",
              "      quickchartButtonEl.classList.add('colab-df-spinner');\n",
              "      try {\n",
              "        const charts = await google.colab.kernel.invokeFunction(\n",
              "            'suggestCharts', [key], {});\n",
              "      } catch (error) {\n",
              "        console.error('Error during call to suggestCharts:', error);\n",
              "      }\n",
              "      quickchartButtonEl.classList.remove('colab-df-spinner');\n",
              "      quickchartButtonEl.classList.add('colab-df-quickchart-complete');\n",
              "    }\n",
              "    (() => {\n",
              "      let quickchartButtonEl =\n",
              "        document.querySelector('#df-c2bdec31-519a-4a8e-a99b-b4c056e01083 button');\n",
              "      quickchartButtonEl.style.display =\n",
              "        google.colab.kernel.accessAllowed ? 'block' : 'none';\n",
              "    })();\n",
              "  </script>\n",
              "</div>\n",
              "    </div>\n",
              "  </div>\n"
            ],
            "application/vnd.google.colaboratory.intrinsic+json": {
              "type": "dataframe",
              "repr_error": "0"
            }
          },
          "metadata": {},
          "execution_count": 15
        }
      ]
    },
    {
      "cell_type": "markdown",
      "source": [
        "Теперь определим другую функцию, чтобы пометить последние n оценок каждого пользователя в качестве нашего набора проверки с помощью столбца is_valid:"
      ],
      "metadata": {
        "id": "5v55tjUhrlK2"
      }
    },
    {
      "cell_type": "code",
      "source": [
        "def mark_last_n_ratings_as_validation_set(\n",
        "    df, n, min_ratings=1, user_colname=\"user_id\", timestamp_colname=\"unix_timestamp\"\n",
        "):\n",
        "    df[\"is_valid\"] = False\n",
        "    df.loc[\n",
        "        get_last_n_ratings_by_user(\n",
        "            df,\n",
        "            n,\n",
        "            min_ratings,\n",
        "            user_colname=user_colname,\n",
        "            timestamp_colname=timestamp_colname,\n",
        "        ).index,\n",
        "        \"is_valid\",\n",
        "    ] = True\n",
        "\n",
        "    return df"
      ],
      "metadata": {
        "id": "EcTOJ3T9wt3b"
      },
      "execution_count": 16,
      "outputs": []
    },
    {
      "cell_type": "code",
      "source": [
        "mark_last_n_ratings_as_validation_set(ratings_df, 1)"
      ],
      "metadata": {
        "colab": {
          "base_uri": "https://localhost:8080/",
          "height": 423
        },
        "id": "m7VnS0iSwyVJ",
        "outputId": "abeea201-015d-4a79-9811-c748e9d70000"
      },
      "execution_count": 17,
      "outputs": [
        {
          "output_type": "execute_result",
          "data": {
            "text/plain": [
              "                                   user_id  \\\n",
              "0     0c048b3a-434e-49e6-55c1-247efb389cec   \n",
              "1     1543843a-4723-ed2a-b08e-18053ae6dc5b   \n",
              "2     1c383cd3-0b7c-298a-b502-93adfecb7b18   \n",
              "3     24681928-425f-5a91-3350-4de568f5f6df   \n",
              "4     26e359e8-3860-db1d-11b6-acca57d8ea88   \n",
              "...                                    ...   \n",
              "8399  f29c21d4-897f-7894-8b91-f03172341b7b   \n",
              "8400  f3144cef-e89a-60d6-a1af-af7859c5076b   \n",
              "8401  f80ff32e-08a2-5270-b5f2-52ce39522f72   \n",
              "8402  f899139d-f5e1-0593-9643-1415e770c6dd   \n",
              "8403  fc9b003b-b003-a298-c2ad-0d05e4342bdc   \n",
              "\n",
              "                                                  title  rating  \\\n",
              "0       Основы клиентского сервиса: Практический подход       5   \n",
              "1       Основы клиентского сервиса: Практический подход       3   \n",
              "2       Основы клиентского сервиса: Практический подход       5   \n",
              "3       Основы клиентского сервиса: Практический подход       1   \n",
              "4       Основы клиентского сервиса: Практический подход       1   \n",
              "...                                                 ...     ...   \n",
              "8399  Стратегии управления ожиданиями и эмоциями кли...       2   \n",
              "8400  Стратегии управления ожиданиями и эмоциями кли...       4   \n",
              "8401  Стратегии управления ожиданиями и эмоциями кли...       1   \n",
              "8402  Стратегии управления ожиданиями и эмоциями кли...       5   \n",
              "8403  Стратегии управления ожиданиями и эмоциями кли...       2   \n",
              "\n",
              "     unix_timestamp  is_valid  \n",
              "0        2023-03-24     False  \n",
              "1        2023-11-05      True  \n",
              "2        2023-04-06     False  \n",
              "3        2023-03-04     False  \n",
              "4        2023-04-27     False  \n",
              "...             ...       ...  \n",
              "8399     2023-10-15      True  \n",
              "8400     2023-08-06     False  \n",
              "8401     2023-07-22     False  \n",
              "8402     2023-07-14     False  \n",
              "8403     2023-04-20     False  \n",
              "\n",
              "[8404 rows x 5 columns]"
            ],
            "text/html": [
              "\n",
              "  <div id=\"df-1b1a1ecc-3d3a-41fb-a280-2e0a40e5fbe0\" class=\"colab-df-container\">\n",
              "    <div>\n",
              "<style scoped>\n",
              "    .dataframe tbody tr th:only-of-type {\n",
              "        vertical-align: middle;\n",
              "    }\n",
              "\n",
              "    .dataframe tbody tr th {\n",
              "        vertical-align: top;\n",
              "    }\n",
              "\n",
              "    .dataframe thead th {\n",
              "        text-align: right;\n",
              "    }\n",
              "</style>\n",
              "<table border=\"1\" class=\"dataframe\">\n",
              "  <thead>\n",
              "    <tr style=\"text-align: right;\">\n",
              "      <th></th>\n",
              "      <th>user_id</th>\n",
              "      <th>title</th>\n",
              "      <th>rating</th>\n",
              "      <th>unix_timestamp</th>\n",
              "      <th>is_valid</th>\n",
              "    </tr>\n",
              "  </thead>\n",
              "  <tbody>\n",
              "    <tr>\n",
              "      <th>0</th>\n",
              "      <td>0c048b3a-434e-49e6-55c1-247efb389cec</td>\n",
              "      <td>Основы клиентского сервиса: Практический подход</td>\n",
              "      <td>5</td>\n",
              "      <td>2023-03-24</td>\n",
              "      <td>False</td>\n",
              "    </tr>\n",
              "    <tr>\n",
              "      <th>1</th>\n",
              "      <td>1543843a-4723-ed2a-b08e-18053ae6dc5b</td>\n",
              "      <td>Основы клиентского сервиса: Практический подход</td>\n",
              "      <td>3</td>\n",
              "      <td>2023-11-05</td>\n",
              "      <td>True</td>\n",
              "    </tr>\n",
              "    <tr>\n",
              "      <th>2</th>\n",
              "      <td>1c383cd3-0b7c-298a-b502-93adfecb7b18</td>\n",
              "      <td>Основы клиентского сервиса: Практический подход</td>\n",
              "      <td>5</td>\n",
              "      <td>2023-04-06</td>\n",
              "      <td>False</td>\n",
              "    </tr>\n",
              "    <tr>\n",
              "      <th>3</th>\n",
              "      <td>24681928-425f-5a91-3350-4de568f5f6df</td>\n",
              "      <td>Основы клиентского сервиса: Практический подход</td>\n",
              "      <td>1</td>\n",
              "      <td>2023-03-04</td>\n",
              "      <td>False</td>\n",
              "    </tr>\n",
              "    <tr>\n",
              "      <th>4</th>\n",
              "      <td>26e359e8-3860-db1d-11b6-acca57d8ea88</td>\n",
              "      <td>Основы клиентского сервиса: Практический подход</td>\n",
              "      <td>1</td>\n",
              "      <td>2023-04-27</td>\n",
              "      <td>False</td>\n",
              "    </tr>\n",
              "    <tr>\n",
              "      <th>...</th>\n",
              "      <td>...</td>\n",
              "      <td>...</td>\n",
              "      <td>...</td>\n",
              "      <td>...</td>\n",
              "      <td>...</td>\n",
              "    </tr>\n",
              "    <tr>\n",
              "      <th>8399</th>\n",
              "      <td>f29c21d4-897f-7894-8b91-f03172341b7b</td>\n",
              "      <td>Стратегии управления ожиданиями и эмоциями кли...</td>\n",
              "      <td>2</td>\n",
              "      <td>2023-10-15</td>\n",
              "      <td>True</td>\n",
              "    </tr>\n",
              "    <tr>\n",
              "      <th>8400</th>\n",
              "      <td>f3144cef-e89a-60d6-a1af-af7859c5076b</td>\n",
              "      <td>Стратегии управления ожиданиями и эмоциями кли...</td>\n",
              "      <td>4</td>\n",
              "      <td>2023-08-06</td>\n",
              "      <td>False</td>\n",
              "    </tr>\n",
              "    <tr>\n",
              "      <th>8401</th>\n",
              "      <td>f80ff32e-08a2-5270-b5f2-52ce39522f72</td>\n",
              "      <td>Стратегии управления ожиданиями и эмоциями кли...</td>\n",
              "      <td>1</td>\n",
              "      <td>2023-07-22</td>\n",
              "      <td>False</td>\n",
              "    </tr>\n",
              "    <tr>\n",
              "      <th>8402</th>\n",
              "      <td>f899139d-f5e1-0593-9643-1415e770c6dd</td>\n",
              "      <td>Стратегии управления ожиданиями и эмоциями кли...</td>\n",
              "      <td>5</td>\n",
              "      <td>2023-07-14</td>\n",
              "      <td>False</td>\n",
              "    </tr>\n",
              "    <tr>\n",
              "      <th>8403</th>\n",
              "      <td>fc9b003b-b003-a298-c2ad-0d05e4342bdc</td>\n",
              "      <td>Стратегии управления ожиданиями и эмоциями кли...</td>\n",
              "      <td>2</td>\n",
              "      <td>2023-04-20</td>\n",
              "      <td>False</td>\n",
              "    </tr>\n",
              "  </tbody>\n",
              "</table>\n",
              "<p>8404 rows × 5 columns</p>\n",
              "</div>\n",
              "    <div class=\"colab-df-buttons\">\n",
              "\n",
              "  <div class=\"colab-df-container\">\n",
              "    <button class=\"colab-df-convert\" onclick=\"convertToInteractive('df-1b1a1ecc-3d3a-41fb-a280-2e0a40e5fbe0')\"\n",
              "            title=\"Convert this dataframe to an interactive table.\"\n",
              "            style=\"display:none;\">\n",
              "\n",
              "  <svg xmlns=\"http://www.w3.org/2000/svg\" height=\"24px\" viewBox=\"0 -960 960 960\">\n",
              "    <path d=\"M120-120v-720h720v720H120Zm60-500h600v-160H180v160Zm220 220h160v-160H400v160Zm0 220h160v-160H400v160ZM180-400h160v-160H180v160Zm440 0h160v-160H620v160ZM180-180h160v-160H180v160Zm440 0h160v-160H620v160Z\"/>\n",
              "  </svg>\n",
              "    </button>\n",
              "\n",
              "  <style>\n",
              "    .colab-df-container {\n",
              "      display:flex;\n",
              "      gap: 12px;\n",
              "    }\n",
              "\n",
              "    .colab-df-convert {\n",
              "      background-color: #E8F0FE;\n",
              "      border: none;\n",
              "      border-radius: 50%;\n",
              "      cursor: pointer;\n",
              "      display: none;\n",
              "      fill: #1967D2;\n",
              "      height: 32px;\n",
              "      padding: 0 0 0 0;\n",
              "      width: 32px;\n",
              "    }\n",
              "\n",
              "    .colab-df-convert:hover {\n",
              "      background-color: #E2EBFA;\n",
              "      box-shadow: 0px 1px 2px rgba(60, 64, 67, 0.3), 0px 1px 3px 1px rgba(60, 64, 67, 0.15);\n",
              "      fill: #174EA6;\n",
              "    }\n",
              "\n",
              "    .colab-df-buttons div {\n",
              "      margin-bottom: 4px;\n",
              "    }\n",
              "\n",
              "    [theme=dark] .colab-df-convert {\n",
              "      background-color: #3B4455;\n",
              "      fill: #D2E3FC;\n",
              "    }\n",
              "\n",
              "    [theme=dark] .colab-df-convert:hover {\n",
              "      background-color: #434B5C;\n",
              "      box-shadow: 0px 1px 3px 1px rgba(0, 0, 0, 0.15);\n",
              "      filter: drop-shadow(0px 1px 2px rgba(0, 0, 0, 0.3));\n",
              "      fill: #FFFFFF;\n",
              "    }\n",
              "  </style>\n",
              "\n",
              "    <script>\n",
              "      const buttonEl =\n",
              "        document.querySelector('#df-1b1a1ecc-3d3a-41fb-a280-2e0a40e5fbe0 button.colab-df-convert');\n",
              "      buttonEl.style.display =\n",
              "        google.colab.kernel.accessAllowed ? 'block' : 'none';\n",
              "\n",
              "      async function convertToInteractive(key) {\n",
              "        const element = document.querySelector('#df-1b1a1ecc-3d3a-41fb-a280-2e0a40e5fbe0');\n",
              "        const dataTable =\n",
              "          await google.colab.kernel.invokeFunction('convertToInteractive',\n",
              "                                                    [key], {});\n",
              "        if (!dataTable) return;\n",
              "\n",
              "        const docLinkHtml = 'Like what you see? Visit the ' +\n",
              "          '<a target=\"_blank\" href=https://colab.research.google.com/notebooks/data_table.ipynb>data table notebook</a>'\n",
              "          + ' to learn more about interactive tables.';\n",
              "        element.innerHTML = '';\n",
              "        dataTable['output_type'] = 'display_data';\n",
              "        await google.colab.output.renderOutput(dataTable, element);\n",
              "        const docLink = document.createElement('div');\n",
              "        docLink.innerHTML = docLinkHtml;\n",
              "        element.appendChild(docLink);\n",
              "      }\n",
              "    </script>\n",
              "  </div>\n",
              "\n",
              "\n",
              "<div id=\"df-26e7fa9b-67f3-4f51-a096-c48a68311ef3\">\n",
              "  <button class=\"colab-df-quickchart\" onclick=\"quickchart('df-26e7fa9b-67f3-4f51-a096-c48a68311ef3')\"\n",
              "            title=\"Suggest charts\"\n",
              "            style=\"display:none;\">\n",
              "\n",
              "<svg xmlns=\"http://www.w3.org/2000/svg\" height=\"24px\"viewBox=\"0 0 24 24\"\n",
              "     width=\"24px\">\n",
              "    <g>\n",
              "        <path d=\"M19 3H5c-1.1 0-2 .9-2 2v14c0 1.1.9 2 2 2h14c1.1 0 2-.9 2-2V5c0-1.1-.9-2-2-2zM9 17H7v-7h2v7zm4 0h-2V7h2v10zm4 0h-2v-4h2v4z\"/>\n",
              "    </g>\n",
              "</svg>\n",
              "  </button>\n",
              "\n",
              "<style>\n",
              "  .colab-df-quickchart {\n",
              "      --bg-color: #E8F0FE;\n",
              "      --fill-color: #1967D2;\n",
              "      --hover-bg-color: #E2EBFA;\n",
              "      --hover-fill-color: #174EA6;\n",
              "      --disabled-fill-color: #AAA;\n",
              "      --disabled-bg-color: #DDD;\n",
              "  }\n",
              "\n",
              "  [theme=dark] .colab-df-quickchart {\n",
              "      --bg-color: #3B4455;\n",
              "      --fill-color: #D2E3FC;\n",
              "      --hover-bg-color: #434B5C;\n",
              "      --hover-fill-color: #FFFFFF;\n",
              "      --disabled-bg-color: #3B4455;\n",
              "      --disabled-fill-color: #666;\n",
              "  }\n",
              "\n",
              "  .colab-df-quickchart {\n",
              "    background-color: var(--bg-color);\n",
              "    border: none;\n",
              "    border-radius: 50%;\n",
              "    cursor: pointer;\n",
              "    display: none;\n",
              "    fill: var(--fill-color);\n",
              "    height: 32px;\n",
              "    padding: 0;\n",
              "    width: 32px;\n",
              "  }\n",
              "\n",
              "  .colab-df-quickchart:hover {\n",
              "    background-color: var(--hover-bg-color);\n",
              "    box-shadow: 0 1px 2px rgba(60, 64, 67, 0.3), 0 1px 3px 1px rgba(60, 64, 67, 0.15);\n",
              "    fill: var(--button-hover-fill-color);\n",
              "  }\n",
              "\n",
              "  .colab-df-quickchart-complete:disabled,\n",
              "  .colab-df-quickchart-complete:disabled:hover {\n",
              "    background-color: var(--disabled-bg-color);\n",
              "    fill: var(--disabled-fill-color);\n",
              "    box-shadow: none;\n",
              "  }\n",
              "\n",
              "  .colab-df-spinner {\n",
              "    border: 2px solid var(--fill-color);\n",
              "    border-color: transparent;\n",
              "    border-bottom-color: var(--fill-color);\n",
              "    animation:\n",
              "      spin 1s steps(1) infinite;\n",
              "  }\n",
              "\n",
              "  @keyframes spin {\n",
              "    0% {\n",
              "      border-color: transparent;\n",
              "      border-bottom-color: var(--fill-color);\n",
              "      border-left-color: var(--fill-color);\n",
              "    }\n",
              "    20% {\n",
              "      border-color: transparent;\n",
              "      border-left-color: var(--fill-color);\n",
              "      border-top-color: var(--fill-color);\n",
              "    }\n",
              "    30% {\n",
              "      border-color: transparent;\n",
              "      border-left-color: var(--fill-color);\n",
              "      border-top-color: var(--fill-color);\n",
              "      border-right-color: var(--fill-color);\n",
              "    }\n",
              "    40% {\n",
              "      border-color: transparent;\n",
              "      border-right-color: var(--fill-color);\n",
              "      border-top-color: var(--fill-color);\n",
              "    }\n",
              "    60% {\n",
              "      border-color: transparent;\n",
              "      border-right-color: var(--fill-color);\n",
              "    }\n",
              "    80% {\n",
              "      border-color: transparent;\n",
              "      border-right-color: var(--fill-color);\n",
              "      border-bottom-color: var(--fill-color);\n",
              "    }\n",
              "    90% {\n",
              "      border-color: transparent;\n",
              "      border-bottom-color: var(--fill-color);\n",
              "    }\n",
              "  }\n",
              "</style>\n",
              "\n",
              "  <script>\n",
              "    async function quickchart(key) {\n",
              "      const quickchartButtonEl =\n",
              "        document.querySelector('#' + key + ' button');\n",
              "      quickchartButtonEl.disabled = true;  // To prevent multiple clicks.\n",
              "      quickchartButtonEl.classList.add('colab-df-spinner');\n",
              "      try {\n",
              "        const charts = await google.colab.kernel.invokeFunction(\n",
              "            'suggestCharts', [key], {});\n",
              "      } catch (error) {\n",
              "        console.error('Error during call to suggestCharts:', error);\n",
              "      }\n",
              "      quickchartButtonEl.classList.remove('colab-df-spinner');\n",
              "      quickchartButtonEl.classList.add('colab-df-quickchart-complete');\n",
              "    }\n",
              "    (() => {\n",
              "      let quickchartButtonEl =\n",
              "        document.querySelector('#df-26e7fa9b-67f3-4f51-a096-c48a68311ef3 button');\n",
              "      quickchartButtonEl.style.display =\n",
              "        google.colab.kernel.accessAllowed ? 'block' : 'none';\n",
              "    })();\n",
              "  </script>\n",
              "</div>\n",
              "    </div>\n",
              "  </div>\n"
            ],
            "application/vnd.google.colaboratory.intrinsic+json": {
              "type": "dataframe",
              "variable_name": "ratings_df",
              "summary": "{\n  \"name\": \"ratings_df\",\n  \"rows\": 8404,\n  \"fields\": [\n    {\n      \"column\": \"user_id\",\n      \"properties\": {\n        \"dtype\": \"category\",\n        \"num_unique_values\": 1677,\n        \"samples\": [\n          \"98d6f58a-b0da-fbb8-6b08-3a001561bb34\",\n          \"185e65bc-4058-1880-c4f2-c82958de8cfe\",\n          \"e555ebe0-ce42-6f7f-9b2b-ef0706315e0c\"\n        ],\n        \"semantic_type\": \"\",\n        \"description\": \"\"\n      }\n    },\n    {\n      \"column\": \"title\",\n      \"properties\": {\n        \"dtype\": \"category\",\n        \"num_unique_values\": 92,\n        \"samples\": [\n          \"\\u0418\\u043d\\u0442\\u0435\\u0433\\u0440\\u0430\\u0446\\u0438\\u044f \\u043a\\u043b\\u0438\\u0435\\u043d\\u0442\\u0441\\u043a\\u043e\\u0433\\u043e \\u0441\\u0435\\u0440\\u0432\\u0438\\u0441\\u0430 \\u0441 \\u0434\\u0440\\u0443\\u0433\\u0438\\u043c\\u0438 \\u043e\\u0442\\u0434\\u0435\\u043b\\u0430\\u043c\\u0438 \\u043a\\u043e\\u043c\\u043f\\u0430\\u043d\\u0438\\u0438\",\n          \"\\u042d\\u0444\\u0444\\u0435\\u043a\\u0442\\u0438\\u0432\\u043d\\u043e\\u0435 \\u043e\\u0431\\u0443\\u0447\\u0435\\u043d\\u0438\\u0435 \\u043a\\u043b\\u0438\\u0435\\u043d\\u0442\\u043e\\u0432 \\u0432 \\u0438\\u0441\\u043f\\u043e\\u043b\\u044c\\u0437\\u043e\\u0432\\u0430\\u043d\\u0438\\u0438 \\u043f\\u0440\\u043e\\u0434\\u0443\\u043a\\u0442\\u0430 \\u0438\\u043b\\u0438 \\u0443\\u0441\\u043b\\u0443\\u0433\\u0438\",\n          \"\\u042d\\u0442\\u0438\\u043a\\u0430 \\u0438 \\u043f\\u0440\\u043e\\u0444\\u0435\\u0441\\u0441\\u0438\\u043e\\u043d\\u0430\\u043b\\u044c\\u043d\\u043e\\u0435 \\u043f\\u043e\\u0432\\u0435\\u0434\\u0435\\u043d\\u0438\\u0435 \\u0432 \\u043a\\u043b\\u0438\\u0435\\u043d\\u0442\\u0441\\u043a\\u043e\\u043c \\u043e\\u0431\\u0441\\u043b\\u0443\\u0436\\u0438\\u0432\\u0430\\u043d\\u0438\\u0438\"\n        ],\n        \"semantic_type\": \"\",\n        \"description\": \"\"\n      }\n    },\n    {\n      \"column\": \"rating\",\n      \"properties\": {\n        \"dtype\": \"number\",\n        \"std\": 1,\n        \"min\": 1,\n        \"max\": 5,\n        \"num_unique_values\": 5,\n        \"samples\": [\n          3,\n          4,\n          1\n        ],\n        \"semantic_type\": \"\",\n        \"description\": \"\"\n      }\n    },\n    {\n      \"column\": \"unix_timestamp\",\n      \"properties\": {\n        \"dtype\": \"object\",\n        \"num_unique_values\": 307,\n        \"samples\": [\n          \"2023-02-11\",\n          \"2023-05-07\",\n          \"2023-08-02\"\n        ],\n        \"semantic_type\": \"\",\n        \"description\": \"\"\n      }\n    },\n    {\n      \"column\": \"is_valid\",\n      \"properties\": {\n        \"dtype\": \"boolean\",\n        \"num_unique_values\": 2,\n        \"samples\": [\n          true,\n          false\n        ],\n        \"semantic_type\": \"\",\n        \"description\": \"\"\n      }\n    }\n  ]\n}"
            }
          },
          "metadata": {},
          "execution_count": 17
        }
      ]
    },
    {
      "cell_type": "code",
      "source": [
        "train_df = ratings_df[ratings_df.is_valid==False]\n",
        "valid_df = ratings_df[ratings_df.is_valid==True]"
      ],
      "metadata": {
        "id": "kxrrtTGhw1j0"
      },
      "execution_count": 18,
      "outputs": []
    },
    {
      "cell_type": "code",
      "source": [
        "len(valid_df), ratings_df.shape, train_df.shape"
      ],
      "metadata": {
        "colab": {
          "base_uri": "https://localhost:8080/"
        },
        "id": "BSZWJj_-w4D1",
        "outputId": "6b96fd58-5f99-475b-a312-46ca53ea751d"
      },
      "execution_count": 19,
      "outputs": [
        {
          "output_type": "execute_result",
          "data": {
            "text/plain": [
              "(1677, (8404, 5), (6727, 5))"
            ]
          },
          "metadata": {},
          "execution_count": 19
        }
      ]
    },
    {
      "cell_type": "markdown",
      "source": [
        "**Baseline Model**"
      ],
      "metadata": {
        "id": "0gB0Xt_Tr4L7"
      }
    },
    {
      "cell_type": "markdown",
      "source": [
        "Создадим базовую модель для сравнения всех будущих подходов. Спрогнозируем средний рейтинг, независимо от контекста. Поскольку на среднее значение могут сильно влиять выбросы, давайте воспользуемся для этого медианой."
      ],
      "metadata": {
        "id": "DzCxMAaQr52o"
      }
    },
    {
      "cell_type": "code",
      "source": [
        "median_rating = train_df.rating.median()"
      ],
      "metadata": {
        "id": "TePmUYMdw5Lq"
      },
      "execution_count": 20,
      "outputs": []
    },
    {
      "cell_type": "code",
      "source": [
        "import math\n",
        "from sklearn.metrics import mean_squared_error, mean_absolute_error\n",
        "\n",
        "predictions = np.array([median_rating]* len(valid_df))\n",
        "\n",
        "mae = mean_absolute_error(valid_df.rating, predictions)\n",
        "mse = mean_squared_error(valid_df.rating, predictions)\n",
        "rmse = math.sqrt(mse)\n",
        "\n",
        "print(f'mae: {mae}')\n",
        "print(f'mse: {mse}')\n",
        "print(f'rmse: {rmse}')"
      ],
      "metadata": {
        "colab": {
          "base_uri": "https://localhost:8080/"
        },
        "id": "3PcLY7e4w8lT",
        "outputId": "9e0a9d41-bfdc-4e18-e1c2-3242a2340dc9"
      },
      "execution_count": 21,
      "outputs": [
        {
          "output_type": "stream",
          "name": "stdout",
          "text": [
            "mae: 1.1997614788312463\n",
            "mse: 1.9952295766249255\n",
            "rmse: 1.4125259560889227\n"
          ]
        }
      ]
    },
    {
      "cell_type": "markdown",
      "source": [
        "**Матричная факторизация со смещением**"
      ],
      "metadata": {
        "id": "3LWFVjXlsurF"
      }
    },
    {
      "cell_type": "markdown",
      "source": [
        "Преобразуем название курса в целочисленный формат, так же закодируем юзер ид"
      ],
      "metadata": {
        "id": "kEY0p7fa83va"
      }
    },
    {
      "cell_type": "code",
      "source": [
        "user_lookup = {v: i+1 for i, v in enumerate(ratings_df['user_id'].unique())}"
      ],
      "metadata": {
        "id": "keujkFs8xDQl"
      },
      "execution_count": 22,
      "outputs": []
    },
    {
      "cell_type": "code",
      "source": [
        "course_lookup = {v: i+1 for i, v in enumerate(ratings_df['title'].unique())}"
      ],
      "metadata": {
        "id": "4DYmSg4QxFlJ"
      },
      "execution_count": 23,
      "outputs": []
    },
    {
      "cell_type": "code",
      "source": [
        "from torch.utils.data import Dataset\n",
        "\n",
        "class UserItemRatingDataset(Dataset):\n",
        "    def __init__(self, df, course_lookup, user_lookup):\n",
        "        self.df = df\n",
        "        self.course_lookup = course_lookup\n",
        "        self.user_lookup = user_lookup\n",
        "\n",
        "    def __getitem__(self, index):\n",
        "        row = self.df.iloc[index]\n",
        "        user_id = self.user_lookup[row.user_id]\n",
        "        course_id = self.course_lookup[row.title]\n",
        "\n",
        "        rating = torch.tensor(row.rating, dtype=torch.float32)\n",
        "\n",
        "        return (user_id, course_id), rating\n",
        "\n",
        "    def __len__(self):\n",
        "        return len(self.df)\n"
      ],
      "metadata": {
        "id": "sQi35UMNxHZZ"
      },
      "execution_count": 24,
      "outputs": []
    },
    {
      "cell_type": "code",
      "source": [
        "train_dataset = UserItemRatingDataset(train_df, course_lookup, user_lookup)\n",
        "valid_dataset = UserItemRatingDataset(valid_df, course_lookup, user_lookup)"
      ],
      "metadata": {
        "id": "OIgtIJPUxJb8"
      },
      "execution_count": 25,
      "outputs": []
    },
    {
      "cell_type": "code",
      "source": [
        "import torch\n",
        "from torch import nn\n",
        "\n",
        "class MfDotBias(nn.Module):\n",
        "\n",
        "    def __init__(\n",
        "        self, n_factors, n_users, n_items, ratings_range=None, use_biases=True\n",
        "    ):\n",
        "        super().__init__()\n",
        "        self.bias = use_biases\n",
        "        self.y_range = ratings_range\n",
        "        self.user_embedding = nn.Embedding(n_users+1, n_factors, padding_idx=0)\n",
        "        self.item_embedding = nn.Embedding(n_items+1, n_factors, padding_idx=0)\n",
        "\n",
        "        if use_biases:\n",
        "            self.user_bias = nn.Embedding(n_users+1, 1, padding_idx=0)\n",
        "            self.item_bias = nn.Embedding(n_items+1, 1, padding_idx=0)\n",
        "\n",
        "    def forward(self, inputs):\n",
        "        users, items = inputs\n",
        "        dot = self.user_embedding(users) * self.item_embedding(items)\n",
        "        result = dot.sum(1)\n",
        "        if self.bias:\n",
        "            result = (\n",
        "                result + self.user_bias(users).squeeze() + self.item_bias(items).squeeze()\n",
        "            )\n",
        "\n",
        "        if self.y_range is None:\n",
        "            return result\n",
        "        else:\n",
        "            return (\n",
        "                torch.sigmoid(result) * (self.y_range[1] - self.y_range[0])\n",
        "                + self.y_range[0]\n",
        "            )"
      ],
      "metadata": {
        "id": "4x8lWhIIxLmT"
      },
      "execution_count": 26,
      "outputs": []
    },
    {
      "cell_type": "markdown",
      "source": [
        "Слой внедрения — это таблица поиска, указываем размер слоя внедрения - количество уникальных элементов, наблюдаемых в полном наборе данных, а не только в обучающем наборе. Указываем встраивание заполнения по индексу 0, которое можно использовать для любых неизвестных значений. PyTorch справляется с этим, устанавливая для этой записи нулевой вектор, который не обновляется во время обучения.\n",
        "\n",
        "Кроме того, поскольку это задача регрессии, диапазон, который может предсказать модель, потенциально неограничен. Изменим архитектуру, чтобы ограничить этот диапазон перед обучением. Применим сигмоидальную функцию к выходным данным модели, которая ограничивает диапазон от 0 до 1, а затем масштабируя ее в пределах диапазона, который мы можем определить."
      ],
      "metadata": {
        "id": "auIQ-4t_A3R7"
      }
    },
    {
      "cell_type": "markdown",
      "source": [
        "**PyTorch accelerated**"
      ],
      "metadata": {
        "id": "KuSryl_xB3rc"
      }
    },
    {
      "cell_type": "code",
      "source": [
        "from functools import partial\n",
        "\n",
        "from pytorch_accelerated import Trainer, notebook_launcher\n",
        "from pytorch_accelerated.trainer import TrainerPlaceholderValues, DEFAULT_CALLBACKS\n",
        "from pytorch_accelerated.callbacks import EarlyStoppingCallback, SaveBestModelCallback, TrainerCallback, StopTrainingError\n",
        "import torchmetrics"
      ],
      "metadata": {
        "id": "A-Bkl_92xOd6",
        "colab": {
          "base_uri": "https://localhost:8080/"
        },
        "outputId": "c401cdfa-c907-43b8-e16d-270560632819"
      },
      "execution_count": 27,
      "outputs": [
        {
          "output_type": "stream",
          "name": "stderr",
          "text": [
            "INFO:pytorch_accelerated:Setting random seeds\n"
          ]
        }
      ]
    },
    {
      "cell_type": "markdown",
      "source": [
        "Поскольку ускорение pytorch по умолчанию отслеживает только потери при обучении и проверке, создадим обратный вызов для отслеживания наших показателей."
      ],
      "metadata": {
        "id": "dJHRsbmBB-X8"
      }
    },
    {
      "cell_type": "code",
      "source": [
        "class RecommenderMetricsCallback(TrainerCallback):\n",
        "    def __init__(self):\n",
        "        self.metrics = torchmetrics.MetricCollection(\n",
        "            {\n",
        "                \"mse\": torchmetrics.MeanSquaredError(),\n",
        "                \"mae\": torchmetrics.MeanAbsoluteError(),\n",
        "            }\n",
        "        )\n",
        "\n",
        "    def _move_to_device(self, trainer):\n",
        "        self.metrics.to(trainer.device)\n",
        "\n",
        "    def on_training_run_start(self, trainer, **kwargs):\n",
        "        self._move_to_device(trainer)\n",
        "\n",
        "    def on_evaluation_run_start(self, trainer, **kwargs):\n",
        "        self._move_to_device(trainer)\n",
        "\n",
        "    def on_eval_step_end(self, trainer, batch, batch_output, **kwargs):\n",
        "        preds = batch_output[\"model_outputs\"]\n",
        "        self.metrics.update(preds, batch[1])\n",
        "\n",
        "    def on_eval_epoch_end(self, trainer, **kwargs):\n",
        "        metrics = self.metrics.compute()\n",
        "\n",
        "        mse = metrics[\"mse\"].cpu()\n",
        "        trainer.run_history.update_metric(\"mae\", metrics[\"mae\"].cpu())\n",
        "        trainer.run_history.update_metric(\"mse\", mse)\n",
        "        trainer.run_history.update_metric(\"rmse\",  math.sqrt(mse))\n",
        "\n",
        "        self.metrics.reset()"
      ],
      "metadata": {
        "id": "4_7oapQqxQSp"
      },
      "execution_count": 28,
      "outputs": []
    },
    {
      "cell_type": "markdown",
      "source": [
        "Ускорение PyTorch предоставляет функцию Notebook_launcher, которая позволяет нам запускать обучающие прогоны с несколькими графическими процессорами прямо из блокнота. Чтобы использовать это, все, что нам нужно сделать, это определить функцию обучения, которая создает экземпляр нашего объекта Trainer и вызывает метод train.\n",
        "\n",
        "Такие компоненты, как модель и набор данных, можно определить в любом месте, но важно, чтобы экземпляр тренажера создавался только в рамках функции обучения."
      ],
      "metadata": {
        "id": "Xv6zsqdfCPVr"
      }
    },
    {
      "cell_type": "code",
      "source": [
        "def train_mf_model():\n",
        "    model = MfDotBias(\n",
        "        120, len(user_lookup), len(course_lookup), ratings_range=[0.5, 5.5]\n",
        "    )\n",
        "    loss_func = torch.nn.MSELoss()\n",
        "\n",
        "    optimizer = torch.optim.AdamW(model.parameters(), lr=0.01)\n",
        "\n",
        "    create_sched_fn = partial(\n",
        "        torch.optim.lr_scheduler.OneCycleLR,\n",
        "        max_lr=0.01,\n",
        "        epochs=TrainerPlaceholderValues.NUM_EPOCHS,\n",
        "        steps_per_epoch=TrainerPlaceholderValues.NUM_UPDATE_STEPS_PER_EPOCH,\n",
        "    )\n",
        "\n",
        "    trainer = Trainer(\n",
        "        model=model,\n",
        "        loss_func=loss_func,\n",
        "        optimizer=optimizer,\n",
        "        callbacks=(\n",
        "            RecommenderMetricsCallback,\n",
        "            *DEFAULT_CALLBACKS,\n",
        "            SaveBestModelCallback(watch_metric=\"mae\"),\n",
        "            EarlyStoppingCallback(\n",
        "                early_stopping_patience=2,\n",
        "                early_stopping_threshold=0.001,\n",
        "                watch_metric=\"mae\",\n",
        "            ),\n",
        "        ),\n",
        "    )\n",
        "\n",
        "    trainer.train(\n",
        "        train_dataset=train_dataset,\n",
        "        eval_dataset=valid_dataset,\n",
        "        num_epochs=30,\n",
        "        per_device_batch_size=32,\n",
        "        create_scheduler_fn=create_sched_fn,\n",
        "    )\n"
      ],
      "metadata": {
        "id": "8GnlmbdmyTjR"
      },
      "execution_count": 29,
      "outputs": []
    },
    {
      "cell_type": "code",
      "source": [
        "notebook_launcher(train_mf_model, num_processes=2)"
      ],
      "metadata": {
        "colab": {
          "base_uri": "https://localhost:8080/"
        },
        "id": "XBH-LtwLyWNq",
        "outputId": "962fbbc7-2831-4e82-88ff-e581c2ca5571"
      },
      "execution_count": 30,
      "outputs": [
        {
          "output_type": "stream",
          "name": "stdout",
          "text": [
            "Launching training on one CPU.\n",
            "\n",
            "Starting training run\n",
            "\n",
            "Starting epoch 1\n"
          ]
        },
        {
          "output_type": "stream",
          "name": "stderr",
          "text": [
            "\r  0%|          | 0/211 [00:00<?, ?it/s]/usr/lib/python3.10/multiprocessing/popen_fork.py:66: RuntimeWarning: os.fork() was called. os.fork() is incompatible with multithreaded code, and JAX is multithreaded, so this will likely lead to a deadlock.\n",
            "  self.pid = os.fork()\n",
            " 96%|█████████▌| 202/211 [00:02<00:00, 84.68it/s]/usr/lib/python3.10/multiprocessing/popen_fork.py:66: RuntimeWarning: os.fork() was called. os.fork() is incompatible with multithreaded code, and JAX is multithreaded, so this will likely lead to a deadlock.\n",
            "  self.pid = os.fork()\n",
            "100%|██████████| 211/211 [00:02<00:00, 79.48it/s]\n"
          ]
        },
        {
          "output_type": "stream",
          "name": "stdout",
          "text": [
            "\n",
            "train_loss_epoch: 7.258767604827881\n"
          ]
        },
        {
          "output_type": "stream",
          "name": "stderr",
          "text": [
            "100%|██████████| 53/53 [00:00<00:00, 94.55it/s] \n"
          ]
        },
        {
          "output_type": "stream",
          "name": "stdout",
          "text": [
            "\n",
            "mse: 7.462264060974121\n",
            "\n",
            "mae: 2.3409464359283447\n",
            "\n",
            "eval_loss_epoch: 7.462263584136963\n",
            "\n",
            "rmse: 2.731714491116178\n",
            "\n",
            "Starting epoch 2\n"
          ]
        },
        {
          "output_type": "stream",
          "name": "stderr",
          "text": [
            "100%|██████████| 211/211 [00:02<00:00, 78.95it/s]\n"
          ]
        },
        {
          "output_type": "stream",
          "name": "stdout",
          "text": [
            "\n",
            "train_loss_epoch: 6.875697612762451\n"
          ]
        },
        {
          "output_type": "stream",
          "name": "stderr",
          "text": [
            "100%|██████████| 53/53 [00:00<00:00, 95.72it/s] \n"
          ]
        },
        {
          "output_type": "stream",
          "name": "stdout",
          "text": [
            "\n",
            "mse: 7.459092140197754\n",
            "\n",
            "mae: 2.3411307334899902\n",
            "\n",
            "eval_loss_epoch: 7.459090709686279\n",
            "\n",
            "rmse: 2.7311338561479834\n",
            "No improvement above threshold observed, incrementing counter. \n",
            "Early stopping counter: 1/2\n",
            "\n",
            "Starting epoch 3\n"
          ]
        },
        {
          "output_type": "stream",
          "name": "stderr",
          "text": [
            "100%|██████████| 211/211 [00:03<00:00, 56.64it/s]\n"
          ]
        },
        {
          "output_type": "stream",
          "name": "stdout",
          "text": [
            "\n",
            "train_loss_epoch: 6.189195156097412\n"
          ]
        },
        {
          "output_type": "stream",
          "name": "stderr",
          "text": [
            "100%|██████████| 53/53 [00:00<00:00, 93.16it/s] \n"
          ]
        },
        {
          "output_type": "stream",
          "name": "stdout",
          "text": [
            "\n",
            "mse: 7.4495062828063965\n",
            "\n",
            "mae: 2.3389430046081543\n",
            "\n",
            "eval_loss_epoch: 7.449507236480713\n",
            "\n",
            "rmse: 2.7293783693006723\n",
            "\n",
            "Improvement of 0.0020034313201904297 observed, resetting counter. \n",
            "Early stopping counter: 0/2\n",
            "\n",
            "Starting epoch 4\n"
          ]
        },
        {
          "output_type": "stream",
          "name": "stderr",
          "text": [
            "100%|██████████| 211/211 [00:02<00:00, 81.29it/s]\n"
          ]
        },
        {
          "output_type": "stream",
          "name": "stdout",
          "text": [
            "\n",
            "train_loss_epoch: 5.5987467765808105\n"
          ]
        },
        {
          "output_type": "stream",
          "name": "stderr",
          "text": [
            "100%|██████████| 53/53 [00:00<00:00, 90.37it/s] \n"
          ]
        },
        {
          "output_type": "stream",
          "name": "stdout",
          "text": [
            "\n",
            "mse: 7.416579723358154\n",
            "\n",
            "mae: 2.3304569721221924\n",
            "\n",
            "eval_loss_epoch: 7.416578769683838\n",
            "\n",
            "rmse: 2.7233398104823707\n",
            "\n",
            "Improvement of 0.008486032485961914 observed, resetting counter. \n",
            "Early stopping counter: 0/2\n",
            "\n",
            "Starting epoch 5\n"
          ]
        },
        {
          "output_type": "stream",
          "name": "stderr",
          "text": [
            "100%|██████████| 211/211 [00:02<00:00, 82.76it/s]\n"
          ]
        },
        {
          "output_type": "stream",
          "name": "stdout",
          "text": [
            "\n",
            "train_loss_epoch: 5.336017608642578\n"
          ]
        },
        {
          "output_type": "stream",
          "name": "stderr",
          "text": [
            "100%|██████████| 53/53 [00:00<00:00, 89.80it/s] \n"
          ]
        },
        {
          "output_type": "stream",
          "name": "stdout",
          "text": [
            "\n",
            "mse: 7.393068313598633\n",
            "\n",
            "mae: 2.326970100402832\n",
            "\n",
            "eval_loss_epoch: 7.393068313598633\n",
            "\n",
            "rmse: 2.7190197339479965\n",
            "\n",
            "Improvement of 0.0034868717193603516 observed, resetting counter. \n",
            "Early stopping counter: 0/2\n",
            "\n",
            "Starting epoch 6\n"
          ]
        },
        {
          "output_type": "stream",
          "name": "stderr",
          "text": [
            "100%|██████████| 211/211 [00:02<00:00, 81.50it/s]\n"
          ]
        },
        {
          "output_type": "stream",
          "name": "stdout",
          "text": [
            "\n",
            "train_loss_epoch: 5.194315433502197\n"
          ]
        },
        {
          "output_type": "stream",
          "name": "stderr",
          "text": [
            "100%|██████████| 53/53 [00:00<00:00, 63.95it/s]\n"
          ]
        },
        {
          "output_type": "stream",
          "name": "stdout",
          "text": [
            "\n",
            "mse: 7.329566955566406\n",
            "\n",
            "mae: 2.3124096393585205\n",
            "\n",
            "eval_loss_epoch: 7.329566955566406\n",
            "\n",
            "rmse: 2.7073172986494223\n",
            "\n",
            "Improvement of 0.014560461044311523 observed, resetting counter. \n",
            "Early stopping counter: 0/2\n",
            "\n",
            "Starting epoch 7\n"
          ]
        },
        {
          "output_type": "stream",
          "name": "stderr",
          "text": [
            "100%|██████████| 211/211 [00:03<00:00, 60.98it/s]\n"
          ]
        },
        {
          "output_type": "stream",
          "name": "stdout",
          "text": [
            "\n",
            "train_loss_epoch: 5.099026679992676\n"
          ]
        },
        {
          "output_type": "stream",
          "name": "stderr",
          "text": [
            "100%|██████████| 53/53 [00:00<00:00, 91.71it/s] \n"
          ]
        },
        {
          "output_type": "stream",
          "name": "stdout",
          "text": [
            "\n",
            "mse: 7.245285511016846\n",
            "\n",
            "mae: 2.2873098850250244\n",
            "\n",
            "eval_loss_epoch: 7.245286464691162\n",
            "\n",
            "rmse: 2.6917068025728295\n",
            "\n",
            "Improvement of 0.025099754333496094 observed, resetting counter. \n",
            "Early stopping counter: 0/2\n",
            "\n",
            "Starting epoch 8\n"
          ]
        },
        {
          "output_type": "stream",
          "name": "stderr",
          "text": [
            "100%|██████████| 211/211 [00:02<00:00, 81.28it/s]\n"
          ]
        },
        {
          "output_type": "stream",
          "name": "stdout",
          "text": [
            "\n",
            "train_loss_epoch: 4.958422660827637\n"
          ]
        },
        {
          "output_type": "stream",
          "name": "stderr",
          "text": [
            "100%|██████████| 53/53 [00:00<00:00, 90.04it/s] \n"
          ]
        },
        {
          "output_type": "stream",
          "name": "stdout",
          "text": [
            "\n",
            "mse: 7.162961959838867\n",
            "\n",
            "mae: 2.2753586769104004\n",
            "\n",
            "eval_loss_epoch: 7.162961959838867\n",
            "\n",
            "rmse: 2.676371043005597\n",
            "\n",
            "Improvement of 0.011951208114624023 observed, resetting counter. \n",
            "Early stopping counter: 0/2\n",
            "\n",
            "Starting epoch 9\n"
          ]
        },
        {
          "output_type": "stream",
          "name": "stderr",
          "text": [
            "100%|██████████| 211/211 [00:02<00:00, 79.34it/s]\n"
          ]
        },
        {
          "output_type": "stream",
          "name": "stdout",
          "text": [
            "\n",
            "train_loss_epoch: 4.831874370574951\n"
          ]
        },
        {
          "output_type": "stream",
          "name": "stderr",
          "text": [
            "100%|██████████| 53/53 [00:00<00:00, 93.19it/s] \n"
          ]
        },
        {
          "output_type": "stream",
          "name": "stdout",
          "text": [
            "\n",
            "mse: 7.165039539337158\n",
            "\n",
            "mae: 2.2758102416992188\n",
            "\n",
            "eval_loss_epoch: 7.1650390625\n",
            "\n",
            "rmse: 2.6767591485483258\n",
            "No improvement above threshold observed, incrementing counter. \n",
            "Early stopping counter: 1/2\n",
            "\n",
            "Starting epoch 10\n"
          ]
        },
        {
          "output_type": "stream",
          "name": "stderr",
          "text": [
            "100%|██████████| 211/211 [00:03<00:00, 68.58it/s]\n"
          ]
        },
        {
          "output_type": "stream",
          "name": "stdout",
          "text": [
            "\n",
            "train_loss_epoch: 4.729948043823242\n"
          ]
        },
        {
          "output_type": "stream",
          "name": "stderr",
          "text": [
            "100%|██████████| 53/53 [00:00<00:00, 56.07it/s]\n"
          ]
        },
        {
          "output_type": "stream",
          "name": "stdout",
          "text": [
            "\n",
            "mse: 7.012661933898926\n",
            "\n",
            "mae: 2.237222671508789\n",
            "\n",
            "eval_loss_epoch: 7.012660980224609\n",
            "\n",
            "rmse: 2.648143110539709\n",
            "\n",
            "Improvement of 0.03813600540161133 observed, resetting counter. \n",
            "Early stopping counter: 0/2\n",
            "\n",
            "Starting epoch 11\n"
          ]
        },
        {
          "output_type": "stream",
          "name": "stderr",
          "text": [
            "100%|██████████| 211/211 [00:02<00:00, 73.46it/s]\n"
          ]
        },
        {
          "output_type": "stream",
          "name": "stdout",
          "text": [
            "\n",
            "train_loss_epoch: 4.642194747924805\n"
          ]
        },
        {
          "output_type": "stream",
          "name": "stderr",
          "text": [
            "100%|██████████| 53/53 [00:00<00:00, 88.45it/s] \n"
          ]
        },
        {
          "output_type": "stream",
          "name": "stdout",
          "text": [
            "\n",
            "mse: 6.990523815155029\n",
            "\n",
            "mae: 2.2396187782287598\n",
            "\n",
            "eval_loss_epoch: 6.990523338317871\n",
            "\n",
            "rmse: 2.643959873968406\n",
            "No improvement above threshold observed, incrementing counter. \n",
            "Early stopping counter: 1/2\n",
            "\n",
            "Starting epoch 12\n"
          ]
        },
        {
          "output_type": "stream",
          "name": "stderr",
          "text": [
            "100%|██████████| 211/211 [00:02<00:00, 77.59it/s]\n"
          ]
        },
        {
          "output_type": "stream",
          "name": "stdout",
          "text": [
            "\n",
            "train_loss_epoch: 4.485124588012695\n"
          ]
        },
        {
          "output_type": "stream",
          "name": "stderr",
          "text": [
            "100%|██████████| 53/53 [00:00<00:00, 89.57it/s] \n"
          ]
        },
        {
          "output_type": "stream",
          "name": "stdout",
          "text": [
            "\n",
            "mse: 6.853606700897217\n",
            "\n",
            "mae: 2.2032310962677\n",
            "\n",
            "eval_loss_epoch: 6.853605270385742\n",
            "\n",
            "rmse: 2.6179393997755596\n",
            "\n",
            "Improvement of 0.03399157524108887 observed, resetting counter. \n",
            "Early stopping counter: 0/2\n",
            "\n",
            "Starting epoch 13\n"
          ]
        },
        {
          "output_type": "stream",
          "name": "stderr",
          "text": [
            "100%|██████████| 211/211 [00:02<00:00, 80.76it/s]\n"
          ]
        },
        {
          "output_type": "stream",
          "name": "stdout",
          "text": [
            "\n",
            "train_loss_epoch: 4.365355014801025\n"
          ]
        },
        {
          "output_type": "stream",
          "name": "stderr",
          "text": [
            "100%|██████████| 53/53 [00:00<00:00, 93.93it/s] \n"
          ]
        },
        {
          "output_type": "stream",
          "name": "stdout",
          "text": [
            "\n",
            "mse: 6.831207275390625\n",
            "\n",
            "mae: 2.207122564315796\n",
            "\n",
            "eval_loss_epoch: 6.831207752227783\n",
            "\n",
            "rmse: 2.6136578344134156\n",
            "No improvement above threshold observed, incrementing counter. \n",
            "Early stopping counter: 1/2\n",
            "\n",
            "Starting epoch 14\n"
          ]
        },
        {
          "output_type": "stream",
          "name": "stderr",
          "text": [
            "100%|██████████| 211/211 [00:03<00:00, 56.97it/s]\n"
          ]
        },
        {
          "output_type": "stream",
          "name": "stdout",
          "text": [
            "\n",
            "train_loss_epoch: 4.2216105461120605\n"
          ]
        },
        {
          "output_type": "stream",
          "name": "stderr",
          "text": [
            "100%|██████████| 53/53 [00:00<00:00, 92.40it/s] \n"
          ]
        },
        {
          "output_type": "stream",
          "name": "stdout",
          "text": [
            "\n",
            "mse: 6.7586259841918945\n",
            "\n",
            "mae: 2.1948928833007812\n",
            "\n",
            "eval_loss_epoch: 6.758625030517578\n",
            "\n",
            "rmse: 2.599735752762556\n",
            "\n",
            "Improvement of 0.008338212966918945 observed, resetting counter. \n",
            "Early stopping counter: 0/2\n",
            "\n",
            "Starting epoch 15\n"
          ]
        },
        {
          "output_type": "stream",
          "name": "stderr",
          "text": [
            "100%|██████████| 211/211 [00:02<00:00, 82.26it/s]\n"
          ]
        },
        {
          "output_type": "stream",
          "name": "stdout",
          "text": [
            "\n",
            "train_loss_epoch: 4.098671913146973\n"
          ]
        },
        {
          "output_type": "stream",
          "name": "stderr",
          "text": [
            "100%|██████████| 53/53 [00:00<00:00, 90.61it/s] \n"
          ]
        },
        {
          "output_type": "stream",
          "name": "stdout",
          "text": [
            "\n",
            "mse: 6.683478355407715\n",
            "\n",
            "mae: 2.1756327152252197\n",
            "\n",
            "eval_loss_epoch: 6.683478355407715\n",
            "\n",
            "rmse: 2.5852424171453854\n",
            "\n",
            "Improvement of 0.019260168075561523 observed, resetting counter. \n",
            "Early stopping counter: 0/2\n",
            "\n",
            "Starting epoch 16\n"
          ]
        },
        {
          "output_type": "stream",
          "name": "stderr",
          "text": [
            "100%|██████████| 211/211 [00:02<00:00, 78.31it/s]\n"
          ]
        },
        {
          "output_type": "stream",
          "name": "stdout",
          "text": [
            "\n",
            "train_loss_epoch: 3.9909071922302246\n"
          ]
        },
        {
          "output_type": "stream",
          "name": "stderr",
          "text": [
            "100%|██████████| 53/53 [00:00<00:00, 86.91it/s]\n"
          ]
        },
        {
          "output_type": "stream",
          "name": "stdout",
          "text": [
            "\n",
            "mse: 6.6405768394470215\n",
            "\n",
            "mae: 2.1758360862731934\n",
            "\n",
            "eval_loss_epoch: 6.640575408935547\n",
            "\n",
            "rmse: 2.5769316714742403\n",
            "No improvement above threshold observed, incrementing counter. \n",
            "Early stopping counter: 1/2\n",
            "\n",
            "Starting epoch 17\n"
          ]
        },
        {
          "output_type": "stream",
          "name": "stderr",
          "text": [
            "100%|██████████| 211/211 [00:02<00:00, 80.59it/s]\n"
          ]
        },
        {
          "output_type": "stream",
          "name": "stdout",
          "text": [
            "\n",
            "train_loss_epoch: 3.881601572036743\n"
          ]
        },
        {
          "output_type": "stream",
          "name": "stderr",
          "text": [
            "100%|██████████| 53/53 [00:00<00:00, 58.53it/s]\n"
          ]
        },
        {
          "output_type": "stream",
          "name": "stdout",
          "text": [
            "\n",
            "mse: 6.605065822601318\n",
            "\n",
            "mae: 2.1657049655914307\n",
            "\n",
            "eval_loss_epoch: 6.605065822601318\n",
            "\n",
            "rmse: 2.5700322610039974\n",
            "\n",
            "Improvement of 0.009927749633789062 observed, resetting counter. \n",
            "Early stopping counter: 0/2\n",
            "\n",
            "Starting epoch 18\n"
          ]
        },
        {
          "output_type": "stream",
          "name": "stderr",
          "text": [
            "100%|██████████| 211/211 [00:03<00:00, 62.57it/s]\n"
          ]
        },
        {
          "output_type": "stream",
          "name": "stdout",
          "text": [
            "\n",
            "train_loss_epoch: 3.7642693519592285\n"
          ]
        },
        {
          "output_type": "stream",
          "name": "stderr",
          "text": [
            "100%|██████████| 53/53 [00:00<00:00, 87.23it/s]\n"
          ]
        },
        {
          "output_type": "stream",
          "name": "stdout",
          "text": [
            "\n",
            "mse: 6.544286727905273\n",
            "\n",
            "mae: 2.1547601222991943\n",
            "\n",
            "eval_loss_epoch: 6.544285297393799\n",
            "\n",
            "rmse: 2.5581803548431203\n",
            "\n",
            "Improvement of 0.010944843292236328 observed, resetting counter. \n",
            "Early stopping counter: 0/2\n",
            "\n",
            "Starting epoch 19\n"
          ]
        },
        {
          "output_type": "stream",
          "name": "stderr",
          "text": [
            "100%|██████████| 211/211 [00:04<00:00, 49.21it/s]\n"
          ]
        },
        {
          "output_type": "stream",
          "name": "stdout",
          "text": [
            "\n",
            "train_loss_epoch: 3.6997902393341064\n"
          ]
        },
        {
          "output_type": "stream",
          "name": "stderr",
          "text": [
            "100%|██████████| 53/53 [00:00<00:00, 89.60it/s] \n"
          ]
        },
        {
          "output_type": "stream",
          "name": "stdout",
          "text": [
            "\n",
            "mse: 6.47628116607666\n",
            "\n",
            "mae: 2.1392552852630615\n",
            "\n",
            "eval_loss_epoch: 6.47628116607666\n",
            "\n",
            "rmse: 2.5448538594734003\n",
            "\n",
            "Improvement of 0.015504837036132812 observed, resetting counter. \n",
            "Early stopping counter: 0/2\n",
            "\n",
            "Starting epoch 20\n"
          ]
        },
        {
          "output_type": "stream",
          "name": "stderr",
          "text": [
            "100%|██████████| 211/211 [00:02<00:00, 81.80it/s]\n"
          ]
        },
        {
          "output_type": "stream",
          "name": "stdout",
          "text": [
            "\n",
            "train_loss_epoch: 3.597606658935547\n"
          ]
        },
        {
          "output_type": "stream",
          "name": "stderr",
          "text": [
            "100%|██████████| 53/53 [00:00<00:00, 88.54it/s] \n"
          ]
        },
        {
          "output_type": "stream",
          "name": "stdout",
          "text": [
            "\n",
            "mse: 6.441675662994385\n",
            "\n",
            "mae: 2.130706548690796\n",
            "\n",
            "eval_loss_epoch: 6.441675186157227\n",
            "\n",
            "rmse: 2.5380456384774455\n",
            "\n",
            "Improvement of 0.008548736572265625 observed, resetting counter. \n",
            "Early stopping counter: 0/2\n",
            "\n",
            "Starting epoch 21\n"
          ]
        },
        {
          "output_type": "stream",
          "name": "stderr",
          "text": [
            "100%|██████████| 211/211 [00:05<00:00, 41.87it/s]\n"
          ]
        },
        {
          "output_type": "stream",
          "name": "stdout",
          "text": [
            "\n",
            "train_loss_epoch: 3.518389940261841\n"
          ]
        },
        {
          "output_type": "stream",
          "name": "stderr",
          "text": [
            "100%|██████████| 53/53 [00:00<00:00, 87.48it/s]\n"
          ]
        },
        {
          "output_type": "stream",
          "name": "stdout",
          "text": [
            "\n",
            "mse: 6.4119391441345215\n",
            "\n",
            "mae: 2.128392457962036\n",
            "\n",
            "eval_loss_epoch: 6.4119391441345215\n",
            "\n",
            "rmse: 2.532180709217753\n",
            "\n",
            "Improvement of 0.0023140907287597656 observed, resetting counter. \n",
            "Early stopping counter: 0/2\n",
            "\n",
            "Starting epoch 22\n"
          ]
        },
        {
          "output_type": "stream",
          "name": "stderr",
          "text": [
            "100%|██████████| 211/211 [00:02<00:00, 79.71it/s]\n"
          ]
        },
        {
          "output_type": "stream",
          "name": "stdout",
          "text": [
            "\n",
            "train_loss_epoch: 3.4092509746551514\n"
          ]
        },
        {
          "output_type": "stream",
          "name": "stderr",
          "text": [
            "100%|██████████| 53/53 [00:00<00:00, 92.18it/s] \n"
          ]
        },
        {
          "output_type": "stream",
          "name": "stdout",
          "text": [
            "\n",
            "mse: 6.385104656219482\n",
            "\n",
            "mae: 2.124478816986084\n",
            "\n",
            "eval_loss_epoch: 6.385104179382324\n",
            "\n",
            "rmse: 2.5268764623976936\n",
            "\n",
            "Improvement of 0.0039136409759521484 observed, resetting counter. \n",
            "Early stopping counter: 0/2\n",
            "\n",
            "Starting epoch 23\n"
          ]
        },
        {
          "output_type": "stream",
          "name": "stderr",
          "text": [
            "100%|██████████| 211/211 [00:02<00:00, 81.11it/s]\n"
          ]
        },
        {
          "output_type": "stream",
          "name": "stdout",
          "text": [
            "\n",
            "train_loss_epoch: 3.3213562965393066\n"
          ]
        },
        {
          "output_type": "stream",
          "name": "stderr",
          "text": [
            "100%|██████████| 53/53 [00:00<00:00, 78.85it/s]\n"
          ]
        },
        {
          "output_type": "stream",
          "name": "stdout",
          "text": [
            "\n",
            "mse: 6.3477783203125\n",
            "\n",
            "mae: 2.1154115200042725\n",
            "\n",
            "eval_loss_epoch: 6.347777843475342\n",
            "\n",
            "rmse: 2.5194797717609285\n",
            "\n",
            "Improvement of 0.009067296981811523 observed, resetting counter. \n",
            "Early stopping counter: 0/2\n",
            "\n",
            "Starting epoch 24\n"
          ]
        },
        {
          "output_type": "stream",
          "name": "stderr",
          "text": [
            "100%|██████████| 211/211 [00:03<00:00, 59.13it/s]\n"
          ]
        },
        {
          "output_type": "stream",
          "name": "stdout",
          "text": [
            "\n",
            "train_loss_epoch: 3.252253293991089\n"
          ]
        },
        {
          "output_type": "stream",
          "name": "stderr",
          "text": [
            "100%|██████████| 53/53 [00:00<00:00, 70.88it/s]\n"
          ]
        },
        {
          "output_type": "stream",
          "name": "stdout",
          "text": [
            "\n",
            "mse: 6.327012062072754\n",
            "\n",
            "mae: 2.1141648292541504\n",
            "\n",
            "eval_loss_epoch: 6.327012538909912\n",
            "\n",
            "rmse: 2.5153552556394003\n",
            "\n",
            "Improvement of 0.0012466907501220703 observed, resetting counter. \n",
            "Early stopping counter: 0/2\n",
            "\n",
            "Starting epoch 25\n"
          ]
        },
        {
          "output_type": "stream",
          "name": "stderr",
          "text": [
            "100%|██████████| 211/211 [00:02<00:00, 82.17it/s]\n"
          ]
        },
        {
          "output_type": "stream",
          "name": "stdout",
          "text": [
            "\n",
            "train_loss_epoch: 3.1744186878204346\n"
          ]
        },
        {
          "output_type": "stream",
          "name": "stderr",
          "text": [
            "100%|██████████| 53/53 [00:00<00:00, 89.56it/s] \n"
          ]
        },
        {
          "output_type": "stream",
          "name": "stdout",
          "text": [
            "\n",
            "mse: 6.299606800079346\n",
            "\n",
            "mae: 2.107696056365967\n",
            "\n",
            "eval_loss_epoch: 6.299607753753662\n",
            "\n",
            "rmse: 2.5099017510809754\n",
            "\n",
            "Improvement of 0.006468772888183594 observed, resetting counter. \n",
            "Early stopping counter: 0/2\n",
            "\n",
            "Starting epoch 26\n"
          ]
        },
        {
          "output_type": "stream",
          "name": "stderr",
          "text": [
            "100%|██████████| 211/211 [00:02<00:00, 80.50it/s]\n"
          ]
        },
        {
          "output_type": "stream",
          "name": "stdout",
          "text": [
            "\n",
            "train_loss_epoch: 3.0907294750213623\n"
          ]
        },
        {
          "output_type": "stream",
          "name": "stderr",
          "text": [
            "100%|██████████| 53/53 [00:00<00:00, 92.65it/s] \n"
          ]
        },
        {
          "output_type": "stream",
          "name": "stdout",
          "text": [
            "\n",
            "mse: 6.294556617736816\n",
            "\n",
            "mae: 2.1065545082092285\n",
            "\n",
            "eval_loss_epoch: 6.294556617736816\n",
            "\n",
            "rmse: 2.508895497571953\n",
            "\n",
            "Improvement of 0.0011415481567382812 observed, resetting counter. \n",
            "Early stopping counter: 0/2\n",
            "\n",
            "Starting epoch 27\n"
          ]
        },
        {
          "output_type": "stream",
          "name": "stderr",
          "text": [
            "100%|██████████| 211/211 [00:02<00:00, 81.62it/s]\n"
          ]
        },
        {
          "output_type": "stream",
          "name": "stdout",
          "text": [
            "\n",
            "train_loss_epoch: 3.0074310302734375\n"
          ]
        },
        {
          "output_type": "stream",
          "name": "stderr",
          "text": [
            "100%|██████████| 53/53 [00:00<00:00, 84.27it/s] \n"
          ]
        },
        {
          "output_type": "stream",
          "name": "stdout",
          "text": [
            "\n",
            "mse: 6.282909870147705\n",
            "\n",
            "mae: 2.104111433029175\n",
            "\n",
            "eval_loss_epoch: 6.282910346984863\n",
            "\n",
            "rmse: 2.506573332290062\n",
            "\n",
            "Improvement of 0.002443075180053711 observed, resetting counter. \n",
            "Early stopping counter: 0/2\n",
            "\n",
            "Starting epoch 28\n"
          ]
        },
        {
          "output_type": "stream",
          "name": "stderr",
          "text": [
            "100%|██████████| 211/211 [00:03<00:00, 57.44it/s]\n"
          ]
        },
        {
          "output_type": "stream",
          "name": "stdout",
          "text": [
            "\n",
            "train_loss_epoch: 2.944528818130493\n"
          ]
        },
        {
          "output_type": "stream",
          "name": "stderr",
          "text": [
            "100%|██████████| 53/53 [00:00<00:00, 90.17it/s] \n"
          ]
        },
        {
          "output_type": "stream",
          "name": "stdout",
          "text": [
            "\n",
            "mse: 6.280369758605957\n",
            "\n",
            "mae: 2.103533983230591\n",
            "\n",
            "eval_loss_epoch: 6.280368804931641\n",
            "\n",
            "rmse: 2.506066591015881\n",
            "No improvement above threshold observed, incrementing counter. \n",
            "Early stopping counter: 1/2\n",
            "\n",
            "Starting epoch 29\n"
          ]
        },
        {
          "output_type": "stream",
          "name": "stderr",
          "text": [
            "100%|██████████| 211/211 [00:02<00:00, 78.61it/s]\n"
          ]
        },
        {
          "output_type": "stream",
          "name": "stdout",
          "text": [
            "\n",
            "train_loss_epoch: 2.9146580696105957\n"
          ]
        },
        {
          "output_type": "stream",
          "name": "stderr",
          "text": [
            "100%|██████████| 53/53 [00:00<00:00, 88.92it/s]"
          ]
        },
        {
          "output_type": "stream",
          "name": "stdout",
          "text": [
            "\n",
            "mse: 6.279554843902588\n",
            "\n",
            "mae: 2.1033358573913574\n",
            "\n",
            "eval_loss_epoch: 6.279555320739746\n",
            "\n",
            "rmse: 2.505903997343591\n",
            "No improvement above threshold observed, incrementing counter. \n",
            "Early stopping counter: 2/2\n",
            "Stopping training due to no improvement after 2 epochs\n",
            "Finishing training run\n",
            "Loading checkpoint with mae: 2.1033358573913574 from epoch 29\n"
          ]
        },
        {
          "output_type": "stream",
          "name": "stderr",
          "text": [
            "\n"
          ]
        }
      ]
    },
    {
      "cell_type": "markdown",
      "source": [
        "Сравнивая результат с базовой моделью, видим, что улучшения нет"
      ],
      "metadata": {
        "id": "aufGr4-aCl8c"
      }
    },
    {
      "cell_type": "markdown",
      "source": [
        "**Последовательные рекомендации с использованием transformer**"
      ],
      "metadata": {
        "id": "A6_ISwyuCv7t"
      }
    },
    {
      "cell_type": "markdown",
      "source": [
        "Используя матричную факторизацию, мы рассматриваем каждый рейтинг как независимый от окружающих его рейтингов; однако включение информации о других курсах может дать дополнительный сигнал, который может повысить производительность. Один из способов приблизиться к этому — использовать сеть преобразователей, в частности часть кодера, для кодирования дополнительного контекста в изученные вложения для каждого фильма, а затем использовать полностью подключенную нейронную сеть для прогнозирования рейтингов."
      ],
      "metadata": {
        "id": "vyKqVDTGLS3U"
      }
    },
    {
      "cell_type": "markdown",
      "source": [
        "**Pre-processing**"
      ],
      "metadata": {
        "id": "7CQaIfrNLeCW"
      }
    },
    {
      "cell_type": "markdown",
      "source": [
        "Отсортируем список по времени для каждого пользователя"
      ],
      "metadata": {
        "id": "ul7_Yz_HLfe_"
      }
    },
    {
      "cell_type": "code",
      "source": [
        "grouped_ratings = ratings_df.sort_values(by='unix_timestamp').groupby('user_id').agg(tuple).reset_index()"
      ],
      "metadata": {
        "id": "7Pr-hLe4zxnq"
      },
      "execution_count": 31,
      "outputs": []
    },
    {
      "cell_type": "code",
      "source": [
        "grouped_ratings['num_ratings'] = grouped_ratings['rating'].apply(lambda row: len(row))"
      ],
      "metadata": {
        "id": "Xkz38k9Ezz_D"
      },
      "execution_count": 32,
      "outputs": []
    },
    {
      "cell_type": "code",
      "source": [
        "grouped_ratings['num_ratings'].max()"
      ],
      "metadata": {
        "id": "Oqvm9dh_hDxS",
        "colab": {
          "base_uri": "https://localhost:8080/"
        },
        "outputId": "e8f12a3c-bd70-4ab8-b16c-f98f1abaebd1"
      },
      "execution_count": 33,
      "outputs": [
        {
          "output_type": "execute_result",
          "data": {
            "text/plain": [
              "24"
            ]
          },
          "metadata": {},
          "execution_count": 33
        }
      ]
    },
    {
      "cell_type": "code",
      "source": [
        "grouped_ratings['num_ratings'].plot.hist()"
      ],
      "metadata": {
        "id": "tnmmLIqphFt8",
        "colab": {
          "base_uri": "https://localhost:8080/",
          "height": 447
        },
        "outputId": "70e574bb-8080-4377-8d67-23eba0843fd1"
      },
      "execution_count": 34,
      "outputs": [
        {
          "output_type": "execute_result",
          "data": {
            "text/plain": [
              "<Axes: ylabel='Frequency'>"
            ]
          },
          "metadata": {},
          "execution_count": 34
        },
        {
          "output_type": "display_data",
          "data": {
            "text/plain": [
              "<Figure size 640x480 with 1 Axes>"
            ],
            "image/png": "[encoded data removed]"
          },
          "metadata": {}
        }
      ]
    },
    {
      "cell_type": "markdown",
      "source": [
        "Теперь, когда мы сгруппировали все оценки каждого пользователя, давайте разделим их на более мелкие последовательности. Чтобы максимально эффективно использовать данные, мы хотели бы, чтобы модель имела возможность прогнозировать рейтинг каждого фильма в обучающем наборе. Для этого давайте укажем длину последовательности s и будем использовать предыдущие рейтинги s-1 в качестве нашей пользовательской истории.\n",
        "\n",
        "Поскольку модель ожидает, что каждая последовательность будет иметь фиксированную длину, мы заполним пустые места маркером заполнения, чтобы последовательности можно было группировать и передавать в модель. Давайте создадим функцию для этого.\n",
        "\n",
        "Здесь мы произвольно выберем длину 10."
      ],
      "metadata": {
        "id": "Y3mElCjkL0HR"
      }
    },
    {
      "cell_type": "code",
      "source": [
        "sequence_length = 10"
      ],
      "metadata": {
        "id": "hSt2_efrz22h"
      },
      "execution_count": 35,
      "outputs": []
    },
    {
      "cell_type": "code",
      "source": [
        "def create_sequences(values, sequence_length):\n",
        "    sequences = []\n",
        "    for i, v in enumerate(values):\n",
        "        seq = values[:i+1]\n",
        "        if len(seq) > sequence_length:\n",
        "            seq = seq[i-sequence_length+1:i+1]\n",
        "        elif len(seq) < sequence_length:\n",
        "            seq =(*(['[PAD]'] * (sequence_length - len(seq))), *seq)\n",
        "\n",
        "        sequences.append(seq)\n",
        "    return sequences\n"
      ],
      "metadata": {
        "id": "cDICdEgpz4l6"
      },
      "execution_count": 36,
      "outputs": []
    },
    {
      "cell_type": "code",
      "source": [
        "grouped_ratings.iloc[0]['title'][:10]"
      ],
      "metadata": {
        "colab": {
          "base_uri": "https://localhost:8080/"
        },
        "id": "b6_VQA_b0N6I",
        "outputId": "977a7ce4-f1b1-48bb-83f7-2d216032b91c"
      },
      "execution_count": 37,
      "outputs": [
        {
          "output_type": "execute_result",
          "data": {
            "text/plain": [
              "('Построение долгосрочных отношений с клиентами: Техники и методы',\n",
              " 'Использование эмоционального интеллекта в общении с клиентами',\n",
              " 'Основы психологии клиентского обслуживания',\n",
              " 'Развитие навыков эмпатии в клиентском обслуживании',\n",
              " 'Эффективное планирование и организация работы в клиентском сервисе')"
            ]
          },
          "metadata": {},
          "execution_count": 37
        }
      ]
    },
    {
      "cell_type": "code",
      "source": [
        "create_sequences(grouped_ratings.iloc[0]['title'][:10], 3)"
      ],
      "metadata": {
        "colab": {
          "base_uri": "https://localhost:8080/"
        },
        "id": "firo3N4d0Q9T",
        "outputId": "7cd63ecd-19c4-4414-c523-9f01439e8f8c"
      },
      "execution_count": 38,
      "outputs": [
        {
          "output_type": "execute_result",
          "data": {
            "text/plain": [
              "[('[PAD]',\n",
              "  '[PAD]',\n",
              "  'Построение долгосрочных отношений с клиентами: Техники и методы'),\n",
              " ('[PAD]',\n",
              "  'Построение долгосрочных отношений с клиентами: Техники и методы',\n",
              "  'Использование эмоционального интеллекта в общении с клиентами'),\n",
              " ('Построение долгосрочных отношений с клиентами: Техники и методы',\n",
              "  'Использование эмоционального интеллекта в общении с клиентами',\n",
              "  'Основы психологии клиентского обслуживания'),\n",
              " ('Использование эмоционального интеллекта в общении с клиентами',\n",
              "  'Основы психологии клиентского обслуживания',\n",
              "  'Развитие навыков эмпатии в клиентском обслуживании'),\n",
              " ('Основы психологии клиентского обслуживания',\n",
              "  'Развитие навыков эмпатии в клиентском обслуживании',\n",
              "  'Эффективное планирование и организация работы в клиентском сервисе')]"
            ]
          },
          "metadata": {},
          "execution_count": 38
        }
      ]
    },
    {
      "cell_type": "code",
      "source": [
        "grouped_cols = ['title', 'rating', 'unix_timestamp', 'is_valid']\n",
        "for col in grouped_cols:\n",
        "    grouped_ratings[col] = grouped_ratings[col].apply(lambda x: create_sequences(x, sequence_length))"
      ],
      "metadata": {
        "id": "HzDTEerK0T_H"
      },
      "execution_count": 39,
      "outputs": []
    },
    {
      "cell_type": "markdown",
      "source": [
        "В настоящее время у нас есть одна строка, содержащая все последовательности для определенного пользователя. Однако во время обучения нам хотелось бы создавать пакеты, состоящие из последовательностей от разных пользователей. Для этого нам придется преобразовать данные так, чтобы каждая последовательность имела свою строку, оставаясь при этом связанной с идентификатором пользователя. Мы можем использовать функцию «развернуть» pandas для каждой функции, а затем агрегировать эти DataFrames вместе."
      ],
      "metadata": {
        "id": "VaH8GrOzL_-C"
      }
    },
    {
      "cell_type": "code",
      "source": [
        "exploded_ratings = grouped_ratings[['user_id', 'title']].explode('title', ignore_index=True)\n",
        "dfs = [grouped_ratings[[col]].explode(col, ignore_index=True) for col in grouped_cols[1:]]\n",
        "seq_df = pd.concat([exploded_ratings, *dfs], axis=1)"
      ],
      "metadata": {
        "id": "3xx-kghL0YKZ"
      },
      "execution_count": 40,
      "outputs": []
    },
    {
      "cell_type": "markdown",
      "source": [
        "Теперь мы видим, что каждая последовательность имеет свою собственную строку. Однако для столбца is_valid нас не интересует вся последовательность, нам нужно только последнее значение, поскольку это курс, для которого мы будем пытаться предсказать рейтинг. Давайте создадим функцию для извлечения этого значения и применения его к этим столбцам."
      ],
      "metadata": {
        "id": "lnc15ekQMH6X"
      }
    },
    {
      "cell_type": "code",
      "source": [
        "def get_last_entry(sequence):\n",
        "    return sequence[-1]\n",
        "\n",
        "seq_df['is_valid'] = seq_df['is_valid'].apply(get_last_entry)"
      ],
      "metadata": {
        "id": "eLNXEeLZ0bO2"
      },
      "execution_count": 41,
      "outputs": []
    },
    {
      "cell_type": "code",
      "source": [
        "seq_df['target_rating'] = seq_df['rating'].apply(get_last_entry)\n",
        "seq_df['previous_ratings'] = seq_df['rating'].apply(lambda seq: seq[:-1])\n",
        "seq_df.drop(columns=['rating'], inplace=True)"
      ],
      "metadata": {
        "id": "ZZXkXSkK0dnf"
      },
      "execution_count": 42,
      "outputs": []
    },
    {
      "cell_type": "markdown",
      "source": [
        "Чтобы модель не включала маркеры заполнения при вычислении оценок внимания, мы можем предоставить преобразователю маску внимания; маска должна быть «True» для маркера заполнения и «False» в противном случае. Давайте посчитаем это для каждой строки, а также создадим столбец, чтобы показать количество присутствующих токенов заполнения."
      ],
      "metadata": {
        "id": "Lmfm0FqKMUl6"
      }
    },
    {
      "cell_type": "code",
      "source": [
        "seq_df['pad_mask'] = seq_df['title'].apply(lambda x: (np.array(x) == '[PAD]'))\n",
        "seq_df['num_pads'] = seq_df['pad_mask'].apply(sum)\n",
        "seq_df['pad_mask'] = seq_df['pad_mask'].apply(lambda x: x.tolist())"
      ],
      "metadata": {
        "id": "jJfmQN6j0fR7"
      },
      "execution_count": 43,
      "outputs": []
    },
    {
      "cell_type": "code",
      "source": [
        "train_seq_df = seq_df[seq_df.is_valid == False]\n",
        "valid_seq_df = seq_df[seq_df.is_valid == True]"
      ],
      "metadata": {
        "id": "X2m1QWX-0hgL"
      },
      "execution_count": 44,
      "outputs": []
    },
    {
      "cell_type": "markdown",
      "source": [
        "**Training**"
      ],
      "metadata": {
        "id": "lZZaeCKtMabj"
      }
    },
    {
      "cell_type": "markdown",
      "source": [
        "прежде чем мы сможем передать эти данные в модель, нам необходимо создать справочные таблицы для кодирования наших курсов и пользователей. Однако на этот раз нам нужно включить токен заполнения в наш поиск курса"
      ],
      "metadata": {
        "id": "6vfX-JUyMiZa"
      }
    },
    {
      "cell_type": "code",
      "source": [
        "user_lookup = {v: i+1 for i, v in enumerate(ratings_df['user_id'].unique())}"
      ],
      "metadata": {
        "id": "H0PzyrgT0j8E"
      },
      "execution_count": 45,
      "outputs": []
    },
    {
      "cell_type": "code",
      "source": [
        "def create_feature_lookup(df, feature):\n",
        "    lookup = {v: i+1 for i, v in enumerate(df[feature].unique())}\n",
        "    lookup['[PAD]'] = 0\n",
        "    return lookup"
      ],
      "metadata": {
        "id": "Vi1d2tD30mCu"
      },
      "execution_count": 46,
      "outputs": []
    },
    {
      "cell_type": "code",
      "source": [
        "course_lookup = create_feature_lookup(ratings_df, 'title')"
      ],
      "metadata": {
        "id": "SRqSAK1z0oqX"
      },
      "execution_count": 47,
      "outputs": []
    },
    {
      "cell_type": "markdown",
      "source": [
        "Сейчас мы имеем дело с последовательностями рейтингов, а не с отдельными, поэтому нам нужно будет создать новый набор данных, чтобы обернуть наш обработанный DataFrame:"
      ],
      "metadata": {
        "id": "4z5Ds9rzMtDY"
      }
    },
    {
      "cell_type": "code",
      "source": [
        "class CourseSequenceDataset(Dataset):\n",
        "    def __init__(self, df, course_lookup, user_lookup):\n",
        "        super().__init__()\n",
        "        self.df = df\n",
        "        self.course_lookup = course_lookup\n",
        "        self.user_lookup = user_lookup\n",
        "\n",
        "    def __len__(self):\n",
        "        return len(self.df)\n",
        "\n",
        "    def __getitem__(self, index):\n",
        "        data = self.df.iloc[index]\n",
        "        user_id = self.user_lookup[str(data.user_id)]\n",
        "        course_ids = torch.tensor([self.course_lookup[title] for title in data.title])\n",
        "\n",
        "        previous_ratings = torch.tensor(\n",
        "            [rating if rating != \"[PAD]\" else 0 for rating in data.previous_ratings]\n",
        "        )\n",
        "\n",
        "        attention_mask = torch.tensor(data.pad_mask)\n",
        "        target_rating = data.target_rating\n",
        "        encoded_features = {\n",
        "            \"user_id\": user_id,\n",
        "            \"course_ids\": course_ids,\n",
        "            \"ratings\": previous_ratings,\n",
        "        }\n",
        "\n",
        "        return (encoded_features, attention_mask), torch.tensor(\n",
        "            target_rating, dtype=torch.float32\n",
        "        )\n"
      ],
      "metadata": {
        "id": "L1Cp0UHV0VNy"
      },
      "execution_count": 48,
      "outputs": []
    },
    {
      "cell_type": "code",
      "source": [
        "train_dataset = CourseSequenceDataset(train_seq_df, course_lookup, user_lookup)\n",
        "valid_dataset = CourseSequenceDataset(valid_seq_df, course_lookup, user_lookup)"
      ],
      "metadata": {
        "id": "SJZzOT900tPW"
      },
      "execution_count": 49,
      "outputs": []
    },
    {
      "cell_type": "code",
      "source": [
        "train_seq_df.target_rating.unique()"
      ],
      "metadata": {
        "colab": {
          "base_uri": "https://localhost:8080/"
        },
        "id": "OlYhOgZY6gsP",
        "outputId": "638c0c2c-3bd1-4a7d-f620-abd14e19303e"
      },
      "execution_count": 50,
      "outputs": [
        {
          "output_type": "execute_result",
          "data": {
            "text/plain": [
              "array([5, 2, 3, 4, 1])"
            ]
          },
          "metadata": {},
          "execution_count": 50
        }
      ]
    },
    {
      "cell_type": "code",
      "source": [
        "train_seq_df.previous_ratings"
      ],
      "metadata": {
        "colab": {
          "base_uri": "https://localhost:8080/"
        },
        "id": "DbBGa_rMKgzX",
        "outputId": "25defff8-9d2c-4c16-b2c7-b061b76f50aa"
      },
      "execution_count": 51,
      "outputs": [
        {
          "output_type": "execute_result",
          "data": {
            "text/plain": [
              "0       ([PAD], [PAD], [PAD], [PAD], [PAD], [PAD], [PA...\n",
              "1       ([PAD], [PAD], [PAD], [PAD], [PAD], [PAD], [PA...\n",
              "2       ([PAD], [PAD], [PAD], [PAD], [PAD], [PAD], [PA...\n",
              "3       ([PAD], [PAD], [PAD], [PAD], [PAD], [PAD], 5, ...\n",
              "5       ([PAD], [PAD], [PAD], [PAD], [PAD], [PAD], [PA...\n",
              "                              ...                        \n",
              "8398    ([PAD], [PAD], [PAD], [PAD], [PAD], [PAD], [PA...\n",
              "8399    ([PAD], [PAD], [PAD], [PAD], [PAD], [PAD], [PA...\n",
              "8400    ([PAD], [PAD], [PAD], [PAD], [PAD], [PAD], 5, ...\n",
              "8401      ([PAD], [PAD], [PAD], [PAD], [PAD], 5, 5, 5, 5)\n",
              "8402          ([PAD], [PAD], [PAD], [PAD], 5, 5, 5, 5, 5)\n",
              "Name: previous_ratings, Length: 6727, dtype: object"
            ]
          },
          "metadata": {},
          "execution_count": 51
        }
      ]
    },
    {
      "cell_type": "markdown",
      "source": [
        "Для начала, учитывая, что модель матричной факторизации может обеспечить хорошую производительность, используя только идентификаторы пользователя и фильма, давайте пока включим только эту информацию."
      ],
      "metadata": {
        "id": "5sFdOq4sMz8N"
      }
    },
    {
      "cell_type": "code",
      "source": [
        "class BstTransformer(nn.Module):\n",
        "    def __init__(\n",
        "        self,\n",
        "        courses_num_unique,\n",
        "        users_num_unique,\n",
        "        sequence_length=10,\n",
        "        embedding_size=120,\n",
        "        num_transformer_layers=1,\n",
        "        ratings_range=(0.5, 5.5),\n",
        "    ):\n",
        "        super().__init__()\n",
        "        self.sequence_length = sequence_length\n",
        "        self.y_range = ratings_range\n",
        "        self.courses_embeddings = nn.Embedding(\n",
        "            courses_num_unique + 1, embedding_size, padding_idx=0\n",
        "        )\n",
        "        self.user_embeddings = nn.Embedding(users_num_unique + 1, embedding_size)\n",
        "        self.position_embeddings = nn.Embedding(sequence_length, embedding_size)\n",
        "\n",
        "        self.encoder = nn.TransformerEncoder(\n",
        "            encoder_layer=nn.TransformerEncoderLayer(\n",
        "                d_model=embedding_size,\n",
        "                nhead=12,\n",
        "                dropout=0.1,\n",
        "                batch_first=True,\n",
        "                activation=\"gelu\",\n",
        "            ),\n",
        "            num_layers=num_transformer_layers,\n",
        "        )\n",
        "\n",
        "        self.linear = nn.Sequential(\n",
        "            nn.Linear(\n",
        "                embedding_size + (embedding_size * sequence_length),\n",
        "                1024,\n",
        "            ),\n",
        "            nn.BatchNorm1d(1024),\n",
        "            nn.Mish(),\n",
        "            nn.Linear(1024, 512),\n",
        "            nn.BatchNorm1d(512),\n",
        "            nn.Mish(),\n",
        "            nn.Dropout(0.2),\n",
        "            nn.Linear(512, 256),\n",
        "            nn.BatchNorm1d(256),\n",
        "            nn.Mish(),\n",
        "            nn.Linear(256, 1),\n",
        "            nn.Sigmoid(),\n",
        "        )\n",
        "\n",
        "    def forward(self, inputs):\n",
        "        features, mask = inputs\n",
        "\n",
        "        encoded_user_id = self.user_embeddings(features[\"user_id\"])\n",
        "\n",
        "        user_features = encoded_user_id\n",
        "\n",
        "        encoded_courses = self.courses_embeddings(features[\"course_ids\"])\n",
        "\n",
        "        positions = torch.arange(\n",
        "            0, self.sequence_length, 1, dtype=int, device=features[\"course_ids\"].device\n",
        "        )\n",
        "        positions = self.position_embeddings(positions)\n",
        "\n",
        "        transformer_features = encoded_courses + positions\n",
        "\n",
        "        transformer_output = self.encoder(\n",
        "            transformer_features, src_key_padding_mask=mask\n",
        "        )\n",
        "        transformer_output = torch.flatten(transformer_output, start_dim=1)\n",
        "\n",
        "        combined_output = torch.cat((transformer_output, user_features), dim=1)\n",
        "\n",
        "        rating = self.linear(combined_output)\n",
        "        rating = rating.squeeze()\n",
        "        if self.y_range is None:\n",
        "            return rating\n",
        "        else:\n",
        "            return rating * (self.y_range[1] - self.y_range[0]) + self.y_range[0]\n"
      ],
      "metadata": {
        "id": "V7rlxrP_0vQr"
      },
      "execution_count": 52,
      "outputs": []
    },
    {
      "cell_type": "markdown",
      "source": [
        "Мы видим, что по умолчанию мы помещаем нашу последовательность вложений курсов в один слой преобразователя, а затем объединяем выходные данные с пользовательскими функциями здесь, только идентификатор пользователя и используем это в качестве входных данных для полностью подключенной сети. Здесь мы используем только простое позиционное кодирование, которое обучено представлять последовательность, в которой оценивались курсы; использование подхода, основанного на синусоидах и косинусах, не принесло никакой пользы.\n",
        "\n",
        "Еще раз давайте определим обучающую функцию для этой модели; за исключением инициализации модели, она идентична той, которую мы использовали для обучения модели матричной факторизации."
      ],
      "metadata": {
        "id": "eEPIdnJAM691"
      }
    },
    {
      "cell_type": "code",
      "source": [
        "def train_seq_model():\n",
        "    model = BstTransformer(\n",
        "        len(course_lookup), len(user_lookup), sequence_length, embedding_size=120\n",
        "    )\n",
        "    loss_func = torch.nn.MSELoss()\n",
        "\n",
        "    optimizer = torch.optim.AdamW(model.parameters(), lr=0.01)\n",
        "\n",
        "    create_sched_fn = partial(\n",
        "        torch.optim.lr_scheduler.OneCycleLR,\n",
        "        max_lr=0.01,\n",
        "        epochs=TrainerPlaceholderValues.NUM_EPOCHS,\n",
        "        steps_per_epoch=TrainerPlaceholderValues.NUM_UPDATE_STEPS_PER_EPOCH,\n",
        "    )\n",
        "\n",
        "    trainer = Trainer(\n",
        "        model=model,\n",
        "        loss_func=loss_func,\n",
        "        optimizer=optimizer,\n",
        "        callbacks=(\n",
        "            RecommenderMetricsCallback,\n",
        "            *DEFAULT_CALLBACKS,\n",
        "            SaveBestModelCallback(watch_metric=\"mae\"),\n",
        "            EarlyStoppingCallback(\n",
        "                early_stopping_patience=2,\n",
        "                early_stopping_threshold=0.001,\n",
        "                watch_metric=\"mae\",\n",
        "            ),\n",
        "        ),\n",
        "    )\n",
        "\n",
        "    trainer.train(\n",
        "        train_dataset=train_dataset,\n",
        "        eval_dataset=valid_dataset,\n",
        "        num_epochs=10,\n",
        "        per_device_batch_size=32,\n",
        "        create_scheduler_fn=create_sched_fn,\n",
        "    )\n"
      ],
      "metadata": {
        "id": "JGqTnIYG0x2X"
      },
      "execution_count": 53,
      "outputs": []
    },
    {
      "cell_type": "code",
      "source": [
        "notebook_launcher(train_seq_model, num_processes=2)"
      ],
      "metadata": {
        "colab": {
          "base_uri": "https://localhost:8080/"
        },
        "id": "vWOnAM_s00VD",
        "outputId": "1c19a425-08f3-43a0-8e60-4dfdba5d9292"
      },
      "execution_count": 54,
      "outputs": [
        {
          "output_type": "stream",
          "name": "stdout",
          "text": [
            "Launching training on one CPU.\n",
            "\n",
            "Starting training run\n",
            "\n",
            "Starting epoch 1\n"
          ]
        },
        {
          "output_type": "stream",
          "name": "stderr",
          "text": [
            "\r  0%|          | 0/211 [00:00<?, ?it/s]/usr/lib/python3.10/multiprocessing/popen_fork.py:66: RuntimeWarning: os.fork() was called. os.fork() is incompatible with multithreaded code, and JAX is multithreaded, so this will likely lead to a deadlock.\n",
            "  self.pid = os.fork()\n",
            "100%|█████████▉| 210/211 [00:25<00:00,  2.88it/s]/usr/lib/python3.10/multiprocessing/popen_fork.py:66: RuntimeWarning: os.fork() was called. os.fork() is incompatible with multithreaded code, and JAX is multithreaded, so this will likely lead to a deadlock.\n",
            "  self.pid = os.fork()\n",
            "100%|██████████| 211/211 [00:25<00:00,  8.14it/s]\n"
          ]
        },
        {
          "output_type": "stream",
          "name": "stdout",
          "text": [
            "\n",
            "train_loss_epoch: 1.9015356302261353\n"
          ]
        },
        {
          "output_type": "stream",
          "name": "stderr",
          "text": [
            "100%|██████████| 53/53 [00:05<00:00,  9.68it/s]\n"
          ]
        },
        {
          "output_type": "stream",
          "name": "stdout",
          "text": [
            "\n",
            "mse: 1.666195273399353\n",
            "\n",
            "mae: 1.0698065757751465\n",
            "\n",
            "eval_loss_epoch: 1.666195273399353\n",
            "\n",
            "rmse: 1.2908118659972696\n",
            "\n",
            "Starting epoch 2\n"
          ]
        },
        {
          "output_type": "stream",
          "name": "stderr",
          "text": [
            "100%|██████████| 211/211 [00:23<00:00,  8.97it/s]\n"
          ]
        },
        {
          "output_type": "stream",
          "name": "stdout",
          "text": [
            "\n",
            "train_loss_epoch: 1.232917308807373\n"
          ]
        },
        {
          "output_type": "stream",
          "name": "stderr",
          "text": [
            "100%|██████████| 53/53 [00:01<00:00, 26.58it/s]\n"
          ]
        },
        {
          "output_type": "stream",
          "name": "stdout",
          "text": [
            "\n",
            "mse: 1.2540837526321411\n",
            "\n",
            "mae: 0.895598292350769\n",
            "\n",
            "eval_loss_epoch: 1.2540838718414307\n",
            "\n",
            "rmse: 1.1198588092398707\n",
            "\n",
            "Improvement of 0.17420828342437744 observed, resetting counter. \n",
            "Early stopping counter: 0/2\n",
            "\n",
            "Starting epoch 3\n"
          ]
        },
        {
          "output_type": "stream",
          "name": "stderr",
          "text": [
            "100%|██████████| 211/211 [00:20<00:00, 10.10it/s]\n"
          ]
        },
        {
          "output_type": "stream",
          "name": "stdout",
          "text": [
            "\n",
            "train_loss_epoch: 0.7605065107345581\n"
          ]
        },
        {
          "output_type": "stream",
          "name": "stderr",
          "text": [
            "100%|██████████| 53/53 [00:01<00:00, 32.13it/s]\n"
          ]
        },
        {
          "output_type": "stream",
          "name": "stdout",
          "text": [
            "\n",
            "mse: 1.237689733505249\n",
            "\n",
            "mae: 0.8906693458557129\n",
            "\n",
            "eval_loss_epoch: 1.237689733505249\n",
            "\n",
            "rmse: 1.1125150486646231\n",
            "\n",
            "Improvement of 0.004928946495056152 observed, resetting counter. \n",
            "Early stopping counter: 0/2\n",
            "\n",
            "Starting epoch 4\n"
          ]
        },
        {
          "output_type": "stream",
          "name": "stderr",
          "text": [
            "100%|██████████| 211/211 [00:21<00:00,  9.64it/s]\n"
          ]
        },
        {
          "output_type": "stream",
          "name": "stdout",
          "text": [
            "\n",
            "train_loss_epoch: 0.5789235830307007\n"
          ]
        },
        {
          "output_type": "stream",
          "name": "stderr",
          "text": [
            "100%|██████████| 53/53 [00:01<00:00, 32.44it/s]\n"
          ]
        },
        {
          "output_type": "stream",
          "name": "stdout",
          "text": [
            "\n",
            "mse: 1.110611915588379\n",
            "\n",
            "mae: 0.8462344408035278\n",
            "\n",
            "eval_loss_epoch: 1.1106117963790894\n",
            "\n",
            "rmse: 1.0538557375601174\n",
            "\n",
            "Improvement of 0.04443490505218506 observed, resetting counter. \n",
            "Early stopping counter: 0/2\n",
            "\n",
            "Starting epoch 5\n"
          ]
        },
        {
          "output_type": "stream",
          "name": "stderr",
          "text": [
            "100%|██████████| 211/211 [00:31<00:00,  6.64it/s]\n"
          ]
        },
        {
          "output_type": "stream",
          "name": "stdout",
          "text": [
            "\n",
            "train_loss_epoch: 0.5150419473648071\n"
          ]
        },
        {
          "output_type": "stream",
          "name": "stderr",
          "text": [
            "100%|██████████| 53/53 [00:02<00:00, 21.53it/s]\n"
          ]
        },
        {
          "output_type": "stream",
          "name": "stdout",
          "text": [
            "\n",
            "mse: 1.1563301086425781\n",
            "\n",
            "mae: 0.8505905270576477\n",
            "\n",
            "eval_loss_epoch: 1.1563302278518677\n",
            "\n",
            "rmse: 1.075327907497326\n",
            "No improvement above threshold observed, incrementing counter. \n",
            "Early stopping counter: 1/2\n",
            "\n",
            "Starting epoch 6\n"
          ]
        },
        {
          "output_type": "stream",
          "name": "stderr",
          "text": [
            "100%|██████████| 211/211 [00:19<00:00, 10.71it/s]\n"
          ]
        },
        {
          "output_type": "stream",
          "name": "stdout",
          "text": [
            "\n",
            "train_loss_epoch: 0.4741964638233185\n"
          ]
        },
        {
          "output_type": "stream",
          "name": "stderr",
          "text": [
            "100%|██████████| 53/53 [00:01<00:00, 33.13it/s]\n"
          ]
        },
        {
          "output_type": "stream",
          "name": "stdout",
          "text": [
            "\n",
            "mse: 1.1226476430892944\n",
            "\n",
            "mae: 0.8163647055625916\n",
            "\n",
            "eval_loss_epoch: 1.1226475238800049\n",
            "\n",
            "rmse: 1.0595506798116334\n",
            "\n",
            "Improvement of 0.02986973524093628 observed, resetting counter. \n",
            "Early stopping counter: 0/2\n",
            "\n",
            "Starting epoch 7\n"
          ]
        },
        {
          "output_type": "stream",
          "name": "stderr",
          "text": [
            "100%|██████████| 211/211 [00:20<00:00, 10.27it/s]\n"
          ]
        },
        {
          "output_type": "stream",
          "name": "stdout",
          "text": [
            "\n",
            "train_loss_epoch: 0.40541842579841614\n"
          ]
        },
        {
          "output_type": "stream",
          "name": "stderr",
          "text": [
            "100%|██████████| 53/53 [00:01<00:00, 32.81it/s]\n"
          ]
        },
        {
          "output_type": "stream",
          "name": "stdout",
          "text": [
            "\n",
            "mse: 1.0693517923355103\n",
            "\n",
            "mae: 0.7872511744499207\n",
            "\n",
            "eval_loss_epoch: 1.0693517923355103\n",
            "\n",
            "rmse: 1.03409467281072\n",
            "\n",
            "Improvement of 0.0291135311126709 observed, resetting counter. \n",
            "Early stopping counter: 0/2\n",
            "\n",
            "Starting epoch 8\n"
          ]
        },
        {
          "output_type": "stream",
          "name": "stderr",
          "text": [
            "100%|██████████| 211/211 [00:20<00:00, 10.30it/s]\n"
          ]
        },
        {
          "output_type": "stream",
          "name": "stdout",
          "text": [
            "\n",
            "train_loss_epoch: 0.36745449900627136\n"
          ]
        },
        {
          "output_type": "stream",
          "name": "stderr",
          "text": [
            "100%|██████████| 53/53 [00:02<00:00, 25.41it/s]\n"
          ]
        },
        {
          "output_type": "stream",
          "name": "stdout",
          "text": [
            "\n",
            "mse: 1.0694233179092407\n",
            "\n",
            "mae: 0.7900968790054321\n",
            "\n",
            "eval_loss_epoch: 1.0694233179092407\n",
            "\n",
            "rmse: 1.034129255900461\n",
            "No improvement above threshold observed, incrementing counter. \n",
            "Early stopping counter: 1/2\n",
            "\n",
            "Starting epoch 9\n"
          ]
        },
        {
          "output_type": "stream",
          "name": "stderr",
          "text": [
            "100%|██████████| 211/211 [00:18<00:00, 11.33it/s]\n"
          ]
        },
        {
          "output_type": "stream",
          "name": "stdout",
          "text": [
            "\n",
            "train_loss_epoch: 0.3212393820285797\n"
          ]
        },
        {
          "output_type": "stream",
          "name": "stderr",
          "text": [
            "100%|██████████| 53/53 [00:01<00:00, 32.74it/s]"
          ]
        },
        {
          "output_type": "stream",
          "name": "stdout",
          "text": [
            "\n",
            "mse: 1.0989314317703247\n",
            "\n",
            "mae: 0.7953154444694519\n",
            "\n",
            "eval_loss_epoch: 1.0989315509796143\n",
            "\n",
            "rmse: 1.048299304478604\n",
            "No improvement above threshold observed, incrementing counter. \n",
            "Early stopping counter: 2/2\n",
            "Stopping training due to no improvement after 2 epochs\n",
            "Finishing training run\n",
            "Loading checkpoint with mae: 0.7872511744499207 from epoch 7\n"
          ]
        },
        {
          "output_type": "stream",
          "name": "stderr",
          "text": [
            "\n"
          ]
        }
      ]
    },
    {
      "cell_type": "markdown",
      "source": [
        "Мы видим, что это значительное улучшение по сравнению с подходом матричной факторизации и базовой моделью"
      ],
      "metadata": {
        "id": "dCWH2GyLNJNn"
      }
    },
    {
      "cell_type": "markdown",
      "source": [
        "**Добавление дополнительных данных**\n",
        "\n",
        "До сих пор для прогнозирования рейтинга мы рассматривали только идентификатор пользователя и последовательность идентификаторов курсов; вполне вероятно, что включение информации о предыдущих оценках пользователя улучшит производительность. К счастью, это легко сделать, и наш набор данных уже возвращает данные. Давайте изменим нашу архитектуру, включив в нее следующее:"
      ],
      "metadata": {
        "id": "J0Fcl90mNOIq"
      }
    },
    {
      "cell_type": "code",
      "source": [
        "class BstTransformer(nn.Module):\n",
        "    def __init__(\n",
        "        self,\n",
        "        courses_num_unique,\n",
        "        users_num_unique,\n",
        "        sequence_length=10,\n",
        "        embedding_size=120,\n",
        "        num_transformer_layers=1,\n",
        "        ratings_range=(0.5, 5.5),\n",
        "    ):\n",
        "        super().__init__()\n",
        "        self.sequence_length = sequence_length\n",
        "        self.y_range = ratings_range\n",
        "        self.courses_embeddings = nn.Embedding(\n",
        "            courses_num_unique + 1, embedding_size, padding_idx=0\n",
        "        )\n",
        "        self.user_embeddings = nn.Embedding(users_num_unique + 1, embedding_size)\n",
        "        self.ratings_embeddings = nn.Embedding(6, embedding_size, padding_idx=0)\n",
        "        self.position_embeddings = nn.Embedding(sequence_length, embedding_size)\n",
        "\n",
        "        self.encoder = nn.TransformerEncoder(\n",
        "            encoder_layer=nn.TransformerEncoderLayer(\n",
        "                d_model=embedding_size,\n",
        "                nhead=12,\n",
        "                dropout=0.1,\n",
        "                batch_first=True,\n",
        "                activation=\"gelu\",\n",
        "            ),\n",
        "            num_layers=num_transformer_layers,\n",
        "        )\n",
        "\n",
        "        self.linear = nn.Sequential(\n",
        "            nn.Linear(\n",
        "                embedding_size + (embedding_size * sequence_length),\n",
        "                1024,\n",
        "            ),\n",
        "            nn.BatchNorm1d(1024),\n",
        "            nn.Mish(),\n",
        "            nn.Linear(1024, 512),\n",
        "            nn.BatchNorm1d(512),\n",
        "            nn.Mish(),\n",
        "            nn.Dropout(0.2),\n",
        "            nn.Linear(512, 256),\n",
        "            nn.BatchNorm1d(256),\n",
        "            nn.Mish(),\n",
        "            nn.Linear(256, 1),\n",
        "            nn.Sigmoid(),\n",
        "        )\n",
        "\n",
        "    def forward(self, inputs):\n",
        "        features, mask = inputs\n",
        "\n",
        "        encoded_user_id = self.user_embeddings(features[\"user_id\"])\n",
        "\n",
        "        user_features = encoded_user_id\n",
        "\n",
        "        course_history = features[\"course_ids\"][:, :-1]\n",
        "        target_course = features[\"course_ids\"][:, -1]\n",
        "\n",
        "        ratings = self.ratings_embeddings(features[\"ratings\"])\n",
        "\n",
        "        encoded_courses = self.courses_embeddings(course_history)\n",
        "        encoded_target_course = self.courses_embeddings(target_course)\n",
        "\n",
        "        positions = torch.arange(\n",
        "            0,\n",
        "            self.sequence_length - 1,\n",
        "            1,\n",
        "            dtype=int,\n",
        "            device=features[\"course_ids\"].device,\n",
        "        )\n",
        "        positions = self.position_embeddings(positions)\n",
        "\n",
        "        encoded_sequence_courses_with_position_and_rating = (\n",
        "            encoded_courses + ratings + positions\n",
        "        )\n",
        "        encoded_target_course = encoded_target_course.unsqueeze(1)\n",
        "\n",
        "        transformer_features = torch.cat(\n",
        "            (encoded_sequence_courses_with_position_and_rating, encoded_target_course),\n",
        "            dim=1,\n",
        "        )\n",
        "        transformer_output = self.encoder(\n",
        "            transformer_features, src_key_padding_mask=mask\n",
        "        )\n",
        "        transformer_output = torch.flatten(transformer_output, start_dim=1)\n",
        "\n",
        "        combined_output = torch.cat((transformer_output, user_features), dim=1)\n",
        "\n",
        "        rating = self.linear(combined_output)\n",
        "        rating = rating.squeeze()\n",
        "        if self.y_range is None:\n",
        "            return rating\n",
        "        else:\n",
        "            return rating * (self.y_range[1] - self.y_range[0]) + self.y_range[0]\n"
      ],
      "metadata": {
        "id": "rvCFUVQZ2FFs"
      },
      "execution_count": 55,
      "outputs": []
    },
    {
      "cell_type": "markdown",
      "source": [
        "Мы видим, что для использования данных рейтингов мы добавили дополнительный слой внедрения. Затем для каждого курсса с ранее присвоенным рейтингом мы суммируем встраивание курса, позиционное кодирование и встраивание рейтинга, прежде чем подавать эту последовательность в преобразователь. В качестве альтернативы данные рейтинга можно было бы объединить или умножить на встраивание курса, но их объединение сработало лучше всего из опробованных мной подходов.\n",
        "\n",
        "Поскольку Jupyter поддерживает актуальное состояние для каждого определения класса, нам не нужно обновлять нашу обучающую функцию; новый класс будет использоваться, когда мы начнем обучение:"
      ],
      "metadata": {
        "id": "QQq4kC4TNbx-"
      }
    },
    {
      "cell_type": "code",
      "source": [
        "notebook_launcher(train_seq_model, num_processes=2)"
      ],
      "metadata": {
        "id": "e30Omwjb2H_F",
        "colab": {
          "base_uri": "https://localhost:8080/"
        },
        "outputId": "024e7b35-d112-47dd-cf81-973ea88a9037"
      },
      "execution_count": 56,
      "outputs": [
        {
          "output_type": "stream",
          "name": "stdout",
          "text": [
            "Launching training on one CPU.\n",
            "\n",
            "Starting training run\n",
            "\n",
            "Starting epoch 1\n"
          ]
        },
        {
          "output_type": "stream",
          "name": "stderr",
          "text": [
            "100%|██████████| 211/211 [00:22<00:00,  9.32it/s]\n"
          ]
        },
        {
          "output_type": "stream",
          "name": "stdout",
          "text": [
            "\n",
            "train_loss_epoch: 0.9643571376800537\n"
          ]
        },
        {
          "output_type": "stream",
          "name": "stderr",
          "text": [
            "100%|██████████| 53/53 [00:01<00:00, 32.81it/s]\n"
          ]
        },
        {
          "output_type": "stream",
          "name": "stdout",
          "text": [
            "\n",
            "mse: 0.947973370552063\n",
            "\n",
            "mae: 0.7791383266448975\n",
            "\n",
            "eval_loss_epoch: 0.9479734301567078\n",
            "\n",
            "rmse: 0.9736392404541134\n",
            "\n",
            "Starting epoch 2\n"
          ]
        },
        {
          "output_type": "stream",
          "name": "stderr",
          "text": [
            "100%|██████████| 211/211 [00:21<00:00,  9.68it/s]\n"
          ]
        },
        {
          "output_type": "stream",
          "name": "stdout",
          "text": [
            "\n",
            "train_loss_epoch: 0.8985363841056824\n"
          ]
        },
        {
          "output_type": "stream",
          "name": "stderr",
          "text": [
            "100%|██████████| 53/53 [00:01<00:00, 32.86it/s]\n"
          ]
        },
        {
          "output_type": "stream",
          "name": "stdout",
          "text": [
            "\n",
            "mse: 1.0532605648040771\n",
            "\n",
            "mae: 0.7264193296432495\n",
            "\n",
            "eval_loss_epoch: 1.0532605648040771\n",
            "\n",
            "rmse: 1.0262848360976973\n",
            "\n",
            "Improvement of 0.05271899700164795 observed, resetting counter. \n",
            "Early stopping counter: 0/2\n",
            "\n",
            "Starting epoch 3\n"
          ]
        },
        {
          "output_type": "stream",
          "name": "stderr",
          "text": [
            "100%|██████████| 211/211 [00:21<00:00,  9.60it/s]\n"
          ]
        },
        {
          "output_type": "stream",
          "name": "stdout",
          "text": [
            "\n",
            "train_loss_epoch: 0.8623473048210144\n"
          ]
        },
        {
          "output_type": "stream",
          "name": "stderr",
          "text": [
            "100%|██████████| 53/53 [00:01<00:00, 32.29it/s]\n"
          ]
        },
        {
          "output_type": "stream",
          "name": "stdout",
          "text": [
            "\n",
            "mse: 0.9331973195075989\n",
            "\n",
            "mae: 0.7673484683036804\n",
            "\n",
            "eval_loss_epoch: 0.9331973195075989\n",
            "\n",
            "rmse: 0.9660213866719509\n",
            "No improvement above threshold observed, incrementing counter. \n",
            "Early stopping counter: 1/2\n",
            "\n",
            "Starting epoch 4\n"
          ]
        },
        {
          "output_type": "stream",
          "name": "stderr",
          "text": [
            "100%|██████████| 211/211 [00:21<00:00,  9.63it/s]\n"
          ]
        },
        {
          "output_type": "stream",
          "name": "stdout",
          "text": [
            "\n",
            "train_loss_epoch: 0.6034365892410278\n"
          ]
        },
        {
          "output_type": "stream",
          "name": "stderr",
          "text": [
            "100%|██████████| 53/53 [00:02<00:00, 21.77it/s]"
          ]
        },
        {
          "output_type": "stream",
          "name": "stdout",
          "text": [
            "\n",
            "mse: 0.9482542276382446\n",
            "\n",
            "mae: 0.7475705146789551\n",
            "\n",
            "eval_loss_epoch: 0.9482539892196655\n",
            "\n",
            "rmse: 0.9737834603433376\n",
            "No improvement above threshold observed, incrementing counter. \n",
            "Early stopping counter: 2/2\n",
            "Stopping training due to no improvement after 2 epochs\n",
            "Finishing training run\n",
            "Loading checkpoint with mae: 0.7264193296432495 from epoch 2\n"
          ]
        },
        {
          "output_type": "stream",
          "name": "stderr",
          "text": [
            "\n"
          ]
        }
      ]
    },
    {
      "cell_type": "markdown",
      "source": [
        "Видим улучшение"
      ],
      "metadata": {
        "id": "0RIuggXJTK1b"
      }
    },
    {
      "cell_type": "markdown",
      "source": [
        "**Добавление пользовательских функций**\n",
        "\n",
        "Помимо данных рейтингов, у нас также есть дополнительная информация о пользователях, которую мы могли бы добавить в модель."
      ],
      "metadata": {
        "id": "NAEKAadJ6tiy"
      }
    },
    {
      "cell_type": "code",
      "source": [
        "binned = pd.cut(employees.age, bins=[-np.inf, 17, 25, 35, 45, 55, np.inf])"
      ],
      "metadata": {
        "id": "AtxTJqdr5z63"
      },
      "execution_count": 57,
      "outputs": []
    },
    {
      "cell_type": "code",
      "source": [
        "employees['age_group'] = binned\n"
      ],
      "metadata": {
        "id": "2ULrIUqj65Qj"
      },
      "execution_count": 58,
      "outputs": []
    },
    {
      "cell_type": "code",
      "source": [
        "binned_ = pd.cut(employees.exp_days, 10)"
      ],
      "metadata": {
        "id": "f2SqA9QM7amd"
      },
      "execution_count": 59,
      "outputs": []
    },
    {
      "cell_type": "code",
      "source": [
        "employees['exp_days_group'] = binned_"
      ],
      "metadata": {
        "id": "tOJJqZLs7eeJ"
      },
      "execution_count": 60,
      "outputs": []
    },
    {
      "cell_type": "code",
      "source": [],
      "metadata": {
        "id": "bZtI0MpH8JXa"
      },
      "execution_count": null,
      "outputs": []
    },
    {
      "cell_type": "code",
      "source": [
        "from sklearn.preprocessing import LabelEncoder\n",
        "le = LabelEncoder()\n",
        "\n",
        "employees['sex_encoded'] = le.fit_transform(employees.sex)\n",
        "employees['age_group_encoded'] = le.fit_transform(employees.age_group)\n",
        "employees['region_encoded'] = le.fit_transform(employees.region)\n",
        "employees['head_employee_id_encoded'] = le.fit_transform(employees.head_employee_id)\n",
        "employees['exp_days_group_encoded'] = le.fit_transform(employees.exp_days_group)\n",
        "employees['edu_degree_encoded'] = le.fit_transform(employees.edu_degree)\n",
        "employees['department_id_encoded'] = le.fit_transform(employees.department_id)\n"
      ],
      "metadata": {
        "id": "zMoCA7957MXw"
      },
      "execution_count": 61,
      "outputs": []
    },
    {
      "cell_type": "code",
      "source": [
        "prep=employees[['employee_id','sex_encoded','age_group_encoded','region_encoded',\n",
        "                                                     'head_employee_id_encoded','exp_days_group_encoded','edu_degree_encoded',\n",
        "                                                     'department_id_encoded','work_online_flg']].rename(columns={'employee_id':'user_id'})"
      ],
      "metadata": {
        "id": "n7hWjVih9tEz"
      },
      "execution_count": 62,
      "outputs": []
    },
    {
      "cell_type": "code",
      "source": [
        "seq_with_user_features = pd.merge(seq_df, prep, how='left', on='user_id')\n"
      ],
      "metadata": {
        "id": "da6Mk34L7FHL"
      },
      "execution_count": 63,
      "outputs": []
    },
    {
      "cell_type": "code",
      "source": [
        "seq_with_user_features.head(3)"
      ],
      "metadata": {
        "id": "oZFcKx--9oe2",
        "colab": {
          "base_uri": "https://localhost:8080/",
          "height": 528
        },
        "outputId": "6d94e779-e7d4-4576-c76b-65cf66010a79"
      },
      "execution_count": 64,
      "outputs": [
        {
          "output_type": "execute_result",
          "data": {
            "text/plain": [
              "                                user_id  \\\n",
              "0  00411460-f7c9-2d21-24a6-7ea0f4cb5f85   \n",
              "1  00411460-f7c9-2d21-24a6-7ea0f4cb5f85   \n",
              "2  00411460-f7c9-2d21-24a6-7ea0f4cb5f85   \n",
              "\n",
              "                                               title  \\\n",
              "0  ([PAD], [PAD], [PAD], [PAD], [PAD], [PAD], [PA...   \n",
              "1  ([PAD], [PAD], [PAD], [PAD], [PAD], [PAD], [PA...   \n",
              "2  ([PAD], [PAD], [PAD], [PAD], [PAD], [PAD], [PA...   \n",
              "\n",
              "                                      unix_timestamp  is_valid  target_rating  \\\n",
              "0  ([PAD], [PAD], [PAD], [PAD], [PAD], [PAD], [PA...     False              5   \n",
              "1  ([PAD], [PAD], [PAD], [PAD], [PAD], [PAD], [PA...     False              5   \n",
              "2  ([PAD], [PAD], [PAD], [PAD], [PAD], [PAD], [PA...     False              5   \n",
              "\n",
              "                                    previous_ratings  \\\n",
              "0  ([PAD], [PAD], [PAD], [PAD], [PAD], [PAD], [PA...   \n",
              "1  ([PAD], [PAD], [PAD], [PAD], [PAD], [PAD], [PA...   \n",
              "2  ([PAD], [PAD], [PAD], [PAD], [PAD], [PAD], [PA...   \n",
              "\n",
              "                                            pad_mask  num_pads  sex_encoded  \\\n",
              "0  [True, True, True, True, True, True, True, Tru...         9            0   \n",
              "1  [True, True, True, True, True, True, True, Tru...         8            0   \n",
              "2  [True, True, True, True, True, True, True, Fal...         7            0   \n",
              "\n",
              "   age_group_encoded  region_encoded  head_employee_id_encoded  \\\n",
              "0                  1               3                        30   \n",
              "1                  1               3                        30   \n",
              "2                  1               3                        30   \n",
              "\n",
              "   exp_days_group_encoded  edu_degree_encoded  department_id_encoded  \\\n",
              "0                       1                   1                      1   \n",
              "1                       1                   1                      1   \n",
              "2                       1                   1                      1   \n",
              "\n",
              "   work_online_flg  \n",
              "0                1  \n",
              "1                1  \n",
              "2                1  "
            ],
            "text/html": [
              "\n",
              "  <div id=\"df-540f384c-3ef7-4212-afa4-b9937557ce78\" class=\"colab-df-container\">\n",
              "    <div>\n",
              "<style scoped>\n",
              "    .dataframe tbody tr th:only-of-type {\n",
              "        vertical-align: middle;\n",
              "    }\n",
              "\n",
              "    .dataframe tbody tr th {\n",
              "        vertical-align: top;\n",
              "    }\n",
              "\n",
              "    .dataframe thead th {\n",
              "        text-align: right;\n",
              "    }\n",
              "</style>\n",
              "<table border=\"1\" class=\"dataframe\">\n",
              "  <thead>\n",
              "    <tr style=\"text-align: right;\">\n",
              "      <th></th>\n",
              "      <th>user_id</th>\n",
              "      <th>title</th>\n",
              "      <th>unix_timestamp</th>\n",
              "      <th>is_valid</th>\n",
              "      <th>target_rating</th>\n",
              "      <th>previous_ratings</th>\n",
              "      <th>pad_mask</th>\n",
              "      <th>num_pads</th>\n",
              "      <th>sex_encoded</th>\n",
              "      <th>age_group_encoded</th>\n",
              "      <th>region_encoded</th>\n",
              "      <th>head_employee_id_encoded</th>\n",
              "      <th>exp_days_group_encoded</th>\n",
              "      <th>edu_degree_encoded</th>\n",
              "      <th>department_id_encoded</th>\n",
              "      <th>work_online_flg</th>\n",
              "    </tr>\n",
              "  </thead>\n",
              "  <tbody>\n",
              "    <tr>\n",
              "      <th>0</th>\n",
              "      <td>00411460-f7c9-2d21-24a6-7ea0f4cb5f85</td>\n",
              "      <td>([PAD], [PAD], [PAD], [PAD], [PAD], [PAD], [PA...</td>\n",
              "      <td>([PAD], [PAD], [PAD], [PAD], [PAD], [PAD], [PA...</td>\n",
              "      <td>False</td>\n",
              "      <td>5</td>\n",
              "      <td>([PAD], [PAD], [PAD], [PAD], [PAD], [PAD], [PA...</td>\n",
              "      <td>[True, True, True, True, True, True, True, Tru...</td>\n",
              "      <td>9</td>\n",
              "      <td>0</td>\n",
              "      <td>1</td>\n",
              "      <td>3</td>\n",
              "      <td>30</td>\n",
              "      <td>1</td>\n",
              "      <td>1</td>\n",
              "      <td>1</td>\n",
              "      <td>1</td>\n",
              "    </tr>\n",
              "    <tr>\n",
              "      <th>1</th>\n",
              "      <td>00411460-f7c9-2d21-24a6-7ea0f4cb5f85</td>\n",
              "      <td>([PAD], [PAD], [PAD], [PAD], [PAD], [PAD], [PA...</td>\n",
              "      <td>([PAD], [PAD], [PAD], [PAD], [PAD], [PAD], [PA...</td>\n",
              "      <td>False</td>\n",
              "      <td>5</td>\n",
              "      <td>([PAD], [PAD], [PAD], [PAD], [PAD], [PAD], [PA...</td>\n",
              "      <td>[True, True, True, True, True, True, True, Tru...</td>\n",
              "      <td>8</td>\n",
              "      <td>0</td>\n",
              "      <td>1</td>\n",
              "      <td>3</td>\n",
              "      <td>30</td>\n",
              "      <td>1</td>\n",
              "      <td>1</td>\n",
              "      <td>1</td>\n",
              "      <td>1</td>\n",
              "    </tr>\n",
              "    <tr>\n",
              "      <th>2</th>\n",
              "      <td>00411460-f7c9-2d21-24a6-7ea0f4cb5f85</td>\n",
              "      <td>([PAD], [PAD], [PAD], [PAD], [PAD], [PAD], [PA...</td>\n",
              "      <td>([PAD], [PAD], [PAD], [PAD], [PAD], [PAD], [PA...</td>\n",
              "      <td>False</td>\n",
              "      <td>5</td>\n",
              "      <td>([PAD], [PAD], [PAD], [PAD], [PAD], [PAD], [PA...</td>\n",
              "      <td>[True, True, True, True, True, True, True, Fal...</td>\n",
              "      <td>7</td>\n",
              "      <td>0</td>\n",
              "      <td>1</td>\n",
              "      <td>3</td>\n",
              "      <td>30</td>\n",
              "      <td>1</td>\n",
              "      <td>1</td>\n",
              "      <td>1</td>\n",
              "      <td>1</td>\n",
              "    </tr>\n",
              "  </tbody>\n",
              "</table>\n",
              "</div>\n",
              "    <div class=\"colab-df-buttons\">\n",
              "\n",
              "  <div class=\"colab-df-container\">\n",
              "    <button class=\"colab-df-convert\" onclick=\"convertToInteractive('df-540f384c-3ef7-4212-afa4-b9937557ce78')\"\n",
              "            title=\"Convert this dataframe to an interactive table.\"\n",
              "            style=\"display:none;\">\n",
              "\n",
              "  <svg xmlns=\"http://www.w3.org/2000/svg\" height=\"24px\" viewBox=\"0 -960 960 960\">\n",
              "    <path d=\"M120-120v-720h720v720H120Zm60-500h600v-160H180v160Zm220 220h160v-160H400v160Zm0 220h160v-160H400v160ZM180-400h160v-160H180v160Zm440 0h160v-160H620v160ZM180-180h160v-160H180v160Zm440 0h160v-160H620v160Z\"/>\n",
              "  </svg>\n",
              "    </button>\n",
              "\n",
              "  <style>\n",
              "    .colab-df-container {\n",
              "      display:flex;\n",
              "      gap: 12px;\n",
              "    }\n",
              "\n",
              "    .colab-df-convert {\n",
              "      background-color: #E8F0FE;\n",
              "      border: none;\n",
              "      border-radius: 50%;\n",
              "      cursor: pointer;\n",
              "      display: none;\n",
              "      fill: #1967D2;\n",
              "      height: 32px;\n",
              "      padding: 0 0 0 0;\n",
              "      width: 32px;\n",
              "    }\n",
              "\n",
              "    .colab-df-convert:hover {\n",
              "      background-color: #E2EBFA;\n",
              "      box-shadow: 0px 1px 2px rgba(60, 64, 67, 0.3), 0px 1px 3px 1px rgba(60, 64, 67, 0.15);\n",
              "      fill: #174EA6;\n",
              "    }\n",
              "\n",
              "    .colab-df-buttons div {\n",
              "      margin-bottom: 4px;\n",
              "    }\n",
              "\n",
              "    [theme=dark] .colab-df-convert {\n",
              "      background-color: #3B4455;\n",
              "      fill: #D2E3FC;\n",
              "    }\n",
              "\n",
              "    [theme=dark] .colab-df-convert:hover {\n",
              "      background-color: #434B5C;\n",
              "      box-shadow: 0px 1px 3px 1px rgba(0, 0, 0, 0.15);\n",
              "      filter: drop-shadow(0px 1px 2px rgba(0, 0, 0, 0.3));\n",
              "      fill: #FFFFFF;\n",
              "    }\n",
              "  </style>\n",
              "\n",
              "    <script>\n",
              "      const buttonEl =\n",
              "        document.querySelector('#df-540f384c-3ef7-4212-afa4-b9937557ce78 button.colab-df-convert');\n",
              "      buttonEl.style.display =\n",
              "        google.colab.kernel.accessAllowed ? 'block' : 'none';\n",
              "\n",
              "      async function convertToInteractive(key) {\n",
              "        const element = document.querySelector('#df-540f384c-3ef7-4212-afa4-b9937557ce78');\n",
              "        const dataTable =\n",
              "          await google.colab.kernel.invokeFunction('convertToInteractive',\n",
              "                                                    [key], {});\n",
              "        if (!dataTable) return;\n",
              "\n",
              "        const docLinkHtml = 'Like what you see? Visit the ' +\n",
              "          '<a target=\"_blank\" href=https://colab.research.google.com/notebooks/data_table.ipynb>data table notebook</a>'\n",
              "          + ' to learn more about interactive tables.';\n",
              "        element.innerHTML = '';\n",
              "        dataTable['output_type'] = 'display_data';\n",
              "        await google.colab.output.renderOutput(dataTable, element);\n",
              "        const docLink = document.createElement('div');\n",
              "        docLink.innerHTML = docLinkHtml;\n",
              "        element.appendChild(docLink);\n",
              "      }\n",
              "    </script>\n",
              "  </div>\n",
              "\n",
              "\n",
              "<div id=\"df-bd09c5ab-305d-4fe5-abee-932acf5b374a\">\n",
              "  <button class=\"colab-df-quickchart\" onclick=\"quickchart('df-bd09c5ab-305d-4fe5-abee-932acf5b374a')\"\n",
              "            title=\"Suggest charts\"\n",
              "            style=\"display:none;\">\n",
              "\n",
              "<svg xmlns=\"http://www.w3.org/2000/svg\" height=\"24px\"viewBox=\"0 0 24 24\"\n",
              "     width=\"24px\">\n",
              "    <g>\n",
              "        <path d=\"M19 3H5c-1.1 0-2 .9-2 2v14c0 1.1.9 2 2 2h14c1.1 0 2-.9 2-2V5c0-1.1-.9-2-2-2zM9 17H7v-7h2v7zm4 0h-2V7h2v10zm4 0h-2v-4h2v4z\"/>\n",
              "    </g>\n",
              "</svg>\n",
              "  </button>\n",
              "\n",
              "<style>\n",
              "  .colab-df-quickchart {\n",
              "      --bg-color: #E8F0FE;\n",
              "      --fill-color: #1967D2;\n",
              "      --hover-bg-color: #E2EBFA;\n",
              "      --hover-fill-color: #174EA6;\n",
              "      --disabled-fill-color: #AAA;\n",
              "      --disabled-bg-color: #DDD;\n",
              "  }\n",
              "\n",
              "  [theme=dark] .colab-df-quickchart {\n",
              "      --bg-color: #3B4455;\n",
              "      --fill-color: #D2E3FC;\n",
              "      --hover-bg-color: #434B5C;\n",
              "      --hover-fill-color: #FFFFFF;\n",
              "      --disabled-bg-color: #3B4455;\n",
              "      --disabled-fill-color: #666;\n",
              "  }\n",
              "\n",
              "  .colab-df-quickchart {\n",
              "    background-color: var(--bg-color);\n",
              "    border: none;\n",
              "    border-radius: 50%;\n",
              "    cursor: pointer;\n",
              "    display: none;\n",
              "    fill: var(--fill-color);\n",
              "    height: 32px;\n",
              "    padding: 0;\n",
              "    width: 32px;\n",
              "  }\n",
              "\n",
              "  .colab-df-quickchart:hover {\n",
              "    background-color: var(--hover-bg-color);\n",
              "    box-shadow: 0 1px 2px rgba(60, 64, 67, 0.3), 0 1px 3px 1px rgba(60, 64, 67, 0.15);\n",
              "    fill: var(--button-hover-fill-color);\n",
              "  }\n",
              "\n",
              "  .colab-df-quickchart-complete:disabled,\n",
              "  .colab-df-quickchart-complete:disabled:hover {\n",
              "    background-color: var(--disabled-bg-color);\n",
              "    fill: var(--disabled-fill-color);\n",
              "    box-shadow: none;\n",
              "  }\n",
              "\n",
              "  .colab-df-spinner {\n",
              "    border: 2px solid var(--fill-color);\n",
              "    border-color: transparent;\n",
              "    border-bottom-color: var(--fill-color);\n",
              "    animation:\n",
              "      spin 1s steps(1) infinite;\n",
              "  }\n",
              "\n",
              "  @keyframes spin {\n",
              "    0% {\n",
              "      border-color: transparent;\n",
              "      border-bottom-color: var(--fill-color);\n",
              "      border-left-color: var(--fill-color);\n",
              "    }\n",
              "    20% {\n",
              "      border-color: transparent;\n",
              "      border-left-color: var(--fill-color);\n",
              "      border-top-color: var(--fill-color);\n",
              "    }\n",
              "    30% {\n",
              "      border-color: transparent;\n",
              "      border-left-color: var(--fill-color);\n",
              "      border-top-color: var(--fill-color);\n",
              "      border-right-color: var(--fill-color);\n",
              "    }\n",
              "    40% {\n",
              "      border-color: transparent;\n",
              "      border-right-color: var(--fill-color);\n",
              "      border-top-color: var(--fill-color);\n",
              "    }\n",
              "    60% {\n",
              "      border-color: transparent;\n",
              "      border-right-color: var(--fill-color);\n",
              "    }\n",
              "    80% {\n",
              "      border-color: transparent;\n",
              "      border-right-color: var(--fill-color);\n",
              "      border-bottom-color: var(--fill-color);\n",
              "    }\n",
              "    90% {\n",
              "      border-color: transparent;\n",
              "      border-bottom-color: var(--fill-color);\n",
              "    }\n",
              "  }\n",
              "</style>\n",
              "\n",
              "  <script>\n",
              "    async function quickchart(key) {\n",
              "      const quickchartButtonEl =\n",
              "        document.querySelector('#' + key + ' button');\n",
              "      quickchartButtonEl.disabled = true;  // To prevent multiple clicks.\n",
              "      quickchartButtonEl.classList.add('colab-df-spinner');\n",
              "      try {\n",
              "        const charts = await google.colab.kernel.invokeFunction(\n",
              "            'suggestCharts', [key], {});\n",
              "      } catch (error) {\n",
              "        console.error('Error during call to suggestCharts:', error);\n",
              "      }\n",
              "      quickchartButtonEl.classList.remove('colab-df-spinner');\n",
              "      quickchartButtonEl.classList.add('colab-df-quickchart-complete');\n",
              "    }\n",
              "    (() => {\n",
              "      let quickchartButtonEl =\n",
              "        document.querySelector('#df-bd09c5ab-305d-4fe5-abee-932acf5b374a button');\n",
              "      quickchartButtonEl.style.display =\n",
              "        google.colab.kernel.accessAllowed ? 'block' : 'none';\n",
              "    })();\n",
              "  </script>\n",
              "</div>\n",
              "    </div>\n",
              "  </div>\n"
            ],
            "application/vnd.google.colaboratory.intrinsic+json": {
              "type": "dataframe",
              "variable_name": "seq_with_user_features",
              "summary": "{\n  \"name\": \"seq_with_user_features\",\n  \"rows\": 8404,\n  \"fields\": [\n    {\n      \"column\": \"user_id\",\n      \"properties\": {\n        \"dtype\": \"category\",\n        \"num_unique_values\": 1677,\n        \"samples\": [\n          \"f516dfb8-4b90-51ed-85b8-9cdc3a8ab7f5\",\n          \"470e7a4f-017a-5476-afb7-eeb3f8b96f9b\",\n          \"1b36ea1c-9b7a-1c3a-d668-b8bb5df7963f\"\n        ],\n        \"semantic_type\": \"\",\n        \"description\": \"\"\n      }\n    },\n    {\n      \"column\": \"title\",\n      \"properties\": {\n        \"dtype\": \"string\",\n        \"num_unique_values\": 6411,\n        \"samples\": [\n          [\n            \"[PAD]\",\n            \"[PAD]\",\n            \"[PAD]\",\n            \"\\u0420\\u0430\\u0437\\u0432\\u0438\\u0442\\u0438\\u0435 \\u043d\\u0430\\u0432\\u044b\\u043a\\u043e\\u0432 \\u0430\\u043a\\u0442\\u0438\\u0432\\u043d\\u043e\\u0433\\u043e \\u043f\\u0440\\u043e\\u0441\\u043b\\u0443\\u0448\\u0438\\u0432\\u0430\\u043d\\u0438\\u044f \\u0432 \\u043a\\u043b\\u0438\\u0435\\u043d\\u0442\\u0441\\u043a\\u043e\\u043c \\u0441\\u0435\\u0440\\u0432\\u0438\\u0441\\u0435\",\n            \"\\u0418\\u0441\\u043f\\u043e\\u043b\\u044c\\u0437\\u043e\\u0432\\u0430\\u043d\\u0438\\u0435 \\u044d\\u043c\\u043e\\u0446\\u0438\\u043e\\u043d\\u0430\\u043b\\u044c\\u043d\\u043e\\u0433\\u043e \\u0438\\u043d\\u0442\\u0435\\u043b\\u043b\\u0435\\u043a\\u0442\\u0430 \\u0432 \\u043e\\u0431\\u0449\\u0435\\u043d\\u0438\\u0438 \\u0441 \\u043a\\u043b\\u0438\\u0435\\u043d\\u0442\\u0430\\u043c\\u0438\",\n            \"\\u042d\\u0444\\u0444\\u0435\\u043a\\u0442\\u0438\\u0432\\u043d\\u043e\\u0435 \\u0432\\u043d\\u0435\\u0434\\u0440\\u0435\\u043d\\u0438\\u0435 \\u0438 \\u0438\\u0441\\u043f\\u043e\\u043b\\u044c\\u0437\\u043e\\u0432\\u0430\\u043d\\u0438\\u0435 \\u0447\\u0430\\u0442-\\u0431\\u043e\\u0442\\u043e\\u0432 \\u0432 \\u043a\\u043b\\u0438\\u0435\\u043d\\u0442\\u0441\\u043a\\u043e\\u043c \\u0441\\u0435\\u0440\\u0432\\u0438\\u0441\\u0435\",\n            \"\\u0422\\u0435\\u0445\\u043d\\u0438\\u043a\\u0438 \\u043f\\u0435\\u0440\\u0435\\u0433\\u043e\\u0432\\u043e\\u0440\\u043e\\u0432 \\u0438 \\u0443\\u0440\\u0435\\u0433\\u0443\\u043b\\u0438\\u0440\\u043e\\u0432\\u0430\\u043d\\u0438\\u044f \\u0441\\u043f\\u043e\\u0440\\u043d\\u044b\\u0445 \\u0432\\u043e\\u043f\\u0440\\u043e\\u0441\\u043e\\u0432 \\u0441 \\u043a\\u043b\\u0438\\u0435\\u043d\\u0442\\u0430\\u043c\\u0438\",\n            \"\\u041a\\u0430\\u043a \\u044d\\u0444\\u0444\\u0435\\u043a\\u0442\\u0438\\u0432\\u043d\\u043e \\u0440\\u0435\\u0430\\u0433\\u0438\\u0440\\u043e\\u0432\\u0430\\u0442\\u044c \\u043d\\u0430 \\u0438\\u0437\\u043c\\u0435\\u043d\\u0435\\u043d\\u0438\\u044f \\u043f\\u043e\\u0442\\u0440\\u0435\\u0431\\u043d\\u043e\\u0441\\u0442\\u0435\\u0439 \\u043a\\u043b\\u0438\\u0435\\u043d\\u0442\\u043e\\u0432\",\n            \"\\u0423\\u043f\\u0440\\u0430\\u0432\\u043b\\u0435\\u043d\\u0438\\u0435 \\u043e\\u0436\\u0438\\u0434\\u0430\\u043d\\u0438\\u044f\\u043c\\u0438 \\u043a\\u043b\\u0438\\u0435\\u043d\\u0442\\u043e\\u0432 \\u0432 \\u0443\\u0441\\u043b\\u043e\\u0432\\u0438\\u044f\\u0445 \\u0434\\u0438\\u043d\\u0430\\u043c\\u0438\\u0447\\u043d\\u043e\\u0433\\u043e \\u0440\\u044b\\u043d\\u043a\\u0430\",\n            \"\\u041a\\u0440\\u0435\\u0430\\u0442\\u0438\\u0432\\u043d\\u044b\\u0435 \\u043f\\u043e\\u0434\\u0445\\u043e\\u0434\\u044b \\u043a \\u0440\\u0435\\u0448\\u0435\\u043d\\u0438\\u044e \\u0441\\u043b\\u043e\\u0436\\u043d\\u044b\\u0445 \\u0441\\u0438\\u0442\\u0443\\u0430\\u0446\\u0438\\u0439 \\u0441 \\u043a\\u043b\\u0438\\u0435\\u043d\\u0442\\u0430\\u043c\\u0438\"\n          ],\n          [\n            \"[PAD]\",\n            \"[PAD]\",\n            \"[PAD]\",\n            \"[PAD]\",\n            \"[PAD]\",\n            \"[PAD]\",\n            \"[PAD]\",\n            \"[PAD]\",\n            \"\\u041f\\u0440\\u043e\\u0444\\u0435\\u0441\\u0441\\u0438\\u043e\\u043d\\u0430\\u043b\\u044c\\u043d\\u044b\\u0439 \\u0440\\u043e\\u0441\\u0442 \\u0432 \\u043e\\u0431\\u043b\\u0430\\u0441\\u0442\\u0438 \\u043a\\u043b\\u0438\\u0435\\u043d\\u0442\\u0441\\u043a\\u043e\\u0433\\u043e \\u0441\\u0435\\u0440\\u0432\\u0438\\u0441\\u0430: \\u041f\\u043b\\u0430\\u043d\\u0438\\u0440\\u043e\\u0432\\u0430\\u043d\\u0438\\u0435 \\u043a\\u0430\\u0440\\u044c\\u0435\\u0440\\u044b\",\n            \"\\u0420\\u0430\\u0437\\u0432\\u0438\\u0442\\u0438\\u0435 \\u043d\\u0430\\u0432\\u044b\\u043a\\u043e\\u0432 \\u0430\\u043a\\u0442\\u0438\\u0432\\u043d\\u043e\\u0433\\u043e \\u043f\\u0440\\u043e\\u0441\\u043b\\u0443\\u0448\\u0438\\u0432\\u0430\\u043d\\u0438\\u044f \\u0432 \\u043a\\u043b\\u0438\\u0435\\u043d\\u0442\\u0441\\u043a\\u043e\\u043c \\u0441\\u0435\\u0440\\u0432\\u0438\\u0441\\u0435\"\n          ],\n          [\n            \"\\u0421\\u043e\\u0437\\u0434\\u0430\\u043d\\u0438\\u0435 \\u0438\\u043d\\u0434\\u0438\\u0432\\u0438\\u0434\\u0443\\u0430\\u043b\\u044c\\u043d\\u044b\\u0445 \\u043f\\u043b\\u0430\\u043d\\u043e\\u0432 \\u043e\\u0431\\u0441\\u043b\\u0443\\u0436\\u0438\\u0432\\u0430\\u043d\\u0438\\u044f \\u0434\\u043b\\u044f \\u043a\\u043b\\u044e\\u0447\\u0435\\u0432\\u044b\\u0445 \\u043a\\u043b\\u0438\\u0435\\u043d\\u0442\\u043e\\u0432\",\n            \"\\u0418\\u0441\\u043f\\u043e\\u043b\\u044c\\u0437\\u043e\\u0432\\u0430\\u043d\\u0438\\u0435 \\u0438\\u043d\\u0441\\u0442\\u0440\\u0443\\u043c\\u0435\\u043d\\u0442\\u043e\\u0432 \\u043c\\u0430\\u0440\\u043a\\u0435\\u0442\\u0438\\u043d\\u0433\\u0430 \\u0432 \\u043a\\u043b\\u0438\\u0435\\u043d\\u0442\\u0441\\u043a\\u043e\\u043c \\u043e\\u0431\\u0441\\u043b\\u0443\\u0436\\u0438\\u0432\\u0430\\u043d\\u0438\\u0438\",\n            \"\\u0418\\u0441\\u043f\\u043e\\u043b\\u044c\\u0437\\u043e\\u0432\\u0430\\u043d\\u0438\\u0435 storytelling \\u0432 \\u043a\\u043b\\u0438\\u0435\\u043d\\u0442\\u0441\\u043a\\u043e\\u043c \\u043e\\u0431\\u0441\\u043b\\u0443\\u0436\\u0438\\u0432\\u0430\\u043d\\u0438\\u0438: \\u041f\\u0440\\u0438\\u0432\\u043b\\u0435\\u0447\\u0435\\u043d\\u0438\\u0435 \\u0432\\u043d\\u0438\\u043c\\u0430\\u043d\\u0438\\u044f\",\n            \"\\u0418\\u0441\\u043f\\u043e\\u043b\\u044c\\u0437\\u043e\\u0432\\u0430\\u043d\\u0438\\u0435 \\u0442\\u0435\\u0445\\u043d\\u043e\\u043b\\u043e\\u0433\\u0438\\u0439 \\u0432 \\u043a\\u043b\\u0438\\u0435\\u043d\\u0442\\u0441\\u043a\\u043e\\u043c \\u043e\\u0431\\u0441\\u043b\\u0443\\u0436\\u0438\\u0432\\u0430\\u043d\\u0438\\u0438: \\u041b\\u0443\\u0447\\u0448\\u0438\\u0435 \\u043f\\u0440\\u0430\\u043a\\u0442\\u0438\\u043a\\u0438\",\n            \"\\u0421\\u043e\\u0432\\u0440\\u0435\\u043c\\u0435\\u043d\\u043d\\u044b\\u0435 \\u0442\\u0435\\u043d\\u0434\\u0435\\u043d\\u0446\\u0438\\u0438 \\u0432 \\u043a\\u043b\\u0438\\u0435\\u043d\\u0442\\u0441\\u043a\\u043e\\u043c \\u0441\\u0435\\u0440\\u0432\\u0438\\u0441\\u0435: \\u0410\\u043d\\u0430\\u043b\\u0438\\u0437 \\u0438 \\u043f\\u0440\\u043e\\u0433\\u043d\\u043e\\u0437\\u0438\\u0440\\u043e\\u0432\\u0430\\u043d\\u0438\\u0435\",\n            \"\\u0420\\u0430\\u0437\\u0440\\u0430\\u0431\\u043e\\u0442\\u043a\\u0430 \\u0441\\u0442\\u0440\\u0430\\u0442\\u0435\\u0433\\u0438\\u0438 \\u043e\\u0431\\u0441\\u043b\\u0443\\u0436\\u0438\\u0432\\u0430\\u043d\\u0438\\u044f \\u0434\\u043b\\u044f \\u0440\\u0430\\u0437\\u043d\\u044b\\u0445 \\u0441\\u0435\\u0433\\u043c\\u0435\\u043d\\u0442\\u043e\\u0432 \\u0440\\u044b\\u043d\\u043a\\u0430\",\n            \"\\u0420\\u0430\\u0437\\u0432\\u0438\\u0442\\u0438\\u0435 \\u043d\\u0430\\u0432\\u044b\\u043a\\u043e\\u0432 \\u044d\\u043c\\u043f\\u0430\\u0442\\u0438\\u0438 \\u0432 \\u043a\\u043b\\u0438\\u0435\\u043d\\u0442\\u0441\\u043a\\u043e\\u043c \\u043e\\u0431\\u0441\\u043b\\u0443\\u0436\\u0438\\u0432\\u0430\\u043d\\u0438\\u0438\",\n            \"\\u0423\\u043f\\u0440\\u0430\\u0432\\u043b\\u0435\\u043d\\u0438\\u0435 \\u043e\\u0436\\u0438\\u0434\\u0430\\u043d\\u0438\\u044f\\u043c\\u0438 \\u043a\\u043b\\u0438\\u0435\\u043d\\u0442\\u043e\\u0432 \\u0432 \\u0443\\u0441\\u043b\\u043e\\u0432\\u0438\\u044f\\u0445 \\u0434\\u0438\\u043d\\u0430\\u043c\\u0438\\u0447\\u043d\\u043e\\u0433\\u043e \\u0440\\u044b\\u043d\\u043a\\u0430\",\n            \"\\u0420\\u0430\\u0437\\u0432\\u0438\\u0442\\u0438\\u0435 \\u043d\\u0430\\u0432\\u044b\\u043a\\u043e\\u0432 \\u0430\\u0434\\u0430\\u043f\\u0442\\u0430\\u0446\\u0438\\u0438 \\u043a \\u0440\\u0430\\u0437\\u043b\\u0438\\u0447\\u043d\\u044b\\u043c \\u0442\\u0438\\u043f\\u0430\\u043c \\u043a\\u043b\\u0438\\u0435\\u043d\\u0442\\u043e\\u0432\",\n            \"\\u0423\\u043f\\u0440\\u0430\\u0432\\u043b\\u0435\\u043d\\u0438\\u0435 \\u043d\\u0435\\u0441\\u0442\\u0430\\u043d\\u0434\\u0430\\u0440\\u0442\\u043d\\u044b\\u043c\\u0438 \\u0441\\u0438\\u0442\\u0443\\u0430\\u0446\\u0438\\u044f\\u043c\\u0438 \\u0432 \\u043a\\u043b\\u0438\\u0435\\u043d\\u0442\\u0441\\u043a\\u043e\\u043c \\u043e\\u0431\\u0441\\u043b\\u0443\\u0436\\u0438\\u0432\\u0430\\u043d\\u0438\\u0438\"\n          ]\n        ],\n        \"semantic_type\": \"\",\n        \"description\": \"\"\n      }\n    },\n    {\n      \"column\": \"unix_timestamp\",\n      \"properties\": {\n        \"dtype\": \"string\",\n        \"num_unique_values\": 6893,\n        \"samples\": [\n          [\n            \"[PAD]\",\n            \"[PAD]\",\n            \"[PAD]\",\n            \"[PAD]\",\n            \"[PAD]\",\n            \"[PAD]\",\n            \"[PAD]\",\n            \"[PAD]\",\n            \"[PAD]\",\n            \"2023-05-14\"\n          ],\n          [\n            \"[PAD]\",\n            \"[PAD]\",\n            \"[PAD]\",\n            \"[PAD]\",\n            \"[PAD]\",\n            \"[PAD]\",\n            \"[PAD]\",\n            \"[PAD]\",\n            \"2023-03-29\",\n            \"2023-06-02\"\n          ],\n          [\n            \"[PAD]\",\n            \"[PAD]\",\n            \"2023-01-28\",\n            \"2023-02-05\",\n            \"2023-03-21\",\n            \"2023-03-26\",\n            \"2023-04-20\",\n            \"2023-05-13\",\n            \"2023-05-14\",\n            \"2023-05-22\"\n          ]\n        ],\n        \"semantic_type\": \"\",\n        \"description\": \"\"\n      }\n    },\n    {\n      \"column\": \"is_valid\",\n      \"properties\": {\n        \"dtype\": \"boolean\",\n        \"num_unique_values\": 2,\n        \"samples\": [\n          true,\n          false\n        ],\n        \"semantic_type\": \"\",\n        \"description\": \"\"\n      }\n    },\n    {\n      \"column\": \"target_rating\",\n      \"properties\": {\n        \"dtype\": \"number\",\n        \"std\": 1,\n        \"min\": 1,\n        \"max\": 5,\n        \"num_unique_values\": 5,\n        \"samples\": [\n          4,\n          1\n        ],\n        \"semantic_type\": \"\",\n        \"description\": \"\"\n      }\n    },\n    {\n      \"column\": \"previous_ratings\",\n      \"properties\": {\n        \"dtype\": \"category\",\n        \"num_unique_values\": 1639,\n        \"samples\": [\n          [\n            \"[PAD]\",\n            \"[PAD]\",\n            \"[PAD]\",\n            3,\n            3,\n            3,\n            3,\n            4,\n            4\n          ],\n          [\n            \"[PAD]\",\n            \"[PAD]\",\n            \"[PAD]\",\n            4,\n            3,\n            3,\n            2,\n            2,\n            1\n          ]\n        ],\n        \"semantic_type\": \"\",\n        \"description\": \"\"\n      }\n    },\n    {\n      \"column\": \"pad_mask\",\n      \"properties\": {\n        \"dtype\": \"object\",\n        \"semantic_type\": \"\",\n        \"description\": \"\"\n      }\n    },\n    {\n      \"column\": \"num_pads\",\n      \"properties\": {\n        \"dtype\": \"number\",\n        \"std\": 2,\n        \"min\": 0,\n        \"max\": 9,\n        \"num_unique_values\": 10,\n        \"samples\": [\n          1,\n          8\n        ],\n        \"semantic_type\": \"\",\n        \"description\": \"\"\n      }\n    },\n    {\n      \"column\": \"sex_encoded\",\n      \"properties\": {\n        \"dtype\": \"number\",\n        \"std\": 0,\n        \"min\": 0,\n        \"max\": 1,\n        \"num_unique_values\": 2,\n        \"samples\": [\n          1,\n          0\n        ],\n        \"semantic_type\": \"\",\n        \"description\": \"\"\n      }\n    },\n    {\n      \"column\": \"age_group_encoded\",\n      \"properties\": {\n        \"dtype\": \"number\",\n        \"std\": 0,\n        \"min\": 0,\n        \"max\": 4,\n        \"num_unique_values\": 5,\n        \"samples\": [\n          0,\n          4\n        ],\n        \"semantic_type\": \"\",\n        \"description\": \"\"\n      }\n    },\n    {\n      \"column\": \"region_encoded\",\n      \"properties\": {\n        \"dtype\": \"number\",\n        \"std\": 2,\n        \"min\": 0,\n        \"max\": 7,\n        \"num_unique_values\": 8,\n        \"samples\": [\n          0,\n          7\n        ],\n        \"semantic_type\": \"\",\n        \"description\": \"\"\n      }\n    },\n    {\n      \"column\": \"head_employee_id_encoded\",\n      \"properties\": {\n        \"dtype\": \"number\",\n        \"std\": 37,\n        \"min\": 0,\n        \"max\": 131,\n        \"num_unique_values\": 132,\n        \"samples\": [\n          18,\n          84\n        ],\n        \"semantic_type\": \"\",\n        \"description\": \"\"\n      }\n    },\n    {\n      \"column\": \"exp_days_group_encoded\",\n      \"properties\": {\n        \"dtype\": \"number\",\n        \"std\": 1,\n        \"min\": 0,\n        \"max\": 9,\n        \"num_unique_values\": 10,\n        \"samples\": [\n          9,\n          0\n        ],\n        \"semantic_type\": \"\",\n        \"description\": \"\"\n      }\n    },\n    {\n      \"column\": \"edu_degree_encoded\",\n      \"properties\": {\n        \"dtype\": \"number\",\n        \"std\": 0,\n        \"min\": 0,\n        \"max\": 2,\n        \"num_unique_values\": 3,\n        \"samples\": [\n          1,\n          2\n        ],\n        \"semantic_type\": \"\",\n        \"description\": \"\"\n      }\n    },\n    {\n      \"column\": \"department_id_encoded\",\n      \"properties\": {\n        \"dtype\": \"number\",\n        \"std\": 0,\n        \"min\": 0,\n        \"max\": 2,\n        \"num_unique_values\": 3,\n        \"samples\": [\n          1,\n          2\n        ],\n        \"semantic_type\": \"\",\n        \"description\": \"\"\n      }\n    },\n    {\n      \"column\": \"work_online_flg\",\n      \"properties\": {\n        \"dtype\": \"number\",\n        \"std\": 0,\n        \"min\": 0,\n        \"max\": 1,\n        \"num_unique_values\": 2,\n        \"samples\": [\n          0,\n          1\n        ],\n        \"semantic_type\": \"\",\n        \"description\": \"\"\n      }\n    }\n  ]\n}"
            }
          },
          "metadata": {},
          "execution_count": 64
        }
      ]
    },
    {
      "cell_type": "code",
      "source": [
        "train_df = seq_with_user_features[seq_with_user_features.is_valid == False]\n",
        "valid_df = seq_with_user_features[seq_with_user_features.is_valid == True]"
      ],
      "metadata": {
        "id": "DhS1KKt49Zee"
      },
      "execution_count": 65,
      "outputs": []
    },
    {
      "cell_type": "code",
      "source": [
        "class CourseSequenceDataset(Dataset):\n",
        "    def __init__(self, df, course_lookup, user_lookup):\n",
        "        super().__init__()\n",
        "        self.df = df\n",
        "        self.course_lookup = course_lookup\n",
        "        self.user_lookup = user_lookup\n",
        "\n",
        "    def __len__(self):\n",
        "        return len(self.df)\n",
        "\n",
        "    def __getitem__(self, index):\n",
        "        data = self.df.iloc[index]\n",
        "        user_id = self.user_lookup[str(data.user_id)]\n",
        "        course_ids = torch.tensor([self.course_lookup[title] for title in data.title])\n",
        "\n",
        "        previous_ratings = torch.tensor(\n",
        "            [rating if rating != \"[PAD]\" else 0 for rating in data.previous_ratings]\n",
        "        )\n",
        "\n",
        "        attention_mask = torch.tensor(data.pad_mask)\n",
        "        target_rating = data.target_rating\n",
        "        encoded_features = {\n",
        "            \"user_id\": user_id,\n",
        "            \"course_ids\": course_ids,\n",
        "            \"ratings\": previous_ratings,\n",
        "            \"age_group\": data[\"age_group_encoded\"],\n",
        "            \"sex\": data[\"sex_encoded\"],\n",
        "            \"region\": data[\"region_encoded\"],\n",
        "            \"head_employee_id\": data[\"head_employee_id_encoded\"],\n",
        "            \"exp_days_group\": data[\"exp_days_group_encoded\"],\n",
        "            \"edu_degree\": data[\"edu_degree_encoded\"],\n",
        "            \"department_id\": data[\"department_id_encoded\"],\n",
        "            \"work_online_flg\": data[\"work_online_flg\"],\n",
        "        }\n",
        "\n",
        "        return (encoded_features, attention_mask), torch.tensor(\n",
        "            target_rating, dtype=torch.float32\n",
        "        )\n"
      ],
      "metadata": {
        "id": "q6SVlfvx9eMd"
      },
      "execution_count": 66,
      "outputs": []
    },
    {
      "cell_type": "code",
      "source": [
        "train_dataset = CourseSequenceDataset(train_df, course_lookup, user_lookup)\n",
        "valid_dataset = CourseSequenceDataset(valid_df, course_lookup, user_lookup)"
      ],
      "metadata": {
        "id": "HCiXy5jpDMd9"
      },
      "execution_count": 67,
      "outputs": []
    },
    {
      "cell_type": "markdown",
      "source": [
        "Теперь мы можем изменить нашу архитектуру, включив в нее внедрения для этих функций и объединить эти внедрения с выходными данными преобразователя; затем мы передаем это в сеть прямой связи."
      ],
      "metadata": {
        "id": "gxzvZB2rNztK"
      }
    },
    {
      "cell_type": "code",
      "source": [
        "class BstTransformer(nn.Module):\n",
        "    def __init__(\n",
        "        self,\n",
        "        courses_num_unique,\n",
        "        users_num_unique,\n",
        "        sequence_length=10,\n",
        "        embedding_size=120,\n",
        "        num_transformer_layers=1,\n",
        "        ratings_range=(0.5, 5.5),\n",
        "    ):\n",
        "        super().__init__()\n",
        "        self.sequence_length = sequence_length\n",
        "        self.y_range = ratings_range\n",
        "        self.courses_embeddings = nn.Embedding(\n",
        "            courses_num_unique + 1, embedding_size, padding_idx=0\n",
        "        )\n",
        "        self.user_embeddings = nn.Embedding(users_num_unique + 1, embedding_size)\n",
        "        self.ratings_embeddings = nn.Embedding(6, embedding_size, padding_idx=0)\n",
        "        self.position_embeddings = nn.Embedding(sequence_length, embedding_size)\n",
        "\n",
        "        self.sex_embeddings = nn.Embedding(\n",
        "            len(employees.sex.unique()),\n",
        "            2,\n",
        "        )\n",
        "        self.age_group_embeddings = nn.Embedding(\n",
        "            len(employees.age_group.unique()),\n",
        "            4,\n",
        "        )\n",
        "        self.region_embeddings = nn.Embedding(\n",
        "            len(employees.region.unique()),\n",
        "            2,\n",
        "        )\n",
        "        self.head_employee_id_embeddings = nn.Embedding(\n",
        "            len(employees.head_employee_id.unique()),\n",
        "            11,\n",
        "        )\n",
        "        self.exp_days_group_embeddings = nn.Embedding(\n",
        "            len(employees.exp_days_group.unique()),\n",
        "            4,\n",
        "        )\n",
        "        self.edu_degree_embeddings = nn.Embedding(\n",
        "            len(employees.edu_degree.unique()),\n",
        "            2,\n",
        "        )\n",
        "        self.department_id_embeddings = nn.Embedding(\n",
        "            len(employees.department_id.unique()),\n",
        "            2,\n",
        "        )\n",
        "        self.work_online_flg_embeddings = nn.Embedding(\n",
        "            len(employees.work_online_flg.unique()),\n",
        "            2,\n",
        "        )\n",
        "\n",
        "        self.encoder = nn.TransformerEncoder(\n",
        "            encoder_layer=nn.TransformerEncoderLayer(\n",
        "                d_model=embedding_size,\n",
        "                nhead=12,\n",
        "                dropout=0.1,\n",
        "                batch_first=True,\n",
        "                activation=\"gelu\",\n",
        "            ),\n",
        "            num_layers=num_transformer_layers,\n",
        "        )\n",
        "\n",
        "        self.linear = nn.Sequential(\n",
        "            nn.Linear(\n",
        "                embedding_size + (embedding_size * sequence_length) + 2 + 4 + 2 + 4 + 2, # + 11 + 2 + 2\n",
        "                1024,\n",
        "            ),\n",
        "            nn.BatchNorm1d(1024),\n",
        "            nn.Mish(),\n",
        "            nn.Linear(1024, 512),\n",
        "            nn.BatchNorm1d(512),\n",
        "            nn.Mish(),\n",
        "            nn.Dropout(0.2),\n",
        "            nn.Linear(512, 256),\n",
        "            nn.BatchNorm1d(256),\n",
        "            nn.Mish(),\n",
        "            nn.Linear(256, 1),\n",
        "            nn.Sigmoid(),\n",
        "        )\n",
        "\n",
        "    def forward(self, inputs):\n",
        "        features, mask = inputs\n",
        "\n",
        "        user_id = self.user_embeddings(features[\"user_id\"])\n",
        "\n",
        "        age_group = self.age_group_embeddings(features[\"age_group\"])\n",
        "        sex = self.sex_embeddings(features[\"sex\"])\n",
        "        region = self.region_embeddings(features[\"region\"])\n",
        "        #head_employee_id = self.head_employee_id_embeddings(features[\"head_employee_id\"])\n",
        "        exp_days_group = self.exp_days_group_embeddings(features[\"exp_days_group\"])\n",
        "        edu_degree = self.edu_degree_embeddings(features[\"edu_degree\"])\n",
        "        #department_id = self.department_id_embeddings(features[\"department_id\"])\n",
        "        #work_online_flg = self.work_online_flg_embeddings(features[\"work_online_flg\"])\n",
        "\n",
        "\n",
        "        user_features = user_features = torch.cat(\n",
        "            (user_id, sex, age_group, region, exp_days_group, edu_degree), 1 #, head_employee_id, department_id, work_online_flg\n",
        "        )\n",
        "\n",
        "        course_history = features[\"course_ids\"][:, :-1]\n",
        "        target_course = features[\"course_ids\"][:, -1]\n",
        "\n",
        "        ratings = self.ratings_embeddings(features[\"ratings\"])\n",
        "\n",
        "        encoded_courses = self.courses_embeddings(course_history)\n",
        "        encoded_target_course = self.courses_embeddings(target_course)\n",
        "\n",
        "        positions = torch.arange(\n",
        "            0,\n",
        "            self.sequence_length - 1,\n",
        "            1,\n",
        "            dtype=int,\n",
        "            device=features[\"course_ids\"].device,\n",
        "        )\n",
        "        positions = self.position_embeddings(positions)\n",
        "\n",
        "        encoded_sequence_courses_with_position_and_rating = (\n",
        "            encoded_courses + ratings + positions\n",
        "        )\n",
        "        encoded_target_course = encoded_target_course.unsqueeze(1)\n",
        "\n",
        "        transformer_features = torch.cat(\n",
        "            (encoded_sequence_courses_with_position_and_rating, encoded_target_course),\n",
        "            dim=1,\n",
        "        )\n",
        "        transformer_output = self.encoder(\n",
        "            transformer_features, src_key_padding_mask=mask\n",
        "        )\n",
        "        transformer_output = torch.flatten(transformer_output, start_dim=1)\n",
        "\n",
        "        combined_output = torch.cat((transformer_output, user_features), dim=1)\n",
        "\n",
        "        rating = self.linear(combined_output)\n",
        "        rating = rating.squeeze()\n",
        "        if self.y_range is None:\n",
        "            return rating\n",
        "        else:\n",
        "            return rating * (self.y_range[1] - self.y_range[0]) + self.y_range[0]\n"
      ],
      "metadata": {
        "id": "XWaiy_WGDOPk"
      },
      "execution_count": 68,
      "outputs": []
    },
    {
      "cell_type": "code",
      "source": [
        "notebook_launcher(train_seq_model, num_processes=2)"
      ],
      "metadata": {
        "id": "zhU3bBaUE9-H",
        "colab": {
          "base_uri": "https://localhost:8080/"
        },
        "outputId": "6ed58701-631d-4b79-e205-05f3162d9c7e"
      },
      "execution_count": 69,
      "outputs": [
        {
          "output_type": "stream",
          "name": "stdout",
          "text": [
            "Launching training on one CPU.\n",
            "\n",
            "Starting training run\n",
            "\n",
            "Starting epoch 1\n"
          ]
        },
        {
          "output_type": "stream",
          "name": "stderr",
          "text": [
            "\r  0%|          | 0/211 [00:00<?, ?it/s]/usr/lib/python3.10/multiprocessing/popen_fork.py:66: RuntimeWarning: os.fork() was called. os.fork() is incompatible with multithreaded code, and JAX is multithreaded, so this will likely lead to a deadlock.\n",
            "  self.pid = os.fork()\n",
            "100%|█████████▉| 210/211 [00:23<00:00,  7.18it/s]/usr/lib/python3.10/multiprocessing/popen_fork.py:66: RuntimeWarning: os.fork() was called. os.fork() is incompatible with multithreaded code, and JAX is multithreaded, so this will likely lead to a deadlock.\n",
            "  self.pid = os.fork()\n",
            "100%|██████████| 211/211 [00:23<00:00,  8.83it/s]\n"
          ]
        },
        {
          "output_type": "stream",
          "name": "stdout",
          "text": [
            "\n",
            "train_loss_epoch: 0.9691553711891174\n"
          ]
        },
        {
          "output_type": "stream",
          "name": "stderr",
          "text": [
            "100%|██████████| 53/53 [00:02<00:00, 21.26it/s]\n"
          ]
        },
        {
          "output_type": "stream",
          "name": "stdout",
          "text": [
            "\n",
            "mse: 0.9231170415878296\n",
            "\n",
            "mae: 0.7396212816238403\n",
            "\n",
            "eval_loss_epoch: 0.9231171011924744\n",
            "\n",
            "rmse: 0.9607898009387015\n",
            "\n",
            "Starting epoch 2\n"
          ]
        },
        {
          "output_type": "stream",
          "name": "stderr",
          "text": [
            "100%|██████████| 211/211 [00:25<00:00,  8.25it/s]\n"
          ]
        },
        {
          "output_type": "stream",
          "name": "stdout",
          "text": [
            "\n",
            "train_loss_epoch: 0.893917441368103\n"
          ]
        },
        {
          "output_type": "stream",
          "name": "stderr",
          "text": [
            "100%|██████████| 53/53 [00:01<00:00, 27.49it/s]\n"
          ]
        },
        {
          "output_type": "stream",
          "name": "stdout",
          "text": [
            "\n",
            "mse: 0.9699275493621826\n",
            "\n",
            "mae: 0.7309500575065613\n",
            "\n",
            "eval_loss_epoch: 0.9699274897575378\n",
            "\n",
            "rmse: 0.9848489982541397\n",
            "\n",
            "Improvement of 0.008671224117279053 observed, resetting counter. \n",
            "Early stopping counter: 0/2\n",
            "\n",
            "Starting epoch 3\n"
          ]
        },
        {
          "output_type": "stream",
          "name": "stderr",
          "text": [
            "100%|██████████| 211/211 [00:24<00:00,  8.59it/s]\n"
          ]
        },
        {
          "output_type": "stream",
          "name": "stdout",
          "text": [
            "\n",
            "train_loss_epoch: 0.8912466168403625\n"
          ]
        },
        {
          "output_type": "stream",
          "name": "stderr",
          "text": [
            "100%|██████████| 53/53 [00:02<00:00, 26.23it/s]\n"
          ]
        },
        {
          "output_type": "stream",
          "name": "stdout",
          "text": [
            "\n",
            "mse: 0.9052268266677856\n",
            "\n",
            "mae: 0.7512356042861938\n",
            "\n",
            "eval_loss_epoch: 0.9052267670631409\n",
            "\n",
            "rmse: 0.9514340895026757\n",
            "No improvement above threshold observed, incrementing counter. \n",
            "Early stopping counter: 1/2\n",
            "\n",
            "Starting epoch 4\n"
          ]
        },
        {
          "output_type": "stream",
          "name": "stderr",
          "text": [
            "100%|██████████| 211/211 [00:26<00:00,  8.07it/s]\n"
          ]
        },
        {
          "output_type": "stream",
          "name": "stdout",
          "text": [
            "\n",
            "train_loss_epoch: 0.5940999388694763\n"
          ]
        },
        {
          "output_type": "stream",
          "name": "stderr",
          "text": [
            "100%|██████████| 53/53 [00:01<00:00, 27.28it/s]"
          ]
        },
        {
          "output_type": "stream",
          "name": "stdout",
          "text": [
            "\n",
            "mse: 0.9380069971084595\n",
            "\n",
            "mae: 0.7446690201759338\n",
            "\n",
            "eval_loss_epoch: 0.9380069971084595\n",
            "\n",
            "rmse: 0.9685076133456357\n",
            "No improvement above threshold observed, incrementing counter. \n",
            "Early stopping counter: 2/2\n",
            "Stopping training due to no improvement after 2 epochs\n",
            "Finishing training run\n",
            "Loading checkpoint with mae: 0.7309500575065613 from epoch 2\n"
          ]
        },
        {
          "output_type": "stream",
          "name": "stderr",
          "text": [
            "\n"
          ]
        }
      ]
    },
    {
      "cell_type": "markdown",
      "source": [
        "Видим улучшение"
      ],
      "metadata": {
        "id": "ka65cMGpN6XV"
      }
    },
    {
      "cell_type": "markdown",
      "source": [
        "**Получение рекомендаций**"
      ],
      "metadata": {
        "id": "7gPpJs0HZxqS"
      }
    },
    {
      "cell_type": "code",
      "source": [
        "ratings_df[ratings_df['user_id']=='00411460-f7c9-2d21-24a6-7ea0f4cb5f85'].title.unique()"
      ],
      "metadata": {
        "colab": {
          "base_uri": "https://localhost:8080/"
        },
        "id": "TLNhrUhWV_sg",
        "outputId": "6841cba3-b16f-4f49-a9cc-5a08e96c657d"
      },
      "execution_count": 70,
      "outputs": [
        {
          "output_type": "execute_result",
          "data": {
            "text/plain": [
              "array(['Построение долгосрочных отношений с клиентами: Техники и методы',\n",
              "       'Развитие навыков эмпатии в клиентском обслуживании',\n",
              "       'Основы психологии клиентского обслуживания',\n",
              "       'Использование эмоционального интеллекта в общении с клиентами',\n",
              "       'Эффективное планирование и организация работы в клиентском сервисе'],\n",
              "      dtype=object)"
            ]
          },
          "metadata": {},
          "execution_count": 70
        }
      ]
    },
    {
      "cell_type": "code",
      "source": [
        "def train_seq_model():\n",
        "    model = BstTransformer(\n",
        "        len(course_lookup), len(user_lookup), sequence_length, embedding_size=120\n",
        "    )\n",
        "    loss_func = torch.nn.MSELoss()\n",
        "\n",
        "    optimizer = torch.optim.AdamW(model.parameters(), lr=0.01)\n",
        "\n",
        "    create_sched_fn = partial(\n",
        "        torch.optim.lr_scheduler.OneCycleLR,\n",
        "        max_lr=0.01,\n",
        "        epochs=TrainerPlaceholderValues.NUM_EPOCHS,\n",
        "        steps_per_epoch=TrainerPlaceholderValues.NUM_UPDATE_STEPS_PER_EPOCH,\n",
        "    )\n",
        "\n",
        "    trainer = Trainer(\n",
        "        model=model,\n",
        "        loss_func=loss_func,\n",
        "        optimizer=optimizer,\n",
        "        callbacks=(\n",
        "            RecommenderMetricsCallback,\n",
        "            *DEFAULT_CALLBACKS,\n",
        "            SaveBestModelCallback(watch_metric=\"mae\"),\n",
        "            EarlyStoppingCallback(\n",
        "                early_stopping_patience=2,\n",
        "                early_stopping_threshold=0.001,\n",
        "                watch_metric=\"mae\",\n",
        "            ),\n",
        "        ),\n",
        "    )\n",
        "\n",
        "    trainer.train(\n",
        "        train_dataset=train_dataset,\n",
        "        eval_dataset=valid_dataset,\n",
        "        num_epochs=10,\n",
        "        per_device_batch_size=32,\n",
        "        create_scheduler_fn=create_sched_fn,\n",
        "    )\n",
        "    PATH = \"entire_model.pt\"\n",
        "    torch.save(model, PATH)\n"
      ],
      "metadata": {
        "id": "k2e_cVOLchII"
      },
      "execution_count": 72,
      "outputs": []
    },
    {
      "cell_type": "code",
      "source": [
        "notebook_launcher(train_seq_model, num_processes=2)"
      ],
      "metadata": {
        "colab": {
          "base_uri": "https://localhost:8080/"
        },
        "id": "pEJKuAnbeuCt",
        "outputId": "01a0c1b6-6145-4262-b254-a897ac313d49"
      },
      "execution_count": 73,
      "outputs": [
        {
          "output_type": "stream",
          "name": "stdout",
          "text": [
            "Launching training on one CPU.\n",
            "\n",
            "Starting training run\n",
            "\n",
            "Starting epoch 1\n"
          ]
        },
        {
          "output_type": "stream",
          "name": "stderr",
          "text": [
            "100%|██████████| 211/211 [00:23<00:00,  8.90it/s]\n"
          ]
        },
        {
          "output_type": "stream",
          "name": "stdout",
          "text": [
            "\n",
            "train_loss_epoch: 0.9691553711891174\n"
          ]
        },
        {
          "output_type": "stream",
          "name": "stderr",
          "text": [
            "100%|██████████| 53/53 [00:02<00:00, 26.42it/s]\n"
          ]
        },
        {
          "output_type": "stream",
          "name": "stdout",
          "text": [
            "\n",
            "mse: 0.9231170415878296\n",
            "\n",
            "mae: 0.7396212816238403\n",
            "\n",
            "eval_loss_epoch: 0.9231171011924744\n",
            "\n",
            "rmse: 0.9607898009387015\n",
            "\n",
            "Starting epoch 2\n"
          ]
        },
        {
          "output_type": "stream",
          "name": "stderr",
          "text": [
            "100%|██████████| 211/211 [00:24<00:00,  8.55it/s]\n"
          ]
        },
        {
          "output_type": "stream",
          "name": "stdout",
          "text": [
            "\n",
            "train_loss_epoch: 0.893917441368103\n"
          ]
        },
        {
          "output_type": "stream",
          "name": "stderr",
          "text": [
            "100%|██████████| 53/53 [00:01<00:00, 26.54it/s]\n"
          ]
        },
        {
          "output_type": "stream",
          "name": "stdout",
          "text": [
            "\n",
            "mse: 0.9699275493621826\n",
            "\n",
            "mae: 0.7309500575065613\n",
            "\n",
            "eval_loss_epoch: 0.9699274897575378\n",
            "\n",
            "rmse: 0.9848489982541397\n",
            "\n",
            "Improvement of 0.008671224117279053 observed, resetting counter. \n",
            "Early stopping counter: 0/2\n",
            "\n",
            "Starting epoch 3\n"
          ]
        },
        {
          "output_type": "stream",
          "name": "stderr",
          "text": [
            "100%|██████████| 211/211 [00:24<00:00,  8.57it/s]\n"
          ]
        },
        {
          "output_type": "stream",
          "name": "stdout",
          "text": [
            "\n",
            "train_loss_epoch: 0.8912466168403625\n"
          ]
        },
        {
          "output_type": "stream",
          "name": "stderr",
          "text": [
            "100%|██████████| 53/53 [00:01<00:00, 26.58it/s]\n"
          ]
        },
        {
          "output_type": "stream",
          "name": "stdout",
          "text": [
            "\n",
            "mse: 0.9052268266677856\n",
            "\n",
            "mae: 0.7512356042861938\n",
            "\n",
            "eval_loss_epoch: 0.9052267670631409\n",
            "\n",
            "rmse: 0.9514340895026757\n",
            "No improvement above threshold observed, incrementing counter. \n",
            "Early stopping counter: 1/2\n",
            "\n",
            "Starting epoch 4\n"
          ]
        },
        {
          "output_type": "stream",
          "name": "stderr",
          "text": [
            "100%|██████████| 211/211 [00:24<00:00,  8.52it/s]\n"
          ]
        },
        {
          "output_type": "stream",
          "name": "stdout",
          "text": [
            "\n",
            "train_loss_epoch: 0.5940999388694763\n"
          ]
        },
        {
          "output_type": "stream",
          "name": "stderr",
          "text": [
            "100%|██████████| 53/53 [00:01<00:00, 26.54it/s]\n"
          ]
        },
        {
          "output_type": "stream",
          "name": "stdout",
          "text": [
            "\n",
            "mse: 0.9380069971084595\n",
            "\n",
            "mae: 0.7446690201759338\n",
            "\n",
            "eval_loss_epoch: 0.9380069971084595\n",
            "\n",
            "rmse: 0.9685076133456357\n",
            "No improvement above threshold observed, incrementing counter. \n",
            "Early stopping counter: 2/2\n",
            "Stopping training due to no improvement after 2 epochs\n",
            "Finishing training run\n",
            "Loading checkpoint with mae: 0.7309500575065613 from epoch 2\n"
          ]
        }
      ]
    },
    {
      "cell_type": "code",
      "source": [
        "model = BstTransformer(\n",
        "        len(course_lookup), len(user_lookup), sequence_length, embedding_size=120\n",
        "    )\n",
        "PATH = \"entire_model.pt\"\n",
        "model = torch.load(PATH)\n",
        "model.eval()"
      ],
      "metadata": {
        "colab": {
          "base_uri": "https://localhost:8080/"
        },
        "id": "7PjNGrbTe_7s",
        "outputId": "54d89a71-a010-4ac1-bdff-fc55d508ca67"
      },
      "execution_count": 74,
      "outputs": [
        {
          "output_type": "execute_result",
          "data": {
            "text/plain": [
              "BstTransformer(\n",
              "  (courses_embeddings): Embedding(94, 120, padding_idx=0)\n",
              "  (user_embeddings): Embedding(1678, 120)\n",
              "  (ratings_embeddings): Embedding(6, 120, padding_idx=0)\n",
              "  (position_embeddings): Embedding(10, 120)\n",
              "  (sex_embeddings): Embedding(2, 2)\n",
              "  (age_group_embeddings): Embedding(5, 4)\n",
              "  (region_embeddings): Embedding(8, 2)\n",
              "  (head_employee_id_embeddings): Embedding(132, 11)\n",
              "  (exp_days_group_embeddings): Embedding(10, 4)\n",
              "  (edu_degree_embeddings): Embedding(3, 2)\n",
              "  (department_id_embeddings): Embedding(3, 2)\n",
              "  (work_online_flg_embeddings): Embedding(2, 2)\n",
              "  (encoder): TransformerEncoder(\n",
              "    (layers): ModuleList(\n",
              "      (0): TransformerEncoderLayer(\n",
              "        (self_attn): MultiheadAttention(\n",
              "          (out_proj): NonDynamicallyQuantizableLinear(in_features=120, out_features=120, bias=True)\n",
              "        )\n",
              "        (linear1): Linear(in_features=120, out_features=2048, bias=True)\n",
              "        (dropout): Dropout(p=0.1, inplace=False)\n",
              "        (linear2): Linear(in_features=2048, out_features=120, bias=True)\n",
              "        (norm1): LayerNorm((120,), eps=1e-05, elementwise_affine=True)\n",
              "        (norm2): LayerNorm((120,), eps=1e-05, elementwise_affine=True)\n",
              "        (dropout1): Dropout(p=0.1, inplace=False)\n",
              "        (dropout2): Dropout(p=0.1, inplace=False)\n",
              "      )\n",
              "    )\n",
              "  )\n",
              "  (linear): Sequential(\n",
              "    (0): Linear(in_features=1334, out_features=1024, bias=True)\n",
              "    (1): BatchNorm1d(1024, eps=1e-05, momentum=0.1, affine=True, track_running_stats=True)\n",
              "    (2): Mish()\n",
              "    (3): Linear(in_features=1024, out_features=512, bias=True)\n",
              "    (4): BatchNorm1d(512, eps=1e-05, momentum=0.1, affine=True, track_running_stats=True)\n",
              "    (5): Mish()\n",
              "    (6): Dropout(p=0.2, inplace=False)\n",
              "    (7): Linear(in_features=512, out_features=256, bias=True)\n",
              "    (8): BatchNorm1d(256, eps=1e-05, momentum=0.1, affine=True, track_running_stats=True)\n",
              "    (9): Mish()\n",
              "    (10): Linear(in_features=256, out_features=1, bias=True)\n",
              "    (11): Sigmoid()\n",
              "  )\n",
              ")"
            ]
          },
          "metadata": {},
          "execution_count": 74
        }
      ]
    },
    {
      "cell_type": "code",
      "source": [
        "from torch.utils.data import DataLoader\n",
        "from datetime import datetime\n",
        "\n",
        "def inference(user_id, title):\n",
        "  user_rating_df = ratings_df[ratings_df['user_id'] == user_id]\n",
        "  user_rating_df['is_valid'] = False\n",
        "  user_fields = pd.DataFrame([[user_id, title, ratings_df.unix_timestamp.max(), 0, True]],\n",
        "                              columns=['user_id', 'title', 'unix_timestamp', 'rating', 'is_valid'])\n",
        "\n",
        "  final_df = pd.concat([user_rating_df, user_fields], axis=0)\n",
        "\n",
        "  # print(valid_df)\n",
        "  grouped_ratings = final_df.sort_values(by='unix_timestamp').groupby('user_id').agg(tuple).reset_index()\n",
        "  # grouped_ratings = ratings_df.sort_values(by='unix_timestamp').groupby('user_id').agg(tuple).reset_index()\n",
        "  grouped_cols = ['title', 'rating', 'unix_timestamp', 'is_valid']\n",
        "  for col in grouped_cols:\n",
        "      grouped_ratings[col] = grouped_ratings[col].apply(lambda x: create_sequences(x, sequence_length))\n",
        "\n",
        "  exploded_ratings = grouped_ratings[['user_id', 'title']].explode('title', ignore_index=True)\n",
        "  dfs = [grouped_ratings[[col]].explode(col, ignore_index=True) for col in grouped_cols[1:]]\n",
        "  seq_df = pd.concat([exploded_ratings, *dfs], axis=1)\n",
        "  seq_df['is_valid'] = seq_df['is_valid'].apply(get_last_entry)\n",
        "\n",
        "  seq_df['target_rating'] = seq_df['rating'].apply(get_last_entry)\n",
        "  seq_df['previous_ratings'] = seq_df['rating'].apply(lambda seq: seq[:-1])\n",
        "  seq_df.drop(columns=['rating'], inplace=True)\n",
        "\n",
        "  seq_df['pad_mask'] = seq_df['title'].apply(lambda x: (np.array(x) == '[PAD]'))\n",
        "  seq_df['num_pads'] = seq_df['pad_mask'].apply(sum)\n",
        "  seq_df['pad_mask'] = seq_df['pad_mask'].apply(lambda x: x.tolist())\n",
        "\n",
        "  seq_with_user_features = pd.merge(seq_df, prep, how='left', on='user_id')\n",
        "  valid_df = seq_with_user_features[seq_with_user_features.is_valid == True]\n",
        "  valid_dataset = CourseSequenceDataset(valid_df, course_lookup, user_lookup)\n",
        "  valid_loader = DataLoader(valid_dataset, batch_size=1, shuffle=True)\n",
        "  # print(valid_df)\n",
        "  # return 1\n",
        "  for test_inputs, test_labels in valid_loader:\n",
        "    return model(test_inputs)\n"
      ],
      "metadata": {
        "id": "VyP3fqAVZOq3"
      },
      "execution_count": 85,
      "outputs": []
    },
    {
      "cell_type": "code",
      "source": [
        "res=inference('00411460-f7c9-2d21-24a6-7ea0f4cb5f85','Построение эффективных команд в клиентском обслуживании')"
      ],
      "metadata": {
        "colab": {
          "base_uri": "https://localhost:8080/"
        },
        "id": "kdYVV8igZoaS",
        "outputId": "4def218c-6bba-47fa-c7aa-10d2836e0972"
      },
      "execution_count": 86,
      "outputs": [
        {
          "output_type": "stream",
          "name": "stderr",
          "text": [
            "<ipython-input-85-e2434bc981b4>:6: SettingWithCopyWarning: \n",
            "A value is trying to be set on a copy of a slice from a DataFrame.\n",
            "Try using .loc[row_indexer,col_indexer] = value instead\n",
            "\n",
            "See the caveats in the documentation: https://pandas.pydata.org/pandas-docs/stable/user_guide/indexing.html#returning-a-view-versus-a-copy\n",
            "  user_rating_df['is_valid'] = False\n"
          ]
        }
      ]
    },
    {
      "cell_type": "code",
      "source": [
        "res.detach().numpy().tolist()"
      ],
      "metadata": {
        "colab": {
          "base_uri": "https://localhost:8080/"
        },
        "id": "kaPHLcqkqc6p",
        "outputId": "3fdc6b3b-7bf6-41b4-b1a8-b65d320f1247"
      },
      "execution_count": 96,
      "outputs": [
        {
          "output_type": "execute_result",
          "data": {
            "text/plain": [
              "4.246519088745117"
            ]
          },
          "metadata": {},
          "execution_count": 96
        }
      ]
    },
    {
      "cell_type": "code",
      "source": [
        "result = {}"
      ],
      "metadata": {
        "id": "cx5Gs9Cwq-YE"
      },
      "execution_count": 93,
      "outputs": []
    },
    {
      "cell_type": "code",
      "source": [
        "for course in ratings_df.title.unique():\n",
        "  res = inference('00411460-f7c9-2d21-24a6-7ea0f4cb5f85',course)\n",
        "  result[course] = res.detach().numpy().tolist()\n"
      ],
      "metadata": {
        "colab": {
          "base_uri": "https://localhost:8080/"
        },
        "id": "wCFRITVaiQRd",
        "outputId": "0d115f4c-43fb-4d60-ad43-d4babb5a8864"
      },
      "execution_count": 97,
      "outputs": [
        {
          "output_type": "stream",
          "name": "stderr",
          "text": [
            "<ipython-input-85-e2434bc981b4>:6: SettingWithCopyWarning: \n",
            "A value is trying to be set on a copy of a slice from a DataFrame.\n",
            "Try using .loc[row_indexer,col_indexer] = value instead\n",
            "\n",
            "See the caveats in the documentation: https://pandas.pydata.org/pandas-docs/stable/user_guide/indexing.html#returning-a-view-versus-a-copy\n",
            "  user_rating_df['is_valid'] = False\n",
            "<ipython-input-85-e2434bc981b4>:6: SettingWithCopyWarning: \n",
            "A value is trying to be set on a copy of a slice from a DataFrame.\n",
            "Try using .loc[row_indexer,col_indexer] = value instead\n",
            "\n",
            "See the caveats in the documentation: https://pandas.pydata.org/pandas-docs/stable/user_guide/indexing.html#returning-a-view-versus-a-copy\n",
            "  user_rating_df['is_valid'] = False\n",
            "<ipython-input-85-e2434bc981b4>:6: SettingWithCopyWarning: \n",
            "A value is trying to be set on a copy of a slice from a DataFrame.\n",
            "Try using .loc[row_indexer,col_indexer] = value instead\n",
            "\n",
            "See the caveats in the documentation: https://pandas.pydata.org/pandas-docs/stable/user_guide/indexing.html#returning-a-view-versus-a-copy\n",
            "  user_rating_df['is_valid'] = False\n",
            "<ipython-input-85-e2434bc981b4>:6: SettingWithCopyWarning: \n",
            "A value is trying to be set on a copy of a slice from a DataFrame.\n",
            "Try using .loc[row_indexer,col_indexer] = value instead\n",
            "\n",
            "See the caveats in the documentation: https://pandas.pydata.org/pandas-docs/stable/user_guide/indexing.html#returning-a-view-versus-a-copy\n",
            "  user_rating_df['is_valid'] = False\n",
            "<ipython-input-85-e2434bc981b4>:6: SettingWithCopyWarning: \n",
            "A value is trying to be set on a copy of a slice from a DataFrame.\n",
            "Try using .loc[row_indexer,col_indexer] = value instead\n",
            "\n",
            "See the caveats in the documentation: https://pandas.pydata.org/pandas-docs/stable/user_guide/indexing.html#returning-a-view-versus-a-copy\n",
            "  user_rating_df['is_valid'] = False\n",
            "<ipython-input-85-e2434bc981b4>:6: SettingWithCopyWarning: \n",
            "A value is trying to be set on a copy of a slice from a DataFrame.\n",
            "Try using .loc[row_indexer,col_indexer] = value instead\n",
            "\n",
            "See the caveats in the documentation: https://pandas.pydata.org/pandas-docs/stable/user_guide/indexing.html#returning-a-view-versus-a-copy\n",
            "  user_rating_df['is_valid'] = False\n",
            "<ipython-input-85-e2434bc981b4>:6: SettingWithCopyWarning: \n",
            "A value is trying to be set on a copy of a slice from a DataFrame.\n",
            "Try using .loc[row_indexer,col_indexer] = value instead\n",
            "\n",
            "See the caveats in the documentation: https://pandas.pydata.org/pandas-docs/stable/user_guide/indexing.html#returning-a-view-versus-a-copy\n",
            "  user_rating_df['is_valid'] = False\n",
            "<ipython-input-85-e2434bc981b4>:6: SettingWithCopyWarning: \n",
            "A value is trying to be set on a copy of a slice from a DataFrame.\n",
            "Try using .loc[row_indexer,col_indexer] = value instead\n",
            "\n",
            "See the caveats in the documentation: https://pandas.pydata.org/pandas-docs/stable/user_guide/indexing.html#returning-a-view-versus-a-copy\n",
            "  user_rating_df['is_valid'] = False\n",
            "<ipython-input-85-e2434bc981b4>:6: SettingWithCopyWarning: \n",
            "A value is trying to be set on a copy of a slice from a DataFrame.\n",
            "Try using .loc[row_indexer,col_indexer] = value instead\n",
            "\n",
            "See the caveats in the documentation: https://pandas.pydata.org/pandas-docs/stable/user_guide/indexing.html#returning-a-view-versus-a-copy\n",
            "  user_rating_df['is_valid'] = False\n",
            "<ipython-input-85-e2434bc981b4>:6: SettingWithCopyWarning: \n",
            "A value is trying to be set on a copy of a slice from a DataFrame.\n",
            "Try using .loc[row_indexer,col_indexer] = value instead\n",
            "\n",
            "See the caveats in the documentation: https://pandas.pydata.org/pandas-docs/stable/user_guide/indexing.html#returning-a-view-versus-a-copy\n",
            "  user_rating_df['is_valid'] = False\n",
            "<ipython-input-85-e2434bc981b4>:6: SettingWithCopyWarning: \n",
            "A value is trying to be set on a copy of a slice from a DataFrame.\n",
            "Try using .loc[row_indexer,col_indexer] = value instead\n",
            "\n",
            "See the caveats in the documentation: https://pandas.pydata.org/pandas-docs/stable/user_guide/indexing.html#returning-a-view-versus-a-copy\n",
            "  user_rating_df['is_valid'] = False\n",
            "<ipython-input-85-e2434bc981b4>:6: SettingWithCopyWarning: \n",
            "A value is trying to be set on a copy of a slice from a DataFrame.\n",
            "Try using .loc[row_indexer,col_indexer] = value instead\n",
            "\n",
            "See the caveats in the documentation: https://pandas.pydata.org/pandas-docs/stable/user_guide/indexing.html#returning-a-view-versus-a-copy\n",
            "  user_rating_df['is_valid'] = False\n",
            "<ipython-input-85-e2434bc981b4>:6: SettingWithCopyWarning: \n",
            "A value is trying to be set on a copy of a slice from a DataFrame.\n",
            "Try using .loc[row_indexer,col_indexer] = value instead\n",
            "\n",
            "See the caveats in the documentation: https://pandas.pydata.org/pandas-docs/stable/user_guide/indexing.html#returning-a-view-versus-a-copy\n",
            "  user_rating_df['is_valid'] = False\n",
            "<ipython-input-85-e2434bc981b4>:6: SettingWithCopyWarning: \n",
            "A value is trying to be set on a copy of a slice from a DataFrame.\n",
            "Try using .loc[row_indexer,col_indexer] = value instead\n",
            "\n",
            "See the caveats in the documentation: https://pandas.pydata.org/pandas-docs/stable/user_guide/indexing.html#returning-a-view-versus-a-copy\n",
            "  user_rating_df['is_valid'] = False\n",
            "<ipython-input-85-e2434bc981b4>:6: SettingWithCopyWarning: \n",
            "A value is trying to be set on a copy of a slice from a DataFrame.\n",
            "Try using .loc[row_indexer,col_indexer] = value instead\n",
            "\n",
            "See the caveats in the documentation: https://pandas.pydata.org/pandas-docs/stable/user_guide/indexing.html#returning-a-view-versus-a-copy\n",
            "  user_rating_df['is_valid'] = False\n",
            "<ipython-input-85-e2434bc981b4>:6: SettingWithCopyWarning: \n",
            "A value is trying to be set on a copy of a slice from a DataFrame.\n",
            "Try using .loc[row_indexer,col_indexer] = value instead\n",
            "\n",
            "See the caveats in the documentation: https://pandas.pydata.org/pandas-docs/stable/user_guide/indexing.html#returning-a-view-versus-a-copy\n",
            "  user_rating_df['is_valid'] = False\n",
            "<ipython-input-85-e2434bc981b4>:6: SettingWithCopyWarning: \n",
            "A value is trying to be set on a copy of a slice from a DataFrame.\n",
            "Try using .loc[row_indexer,col_indexer] = value instead\n",
            "\n",
            "See the caveats in the documentation: https://pandas.pydata.org/pandas-docs/stable/user_guide/indexing.html#returning-a-view-versus-a-copy\n",
            "  user_rating_df['is_valid'] = False\n",
            "<ipython-input-85-e2434bc981b4>:6: SettingWithCopyWarning: \n",
            "A value is trying to be set on a copy of a slice from a DataFrame.\n",
            "Try using .loc[row_indexer,col_indexer] = value instead\n",
            "\n",
            "See the caveats in the documentation: https://pandas.pydata.org/pandas-docs/stable/user_guide/indexing.html#returning-a-view-versus-a-copy\n",
            "  user_rating_df['is_valid'] = False\n",
            "<ipython-input-85-e2434bc981b4>:6: SettingWithCopyWarning: \n",
            "A value is trying to be set on a copy of a slice from a DataFrame.\n",
            "Try using .loc[row_indexer,col_indexer] = value instead\n",
            "\n",
            "See the caveats in the documentation: https://pandas.pydata.org/pandas-docs/stable/user_guide/indexing.html#returning-a-view-versus-a-copy\n",
            "  user_rating_df['is_valid'] = False\n",
            "<ipython-input-85-e2434bc981b4>:6: SettingWithCopyWarning: \n",
            "A value is trying to be set on a copy of a slice from a DataFrame.\n",
            "Try using .loc[row_indexer,col_indexer] = value instead\n",
            "\n",
            "See the caveats in the documentation: https://pandas.pydata.org/pandas-docs/stable/user_guide/indexing.html#returning-a-view-versus-a-copy\n",
            "  user_rating_df['is_valid'] = False\n",
            "<ipython-input-85-e2434bc981b4>:6: SettingWithCopyWarning: \n",
            "A value is trying to be set on a copy of a slice from a DataFrame.\n",
            "Try using .loc[row_indexer,col_indexer] = value instead\n",
            "\n",
            "See the caveats in the documentation: https://pandas.pydata.org/pandas-docs/stable/user_guide/indexing.html#returning-a-view-versus-a-copy\n",
            "  user_rating_df['is_valid'] = False\n",
            "<ipython-input-85-e2434bc981b4>:6: SettingWithCopyWarning: \n",
            "A value is trying to be set on a copy of a slice from a DataFrame.\n",
            "Try using .loc[row_indexer,col_indexer] = value instead\n",
            "\n",
            "See the caveats in the documentation: https://pandas.pydata.org/pandas-docs/stable/user_guide/indexing.html#returning-a-view-versus-a-copy\n",
            "  user_rating_df['is_valid'] = False\n",
            "<ipython-input-85-e2434bc981b4>:6: SettingWithCopyWarning: \n",
            "A value is trying to be set on a copy of a slice from a DataFrame.\n",
            "Try using .loc[row_indexer,col_indexer] = value instead\n",
            "\n",
            "See the caveats in the documentation: https://pandas.pydata.org/pandas-docs/stable/user_guide/indexing.html#returning-a-view-versus-a-copy\n",
            "  user_rating_df['is_valid'] = False\n",
            "<ipython-input-85-e2434bc981b4>:6: SettingWithCopyWarning: \n",
            "A value is trying to be set on a copy of a slice from a DataFrame.\n",
            "Try using .loc[row_indexer,col_indexer] = value instead\n",
            "\n",
            "See the caveats in the documentation: https://pandas.pydata.org/pandas-docs/stable/user_guide/indexing.html#returning-a-view-versus-a-copy\n",
            "  user_rating_df['is_valid'] = False\n",
            "<ipython-input-85-e2434bc981b4>:6: SettingWithCopyWarning: \n",
            "A value is trying to be set on a copy of a slice from a DataFrame.\n",
            "Try using .loc[row_indexer,col_indexer] = value instead\n",
            "\n",
            "See the caveats in the documentation: https://pandas.pydata.org/pandas-docs/stable/user_guide/indexing.html#returning-a-view-versus-a-copy\n",
            "  user_rating_df['is_valid'] = False\n",
            "<ipython-input-85-e2434bc981b4>:6: SettingWithCopyWarning: \n",
            "A value is trying to be set on a copy of a slice from a DataFrame.\n",
            "Try using .loc[row_indexer,col_indexer] = value instead\n",
            "\n",
            "See the caveats in the documentation: https://pandas.pydata.org/pandas-docs/stable/user_guide/indexing.html#returning-a-view-versus-a-copy\n",
            "  user_rating_df['is_valid'] = False\n",
            "<ipython-input-85-e2434bc981b4>:6: SettingWithCopyWarning: \n",
            "A value is trying to be set on a copy of a slice from a DataFrame.\n",
            "Try using .loc[row_indexer,col_indexer] = value instead\n",
            "\n",
            "See the caveats in the documentation: https://pandas.pydata.org/pandas-docs/stable/user_guide/indexing.html#returning-a-view-versus-a-copy\n",
            "  user_rating_df['is_valid'] = False\n",
            "<ipython-input-85-e2434bc981b4>:6: SettingWithCopyWarning: \n",
            "A value is trying to be set on a copy of a slice from a DataFrame.\n",
            "Try using .loc[row_indexer,col_indexer] = value instead\n",
            "\n",
            "See the caveats in the documentation: https://pandas.pydata.org/pandas-docs/stable/user_guide/indexing.html#returning-a-view-versus-a-copy\n",
            "  user_rating_df['is_valid'] = False\n",
            "<ipython-input-85-e2434bc981b4>:6: SettingWithCopyWarning: \n",
            "A value is trying to be set on a copy of a slice from a DataFrame.\n",
            "Try using .loc[row_indexer,col_indexer] = value instead\n",
            "\n",
            "See the caveats in the documentation: https://pandas.pydata.org/pandas-docs/stable/user_guide/indexing.html#returning-a-view-versus-a-copy\n",
            "  user_rating_df['is_valid'] = False\n",
            "<ipython-input-85-e2434bc981b4>:6: SettingWithCopyWarning: \n",
            "A value is trying to be set on a copy of a slice from a DataFrame.\n",
            "Try using .loc[row_indexer,col_indexer] = value instead\n",
            "\n",
            "See the caveats in the documentation: https://pandas.pydata.org/pandas-docs/stable/user_guide/indexing.html#returning-a-view-versus-a-copy\n",
            "  user_rating_df['is_valid'] = False\n",
            "<ipython-input-85-e2434bc981b4>:6: SettingWithCopyWarning: \n",
            "A value is trying to be set on a copy of a slice from a DataFrame.\n",
            "Try using .loc[row_indexer,col_indexer] = value instead\n",
            "\n",
            "See the caveats in the documentation: https://pandas.pydata.org/pandas-docs/stable/user_guide/indexing.html#returning-a-view-versus-a-copy\n",
            "  user_rating_df['is_valid'] = False\n",
            "<ipython-input-85-e2434bc981b4>:6: SettingWithCopyWarning: \n",
            "A value is trying to be set on a copy of a slice from a DataFrame.\n",
            "Try using .loc[row_indexer,col_indexer] = value instead\n",
            "\n",
            "See the caveats in the documentation: https://pandas.pydata.org/pandas-docs/stable/user_guide/indexing.html#returning-a-view-versus-a-copy\n",
            "  user_rating_df['is_valid'] = False\n",
            "<ipython-input-85-e2434bc981b4>:6: SettingWithCopyWarning: \n",
            "A value is trying to be set on a copy of a slice from a DataFrame.\n",
            "Try using .loc[row_indexer,col_indexer] = value instead\n",
            "\n",
            "See the caveats in the documentation: https://pandas.pydata.org/pandas-docs/stable/user_guide/indexing.html#returning-a-view-versus-a-copy\n",
            "  user_rating_df['is_valid'] = False\n",
            "<ipython-input-85-e2434bc981b4>:6: SettingWithCopyWarning: \n",
            "A value is trying to be set on a copy of a slice from a DataFrame.\n",
            "Try using .loc[row_indexer,col_indexer] = value instead\n",
            "\n",
            "See the caveats in the documentation: https://pandas.pydata.org/pandas-docs/stable/user_guide/indexing.html#returning-a-view-versus-a-copy\n",
            "  user_rating_df['is_valid'] = False\n",
            "<ipython-input-85-e2434bc981b4>:6: SettingWithCopyWarning: \n",
            "A value is trying to be set on a copy of a slice from a DataFrame.\n",
            "Try using .loc[row_indexer,col_indexer] = value instead\n",
            "\n",
            "See the caveats in the documentation: https://pandas.pydata.org/pandas-docs/stable/user_guide/indexing.html#returning-a-view-versus-a-copy\n",
            "  user_rating_df['is_valid'] = False\n",
            "<ipython-input-85-e2434bc981b4>:6: SettingWithCopyWarning: \n",
            "A value is trying to be set on a copy of a slice from a DataFrame.\n",
            "Try using .loc[row_indexer,col_indexer] = value instead\n",
            "\n",
            "See the caveats in the documentation: https://pandas.pydata.org/pandas-docs/stable/user_guide/indexing.html#returning-a-view-versus-a-copy\n",
            "  user_rating_df['is_valid'] = False\n",
            "<ipython-input-85-e2434bc981b4>:6: SettingWithCopyWarning: \n",
            "A value is trying to be set on a copy of a slice from a DataFrame.\n",
            "Try using .loc[row_indexer,col_indexer] = value instead\n",
            "\n",
            "See the caveats in the documentation: https://pandas.pydata.org/pandas-docs/stable/user_guide/indexing.html#returning-a-view-versus-a-copy\n",
            "  user_rating_df['is_valid'] = False\n",
            "<ipython-input-85-e2434bc981b4>:6: SettingWithCopyWarning: \n",
            "A value is trying to be set on a copy of a slice from a DataFrame.\n",
            "Try using .loc[row_indexer,col_indexer] = value instead\n",
            "\n",
            "See the caveats in the documentation: https://pandas.pydata.org/pandas-docs/stable/user_guide/indexing.html#returning-a-view-versus-a-copy\n",
            "  user_rating_df['is_valid'] = False\n",
            "<ipython-input-85-e2434bc981b4>:6: SettingWithCopyWarning: \n",
            "A value is trying to be set on a copy of a slice from a DataFrame.\n",
            "Try using .loc[row_indexer,col_indexer] = value instead\n",
            "\n",
            "See the caveats in the documentation: https://pandas.pydata.org/pandas-docs/stable/user_guide/indexing.html#returning-a-view-versus-a-copy\n",
            "  user_rating_df['is_valid'] = False\n",
            "<ipython-input-85-e2434bc981b4>:6: SettingWithCopyWarning: \n",
            "A value is trying to be set on a copy of a slice from a DataFrame.\n",
            "Try using .loc[row_indexer,col_indexer] = value instead\n",
            "\n",
            "See the caveats in the documentation: https://pandas.pydata.org/pandas-docs/stable/user_guide/indexing.html#returning-a-view-versus-a-copy\n",
            "  user_rating_df['is_valid'] = False\n",
            "<ipython-input-85-e2434bc981b4>:6: SettingWithCopyWarning: \n",
            "A value is trying to be set on a copy of a slice from a DataFrame.\n",
            "Try using .loc[row_indexer,col_indexer] = value instead\n",
            "\n",
            "See the caveats in the documentation: https://pandas.pydata.org/pandas-docs/stable/user_guide/indexing.html#returning-a-view-versus-a-copy\n",
            "  user_rating_df['is_valid'] = False\n",
            "<ipython-input-85-e2434bc981b4>:6: SettingWithCopyWarning: \n",
            "A value is trying to be set on a copy of a slice from a DataFrame.\n",
            "Try using .loc[row_indexer,col_indexer] = value instead\n",
            "\n",
            "See the caveats in the documentation: https://pandas.pydata.org/pandas-docs/stable/user_guide/indexing.html#returning-a-view-versus-a-copy\n",
            "  user_rating_df['is_valid'] = False\n",
            "<ipython-input-85-e2434bc981b4>:6: SettingWithCopyWarning: \n",
            "A value is trying to be set on a copy of a slice from a DataFrame.\n",
            "Try using .loc[row_indexer,col_indexer] = value instead\n",
            "\n",
            "See the caveats in the documentation: https://pandas.pydata.org/pandas-docs/stable/user_guide/indexing.html#returning-a-view-versus-a-copy\n",
            "  user_rating_df['is_valid'] = False\n",
            "<ipython-input-85-e2434bc981b4>:6: SettingWithCopyWarning: \n",
            "A value is trying to be set on a copy of a slice from a DataFrame.\n",
            "Try using .loc[row_indexer,col_indexer] = value instead\n",
            "\n",
            "See the caveats in the documentation: https://pandas.pydata.org/pandas-docs/stable/user_guide/indexing.html#returning-a-view-versus-a-copy\n",
            "  user_rating_df['is_valid'] = False\n",
            "<ipython-input-85-e2434bc981b4>:6: SettingWithCopyWarning: \n",
            "A value is trying to be set on a copy of a slice from a DataFrame.\n",
            "Try using .loc[row_indexer,col_indexer] = value instead\n",
            "\n",
            "See the caveats in the documentation: https://pandas.pydata.org/pandas-docs/stable/user_guide/indexing.html#returning-a-view-versus-a-copy\n",
            "  user_rating_df['is_valid'] = False\n",
            "<ipython-input-85-e2434bc981b4>:6: SettingWithCopyWarning: \n",
            "A value is trying to be set on a copy of a slice from a DataFrame.\n",
            "Try using .loc[row_indexer,col_indexer] = value instead\n",
            "\n",
            "See the caveats in the documentation: https://pandas.pydata.org/pandas-docs/stable/user_guide/indexing.html#returning-a-view-versus-a-copy\n",
            "  user_rating_df['is_valid'] = False\n",
            "<ipython-input-85-e2434bc981b4>:6: SettingWithCopyWarning: \n",
            "A value is trying to be set on a copy of a slice from a DataFrame.\n",
            "Try using .loc[row_indexer,col_indexer] = value instead\n",
            "\n",
            "See the caveats in the documentation: https://pandas.pydata.org/pandas-docs/stable/user_guide/indexing.html#returning-a-view-versus-a-copy\n",
            "  user_rating_df['is_valid'] = False\n",
            "<ipython-input-85-e2434bc981b4>:6: SettingWithCopyWarning: \n",
            "A value is trying to be set on a copy of a slice from a DataFrame.\n",
            "Try using .loc[row_indexer,col_indexer] = value instead\n",
            "\n",
            "See the caveats in the documentation: https://pandas.pydata.org/pandas-docs/stable/user_guide/indexing.html#returning-a-view-versus-a-copy\n",
            "  user_rating_df['is_valid'] = False\n",
            "<ipython-input-85-e2434bc981b4>:6: SettingWithCopyWarning: \n",
            "A value is trying to be set on a copy of a slice from a DataFrame.\n",
            "Try using .loc[row_indexer,col_indexer] = value instead\n",
            "\n",
            "See the caveats in the documentation: https://pandas.pydata.org/pandas-docs/stable/user_guide/indexing.html#returning-a-view-versus-a-copy\n",
            "  user_rating_df['is_valid'] = False\n",
            "<ipython-input-85-e2434bc981b4>:6: SettingWithCopyWarning: \n",
            "A value is trying to be set on a copy of a slice from a DataFrame.\n",
            "Try using .loc[row_indexer,col_indexer] = value instead\n",
            "\n",
            "See the caveats in the documentation: https://pandas.pydata.org/pandas-docs/stable/user_guide/indexing.html#returning-a-view-versus-a-copy\n",
            "  user_rating_df['is_valid'] = False\n",
            "<ipython-input-85-e2434bc981b4>:6: SettingWithCopyWarning: \n",
            "A value is trying to be set on a copy of a slice from a DataFrame.\n",
            "Try using .loc[row_indexer,col_indexer] = value instead\n",
            "\n",
            "See the caveats in the documentation: https://pandas.pydata.org/pandas-docs/stable/user_guide/indexing.html#returning-a-view-versus-a-copy\n",
            "  user_rating_df['is_valid'] = False\n",
            "<ipython-input-85-e2434bc981b4>:6: SettingWithCopyWarning: \n",
            "A value is trying to be set on a copy of a slice from a DataFrame.\n",
            "Try using .loc[row_indexer,col_indexer] = value instead\n",
            "\n",
            "See the caveats in the documentation: https://pandas.pydata.org/pandas-docs/stable/user_guide/indexing.html#returning-a-view-versus-a-copy\n",
            "  user_rating_df['is_valid'] = False\n",
            "<ipython-input-85-e2434bc981b4>:6: SettingWithCopyWarning: \n",
            "A value is trying to be set on a copy of a slice from a DataFrame.\n",
            "Try using .loc[row_indexer,col_indexer] = value instead\n",
            "\n",
            "See the caveats in the documentation: https://pandas.pydata.org/pandas-docs/stable/user_guide/indexing.html#returning-a-view-versus-a-copy\n",
            "  user_rating_df['is_valid'] = False\n",
            "<ipython-input-85-e2434bc981b4>:6: SettingWithCopyWarning: \n",
            "A value is trying to be set on a copy of a slice from a DataFrame.\n",
            "Try using .loc[row_indexer,col_indexer] = value instead\n",
            "\n",
            "See the caveats in the documentation: https://pandas.pydata.org/pandas-docs/stable/user_guide/indexing.html#returning-a-view-versus-a-copy\n",
            "  user_rating_df['is_valid'] = False\n",
            "<ipython-input-85-e2434bc981b4>:6: SettingWithCopyWarning: \n",
            "A value is trying to be set on a copy of a slice from a DataFrame.\n",
            "Try using .loc[row_indexer,col_indexer] = value instead\n",
            "\n",
            "See the caveats in the documentation: https://pandas.pydata.org/pandas-docs/stable/user_guide/indexing.html#returning-a-view-versus-a-copy\n",
            "  user_rating_df['is_valid'] = False\n",
            "<ipython-input-85-e2434bc981b4>:6: SettingWithCopyWarning: \n",
            "A value is trying to be set on a copy of a slice from a DataFrame.\n",
            "Try using .loc[row_indexer,col_indexer] = value instead\n",
            "\n",
            "See the caveats in the documentation: https://pandas.pydata.org/pandas-docs/stable/user_guide/indexing.html#returning-a-view-versus-a-copy\n",
            "  user_rating_df['is_valid'] = False\n",
            "<ipython-input-85-e2434bc981b4>:6: SettingWithCopyWarning: \n",
            "A value is trying to be set on a copy of a slice from a DataFrame.\n",
            "Try using .loc[row_indexer,col_indexer] = value instead\n",
            "\n",
            "See the caveats in the documentation: https://pandas.pydata.org/pandas-docs/stable/user_guide/indexing.html#returning-a-view-versus-a-copy\n",
            "  user_rating_df['is_valid'] = False\n",
            "<ipython-input-85-e2434bc981b4>:6: SettingWithCopyWarning: \n",
            "A value is trying to be set on a copy of a slice from a DataFrame.\n",
            "Try using .loc[row_indexer,col_indexer] = value instead\n",
            "\n",
            "See the caveats in the documentation: https://pandas.pydata.org/pandas-docs/stable/user_guide/indexing.html#returning-a-view-versus-a-copy\n",
            "  user_rating_df['is_valid'] = False\n",
            "<ipython-input-85-e2434bc981b4>:6: SettingWithCopyWarning: \n",
            "A value is trying to be set on a copy of a slice from a DataFrame.\n",
            "Try using .loc[row_indexer,col_indexer] = value instead\n",
            "\n",
            "See the caveats in the documentation: https://pandas.pydata.org/pandas-docs/stable/user_guide/indexing.html#returning-a-view-versus-a-copy\n",
            "  user_rating_df['is_valid'] = False\n",
            "<ipython-input-85-e2434bc981b4>:6: SettingWithCopyWarning: \n",
            "A value is trying to be set on a copy of a slice from a DataFrame.\n",
            "Try using .loc[row_indexer,col_indexer] = value instead\n",
            "\n",
            "See the caveats in the documentation: https://pandas.pydata.org/pandas-docs/stable/user_guide/indexing.html#returning-a-view-versus-a-copy\n",
            "  user_rating_df['is_valid'] = False\n",
            "<ipython-input-85-e2434bc981b4>:6: SettingWithCopyWarning: \n",
            "A value is trying to be set on a copy of a slice from a DataFrame.\n",
            "Try using .loc[row_indexer,col_indexer] = value instead\n",
            "\n",
            "See the caveats in the documentation: https://pandas.pydata.org/pandas-docs/stable/user_guide/indexing.html#returning-a-view-versus-a-copy\n",
            "  user_rating_df['is_valid'] = False\n",
            "<ipython-input-85-e2434bc981b4>:6: SettingWithCopyWarning: \n",
            "A value is trying to be set on a copy of a slice from a DataFrame.\n",
            "Try using .loc[row_indexer,col_indexer] = value instead\n",
            "\n",
            "See the caveats in the documentation: https://pandas.pydata.org/pandas-docs/stable/user_guide/indexing.html#returning-a-view-versus-a-copy\n",
            "  user_rating_df['is_valid'] = False\n",
            "<ipython-input-85-e2434bc981b4>:6: SettingWithCopyWarning: \n",
            "A value is trying to be set on a copy of a slice from a DataFrame.\n",
            "Try using .loc[row_indexer,col_indexer] = value instead\n",
            "\n",
            "See the caveats in the documentation: https://pandas.pydata.org/pandas-docs/stable/user_guide/indexing.html#returning-a-view-versus-a-copy\n",
            "  user_rating_df['is_valid'] = False\n",
            "<ipython-input-85-e2434bc981b4>:6: SettingWithCopyWarning: \n",
            "A value is trying to be set on a copy of a slice from a DataFrame.\n",
            "Try using .loc[row_indexer,col_indexer] = value instead\n",
            "\n",
            "See the caveats in the documentation: https://pandas.pydata.org/pandas-docs/stable/user_guide/indexing.html#returning-a-view-versus-a-copy\n",
            "  user_rating_df['is_valid'] = False\n",
            "<ipython-input-85-e2434bc981b4>:6: SettingWithCopyWarning: \n",
            "A value is trying to be set on a copy of a slice from a DataFrame.\n",
            "Try using .loc[row_indexer,col_indexer] = value instead\n",
            "\n",
            "See the caveats in the documentation: https://pandas.pydata.org/pandas-docs/stable/user_guide/indexing.html#returning-a-view-versus-a-copy\n",
            "  user_rating_df['is_valid'] = False\n",
            "<ipython-input-85-e2434bc981b4>:6: SettingWithCopyWarning: \n",
            "A value is trying to be set on a copy of a slice from a DataFrame.\n",
            "Try using .loc[row_indexer,col_indexer] = value instead\n",
            "\n",
            "See the caveats in the documentation: https://pandas.pydata.org/pandas-docs/stable/user_guide/indexing.html#returning-a-view-versus-a-copy\n",
            "  user_rating_df['is_valid'] = False\n",
            "<ipython-input-85-e2434bc981b4>:6: SettingWithCopyWarning: \n",
            "A value is trying to be set on a copy of a slice from a DataFrame.\n",
            "Try using .loc[row_indexer,col_indexer] = value instead\n",
            "\n",
            "See the caveats in the documentation: https://pandas.pydata.org/pandas-docs/stable/user_guide/indexing.html#returning-a-view-versus-a-copy\n",
            "  user_rating_df['is_valid'] = False\n",
            "<ipython-input-85-e2434bc981b4>:6: SettingWithCopyWarning: \n",
            "A value is trying to be set on a copy of a slice from a DataFrame.\n",
            "Try using .loc[row_indexer,col_indexer] = value instead\n",
            "\n",
            "See the caveats in the documentation: https://pandas.pydata.org/pandas-docs/stable/user_guide/indexing.html#returning-a-view-versus-a-copy\n",
            "  user_rating_df['is_valid'] = False\n",
            "<ipython-input-85-e2434bc981b4>:6: SettingWithCopyWarning: \n",
            "A value is trying to be set on a copy of a slice from a DataFrame.\n",
            "Try using .loc[row_indexer,col_indexer] = value instead\n",
            "\n",
            "See the caveats in the documentation: https://pandas.pydata.org/pandas-docs/stable/user_guide/indexing.html#returning-a-view-versus-a-copy\n",
            "  user_rating_df['is_valid'] = False\n",
            "<ipython-input-85-e2434bc981b4>:6: SettingWithCopyWarning: \n",
            "A value is trying to be set on a copy of a slice from a DataFrame.\n",
            "Try using .loc[row_indexer,col_indexer] = value instead\n",
            "\n",
            "See the caveats in the documentation: https://pandas.pydata.org/pandas-docs/stable/user_guide/indexing.html#returning-a-view-versus-a-copy\n",
            "  user_rating_df['is_valid'] = False\n",
            "<ipython-input-85-e2434bc981b4>:6: SettingWithCopyWarning: \n",
            "A value is trying to be set on a copy of a slice from a DataFrame.\n",
            "Try using .loc[row_indexer,col_indexer] = value instead\n",
            "\n",
            "See the caveats in the documentation: https://pandas.pydata.org/pandas-docs/stable/user_guide/indexing.html#returning-a-view-versus-a-copy\n",
            "  user_rating_df['is_valid'] = False\n",
            "<ipython-input-85-e2434bc981b4>:6: SettingWithCopyWarning: \n",
            "A value is trying to be set on a copy of a slice from a DataFrame.\n",
            "Try using .loc[row_indexer,col_indexer] = value instead\n",
            "\n",
            "See the caveats in the documentation: https://pandas.pydata.org/pandas-docs/stable/user_guide/indexing.html#returning-a-view-versus-a-copy\n",
            "  user_rating_df['is_valid'] = False\n",
            "<ipython-input-85-e2434bc981b4>:6: SettingWithCopyWarning: \n",
            "A value is trying to be set on a copy of a slice from a DataFrame.\n",
            "Try using .loc[row_indexer,col_indexer] = value instead\n",
            "\n",
            "See the caveats in the documentation: https://pandas.pydata.org/pandas-docs/stable/user_guide/indexing.html#returning-a-view-versus-a-copy\n",
            "  user_rating_df['is_valid'] = False\n",
            "<ipython-input-85-e2434bc981b4>:6: SettingWithCopyWarning: \n",
            "A value is trying to be set on a copy of a slice from a DataFrame.\n",
            "Try using .loc[row_indexer,col_indexer] = value instead\n",
            "\n",
            "See the caveats in the documentation: https://pandas.pydata.org/pandas-docs/stable/user_guide/indexing.html#returning-a-view-versus-a-copy\n",
            "  user_rating_df['is_valid'] = False\n",
            "<ipython-input-85-e2434bc981b4>:6: SettingWithCopyWarning: \n",
            "A value is trying to be set on a copy of a slice from a DataFrame.\n",
            "Try using .loc[row_indexer,col_indexer] = value instead\n",
            "\n",
            "See the caveats in the documentation: https://pandas.pydata.org/pandas-docs/stable/user_guide/indexing.html#returning-a-view-versus-a-copy\n",
            "  user_rating_df['is_valid'] = False\n",
            "<ipython-input-85-e2434bc981b4>:6: SettingWithCopyWarning: \n",
            "A value is trying to be set on a copy of a slice from a DataFrame.\n",
            "Try using .loc[row_indexer,col_indexer] = value instead\n",
            "\n",
            "See the caveats in the documentation: https://pandas.pydata.org/pandas-docs/stable/user_guide/indexing.html#returning-a-view-versus-a-copy\n",
            "  user_rating_df['is_valid'] = False\n",
            "<ipython-input-85-e2434bc981b4>:6: SettingWithCopyWarning: \n",
            "A value is trying to be set on a copy of a slice from a DataFrame.\n",
            "Try using .loc[row_indexer,col_indexer] = value instead\n",
            "\n",
            "See the caveats in the documentation: https://pandas.pydata.org/pandas-docs/stable/user_guide/indexing.html#returning-a-view-versus-a-copy\n",
            "  user_rating_df['is_valid'] = False\n",
            "<ipython-input-85-e2434bc981b4>:6: SettingWithCopyWarning: \n",
            "A value is trying to be set on a copy of a slice from a DataFrame.\n",
            "Try using .loc[row_indexer,col_indexer] = value instead\n",
            "\n",
            "See the caveats in the documentation: https://pandas.pydata.org/pandas-docs/stable/user_guide/indexing.html#returning-a-view-versus-a-copy\n",
            "  user_rating_df['is_valid'] = False\n",
            "<ipython-input-85-e2434bc981b4>:6: SettingWithCopyWarning: \n",
            "A value is trying to be set on a copy of a slice from a DataFrame.\n",
            "Try using .loc[row_indexer,col_indexer] = value instead\n",
            "\n",
            "See the caveats in the documentation: https://pandas.pydata.org/pandas-docs/stable/user_guide/indexing.html#returning-a-view-versus-a-copy\n",
            "  user_rating_df['is_valid'] = False\n",
            "<ipython-input-85-e2434bc981b4>:6: SettingWithCopyWarning: \n",
            "A value is trying to be set on a copy of a slice from a DataFrame.\n",
            "Try using .loc[row_indexer,col_indexer] = value instead\n",
            "\n",
            "See the caveats in the documentation: https://pandas.pydata.org/pandas-docs/stable/user_guide/indexing.html#returning-a-view-versus-a-copy\n",
            "  user_rating_df['is_valid'] = False\n",
            "<ipython-input-85-e2434bc981b4>:6: SettingWithCopyWarning: \n",
            "A value is trying to be set on a copy of a slice from a DataFrame.\n",
            "Try using .loc[row_indexer,col_indexer] = value instead\n",
            "\n",
            "See the caveats in the documentation: https://pandas.pydata.org/pandas-docs/stable/user_guide/indexing.html#returning-a-view-versus-a-copy\n",
            "  user_rating_df['is_valid'] = False\n",
            "<ipython-input-85-e2434bc981b4>:6: SettingWithCopyWarning: \n",
            "A value is trying to be set on a copy of a slice from a DataFrame.\n",
            "Try using .loc[row_indexer,col_indexer] = value instead\n",
            "\n",
            "See the caveats in the documentation: https://pandas.pydata.org/pandas-docs/stable/user_guide/indexing.html#returning-a-view-versus-a-copy\n",
            "  user_rating_df['is_valid'] = False\n",
            "<ipython-input-85-e2434bc981b4>:6: SettingWithCopyWarning: \n",
            "A value is trying to be set on a copy of a slice from a DataFrame.\n",
            "Try using .loc[row_indexer,col_indexer] = value instead\n",
            "\n",
            "See the caveats in the documentation: https://pandas.pydata.org/pandas-docs/stable/user_guide/indexing.html#returning-a-view-versus-a-copy\n",
            "  user_rating_df['is_valid'] = False\n",
            "<ipython-input-85-e2434bc981b4>:6: SettingWithCopyWarning: \n",
            "A value is trying to be set on a copy of a slice from a DataFrame.\n",
            "Try using .loc[row_indexer,col_indexer] = value instead\n",
            "\n",
            "See the caveats in the documentation: https://pandas.pydata.org/pandas-docs/stable/user_guide/indexing.html#returning-a-view-versus-a-copy\n",
            "  user_rating_df['is_valid'] = False\n",
            "<ipython-input-85-e2434bc981b4>:6: SettingWithCopyWarning: \n",
            "A value is trying to be set on a copy of a slice from a DataFrame.\n",
            "Try using .loc[row_indexer,col_indexer] = value instead\n",
            "\n",
            "See the caveats in the documentation: https://pandas.pydata.org/pandas-docs/stable/user_guide/indexing.html#returning-a-view-versus-a-copy\n",
            "  user_rating_df['is_valid'] = False\n",
            "<ipython-input-85-e2434bc981b4>:6: SettingWithCopyWarning: \n",
            "A value is trying to be set on a copy of a slice from a DataFrame.\n",
            "Try using .loc[row_indexer,col_indexer] = value instead\n",
            "\n",
            "See the caveats in the documentation: https://pandas.pydata.org/pandas-docs/stable/user_guide/indexing.html#returning-a-view-versus-a-copy\n",
            "  user_rating_df['is_valid'] = False\n",
            "<ipython-input-85-e2434bc981b4>:6: SettingWithCopyWarning: \n",
            "A value is trying to be set on a copy of a slice from a DataFrame.\n",
            "Try using .loc[row_indexer,col_indexer] = value instead\n",
            "\n",
            "See the caveats in the documentation: https://pandas.pydata.org/pandas-docs/stable/user_guide/indexing.html#returning-a-view-versus-a-copy\n",
            "  user_rating_df['is_valid'] = False\n",
            "<ipython-input-85-e2434bc981b4>:6: SettingWithCopyWarning: \n",
            "A value is trying to be set on a copy of a slice from a DataFrame.\n",
            "Try using .loc[row_indexer,col_indexer] = value instead\n",
            "\n",
            "See the caveats in the documentation: https://pandas.pydata.org/pandas-docs/stable/user_guide/indexing.html#returning-a-view-versus-a-copy\n",
            "  user_rating_df['is_valid'] = False\n",
            "<ipython-input-85-e2434bc981b4>:6: SettingWithCopyWarning: \n",
            "A value is trying to be set on a copy of a slice from a DataFrame.\n",
            "Try using .loc[row_indexer,col_indexer] = value instead\n",
            "\n",
            "See the caveats in the documentation: https://pandas.pydata.org/pandas-docs/stable/user_guide/indexing.html#returning-a-view-versus-a-copy\n",
            "  user_rating_df['is_valid'] = False\n",
            "<ipython-input-85-e2434bc981b4>:6: SettingWithCopyWarning: \n",
            "A value is trying to be set on a copy of a slice from a DataFrame.\n",
            "Try using .loc[row_indexer,col_indexer] = value instead\n",
            "\n",
            "See the caveats in the documentation: https://pandas.pydata.org/pandas-docs/stable/user_guide/indexing.html#returning-a-view-versus-a-copy\n",
            "  user_rating_df['is_valid'] = False\n",
            "<ipython-input-85-e2434bc981b4>:6: SettingWithCopyWarning: \n",
            "A value is trying to be set on a copy of a slice from a DataFrame.\n",
            "Try using .loc[row_indexer,col_indexer] = value instead\n",
            "\n",
            "See the caveats in the documentation: https://pandas.pydata.org/pandas-docs/stable/user_guide/indexing.html#returning-a-view-versus-a-copy\n",
            "  user_rating_df['is_valid'] = False\n",
            "<ipython-input-85-e2434bc981b4>:6: SettingWithCopyWarning: \n",
            "A value is trying to be set on a copy of a slice from a DataFrame.\n",
            "Try using .loc[row_indexer,col_indexer] = value instead\n",
            "\n",
            "See the caveats in the documentation: https://pandas.pydata.org/pandas-docs/stable/user_guide/indexing.html#returning-a-view-versus-a-copy\n",
            "  user_rating_df['is_valid'] = False\n"
          ]
        }
      ]
    },
    {
      "cell_type": "markdown",
      "source": [
        "**Топ 10 рекомендаций для пользователя**"
      ],
      "metadata": {
        "id": "oOJtQQMKsWXf"
      }
    },
    {
      "cell_type": "code",
      "source": [
        "sorted(result.items(), key=lambda x: x[1], reverse=True)[:10]"
      ],
      "metadata": {
        "colab": {
          "base_uri": "https://localhost:8080/"
        },
        "id": "OvxCM324raWF",
        "outputId": "29caf3aa-91ed-4aed-f7c9-64c239c62907"
      },
      "execution_count": 102,
      "outputs": [
        {
          "output_type": "execute_result",
          "data": {
            "text/plain": [
              "[('Использование мультимедийных инструментов в клиентском сервисе',\n",
              "  4.279669761657715),\n",
              " ('Стратегии превентивного обслуживания клиентов: Предупреждение проблем',\n",
              "  4.264876365661621),\n",
              " ('Основы психологии клиентского обслуживания', 4.263158798217773),\n",
              " ('Методы оценки и улучшения качества обслуживания клиентов',\n",
              "  4.260293960571289),\n",
              " ('Использование эмоционального интеллекта в общении с клиентами',\n",
              "  4.255990505218506),\n",
              " ('Как строить доверительные отношения с клиентами', 4.254293441772461),\n",
              " ('Продвинутые техники работы с жалобами клиентов', 4.253316402435303),\n",
              " ('Продвинутые методы анализа и интерпретации клиентских данных',\n",
              "  4.251776695251465),\n",
              " ('Создание клиентоцентричной культуры в компании', 4.250155448913574),\n",
              " ('Развитие коммуникативных навыков в клиентском обслуживании',\n",
              "  4.249379634857178)]"
            ]
          },
          "metadata": {},
          "execution_count": 102
        }
      ]
    }
  ]
}