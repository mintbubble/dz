{
  "nbformat": 4,
  "nbformat_minor": 0,
  "metadata": {
    "colab": {
      "provenance": []
    },
    "kernelspec": {
      "name": "python3",
      "display_name": "Python 3"
    },
    "language_info": {
      "name": "python"
    }
  },
  "cells": [
    {
      "cell_type": "code",
      "source": [
        "!pip install torchmetrics"
      ],
      "metadata": {
        "id": "_IKKzL_z2oSv"
      },
      "execution_count": null,
      "outputs": []
    },
    {
      "cell_type": "code",
      "source": [
        "!pip install pytorch_accelerated"
      ],
      "metadata": {
        "id": "KXeH3S6B2rY2"
      },
      "execution_count": null,
      "outputs": []
    },
    {
      "cell_type": "code",
      "execution_count": 65,
      "metadata": {
        "id": "N6LBvYvHTBZH"
      },
      "outputs": [],
      "source": [
        "from pathlib import Path\n",
        "\n",
        "import numpy as np\n",
        "import pandas as pd\n",
        "from statsmodels.distributions.empirical_distribution import ECDF\n",
        "import matplotlib.pyplot as plt"
      ]
    },
    {
      "cell_type": "code",
      "source": [
        "from google.colab import files\n",
        "\n",
        "uploaded = files.upload()\n",
        "for fn in uploaded.keys():\n",
        " print('User uploaded file \"{name}\" with length {length} bytes'.format(\n",
        "     name=fn, length=len(uploaded[fn])))"
      ],
      "metadata": {
        "id": "iRjouWo-q56i",
        "colab": {
          "base_uri": "https://localhost:8080/",
          "height": 38
        },
        "outputId": "c3d55771-39b2-45d3-ce70-e0ee6d1dc400"
      },
      "execution_count": 66,
      "outputs": [
        {
          "output_type": "display_data",
          "data": {
            "text/plain": [
              "<IPython.core.display.HTML object>"
            ],
            "text/html": [
              "\n",
              "     <input type=\"file\" id=\"files-87804bff-a5e7-4aab-96b0-ffde2f4dd752\" name=\"files[]\" multiple disabled\n",
              "        style=\"border:none\" />\n",
              "     <output id=\"result-87804bff-a5e7-4aab-96b0-ffde2f4dd752\">\n",
              "      Upload widget is only available when the cell has been executed in the\n",
              "      current browser session. Please rerun this cell to enable.\n",
              "      </output>\n",
              "      <script>// Copyright 2017 Google LLC\n",
              "//\n",
              "// Licensed under the Apache License, Version 2.0 (the \"License\");\n",
              "// you may not use this file except in compliance with the License.\n",
              "// You may obtain a copy of the License at\n",
              "//\n",
              "//      http://www.apache.org/licenses/LICENSE-2.0\n",
              "//\n",
              "// Unless required by applicable law or agreed to in writing, software\n",
              "// distributed under the License is distributed on an \"AS IS\" BASIS,\n",
              "// WITHOUT WARRANTIES OR CONDITIONS OF ANY KIND, either express or implied.\n",
              "// See the License for the specific language governing permissions and\n",
              "// limitations under the License.\n",
              "\n",
              "/**\n",
              " * @fileoverview Helpers for google.colab Python module.\n",
              " */\n",
              "(function(scope) {\n",
              "function span(text, styleAttributes = {}) {\n",
              "  const element = document.createElement('span');\n",
              "  element.textContent = text;\n",
              "  for (const key of Object.keys(styleAttributes)) {\n",
              "    element.style[key] = styleAttributes[key];\n",
              "  }\n",
              "  return element;\n",
              "}\n",
              "\n",
              "// Max number of bytes which will be uploaded at a time.\n",
              "const MAX_PAYLOAD_SIZE = 100 * 1024;\n",
              "\n",
              "function _uploadFiles(inputId, outputId) {\n",
              "  const steps = uploadFilesStep(inputId, outputId);\n",
              "  const outputElement = document.getElementById(outputId);\n",
              "  // Cache steps on the outputElement to make it available for the next call\n",
              "  // to uploadFilesContinue from Python.\n",
              "  outputElement.steps = steps;\n",
              "\n",
              "  return _uploadFilesContinue(outputId);\n",
              "}\n",
              "\n",
              "// This is roughly an async generator (not supported in the browser yet),\n",
              "// where there are multiple asynchronous steps and the Python side is going\n",
              "// to poll for completion of each step.\n",
              "// This uses a Promise to block the python side on completion of each step,\n",
              "// then passes the result of the previous step as the input to the next step.\n",
              "function _uploadFilesContinue(outputId) {\n",
              "  const outputElement = document.getElementById(outputId);\n",
              "  const steps = outputElement.steps;\n",
              "\n",
              "  const next = steps.next(outputElement.lastPromiseValue);\n",
              "  return Promise.resolve(next.value.promise).then((value) => {\n",
              "    // Cache the last promise value to make it available to the next\n",
              "    // step of the generator.\n",
              "    outputElement.lastPromiseValue = value;\n",
              "    return next.value.response;\n",
              "  });\n",
              "}\n",
              "\n",
              "/**\n",
              " * Generator function which is called between each async step of the upload\n",
              " * process.\n",
              " * @param {string} inputId Element ID of the input file picker element.\n",
              " * @param {string} outputId Element ID of the output display.\n",
              " * @return {!Iterable<!Object>} Iterable of next steps.\n",
              " */\n",
              "function* uploadFilesStep(inputId, outputId) {\n",
              "  const inputElement = document.getElementById(inputId);\n",
              "  inputElement.disabled = false;\n",
              "\n",
              "  const outputElement = document.getElementById(outputId);\n",
              "  outputElement.innerHTML = '';\n",
              "\n",
              "  const pickedPromise = new Promise((resolve) => {\n",
              "    inputElement.addEventListener('change', (e) => {\n",
              "      resolve(e.target.files);\n",
              "    });\n",
              "  });\n",
              "\n",
              "  const cancel = document.createElement('button');\n",
              "  inputElement.parentElement.appendChild(cancel);\n",
              "  cancel.textContent = 'Cancel upload';\n",
              "  const cancelPromise = new Promise((resolve) => {\n",
              "    cancel.onclick = () => {\n",
              "      resolve(null);\n",
              "    };\n",
              "  });\n",
              "\n",
              "  // Wait for the user to pick the files.\n",
              "  const files = yield {\n",
              "    promise: Promise.race([pickedPromise, cancelPromise]),\n",
              "    response: {\n",
              "      action: 'starting',\n",
              "    }\n",
              "  };\n",
              "\n",
              "  cancel.remove();\n",
              "\n",
              "  // Disable the input element since further picks are not allowed.\n",
              "  inputElement.disabled = true;\n",
              "\n",
              "  if (!files) {\n",
              "    return {\n",
              "      response: {\n",
              "        action: 'complete',\n",
              "      }\n",
              "    };\n",
              "  }\n",
              "\n",
              "  for (const file of files) {\n",
              "    const li = document.createElement('li');\n",
              "    li.append(span(file.name, {fontWeight: 'bold'}));\n",
              "    li.append(span(\n",
              "        `(${file.type || 'n/a'}) - ${file.size} bytes, ` +\n",
              "        `last modified: ${\n",
              "            file.lastModifiedDate ? file.lastModifiedDate.toLocaleDateString() :\n",
              "                                    'n/a'} - `));\n",
              "    const percent = span('0% done');\n",
              "    li.appendChild(percent);\n",
              "\n",
              "    outputElement.appendChild(li);\n",
              "\n",
              "    const fileDataPromise = new Promise((resolve) => {\n",
              "      const reader = new FileReader();\n",
              "      reader.onload = (e) => {\n",
              "        resolve(e.target.result);\n",
              "      };\n",
              "      reader.readAsArrayBuffer(file);\n",
              "    });\n",
              "    // Wait for the data to be ready.\n",
              "    let fileData = yield {\n",
              "      promise: fileDataPromise,\n",
              "      response: {\n",
              "        action: 'continue',\n",
              "      }\n",
              "    };\n",
              "\n",
              "    // Use a chunked sending to avoid message size limits. See b/62115660.\n",
              "    let position = 0;\n",
              "    do {\n",
              "      const length = Math.min(fileData.byteLength - position, MAX_PAYLOAD_SIZE);\n",
              "      const chunk = new Uint8Array(fileData, position, length);\n",
              "      position += length;\n",
              "\n",
              "      const base64 = btoa(String.fromCharCode.apply(null, chunk));\n",
              "      yield {\n",
              "        response: {\n",
              "          action: 'append',\n",
              "          file: file.name,\n",
              "          data: base64,\n",
              "        },\n",
              "      };\n",
              "\n",
              "      let percentDone = fileData.byteLength === 0 ?\n",
              "          100 :\n",
              "          Math.round((position / fileData.byteLength) * 100);\n",
              "      percent.textContent = `${percentDone}% done`;\n",
              "\n",
              "    } while (position < fileData.byteLength);\n",
              "  }\n",
              "\n",
              "  // All done.\n",
              "  yield {\n",
              "    response: {\n",
              "      action: 'complete',\n",
              "    }\n",
              "  };\n",
              "}\n",
              "\n",
              "scope.google = scope.google || {};\n",
              "scope.google.colab = scope.google.colab || {};\n",
              "scope.google.colab._files = {\n",
              "  _uploadFiles,\n",
              "  _uploadFilesContinue,\n",
              "};\n",
              "})(self);\n",
              "</script> "
            ]
          },
          "metadata": {}
        }
      ]
    },
    {
      "cell_type": "code",
      "source": [
        "employees = pd.read_csv('employees.csv', sep=';')"
      ],
      "metadata": {
        "id": "Mb5kxoJ-4DRX"
      },
      "execution_count": 67,
      "outputs": []
    },
    {
      "cell_type": "code",
      "source": [
        "data_df = pd.read_csv('new_df.csv').drop(columns='Unnamed: 0')"
      ],
      "metadata": {
        "id": "yPBSxde8wUkM"
      },
      "execution_count": 68,
      "outputs": []
    },
    {
      "cell_type": "code",
      "source": [
        "from sklearn.preprocessing import LabelEncoder\n",
        "le = LabelEncoder()"
      ],
      "metadata": {
        "id": "gSNWmGJ9LCNx"
      },
      "execution_count": 4,
      "outputs": []
    },
    {
      "cell_type": "code",
      "source": [
        "data_df['rating_cut']=pd.qcut(data_df.rating, 5)"
      ],
      "metadata": {
        "id": "vX0psgBHLHH8"
      },
      "execution_count": 69,
      "outputs": []
    },
    {
      "cell_type": "code",
      "source": [
        "data_df['rating_encoded'] = le.fit_transform(data_df.rating_cut)\n",
        "data_df['rating_encoded'] = data_df['rating_encoded']+1"
      ],
      "metadata": {
        "id": "-hTLZngDLKHi"
      },
      "execution_count": 70,
      "outputs": []
    },
    {
      "cell_type": "code",
      "source": [
        "data_df[['rating_cut','rating_encoded']].drop_duplicates().sort_values('rating_encoded')"
      ],
      "metadata": {
        "colab": {
          "base_uri": "https://localhost:8080/",
          "height": 206
        },
        "id": "ysnLKn11PoDg",
        "outputId": "a449d239-5df4-4528-f29a-744b14828159"
      },
      "execution_count": 71,
      "outputs": [
        {
          "output_type": "execute_result",
          "data": {
            "text/plain": [
              "           rating_cut  rating_encoded\n",
              "3   (-15.814, 0.0328]               1\n",
              "9     (0.0328, 1.458]               2\n",
              "1       (1.458, 2.85]               3\n",
              "18      (2.85, 4.591]               4\n",
              "0     (4.591, 17.737]               5"
            ],
            "text/html": [
              "\n",
              "  <div id=\"df-1d107a48-d404-43d9-920b-30ebb5961023\" class=\"colab-df-container\">\n",
              "    <div>\n",
              "<style scoped>\n",
              "    .dataframe tbody tr th:only-of-type {\n",
              "        vertical-align: middle;\n",
              "    }\n",
              "\n",
              "    .dataframe tbody tr th {\n",
              "        vertical-align: top;\n",
              "    }\n",
              "\n",
              "    .dataframe thead th {\n",
              "        text-align: right;\n",
              "    }\n",
              "</style>\n",
              "<table border=\"1\" class=\"dataframe\">\n",
              "  <thead>\n",
              "    <tr style=\"text-align: right;\">\n",
              "      <th></th>\n",
              "      <th>rating_cut</th>\n",
              "      <th>rating_encoded</th>\n",
              "    </tr>\n",
              "  </thead>\n",
              "  <tbody>\n",
              "    <tr>\n",
              "      <th>3</th>\n",
              "      <td>(-15.814, 0.0328]</td>\n",
              "      <td>1</td>\n",
              "    </tr>\n",
              "    <tr>\n",
              "      <th>9</th>\n",
              "      <td>(0.0328, 1.458]</td>\n",
              "      <td>2</td>\n",
              "    </tr>\n",
              "    <tr>\n",
              "      <th>1</th>\n",
              "      <td>(1.458, 2.85]</td>\n",
              "      <td>3</td>\n",
              "    </tr>\n",
              "    <tr>\n",
              "      <th>18</th>\n",
              "      <td>(2.85, 4.591]</td>\n",
              "      <td>4</td>\n",
              "    </tr>\n",
              "    <tr>\n",
              "      <th>0</th>\n",
              "      <td>(4.591, 17.737]</td>\n",
              "      <td>5</td>\n",
              "    </tr>\n",
              "  </tbody>\n",
              "</table>\n",
              "</div>\n",
              "    <div class=\"colab-df-buttons\">\n",
              "\n",
              "  <div class=\"colab-df-container\">\n",
              "    <button class=\"colab-df-convert\" onclick=\"convertToInteractive('df-1d107a48-d404-43d9-920b-30ebb5961023')\"\n",
              "            title=\"Convert this dataframe to an interactive table.\"\n",
              "            style=\"display:none;\">\n",
              "\n",
              "  <svg xmlns=\"http://www.w3.org/2000/svg\" height=\"24px\" viewBox=\"0 -960 960 960\">\n",
              "    <path d=\"M120-120v-720h720v720H120Zm60-500h600v-160H180v160Zm220 220h160v-160H400v160Zm0 220h160v-160H400v160ZM180-400h160v-160H180v160Zm440 0h160v-160H620v160ZM180-180h160v-160H180v160Zm440 0h160v-160H620v160Z\"/>\n",
              "  </svg>\n",
              "    </button>\n",
              "\n",
              "  <style>\n",
              "    .colab-df-container {\n",
              "      display:flex;\n",
              "      gap: 12px;\n",
              "    }\n",
              "\n",
              "    .colab-df-convert {\n",
              "      background-color: #E8F0FE;\n",
              "      border: none;\n",
              "      border-radius: 50%;\n",
              "      cursor: pointer;\n",
              "      display: none;\n",
              "      fill: #1967D2;\n",
              "      height: 32px;\n",
              "      padding: 0 0 0 0;\n",
              "      width: 32px;\n",
              "    }\n",
              "\n",
              "    .colab-df-convert:hover {\n",
              "      background-color: #E2EBFA;\n",
              "      box-shadow: 0px 1px 2px rgba(60, 64, 67, 0.3), 0px 1px 3px 1px rgba(60, 64, 67, 0.15);\n",
              "      fill: #174EA6;\n",
              "    }\n",
              "\n",
              "    .colab-df-buttons div {\n",
              "      margin-bottom: 4px;\n",
              "    }\n",
              "\n",
              "    [theme=dark] .colab-df-convert {\n",
              "      background-color: #3B4455;\n",
              "      fill: #D2E3FC;\n",
              "    }\n",
              "\n",
              "    [theme=dark] .colab-df-convert:hover {\n",
              "      background-color: #434B5C;\n",
              "      box-shadow: 0px 1px 3px 1px rgba(0, 0, 0, 0.15);\n",
              "      filter: drop-shadow(0px 1px 2px rgba(0, 0, 0, 0.3));\n",
              "      fill: #FFFFFF;\n",
              "    }\n",
              "  </style>\n",
              "\n",
              "    <script>\n",
              "      const buttonEl =\n",
              "        document.querySelector('#df-1d107a48-d404-43d9-920b-30ebb5961023 button.colab-df-convert');\n",
              "      buttonEl.style.display =\n",
              "        google.colab.kernel.accessAllowed ? 'block' : 'none';\n",
              "\n",
              "      async function convertToInteractive(key) {\n",
              "        const element = document.querySelector('#df-1d107a48-d404-43d9-920b-30ebb5961023');\n",
              "        const dataTable =\n",
              "          await google.colab.kernel.invokeFunction('convertToInteractive',\n",
              "                                                    [key], {});\n",
              "        if (!dataTable) return;\n",
              "\n",
              "        const docLinkHtml = 'Like what you see? Visit the ' +\n",
              "          '<a target=\"_blank\" href=https://colab.research.google.com/notebooks/data_table.ipynb>data table notebook</a>'\n",
              "          + ' to learn more about interactive tables.';\n",
              "        element.innerHTML = '';\n",
              "        dataTable['output_type'] = 'display_data';\n",
              "        await google.colab.output.renderOutput(dataTable, element);\n",
              "        const docLink = document.createElement('div');\n",
              "        docLink.innerHTML = docLinkHtml;\n",
              "        element.appendChild(docLink);\n",
              "      }\n",
              "    </script>\n",
              "  </div>\n",
              "\n",
              "\n",
              "<div id=\"df-83fff059-bfc8-44be-964e-0fef533c7a26\">\n",
              "  <button class=\"colab-df-quickchart\" onclick=\"quickchart('df-83fff059-bfc8-44be-964e-0fef533c7a26')\"\n",
              "            title=\"Suggest charts\"\n",
              "            style=\"display:none;\">\n",
              "\n",
              "<svg xmlns=\"http://www.w3.org/2000/svg\" height=\"24px\"viewBox=\"0 0 24 24\"\n",
              "     width=\"24px\">\n",
              "    <g>\n",
              "        <path d=\"M19 3H5c-1.1 0-2 .9-2 2v14c0 1.1.9 2 2 2h14c1.1 0 2-.9 2-2V5c0-1.1-.9-2-2-2zM9 17H7v-7h2v7zm4 0h-2V7h2v10zm4 0h-2v-4h2v4z\"/>\n",
              "    </g>\n",
              "</svg>\n",
              "  </button>\n",
              "\n",
              "<style>\n",
              "  .colab-df-quickchart {\n",
              "      --bg-color: #E8F0FE;\n",
              "      --fill-color: #1967D2;\n",
              "      --hover-bg-color: #E2EBFA;\n",
              "      --hover-fill-color: #174EA6;\n",
              "      --disabled-fill-color: #AAA;\n",
              "      --disabled-bg-color: #DDD;\n",
              "  }\n",
              "\n",
              "  [theme=dark] .colab-df-quickchart {\n",
              "      --bg-color: #3B4455;\n",
              "      --fill-color: #D2E3FC;\n",
              "      --hover-bg-color: #434B5C;\n",
              "      --hover-fill-color: #FFFFFF;\n",
              "      --disabled-bg-color: #3B4455;\n",
              "      --disabled-fill-color: #666;\n",
              "  }\n",
              "\n",
              "  .colab-df-quickchart {\n",
              "    background-color: var(--bg-color);\n",
              "    border: none;\n",
              "    border-radius: 50%;\n",
              "    cursor: pointer;\n",
              "    display: none;\n",
              "    fill: var(--fill-color);\n",
              "    height: 32px;\n",
              "    padding: 0;\n",
              "    width: 32px;\n",
              "  }\n",
              "\n",
              "  .colab-df-quickchart:hover {\n",
              "    background-color: var(--hover-bg-color);\n",
              "    box-shadow: 0 1px 2px rgba(60, 64, 67, 0.3), 0 1px 3px 1px rgba(60, 64, 67, 0.15);\n",
              "    fill: var(--button-hover-fill-color);\n",
              "  }\n",
              "\n",
              "  .colab-df-quickchart-complete:disabled,\n",
              "  .colab-df-quickchart-complete:disabled:hover {\n",
              "    background-color: var(--disabled-bg-color);\n",
              "    fill: var(--disabled-fill-color);\n",
              "    box-shadow: none;\n",
              "  }\n",
              "\n",
              "  .colab-df-spinner {\n",
              "    border: 2px solid var(--fill-color);\n",
              "    border-color: transparent;\n",
              "    border-bottom-color: var(--fill-color);\n",
              "    animation:\n",
              "      spin 1s steps(1) infinite;\n",
              "  }\n",
              "\n",
              "  @keyframes spin {\n",
              "    0% {\n",
              "      border-color: transparent;\n",
              "      border-bottom-color: var(--fill-color);\n",
              "      border-left-color: var(--fill-color);\n",
              "    }\n",
              "    20% {\n",
              "      border-color: transparent;\n",
              "      border-left-color: var(--fill-color);\n",
              "      border-top-color: var(--fill-color);\n",
              "    }\n",
              "    30% {\n",
              "      border-color: transparent;\n",
              "      border-left-color: var(--fill-color);\n",
              "      border-top-color: var(--fill-color);\n",
              "      border-right-color: var(--fill-color);\n",
              "    }\n",
              "    40% {\n",
              "      border-color: transparent;\n",
              "      border-right-color: var(--fill-color);\n",
              "      border-top-color: var(--fill-color);\n",
              "    }\n",
              "    60% {\n",
              "      border-color: transparent;\n",
              "      border-right-color: var(--fill-color);\n",
              "    }\n",
              "    80% {\n",
              "      border-color: transparent;\n",
              "      border-right-color: var(--fill-color);\n",
              "      border-bottom-color: var(--fill-color);\n",
              "    }\n",
              "    90% {\n",
              "      border-color: transparent;\n",
              "      border-bottom-color: var(--fill-color);\n",
              "    }\n",
              "  }\n",
              "</style>\n",
              "\n",
              "  <script>\n",
              "    async function quickchart(key) {\n",
              "      const quickchartButtonEl =\n",
              "        document.querySelector('#' + key + ' button');\n",
              "      quickchartButtonEl.disabled = true;  // To prevent multiple clicks.\n",
              "      quickchartButtonEl.classList.add('colab-df-spinner');\n",
              "      try {\n",
              "        const charts = await google.colab.kernel.invokeFunction(\n",
              "            'suggestCharts', [key], {});\n",
              "      } catch (error) {\n",
              "        console.error('Error during call to suggestCharts:', error);\n",
              "      }\n",
              "      quickchartButtonEl.classList.remove('colab-df-spinner');\n",
              "      quickchartButtonEl.classList.add('colab-df-quickchart-complete');\n",
              "    }\n",
              "    (() => {\n",
              "      let quickchartButtonEl =\n",
              "        document.querySelector('#df-83fff059-bfc8-44be-964e-0fef533c7a26 button');\n",
              "      quickchartButtonEl.style.display =\n",
              "        google.colab.kernel.accessAllowed ? 'block' : 'none';\n",
              "    })();\n",
              "  </script>\n",
              "</div>\n",
              "    </div>\n",
              "  </div>\n"
            ],
            "application/vnd.google.colaboratory.intrinsic+json": {
              "type": "dataframe",
              "summary": "{\n  \"name\": \"data_df[['rating_cut','rating_encoded']]\",\n  \"rows\": 5,\n  \"fields\": [\n    {\n      \"column\": \"rating_cut\",\n      \"properties\": {\n        \"dtype\": \"category\",\n        \"num_unique_values\": 5,\n        \"samples\": [\n          \"(0.0328, 1.458]\",\n          \"(4.591, 17.737]\",\n          \"(1.458, 2.85]\"\n        ],\n        \"semantic_type\": \"\",\n        \"description\": \"\"\n      }\n    },\n    {\n      \"column\": \"rating_encoded\",\n      \"properties\": {\n        \"dtype\": \"number\",\n        \"std\": 1,\n        \"min\": 1,\n        \"max\": 5,\n        \"num_unique_values\": 5,\n        \"samples\": [\n          2,\n          5,\n          3\n        ],\n        \"semantic_type\": \"\",\n        \"description\": \"\"\n      }\n    }\n  ]\n}"
            }
          },
          "metadata": {},
          "execution_count": 71
        }
      ]
    },
    {
      "cell_type": "code",
      "source": [
        "data_df[['rating_cut','rating_encoded']].groupby('rating_encoded')['rating_encoded'].count()"
      ],
      "metadata": {
        "colab": {
          "base_uri": "https://localhost:8080/"
        },
        "id": "Vvr1MkmF_6_B",
        "outputId": "0b23dd0d-1112-4402-9a78-4c9c9c931288"
      },
      "execution_count": 72,
      "outputs": [
        {
          "output_type": "execute_result",
          "data": {
            "text/plain": [
              "rating_encoded\n",
              "1    1681\n",
              "2    1681\n",
              "3    1680\n",
              "4    1681\n",
              "5    1681\n",
              "Name: rating_encoded, dtype: int64"
            ]
          },
          "metadata": {},
          "execution_count": 72
        }
      ]
    },
    {
      "cell_type": "code",
      "source": [
        "data_df['rating'] = data_df.rating_encoded"
      ],
      "metadata": {
        "id": "unFu0DG1ME0X"
      },
      "execution_count": 73,
      "outputs": []
    },
    {
      "cell_type": "code",
      "source": [
        "data_df = data_df.drop(columns=['rating_cut', 'rating_encoded'])"
      ],
      "metadata": {
        "id": "8BkBENa8MImN"
      },
      "execution_count": 74,
      "outputs": []
    },
    {
      "cell_type": "code",
      "source": [
        "ratings_df = data_df[['user_id', 'title', 'rating', 'unix_timestamp']]"
      ],
      "metadata": {
        "id": "NJg5hOpmTkR2"
      },
      "execution_count": 75,
      "outputs": []
    },
    {
      "cell_type": "code",
      "source": [
        "ratings_df[\"user_id\"] = ratings_df[\"user_id\"].astype(str)"
      ],
      "metadata": {
        "colab": {
          "base_uri": "https://localhost:8080/"
        },
        "id": "j3ihwaZVwgbQ",
        "outputId": "ccb72d5e-2b23-49c6-9331-a755c5e46e7b"
      },
      "execution_count": 76,
      "outputs": [
        {
          "output_type": "stream",
          "name": "stderr",
          "text": [
            "<ipython-input-76-8d0edbd79945>:1: SettingWithCopyWarning: \n",
            "A value is trying to be set on a copy of a slice from a DataFrame.\n",
            "Try using .loc[row_indexer,col_indexer] = value instead\n",
            "\n",
            "See the caveats in the documentation: https://pandas.pydata.org/pandas-docs/stable/user_guide/indexing.html#returning-a-view-versus-a-copy\n",
            "  ratings_df[\"user_id\"] = ratings_df[\"user_id\"].astype(str)\n"
          ]
        }
      ]
    },
    {
      "cell_type": "markdown",
      "source": [
        "Общая статистика о наборе данных"
      ],
      "metadata": {
        "id": "2ZtHuSS6p9Rl"
      }
    },
    {
      "cell_type": "code",
      "source": [
        "ratings_per_user = ratings_df.groupby('user_id').rating.count()\n",
        "ratings_per_item = ratings_df.groupby('title').rating.count()\n",
        "\n",
        "print(f\"Total No. of users: {len(ratings_df.user_id.unique())}\")\n",
        "print(f\"Total No. of items: {len(ratings_df.title.unique())}\")\n",
        "print(\"\\n\")\n",
        "\n",
        "print(f\"Max observed rating: {ratings_df.rating.max()}\")\n",
        "print(f\"Min observed rating: {ratings_df.rating.min()}\")\n",
        "print(\"\\n\")\n",
        "\n",
        "print(f\"Max no. of user ratings: {ratings_per_user.max()}\")\n",
        "print(f\"Min no. of user ratings: {ratings_per_user.min()}\")\n",
        "print(f\"Median no. of ratings per user: {ratings_per_user.median()}\")\n",
        "print(\"\\n\")\n",
        "\n",
        "print(f\"Max no. of item ratings: {ratings_per_item.max()}\")\n",
        "print(f\"Min no. of item ratings: {ratings_per_item.min()}\")\n",
        "print(f\"Median no. of ratings per item: {ratings_per_item.median()}\")\n"
      ],
      "metadata": {
        "colab": {
          "base_uri": "https://localhost:8080/"
        },
        "id": "JTl4GfgxwjO7",
        "outputId": "26756a85-2768-47a7-ff9a-c29eea9e5eed"
      },
      "execution_count": 77,
      "outputs": [
        {
          "output_type": "stream",
          "name": "stdout",
          "text": [
            "Total No. of users: 1677\n",
            "Total No. of items: 92\n",
            "\n",
            "\n",
            "Max observed rating: 5\n",
            "Min observed rating: 1\n",
            "\n",
            "\n",
            "Max no. of user ratings: 24\n",
            "Min no. of user ratings: 1\n",
            "Median no. of ratings per user: 4.0\n",
            "\n",
            "\n",
            "Max no. of item ratings: 348\n",
            "Min no. of item ratings: 15\n",
            "Median no. of ratings per item: 59.0\n"
          ]
        }
      ]
    },
    {
      "cell_type": "markdown",
      "source": [
        "**Разделение на training/validation**"
      ],
      "metadata": {
        "id": "55CqPcKkqfWz"
      }
    },
    {
      "cell_type": "markdown",
      "source": [
        "Поскольку мы намерены обучать модель трансформатора на последовательностях оценок, то набор случайных строк не является хорошим представлением задачи, которую мы пытаемся смоделировать, т.к. для некоторых пользователей оценки из середины последовательности окажутся в наборе проверки. Поэтому будем использовать стратегию\"проверка с исключением одного\", при которой мы выбираем последний хронологический рейтинг для каждого пользователя, учитывая, что он оценил некоторое количество элементов, превышающее определенный порог.\n",
        "Определим функцию для получения последних n для каждого пользователя."
      ],
      "metadata": {
        "id": "40mXiXC7q245"
      }
    },
    {
      "cell_type": "code",
      "source": [
        "def get_last_n_ratings_by_user(\n",
        "    df, n, min_ratings_per_user=1, user_colname=\"user_id\", timestamp_colname=\"unix_timestamp\"\n",
        "):\n",
        "    return (\n",
        "        df.groupby(user_colname)\n",
        "        .filter(lambda x: len(x) >= min_ratings_per_user)\n",
        "        .sort_values(timestamp_colname)\n",
        "        .groupby(user_colname)\n",
        "        .tail(n)\n",
        "        .sort_values(user_colname)\n",
        "    )"
      ],
      "metadata": {
        "id": "EPNc8o3iwlu2"
      },
      "execution_count": 78,
      "outputs": []
    },
    {
      "cell_type": "code",
      "source": [
        "get_last_n_ratings_by_user(ratings_df, 1)"
      ],
      "metadata": {
        "colab": {
          "base_uri": "https://localhost:8080/",
          "height": 423
        },
        "id": "KhCQvpEywtz3",
        "outputId": "82d86708-c91d-4fa1-909b-b13da5cda25f"
      },
      "execution_count": 79,
      "outputs": [
        {
          "output_type": "execute_result",
          "data": {
            "text/plain": [
              "                                   user_id  \\\n",
              "5105  00411460-f7c9-2d21-24a6-7ea0f4cb5f85   \n",
              "2182  006f52e9-102a-8d3b-e2fe-5614f42ba989   \n",
              "2787  00a03ec6-533c-a7f5-c644-d198d815329c   \n",
              "2788  00ac8ed3-b432-7bdd-4ebb-ebcb2ba10a00   \n",
              "3162  00e26af6-ac3b-1c1c-49d7-c3d79c60d000   \n",
              "...                                    ...   \n",
              "880   ff1418e8-cc99-3fe8-abcf-e3ce2003e5c5   \n",
              "2942  ff49cc40-a889-0e6a-60f4-0ff3026d2730   \n",
              "4381  fface838-5abb-f94b-4593-a0ed53a0c70f   \n",
              "8129  ffedf5be-3a86-e2ee-281d-54cdc97bc1cf   \n",
              "6815  ffeed84c-7cb1-ae7b-f4ec-4bd78275bb98   \n",
              "\n",
              "                                                  title  rating unix_timestamp  \n",
              "5105  Эффективное планирование и организация работы ...       4     2023-09-08  \n",
              "2182  Использование социальных сетей для улучшения к...       3     2023-11-07  \n",
              "2787  Использование эмоционального интеллекта в обще...       5     2023-10-15  \n",
              "2788  Использование эмоционального интеллекта в обще...       1     2023-09-28  \n",
              "3162  Техники переговоров и урегулирования спорных в...       4     2023-09-29  \n",
              "...                                                 ...     ...            ...  \n",
              "880   Развитие навыков эмпатии в клиентском обслужив...       1     2023-06-15  \n",
              "2942  Использование эмоционального интеллекта в обще...       1     2023-06-01  \n",
              "4381  Управление ожиданиями и эмоциями клиентов в ус...       5     2023-11-03  \n",
              "8129  Развитие навыков адаптации к различным типам к...       2     2023-11-02  \n",
              "6815  Проектирование и внедрение программ лояльности...       5     2023-10-25  \n",
              "\n",
              "[1677 rows x 4 columns]"
            ],
            "text/html": [
              "\n",
              "  <div id=\"df-d3df3963-4ce3-49e1-899e-1c203e5f10f9\" class=\"colab-df-container\">\n",
              "    <div>\n",
              "<style scoped>\n",
              "    .dataframe tbody tr th:only-of-type {\n",
              "        vertical-align: middle;\n",
              "    }\n",
              "\n",
              "    .dataframe tbody tr th {\n",
              "        vertical-align: top;\n",
              "    }\n",
              "\n",
              "    .dataframe thead th {\n",
              "        text-align: right;\n",
              "    }\n",
              "</style>\n",
              "<table border=\"1\" class=\"dataframe\">\n",
              "  <thead>\n",
              "    <tr style=\"text-align: right;\">\n",
              "      <th></th>\n",
              "      <th>user_id</th>\n",
              "      <th>title</th>\n",
              "      <th>rating</th>\n",
              "      <th>unix_timestamp</th>\n",
              "    </tr>\n",
              "  </thead>\n",
              "  <tbody>\n",
              "    <tr>\n",
              "      <th>5105</th>\n",
              "      <td>00411460-f7c9-2d21-24a6-7ea0f4cb5f85</td>\n",
              "      <td>Эффективное планирование и организация работы ...</td>\n",
              "      <td>4</td>\n",
              "      <td>2023-09-08</td>\n",
              "    </tr>\n",
              "    <tr>\n",
              "      <th>2182</th>\n",
              "      <td>006f52e9-102a-8d3b-e2fe-5614f42ba989</td>\n",
              "      <td>Использование социальных сетей для улучшения к...</td>\n",
              "      <td>3</td>\n",
              "      <td>2023-11-07</td>\n",
              "    </tr>\n",
              "    <tr>\n",
              "      <th>2787</th>\n",
              "      <td>00a03ec6-533c-a7f5-c644-d198d815329c</td>\n",
              "      <td>Использование эмоционального интеллекта в обще...</td>\n",
              "      <td>5</td>\n",
              "      <td>2023-10-15</td>\n",
              "    </tr>\n",
              "    <tr>\n",
              "      <th>2788</th>\n",
              "      <td>00ac8ed3-b432-7bdd-4ebb-ebcb2ba10a00</td>\n",
              "      <td>Использование эмоционального интеллекта в обще...</td>\n",
              "      <td>1</td>\n",
              "      <td>2023-09-28</td>\n",
              "    </tr>\n",
              "    <tr>\n",
              "      <th>3162</th>\n",
              "      <td>00e26af6-ac3b-1c1c-49d7-c3d79c60d000</td>\n",
              "      <td>Техники переговоров и урегулирования спорных в...</td>\n",
              "      <td>4</td>\n",
              "      <td>2023-09-29</td>\n",
              "    </tr>\n",
              "    <tr>\n",
              "      <th>...</th>\n",
              "      <td>...</td>\n",
              "      <td>...</td>\n",
              "      <td>...</td>\n",
              "      <td>...</td>\n",
              "    </tr>\n",
              "    <tr>\n",
              "      <th>880</th>\n",
              "      <td>ff1418e8-cc99-3fe8-abcf-e3ce2003e5c5</td>\n",
              "      <td>Развитие навыков эмпатии в клиентском обслужив...</td>\n",
              "      <td>1</td>\n",
              "      <td>2023-06-15</td>\n",
              "    </tr>\n",
              "    <tr>\n",
              "      <th>2942</th>\n",
              "      <td>ff49cc40-a889-0e6a-60f4-0ff3026d2730</td>\n",
              "      <td>Использование эмоционального интеллекта в обще...</td>\n",
              "      <td>1</td>\n",
              "      <td>2023-06-01</td>\n",
              "    </tr>\n",
              "    <tr>\n",
              "      <th>4381</th>\n",
              "      <td>fface838-5abb-f94b-4593-a0ed53a0c70f</td>\n",
              "      <td>Управление ожиданиями и эмоциями клиентов в ус...</td>\n",
              "      <td>5</td>\n",
              "      <td>2023-11-03</td>\n",
              "    </tr>\n",
              "    <tr>\n",
              "      <th>8129</th>\n",
              "      <td>ffedf5be-3a86-e2ee-281d-54cdc97bc1cf</td>\n",
              "      <td>Развитие навыков адаптации к различным типам к...</td>\n",
              "      <td>2</td>\n",
              "      <td>2023-11-02</td>\n",
              "    </tr>\n",
              "    <tr>\n",
              "      <th>6815</th>\n",
              "      <td>ffeed84c-7cb1-ae7b-f4ec-4bd78275bb98</td>\n",
              "      <td>Проектирование и внедрение программ лояльности...</td>\n",
              "      <td>5</td>\n",
              "      <td>2023-10-25</td>\n",
              "    </tr>\n",
              "  </tbody>\n",
              "</table>\n",
              "<p>1677 rows × 4 columns</p>\n",
              "</div>\n",
              "    <div class=\"colab-df-buttons\">\n",
              "\n",
              "  <div class=\"colab-df-container\">\n",
              "    <button class=\"colab-df-convert\" onclick=\"convertToInteractive('df-d3df3963-4ce3-49e1-899e-1c203e5f10f9')\"\n",
              "            title=\"Convert this dataframe to an interactive table.\"\n",
              "            style=\"display:none;\">\n",
              "\n",
              "  <svg xmlns=\"http://www.w3.org/2000/svg\" height=\"24px\" viewBox=\"0 -960 960 960\">\n",
              "    <path d=\"M120-120v-720h720v720H120Zm60-500h600v-160H180v160Zm220 220h160v-160H400v160Zm0 220h160v-160H400v160ZM180-400h160v-160H180v160Zm440 0h160v-160H620v160ZM180-180h160v-160H180v160Zm440 0h160v-160H620v160Z\"/>\n",
              "  </svg>\n",
              "    </button>\n",
              "\n",
              "  <style>\n",
              "    .colab-df-container {\n",
              "      display:flex;\n",
              "      gap: 12px;\n",
              "    }\n",
              "\n",
              "    .colab-df-convert {\n",
              "      background-color: #E8F0FE;\n",
              "      border: none;\n",
              "      border-radius: 50%;\n",
              "      cursor: pointer;\n",
              "      display: none;\n",
              "      fill: #1967D2;\n",
              "      height: 32px;\n",
              "      padding: 0 0 0 0;\n",
              "      width: 32px;\n",
              "    }\n",
              "\n",
              "    .colab-df-convert:hover {\n",
              "      background-color: #E2EBFA;\n",
              "      box-shadow: 0px 1px 2px rgba(60, 64, 67, 0.3), 0px 1px 3px 1px rgba(60, 64, 67, 0.15);\n",
              "      fill: #174EA6;\n",
              "    }\n",
              "\n",
              "    .colab-df-buttons div {\n",
              "      margin-bottom: 4px;\n",
              "    }\n",
              "\n",
              "    [theme=dark] .colab-df-convert {\n",
              "      background-color: #3B4455;\n",
              "      fill: #D2E3FC;\n",
              "    }\n",
              "\n",
              "    [theme=dark] .colab-df-convert:hover {\n",
              "      background-color: #434B5C;\n",
              "      box-shadow: 0px 1px 3px 1px rgba(0, 0, 0, 0.15);\n",
              "      filter: drop-shadow(0px 1px 2px rgba(0, 0, 0, 0.3));\n",
              "      fill: #FFFFFF;\n",
              "    }\n",
              "  </style>\n",
              "\n",
              "    <script>\n",
              "      const buttonEl =\n",
              "        document.querySelector('#df-d3df3963-4ce3-49e1-899e-1c203e5f10f9 button.colab-df-convert');\n",
              "      buttonEl.style.display =\n",
              "        google.colab.kernel.accessAllowed ? 'block' : 'none';\n",
              "\n",
              "      async function convertToInteractive(key) {\n",
              "        const element = document.querySelector('#df-d3df3963-4ce3-49e1-899e-1c203e5f10f9');\n",
              "        const dataTable =\n",
              "          await google.colab.kernel.invokeFunction('convertToInteractive',\n",
              "                                                    [key], {});\n",
              "        if (!dataTable) return;\n",
              "\n",
              "        const docLinkHtml = 'Like what you see? Visit the ' +\n",
              "          '<a target=\"_blank\" href=https://colab.research.google.com/notebooks/data_table.ipynb>data table notebook</a>'\n",
              "          + ' to learn more about interactive tables.';\n",
              "        element.innerHTML = '';\n",
              "        dataTable['output_type'] = 'display_data';\n",
              "        await google.colab.output.renderOutput(dataTable, element);\n",
              "        const docLink = document.createElement('div');\n",
              "        docLink.innerHTML = docLinkHtml;\n",
              "        element.appendChild(docLink);\n",
              "      }\n",
              "    </script>\n",
              "  </div>\n",
              "\n",
              "\n",
              "<div id=\"df-8f2c8922-561a-4d06-90d7-e62c88ddcfb5\">\n",
              "  <button class=\"colab-df-quickchart\" onclick=\"quickchart('df-8f2c8922-561a-4d06-90d7-e62c88ddcfb5')\"\n",
              "            title=\"Suggest charts\"\n",
              "            style=\"display:none;\">\n",
              "\n",
              "<svg xmlns=\"http://www.w3.org/2000/svg\" height=\"24px\"viewBox=\"0 0 24 24\"\n",
              "     width=\"24px\">\n",
              "    <g>\n",
              "        <path d=\"M19 3H5c-1.1 0-2 .9-2 2v14c0 1.1.9 2 2 2h14c1.1 0 2-.9 2-2V5c0-1.1-.9-2-2-2zM9 17H7v-7h2v7zm4 0h-2V7h2v10zm4 0h-2v-4h2v4z\"/>\n",
              "    </g>\n",
              "</svg>\n",
              "  </button>\n",
              "\n",
              "<style>\n",
              "  .colab-df-quickchart {\n",
              "      --bg-color: #E8F0FE;\n",
              "      --fill-color: #1967D2;\n",
              "      --hover-bg-color: #E2EBFA;\n",
              "      --hover-fill-color: #174EA6;\n",
              "      --disabled-fill-color: #AAA;\n",
              "      --disabled-bg-color: #DDD;\n",
              "  }\n",
              "\n",
              "  [theme=dark] .colab-df-quickchart {\n",
              "      --bg-color: #3B4455;\n",
              "      --fill-color: #D2E3FC;\n",
              "      --hover-bg-color: #434B5C;\n",
              "      --hover-fill-color: #FFFFFF;\n",
              "      --disabled-bg-color: #3B4455;\n",
              "      --disabled-fill-color: #666;\n",
              "  }\n",
              "\n",
              "  .colab-df-quickchart {\n",
              "    background-color: var(--bg-color);\n",
              "    border: none;\n",
              "    border-radius: 50%;\n",
              "    cursor: pointer;\n",
              "    display: none;\n",
              "    fill: var(--fill-color);\n",
              "    height: 32px;\n",
              "    padding: 0;\n",
              "    width: 32px;\n",
              "  }\n",
              "\n",
              "  .colab-df-quickchart:hover {\n",
              "    background-color: var(--hover-bg-color);\n",
              "    box-shadow: 0 1px 2px rgba(60, 64, 67, 0.3), 0 1px 3px 1px rgba(60, 64, 67, 0.15);\n",
              "    fill: var(--button-hover-fill-color);\n",
              "  }\n",
              "\n",
              "  .colab-df-quickchart-complete:disabled,\n",
              "  .colab-df-quickchart-complete:disabled:hover {\n",
              "    background-color: var(--disabled-bg-color);\n",
              "    fill: var(--disabled-fill-color);\n",
              "    box-shadow: none;\n",
              "  }\n",
              "\n",
              "  .colab-df-spinner {\n",
              "    border: 2px solid var(--fill-color);\n",
              "    border-color: transparent;\n",
              "    border-bottom-color: var(--fill-color);\n",
              "    animation:\n",
              "      spin 1s steps(1) infinite;\n",
              "  }\n",
              "\n",
              "  @keyframes spin {\n",
              "    0% {\n",
              "      border-color: transparent;\n",
              "      border-bottom-color: var(--fill-color);\n",
              "      border-left-color: var(--fill-color);\n",
              "    }\n",
              "    20% {\n",
              "      border-color: transparent;\n",
              "      border-left-color: var(--fill-color);\n",
              "      border-top-color: var(--fill-color);\n",
              "    }\n",
              "    30% {\n",
              "      border-color: transparent;\n",
              "      border-left-color: var(--fill-color);\n",
              "      border-top-color: var(--fill-color);\n",
              "      border-right-color: var(--fill-color);\n",
              "    }\n",
              "    40% {\n",
              "      border-color: transparent;\n",
              "      border-right-color: var(--fill-color);\n",
              "      border-top-color: var(--fill-color);\n",
              "    }\n",
              "    60% {\n",
              "      border-color: transparent;\n",
              "      border-right-color: var(--fill-color);\n",
              "    }\n",
              "    80% {\n",
              "      border-color: transparent;\n",
              "      border-right-color: var(--fill-color);\n",
              "      border-bottom-color: var(--fill-color);\n",
              "    }\n",
              "    90% {\n",
              "      border-color: transparent;\n",
              "      border-bottom-color: var(--fill-color);\n",
              "    }\n",
              "  }\n",
              "</style>\n",
              "\n",
              "  <script>\n",
              "    async function quickchart(key) {\n",
              "      const quickchartButtonEl =\n",
              "        document.querySelector('#' + key + ' button');\n",
              "      quickchartButtonEl.disabled = true;  // To prevent multiple clicks.\n",
              "      quickchartButtonEl.classList.add('colab-df-spinner');\n",
              "      try {\n",
              "        const charts = await google.colab.kernel.invokeFunction(\n",
              "            'suggestCharts', [key], {});\n",
              "      } catch (error) {\n",
              "        console.error('Error during call to suggestCharts:', error);\n",
              "      }\n",
              "      quickchartButtonEl.classList.remove('colab-df-spinner');\n",
              "      quickchartButtonEl.classList.add('colab-df-quickchart-complete');\n",
              "    }\n",
              "    (() => {\n",
              "      let quickchartButtonEl =\n",
              "        document.querySelector('#df-8f2c8922-561a-4d06-90d7-e62c88ddcfb5 button');\n",
              "      quickchartButtonEl.style.display =\n",
              "        google.colab.kernel.accessAllowed ? 'block' : 'none';\n",
              "    })();\n",
              "  </script>\n",
              "</div>\n",
              "    </div>\n",
              "  </div>\n"
            ],
            "application/vnd.google.colaboratory.intrinsic+json": {
              "type": "dataframe",
              "repr_error": "0"
            }
          },
          "metadata": {},
          "execution_count": 79
        }
      ]
    },
    {
      "cell_type": "markdown",
      "source": [
        "Теперь определим другую функцию, чтобы пометить последние n оценок каждого пользователя в качестве нашего набора проверки с помощью столбца is_valid:"
      ],
      "metadata": {
        "id": "5v55tjUhrlK2"
      }
    },
    {
      "cell_type": "code",
      "source": [
        "def mark_last_n_ratings_as_validation_set(\n",
        "    df, n, min_ratings=1, user_colname=\"user_id\", timestamp_colname=\"unix_timestamp\"\n",
        "):\n",
        "    df[\"is_valid\"] = False\n",
        "    df.loc[\n",
        "        get_last_n_ratings_by_user(\n",
        "            df,\n",
        "            n,\n",
        "            min_ratings,\n",
        "            user_colname=user_colname,\n",
        "            timestamp_colname=timestamp_colname,\n",
        "        ).index,\n",
        "        \"is_valid\",\n",
        "    ] = True\n",
        "\n",
        "    return df"
      ],
      "metadata": {
        "id": "EcTOJ3T9wt3b"
      },
      "execution_count": 80,
      "outputs": []
    },
    {
      "cell_type": "code",
      "source": [
        "mark_last_n_ratings_as_validation_set(ratings_df, 1)"
      ],
      "metadata": {
        "colab": {
          "base_uri": "https://localhost:8080/",
          "height": 423
        },
        "id": "m7VnS0iSwyVJ",
        "outputId": "b37e1f51-24ba-4913-e146-d772ef429362"
      },
      "execution_count": 81,
      "outputs": [
        {
          "output_type": "execute_result",
          "data": {
            "text/plain": [
              "                                   user_id  \\\n",
              "0     0c048b3a-434e-49e6-55c1-247efb389cec   \n",
              "1     1543843a-4723-ed2a-b08e-18053ae6dc5b   \n",
              "2     1c383cd3-0b7c-298a-b502-93adfecb7b18   \n",
              "3     24681928-425f-5a91-3350-4de568f5f6df   \n",
              "4     26e359e8-3860-db1d-11b6-acca57d8ea88   \n",
              "...                                    ...   \n",
              "8399  f29c21d4-897f-7894-8b91-f03172341b7b   \n",
              "8400  f3144cef-e89a-60d6-a1af-af7859c5076b   \n",
              "8401  f80ff32e-08a2-5270-b5f2-52ce39522f72   \n",
              "8402  f899139d-f5e1-0593-9643-1415e770c6dd   \n",
              "8403  fc9b003b-b003-a298-c2ad-0d05e4342bdc   \n",
              "\n",
              "                                                  title  rating  \\\n",
              "0       Основы клиентского сервиса: Практический подход       5   \n",
              "1       Основы клиентского сервиса: Практический подход       3   \n",
              "2       Основы клиентского сервиса: Практический подход       5   \n",
              "3       Основы клиентского сервиса: Практический подход       1   \n",
              "4       Основы клиентского сервиса: Практический подход       1   \n",
              "...                                                 ...     ...   \n",
              "8399  Стратегии управления ожиданиями и эмоциями кли...       2   \n",
              "8400  Стратегии управления ожиданиями и эмоциями кли...       4   \n",
              "8401  Стратегии управления ожиданиями и эмоциями кли...       1   \n",
              "8402  Стратегии управления ожиданиями и эмоциями кли...       5   \n",
              "8403  Стратегии управления ожиданиями и эмоциями кли...       2   \n",
              "\n",
              "     unix_timestamp  is_valid  \n",
              "0        2023-03-24     False  \n",
              "1        2023-11-05      True  \n",
              "2        2023-04-06     False  \n",
              "3        2023-03-04     False  \n",
              "4        2023-04-27     False  \n",
              "...             ...       ...  \n",
              "8399     2023-10-15      True  \n",
              "8400     2023-08-06     False  \n",
              "8401     2023-07-22     False  \n",
              "8402     2023-07-14     False  \n",
              "8403     2023-04-20     False  \n",
              "\n",
              "[8404 rows x 5 columns]"
            ],
            "text/html": [
              "\n",
              "  <div id=\"df-0d301896-2501-48dc-9618-aa75014a54c6\" class=\"colab-df-container\">\n",
              "    <div>\n",
              "<style scoped>\n",
              "    .dataframe tbody tr th:only-of-type {\n",
              "        vertical-align: middle;\n",
              "    }\n",
              "\n",
              "    .dataframe tbody tr th {\n",
              "        vertical-align: top;\n",
              "    }\n",
              "\n",
              "    .dataframe thead th {\n",
              "        text-align: right;\n",
              "    }\n",
              "</style>\n",
              "<table border=\"1\" class=\"dataframe\">\n",
              "  <thead>\n",
              "    <tr style=\"text-align: right;\">\n",
              "      <th></th>\n",
              "      <th>user_id</th>\n",
              "      <th>title</th>\n",
              "      <th>rating</th>\n",
              "      <th>unix_timestamp</th>\n",
              "      <th>is_valid</th>\n",
              "    </tr>\n",
              "  </thead>\n",
              "  <tbody>\n",
              "    <tr>\n",
              "      <th>0</th>\n",
              "      <td>0c048b3a-434e-49e6-55c1-247efb389cec</td>\n",
              "      <td>Основы клиентского сервиса: Практический подход</td>\n",
              "      <td>5</td>\n",
              "      <td>2023-03-24</td>\n",
              "      <td>False</td>\n",
              "    </tr>\n",
              "    <tr>\n",
              "      <th>1</th>\n",
              "      <td>1543843a-4723-ed2a-b08e-18053ae6dc5b</td>\n",
              "      <td>Основы клиентского сервиса: Практический подход</td>\n",
              "      <td>3</td>\n",
              "      <td>2023-11-05</td>\n",
              "      <td>True</td>\n",
              "    </tr>\n",
              "    <tr>\n",
              "      <th>2</th>\n",
              "      <td>1c383cd3-0b7c-298a-b502-93adfecb7b18</td>\n",
              "      <td>Основы клиентского сервиса: Практический подход</td>\n",
              "      <td>5</td>\n",
              "      <td>2023-04-06</td>\n",
              "      <td>False</td>\n",
              "    </tr>\n",
              "    <tr>\n",
              "      <th>3</th>\n",
              "      <td>24681928-425f-5a91-3350-4de568f5f6df</td>\n",
              "      <td>Основы клиентского сервиса: Практический подход</td>\n",
              "      <td>1</td>\n",
              "      <td>2023-03-04</td>\n",
              "      <td>False</td>\n",
              "    </tr>\n",
              "    <tr>\n",
              "      <th>4</th>\n",
              "      <td>26e359e8-3860-db1d-11b6-acca57d8ea88</td>\n",
              "      <td>Основы клиентского сервиса: Практический подход</td>\n",
              "      <td>1</td>\n",
              "      <td>2023-04-27</td>\n",
              "      <td>False</td>\n",
              "    </tr>\n",
              "    <tr>\n",
              "      <th>...</th>\n",
              "      <td>...</td>\n",
              "      <td>...</td>\n",
              "      <td>...</td>\n",
              "      <td>...</td>\n",
              "      <td>...</td>\n",
              "    </tr>\n",
              "    <tr>\n",
              "      <th>8399</th>\n",
              "      <td>f29c21d4-897f-7894-8b91-f03172341b7b</td>\n",
              "      <td>Стратегии управления ожиданиями и эмоциями кли...</td>\n",
              "      <td>2</td>\n",
              "      <td>2023-10-15</td>\n",
              "      <td>True</td>\n",
              "    </tr>\n",
              "    <tr>\n",
              "      <th>8400</th>\n",
              "      <td>f3144cef-e89a-60d6-a1af-af7859c5076b</td>\n",
              "      <td>Стратегии управления ожиданиями и эмоциями кли...</td>\n",
              "      <td>4</td>\n",
              "      <td>2023-08-06</td>\n",
              "      <td>False</td>\n",
              "    </tr>\n",
              "    <tr>\n",
              "      <th>8401</th>\n",
              "      <td>f80ff32e-08a2-5270-b5f2-52ce39522f72</td>\n",
              "      <td>Стратегии управления ожиданиями и эмоциями кли...</td>\n",
              "      <td>1</td>\n",
              "      <td>2023-07-22</td>\n",
              "      <td>False</td>\n",
              "    </tr>\n",
              "    <tr>\n",
              "      <th>8402</th>\n",
              "      <td>f899139d-f5e1-0593-9643-1415e770c6dd</td>\n",
              "      <td>Стратегии управления ожиданиями и эмоциями кли...</td>\n",
              "      <td>5</td>\n",
              "      <td>2023-07-14</td>\n",
              "      <td>False</td>\n",
              "    </tr>\n",
              "    <tr>\n",
              "      <th>8403</th>\n",
              "      <td>fc9b003b-b003-a298-c2ad-0d05e4342bdc</td>\n",
              "      <td>Стратегии управления ожиданиями и эмоциями кли...</td>\n",
              "      <td>2</td>\n",
              "      <td>2023-04-20</td>\n",
              "      <td>False</td>\n",
              "    </tr>\n",
              "  </tbody>\n",
              "</table>\n",
              "<p>8404 rows × 5 columns</p>\n",
              "</div>\n",
              "    <div class=\"colab-df-buttons\">\n",
              "\n",
              "  <div class=\"colab-df-container\">\n",
              "    <button class=\"colab-df-convert\" onclick=\"convertToInteractive('df-0d301896-2501-48dc-9618-aa75014a54c6')\"\n",
              "            title=\"Convert this dataframe to an interactive table.\"\n",
              "            style=\"display:none;\">\n",
              "\n",
              "  <svg xmlns=\"http://www.w3.org/2000/svg\" height=\"24px\" viewBox=\"0 -960 960 960\">\n",
              "    <path d=\"M120-120v-720h720v720H120Zm60-500h600v-160H180v160Zm220 220h160v-160H400v160Zm0 220h160v-160H400v160ZM180-400h160v-160H180v160Zm440 0h160v-160H620v160ZM180-180h160v-160H180v160Zm440 0h160v-160H620v160Z\"/>\n",
              "  </svg>\n",
              "    </button>\n",
              "\n",
              "  <style>\n",
              "    .colab-df-container {\n",
              "      display:flex;\n",
              "      gap: 12px;\n",
              "    }\n",
              "\n",
              "    .colab-df-convert {\n",
              "      background-color: #E8F0FE;\n",
              "      border: none;\n",
              "      border-radius: 50%;\n",
              "      cursor: pointer;\n",
              "      display: none;\n",
              "      fill: #1967D2;\n",
              "      height: 32px;\n",
              "      padding: 0 0 0 0;\n",
              "      width: 32px;\n",
              "    }\n",
              "\n",
              "    .colab-df-convert:hover {\n",
              "      background-color: #E2EBFA;\n",
              "      box-shadow: 0px 1px 2px rgba(60, 64, 67, 0.3), 0px 1px 3px 1px rgba(60, 64, 67, 0.15);\n",
              "      fill: #174EA6;\n",
              "    }\n",
              "\n",
              "    .colab-df-buttons div {\n",
              "      margin-bottom: 4px;\n",
              "    }\n",
              "\n",
              "    [theme=dark] .colab-df-convert {\n",
              "      background-color: #3B4455;\n",
              "      fill: #D2E3FC;\n",
              "    }\n",
              "\n",
              "    [theme=dark] .colab-df-convert:hover {\n",
              "      background-color: #434B5C;\n",
              "      box-shadow: 0px 1px 3px 1px rgba(0, 0, 0, 0.15);\n",
              "      filter: drop-shadow(0px 1px 2px rgba(0, 0, 0, 0.3));\n",
              "      fill: #FFFFFF;\n",
              "    }\n",
              "  </style>\n",
              "\n",
              "    <script>\n",
              "      const buttonEl =\n",
              "        document.querySelector('#df-0d301896-2501-48dc-9618-aa75014a54c6 button.colab-df-convert');\n",
              "      buttonEl.style.display =\n",
              "        google.colab.kernel.accessAllowed ? 'block' : 'none';\n",
              "\n",
              "      async function convertToInteractive(key) {\n",
              "        const element = document.querySelector('#df-0d301896-2501-48dc-9618-aa75014a54c6');\n",
              "        const dataTable =\n",
              "          await google.colab.kernel.invokeFunction('convertToInteractive',\n",
              "                                                    [key], {});\n",
              "        if (!dataTable) return;\n",
              "\n",
              "        const docLinkHtml = 'Like what you see? Visit the ' +\n",
              "          '<a target=\"_blank\" href=https://colab.research.google.com/notebooks/data_table.ipynb>data table notebook</a>'\n",
              "          + ' to learn more about interactive tables.';\n",
              "        element.innerHTML = '';\n",
              "        dataTable['output_type'] = 'display_data';\n",
              "        await google.colab.output.renderOutput(dataTable, element);\n",
              "        const docLink = document.createElement('div');\n",
              "        docLink.innerHTML = docLinkHtml;\n",
              "        element.appendChild(docLink);\n",
              "      }\n",
              "    </script>\n",
              "  </div>\n",
              "\n",
              "\n",
              "<div id=\"df-9e01cf2f-9786-49bb-b869-a2713d64e5f0\">\n",
              "  <button class=\"colab-df-quickchart\" onclick=\"quickchart('df-9e01cf2f-9786-49bb-b869-a2713d64e5f0')\"\n",
              "            title=\"Suggest charts\"\n",
              "            style=\"display:none;\">\n",
              "\n",
              "<svg xmlns=\"http://www.w3.org/2000/svg\" height=\"24px\"viewBox=\"0 0 24 24\"\n",
              "     width=\"24px\">\n",
              "    <g>\n",
              "        <path d=\"M19 3H5c-1.1 0-2 .9-2 2v14c0 1.1.9 2 2 2h14c1.1 0 2-.9 2-2V5c0-1.1-.9-2-2-2zM9 17H7v-7h2v7zm4 0h-2V7h2v10zm4 0h-2v-4h2v4z\"/>\n",
              "    </g>\n",
              "</svg>\n",
              "  </button>\n",
              "\n",
              "<style>\n",
              "  .colab-df-quickchart {\n",
              "      --bg-color: #E8F0FE;\n",
              "      --fill-color: #1967D2;\n",
              "      --hover-bg-color: #E2EBFA;\n",
              "      --hover-fill-color: #174EA6;\n",
              "      --disabled-fill-color: #AAA;\n",
              "      --disabled-bg-color: #DDD;\n",
              "  }\n",
              "\n",
              "  [theme=dark] .colab-df-quickchart {\n",
              "      --bg-color: #3B4455;\n",
              "      --fill-color: #D2E3FC;\n",
              "      --hover-bg-color: #434B5C;\n",
              "      --hover-fill-color: #FFFFFF;\n",
              "      --disabled-bg-color: #3B4455;\n",
              "      --disabled-fill-color: #666;\n",
              "  }\n",
              "\n",
              "  .colab-df-quickchart {\n",
              "    background-color: var(--bg-color);\n",
              "    border: none;\n",
              "    border-radius: 50%;\n",
              "    cursor: pointer;\n",
              "    display: none;\n",
              "    fill: var(--fill-color);\n",
              "    height: 32px;\n",
              "    padding: 0;\n",
              "    width: 32px;\n",
              "  }\n",
              "\n",
              "  .colab-df-quickchart:hover {\n",
              "    background-color: var(--hover-bg-color);\n",
              "    box-shadow: 0 1px 2px rgba(60, 64, 67, 0.3), 0 1px 3px 1px rgba(60, 64, 67, 0.15);\n",
              "    fill: var(--button-hover-fill-color);\n",
              "  }\n",
              "\n",
              "  .colab-df-quickchart-complete:disabled,\n",
              "  .colab-df-quickchart-complete:disabled:hover {\n",
              "    background-color: var(--disabled-bg-color);\n",
              "    fill: var(--disabled-fill-color);\n",
              "    box-shadow: none;\n",
              "  }\n",
              "\n",
              "  .colab-df-spinner {\n",
              "    border: 2px solid var(--fill-color);\n",
              "    border-color: transparent;\n",
              "    border-bottom-color: var(--fill-color);\n",
              "    animation:\n",
              "      spin 1s steps(1) infinite;\n",
              "  }\n",
              "\n",
              "  @keyframes spin {\n",
              "    0% {\n",
              "      border-color: transparent;\n",
              "      border-bottom-color: var(--fill-color);\n",
              "      border-left-color: var(--fill-color);\n",
              "    }\n",
              "    20% {\n",
              "      border-color: transparent;\n",
              "      border-left-color: var(--fill-color);\n",
              "      border-top-color: var(--fill-color);\n",
              "    }\n",
              "    30% {\n",
              "      border-color: transparent;\n",
              "      border-left-color: var(--fill-color);\n",
              "      border-top-color: var(--fill-color);\n",
              "      border-right-color: var(--fill-color);\n",
              "    }\n",
              "    40% {\n",
              "      border-color: transparent;\n",
              "      border-right-color: var(--fill-color);\n",
              "      border-top-color: var(--fill-color);\n",
              "    }\n",
              "    60% {\n",
              "      border-color: transparent;\n",
              "      border-right-color: var(--fill-color);\n",
              "    }\n",
              "    80% {\n",
              "      border-color: transparent;\n",
              "      border-right-color: var(--fill-color);\n",
              "      border-bottom-color: var(--fill-color);\n",
              "    }\n",
              "    90% {\n",
              "      border-color: transparent;\n",
              "      border-bottom-color: var(--fill-color);\n",
              "    }\n",
              "  }\n",
              "</style>\n",
              "\n",
              "  <script>\n",
              "    async function quickchart(key) {\n",
              "      const quickchartButtonEl =\n",
              "        document.querySelector('#' + key + ' button');\n",
              "      quickchartButtonEl.disabled = true;  // To prevent multiple clicks.\n",
              "      quickchartButtonEl.classList.add('colab-df-spinner');\n",
              "      try {\n",
              "        const charts = await google.colab.kernel.invokeFunction(\n",
              "            'suggestCharts', [key], {});\n",
              "      } catch (error) {\n",
              "        console.error('Error during call to suggestCharts:', error);\n",
              "      }\n",
              "      quickchartButtonEl.classList.remove('colab-df-spinner');\n",
              "      quickchartButtonEl.classList.add('colab-df-quickchart-complete');\n",
              "    }\n",
              "    (() => {\n",
              "      let quickchartButtonEl =\n",
              "        document.querySelector('#df-9e01cf2f-9786-49bb-b869-a2713d64e5f0 button');\n",
              "      quickchartButtonEl.style.display =\n",
              "        google.colab.kernel.accessAllowed ? 'block' : 'none';\n",
              "    })();\n",
              "  </script>\n",
              "</div>\n",
              "    </div>\n",
              "  </div>\n"
            ],
            "application/vnd.google.colaboratory.intrinsic+json": {
              "type": "dataframe",
              "variable_name": "ratings_df",
              "summary": "{\n  \"name\": \"ratings_df\",\n  \"rows\": 8404,\n  \"fields\": [\n    {\n      \"column\": \"user_id\",\n      \"properties\": {\n        \"dtype\": \"category\",\n        \"num_unique_values\": 1677,\n        \"samples\": [\n          \"98d6f58a-b0da-fbb8-6b08-3a001561bb34\",\n          \"185e65bc-4058-1880-c4f2-c82958de8cfe\",\n          \"e555ebe0-ce42-6f7f-9b2b-ef0706315e0c\"\n        ],\n        \"semantic_type\": \"\",\n        \"description\": \"\"\n      }\n    },\n    {\n      \"column\": \"title\",\n      \"properties\": {\n        \"dtype\": \"category\",\n        \"num_unique_values\": 92,\n        \"samples\": [\n          \"\\u0418\\u043d\\u0442\\u0435\\u0433\\u0440\\u0430\\u0446\\u0438\\u044f \\u043a\\u043b\\u0438\\u0435\\u043d\\u0442\\u0441\\u043a\\u043e\\u0433\\u043e \\u0441\\u0435\\u0440\\u0432\\u0438\\u0441\\u0430 \\u0441 \\u0434\\u0440\\u0443\\u0433\\u0438\\u043c\\u0438 \\u043e\\u0442\\u0434\\u0435\\u043b\\u0430\\u043c\\u0438 \\u043a\\u043e\\u043c\\u043f\\u0430\\u043d\\u0438\\u0438\",\n          \"\\u042d\\u0444\\u0444\\u0435\\u043a\\u0442\\u0438\\u0432\\u043d\\u043e\\u0435 \\u043e\\u0431\\u0443\\u0447\\u0435\\u043d\\u0438\\u0435 \\u043a\\u043b\\u0438\\u0435\\u043d\\u0442\\u043e\\u0432 \\u0432 \\u0438\\u0441\\u043f\\u043e\\u043b\\u044c\\u0437\\u043e\\u0432\\u0430\\u043d\\u0438\\u0438 \\u043f\\u0440\\u043e\\u0434\\u0443\\u043a\\u0442\\u0430 \\u0438\\u043b\\u0438 \\u0443\\u0441\\u043b\\u0443\\u0433\\u0438\",\n          \"\\u042d\\u0442\\u0438\\u043a\\u0430 \\u0438 \\u043f\\u0440\\u043e\\u0444\\u0435\\u0441\\u0441\\u0438\\u043e\\u043d\\u0430\\u043b\\u044c\\u043d\\u043e\\u0435 \\u043f\\u043e\\u0432\\u0435\\u0434\\u0435\\u043d\\u0438\\u0435 \\u0432 \\u043a\\u043b\\u0438\\u0435\\u043d\\u0442\\u0441\\u043a\\u043e\\u043c \\u043e\\u0431\\u0441\\u043b\\u0443\\u0436\\u0438\\u0432\\u0430\\u043d\\u0438\\u0438\"\n        ],\n        \"semantic_type\": \"\",\n        \"description\": \"\"\n      }\n    },\n    {\n      \"column\": \"rating\",\n      \"properties\": {\n        \"dtype\": \"number\",\n        \"std\": 1,\n        \"min\": 1,\n        \"max\": 5,\n        \"num_unique_values\": 5,\n        \"samples\": [\n          3,\n          4,\n          1\n        ],\n        \"semantic_type\": \"\",\n        \"description\": \"\"\n      }\n    },\n    {\n      \"column\": \"unix_timestamp\",\n      \"properties\": {\n        \"dtype\": \"object\",\n        \"num_unique_values\": 307,\n        \"samples\": [\n          \"2023-02-11\",\n          \"2023-05-07\",\n          \"2023-08-02\"\n        ],\n        \"semantic_type\": \"\",\n        \"description\": \"\"\n      }\n    },\n    {\n      \"column\": \"is_valid\",\n      \"properties\": {\n        \"dtype\": \"boolean\",\n        \"num_unique_values\": 2,\n        \"samples\": [\n          true,\n          false\n        ],\n        \"semantic_type\": \"\",\n        \"description\": \"\"\n      }\n    }\n  ]\n}"
            }
          },
          "metadata": {},
          "execution_count": 81
        }
      ]
    },
    {
      "cell_type": "code",
      "source": [
        "train_df = ratings_df[ratings_df.is_valid==False]\n",
        "valid_df = ratings_df[ratings_df.is_valid==True]"
      ],
      "metadata": {
        "id": "kxrrtTGhw1j0"
      },
      "execution_count": 82,
      "outputs": []
    },
    {
      "cell_type": "code",
      "source": [
        "len(valid_df), ratings_df.shape, train_df.shape"
      ],
      "metadata": {
        "colab": {
          "base_uri": "https://localhost:8080/"
        },
        "id": "BSZWJj_-w4D1",
        "outputId": "c45497ed-6680-4d21-b0ed-df218bc194a1"
      },
      "execution_count": 83,
      "outputs": [
        {
          "output_type": "execute_result",
          "data": {
            "text/plain": [
              "(1677, (8404, 5), (6727, 5))"
            ]
          },
          "metadata": {},
          "execution_count": 83
        }
      ]
    },
    {
      "cell_type": "markdown",
      "source": [
        "**Baseline Model**"
      ],
      "metadata": {
        "id": "0gB0Xt_Tr4L7"
      }
    },
    {
      "cell_type": "markdown",
      "source": [
        "Создадим базовую модель для сравнения всех будущих подходов. Спрогнозируем средний рейтинг, независимо от контекста. Поскольку на среднее значение могут сильно влиять выбросы, давайте воспользуемся для этого медианой."
      ],
      "metadata": {
        "id": "DzCxMAaQr52o"
      }
    },
    {
      "cell_type": "code",
      "source": [
        "median_rating = train_df.rating.median()"
      ],
      "metadata": {
        "id": "TePmUYMdw5Lq"
      },
      "execution_count": 84,
      "outputs": []
    },
    {
      "cell_type": "code",
      "source": [
        "import math\n",
        "from sklearn.metrics import mean_squared_error, mean_absolute_error\n",
        "\n",
        "predictions = np.array([median_rating]* len(valid_df))\n",
        "\n",
        "mae = mean_absolute_error(valid_df.rating, predictions)\n",
        "mse = mean_squared_error(valid_df.rating, predictions)\n",
        "rmse = math.sqrt(mse)\n",
        "\n",
        "print(f'mae: {mae}')\n",
        "print(f'mse: {mse}')\n",
        "print(f'rmse: {rmse}')"
      ],
      "metadata": {
        "colab": {
          "base_uri": "https://localhost:8080/"
        },
        "id": "3PcLY7e4w8lT",
        "outputId": "1f83e81b-5698-4300-f2d2-ed1c5fb19541"
      },
      "execution_count": 85,
      "outputs": [
        {
          "output_type": "stream",
          "name": "stdout",
          "text": [
            "mae: 1.1997614788312463\n",
            "mse: 1.9952295766249255\n",
            "rmse: 1.4125259560889227\n"
          ]
        }
      ]
    },
    {
      "cell_type": "markdown",
      "source": [
        "**Матричная факторизация со смещением**"
      ],
      "metadata": {
        "id": "3LWFVjXlsurF"
      }
    },
    {
      "cell_type": "markdown",
      "source": [
        "Преобразуем название курса в целочисленный формат, так же закодируем юзер ид"
      ],
      "metadata": {
        "id": "kEY0p7fa83va"
      }
    },
    {
      "cell_type": "code",
      "source": [
        "user_lookup = {v: i+1 for i, v in enumerate(ratings_df['user_id'].unique())}"
      ],
      "metadata": {
        "id": "keujkFs8xDQl"
      },
      "execution_count": 86,
      "outputs": []
    },
    {
      "cell_type": "code",
      "source": [
        "course_lookup = {v: i+1 for i, v in enumerate(ratings_df['title'].unique())}"
      ],
      "metadata": {
        "id": "4DYmSg4QxFlJ"
      },
      "execution_count": 87,
      "outputs": []
    },
    {
      "cell_type": "code",
      "source": [
        "from torch.utils.data import Dataset\n",
        "\n",
        "class UserItemRatingDataset(Dataset):\n",
        "    def __init__(self, df, course_lookup, user_lookup):\n",
        "        self.df = df\n",
        "        self.course_lookup = course_lookup\n",
        "        self.user_lookup = user_lookup\n",
        "\n",
        "    def __getitem__(self, index):\n",
        "        row = self.df.iloc[index]\n",
        "        user_id = self.user_lookup[row.user_id]\n",
        "        course_id = self.course_lookup[row.title]\n",
        "\n",
        "        rating = torch.tensor(row.rating, dtype=torch.float32)\n",
        "\n",
        "        return (user_id, course_id), rating\n",
        "\n",
        "    def __len__(self):\n",
        "        return len(self.df)\n"
      ],
      "metadata": {
        "id": "sQi35UMNxHZZ"
      },
      "execution_count": 88,
      "outputs": []
    },
    {
      "cell_type": "code",
      "source": [
        "train_dataset = UserItemRatingDataset(train_df, course_lookup, user_lookup)\n",
        "valid_dataset = UserItemRatingDataset(valid_df, course_lookup, user_lookup)"
      ],
      "metadata": {
        "id": "OIgtIJPUxJb8"
      },
      "execution_count": 89,
      "outputs": []
    },
    {
      "cell_type": "code",
      "source": [
        "import torch\n",
        "from torch import nn\n",
        "\n",
        "class MfDotBias(nn.Module):\n",
        "\n",
        "    def __init__(\n",
        "        self, n_factors, n_users, n_items, ratings_range=None, use_biases=True\n",
        "    ):\n",
        "        super().__init__()\n",
        "        self.bias = use_biases\n",
        "        self.y_range = ratings_range\n",
        "        self.user_embedding = nn.Embedding(n_users+1, n_factors, padding_idx=0)\n",
        "        self.item_embedding = nn.Embedding(n_items+1, n_factors, padding_idx=0)\n",
        "\n",
        "        if use_biases:\n",
        "            self.user_bias = nn.Embedding(n_users+1, 1, padding_idx=0)\n",
        "            self.item_bias = nn.Embedding(n_items+1, 1, padding_idx=0)\n",
        "\n",
        "    def forward(self, inputs):\n",
        "        users, items = inputs\n",
        "        dot = self.user_embedding(users) * self.item_embedding(items)\n",
        "        result = dot.sum(1)\n",
        "        if self.bias:\n",
        "            result = (\n",
        "                result + self.user_bias(users).squeeze() + self.item_bias(items).squeeze()\n",
        "            )\n",
        "\n",
        "        if self.y_range is None:\n",
        "            return result\n",
        "        else:\n",
        "            return (\n",
        "                torch.sigmoid(result) * (self.y_range[1] - self.y_range[0])\n",
        "                + self.y_range[0]\n",
        "            )"
      ],
      "metadata": {
        "id": "4x8lWhIIxLmT"
      },
      "execution_count": 90,
      "outputs": []
    },
    {
      "cell_type": "markdown",
      "source": [
        "Слой внедрения — это таблица поиска, указываем размер слоя внедрения - количество уникальных элементов, наблюдаемых в полном наборе данных, а не только в обучающем наборе. Указываем встраивание заполнения по индексу 0, которое можно использовать для любых неизвестных значений. PyTorch справляется с этим, устанавливая для этой записи нулевой вектор, который не обновляется во время обучения.\n",
        "\n",
        "Кроме того, поскольку это задача регрессии, диапазон, который может предсказать модель, потенциально неограничен. Изменим архитектуру, чтобы ограничить этот диапазон перед обучением. Применим сигмоидальную функцию к выходным данным модели, которая ограничивает диапазон от 0 до 1, а затем масштабируя ее в пределах диапазона, который мы можем определить."
      ],
      "metadata": {
        "id": "auIQ-4t_A3R7"
      }
    },
    {
      "cell_type": "markdown",
      "source": [
        "**PyTorch accelerated**"
      ],
      "metadata": {
        "id": "KuSryl_xB3rc"
      }
    },
    {
      "cell_type": "code",
      "source": [
        "from functools import partial\n",
        "\n",
        "from pytorch_accelerated import Trainer, notebook_launcher\n",
        "from pytorch_accelerated.trainer import TrainerPlaceholderValues, DEFAULT_CALLBACKS\n",
        "from pytorch_accelerated.callbacks import EarlyStoppingCallback, SaveBestModelCallback, TrainerCallback, StopTrainingError\n",
        "import torchmetrics"
      ],
      "metadata": {
        "id": "A-Bkl_92xOd6"
      },
      "execution_count": 91,
      "outputs": []
    },
    {
      "cell_type": "markdown",
      "source": [
        "Поскольку ускорение pytorch по умолчанию отслеживает только потери при обучении и проверке, создадим обратный вызов для отслеживания наших показателей."
      ],
      "metadata": {
        "id": "dJHRsbmBB-X8"
      }
    },
    {
      "cell_type": "code",
      "source": [
        "class RecommenderMetricsCallback(TrainerCallback):\n",
        "    def __init__(self):\n",
        "        self.metrics = torchmetrics.MetricCollection(\n",
        "            {\n",
        "                \"mse\": torchmetrics.MeanSquaredError(),\n",
        "                \"mae\": torchmetrics.MeanAbsoluteError(),\n",
        "            }\n",
        "        )\n",
        "\n",
        "    def _move_to_device(self, trainer):\n",
        "        self.metrics.to(trainer.device)\n",
        "\n",
        "    def on_training_run_start(self, trainer, **kwargs):\n",
        "        self._move_to_device(trainer)\n",
        "\n",
        "    def on_evaluation_run_start(self, trainer, **kwargs):\n",
        "        self._move_to_device(trainer)\n",
        "\n",
        "    def on_eval_step_end(self, trainer, batch, batch_output, **kwargs):\n",
        "        preds = batch_output[\"model_outputs\"]\n",
        "        self.metrics.update(preds, batch[1])\n",
        "\n",
        "    def on_eval_epoch_end(self, trainer, **kwargs):\n",
        "        metrics = self.metrics.compute()\n",
        "\n",
        "        mse = metrics[\"mse\"].cpu()\n",
        "        trainer.run_history.update_metric(\"mae\", metrics[\"mae\"].cpu())\n",
        "        trainer.run_history.update_metric(\"mse\", mse)\n",
        "        trainer.run_history.update_metric(\"rmse\",  math.sqrt(mse))\n",
        "\n",
        "        self.metrics.reset()"
      ],
      "metadata": {
        "id": "4_7oapQqxQSp"
      },
      "execution_count": 92,
      "outputs": []
    },
    {
      "cell_type": "markdown",
      "source": [
        "Ускорение PyTorch предоставляет функцию Notebook_launcher, которая позволяет нам запускать обучающие прогоны с несколькими графическими процессорами прямо из блокнота. Чтобы использовать это, все, что нам нужно сделать, это определить функцию обучения, которая создает экземпляр нашего объекта Trainer и вызывает метод train.\n",
        "\n",
        "Такие компоненты, как модель и набор данных, можно определить в любом месте, но важно, чтобы экземпляр тренажера создавался только в рамках функции обучения."
      ],
      "metadata": {
        "id": "Xv6zsqdfCPVr"
      }
    },
    {
      "cell_type": "code",
      "source": [
        "def train_mf_model():\n",
        "    model = MfDotBias(\n",
        "        120, len(user_lookup), len(course_lookup), ratings_range=[0.5, 5.5]\n",
        "    )\n",
        "    loss_func = torch.nn.MSELoss()\n",
        "\n",
        "    optimizer = torch.optim.AdamW(model.parameters(), lr=0.01)\n",
        "\n",
        "    create_sched_fn = partial(\n",
        "        torch.optim.lr_scheduler.OneCycleLR,\n",
        "        max_lr=0.01,\n",
        "        epochs=TrainerPlaceholderValues.NUM_EPOCHS,\n",
        "        steps_per_epoch=TrainerPlaceholderValues.NUM_UPDATE_STEPS_PER_EPOCH,\n",
        "    )\n",
        "\n",
        "    trainer = Trainer(\n",
        "        model=model,\n",
        "        loss_func=loss_func,\n",
        "        optimizer=optimizer,\n",
        "        callbacks=(\n",
        "            RecommenderMetricsCallback,\n",
        "            *DEFAULT_CALLBACKS,\n",
        "            SaveBestModelCallback(watch_metric=\"mae\"),\n",
        "            EarlyStoppingCallback(\n",
        "                early_stopping_patience=2,\n",
        "                early_stopping_threshold=0.001,\n",
        "                watch_metric=\"mae\",\n",
        "            ),\n",
        "        ),\n",
        "    )\n",
        "\n",
        "    trainer.train(\n",
        "        train_dataset=train_dataset,\n",
        "        eval_dataset=valid_dataset,\n",
        "        num_epochs=30,\n",
        "        per_device_batch_size=32,\n",
        "        create_scheduler_fn=create_sched_fn,\n",
        "    )\n"
      ],
      "metadata": {
        "id": "8GnlmbdmyTjR"
      },
      "execution_count": 93,
      "outputs": []
    },
    {
      "cell_type": "code",
      "source": [
        "notebook_launcher(train_mf_model, num_processes=2)"
      ],
      "metadata": {
        "colab": {
          "base_uri": "https://localhost:8080/"
        },
        "id": "XBH-LtwLyWNq",
        "outputId": "246c7a8e-e270-4dfb-df52-45bfefe2f63c"
      },
      "execution_count": 94,
      "outputs": [
        {
          "output_type": "stream",
          "name": "stdout",
          "text": [
            "Launching training on one CPU.\n",
            "\n",
            "Starting training run\n",
            "\n",
            "Starting epoch 1\n"
          ]
        },
        {
          "output_type": "stream",
          "name": "stderr",
          "text": [
            "\r  0%|          | 0/211 [00:00<?, ?it/s]/usr/lib/python3.10/multiprocessing/popen_fork.py:66: RuntimeWarning: os.fork() was called. os.fork() is incompatible with multithreaded code, and JAX is multithreaded, so this will likely lead to a deadlock.\n",
            "  self.pid = os.fork()\n",
            " 96%|█████████▌| 203/211 [00:03<00:00, 78.58it/s]/usr/lib/python3.10/multiprocessing/popen_fork.py:66: RuntimeWarning: os.fork() was called. os.fork() is incompatible with multithreaded code, and JAX is multithreaded, so this will likely lead to a deadlock.\n",
            "  self.pid = os.fork()\n",
            "100%|██████████| 211/211 [00:03<00:00, 59.89it/s]\n"
          ]
        },
        {
          "output_type": "stream",
          "name": "stdout",
          "text": [
            "\n",
            "train_loss_epoch: 7.196784973144531\n"
          ]
        },
        {
          "output_type": "stream",
          "name": "stderr",
          "text": [
            "100%|██████████| 53/53 [00:00<00:00, 79.83it/s]\n"
          ]
        },
        {
          "output_type": "stream",
          "name": "stdout",
          "text": [
            "\n",
            "mse: 7.264636993408203\n",
            "\n",
            "rmse: 2.6952990545407394\n",
            "\n",
            "eval_loss_epoch: 7.264636039733887\n",
            "\n",
            "mae: 2.300767183303833\n",
            "\n",
            "Starting epoch 2\n"
          ]
        },
        {
          "output_type": "stream",
          "name": "stderr",
          "text": [
            "100%|██████████| 211/211 [00:02<00:00, 74.45it/s]\n"
          ]
        },
        {
          "output_type": "stream",
          "name": "stdout",
          "text": [
            "\n",
            "train_loss_epoch: 6.82966423034668\n"
          ]
        },
        {
          "output_type": "stream",
          "name": "stderr",
          "text": [
            "100%|██████████| 53/53 [00:00<00:00, 77.69it/s]\n"
          ]
        },
        {
          "output_type": "stream",
          "name": "stdout",
          "text": [
            "\n",
            "mse: 7.253899097442627\n",
            "\n",
            "rmse: 2.693306350462685\n",
            "\n",
            "eval_loss_epoch: 7.2538981437683105\n",
            "\n",
            "mae: 2.2989113330841064\n",
            "\n",
            "Improvement of 0.0018558502197265625 observed, resetting counter. \n",
            "Early stopping counter: 0/2\n",
            "\n",
            "Starting epoch 3\n"
          ]
        },
        {
          "output_type": "stream",
          "name": "stderr",
          "text": [
            "100%|██████████| 211/211 [00:02<00:00, 76.15it/s]\n"
          ]
        },
        {
          "output_type": "stream",
          "name": "stdout",
          "text": [
            "\n",
            "train_loss_epoch: 6.167803764343262\n"
          ]
        },
        {
          "output_type": "stream",
          "name": "stderr",
          "text": [
            "100%|██████████| 53/53 [00:00<00:00, 81.89it/s]\n"
          ]
        },
        {
          "output_type": "stream",
          "name": "stdout",
          "text": [
            "\n",
            "mse: 7.239737510681152\n",
            "\n",
            "rmse: 2.6906760322790912\n",
            "\n",
            "eval_loss_epoch: 7.239737033843994\n",
            "\n",
            "mae: 2.2941994667053223\n",
            "\n",
            "Improvement of 0.00471186637878418 observed, resetting counter. \n",
            "Early stopping counter: 0/2\n",
            "\n",
            "Starting epoch 4\n"
          ]
        },
        {
          "output_type": "stream",
          "name": "stderr",
          "text": [
            "100%|██████████| 211/211 [00:03<00:00, 53.39it/s]\n"
          ]
        },
        {
          "output_type": "stream",
          "name": "stdout",
          "text": [
            "\n",
            "train_loss_epoch: 5.563884735107422\n"
          ]
        },
        {
          "output_type": "stream",
          "name": "stderr",
          "text": [
            "100%|██████████| 53/53 [00:00<00:00, 84.30it/s]\n"
          ]
        },
        {
          "output_type": "stream",
          "name": "stdout",
          "text": [
            "\n",
            "mse: 7.2342424392700195\n",
            "\n",
            "rmse: 2.689654706327565\n",
            "\n",
            "eval_loss_epoch: 7.234242916107178\n",
            "\n",
            "mae: 2.299638509750366\n",
            "No improvement above threshold observed, incrementing counter. \n",
            "Early stopping counter: 1/2\n",
            "\n",
            "Starting epoch 5\n"
          ]
        },
        {
          "output_type": "stream",
          "name": "stderr",
          "text": [
            "100%|██████████| 211/211 [00:02<00:00, 75.48it/s]\n"
          ]
        },
        {
          "output_type": "stream",
          "name": "stdout",
          "text": [
            "\n",
            "train_loss_epoch: 5.363786220550537\n"
          ]
        },
        {
          "output_type": "stream",
          "name": "stderr",
          "text": [
            "100%|██████████| 53/53 [00:00<00:00, 79.11it/s]\n"
          ]
        },
        {
          "output_type": "stream",
          "name": "stdout",
          "text": [
            "\n",
            "mse: 7.172443389892578\n",
            "\n",
            "rmse: 2.678141779273939\n",
            "\n",
            "eval_loss_epoch: 7.172443389892578\n",
            "\n",
            "mae: 2.2864813804626465\n",
            "\n",
            "Improvement of 0.007718086242675781 observed, resetting counter. \n",
            "Early stopping counter: 0/2\n",
            "\n",
            "Starting epoch 6\n"
          ]
        },
        {
          "output_type": "stream",
          "name": "stderr",
          "text": [
            "100%|██████████| 211/211 [00:02<00:00, 76.81it/s]\n"
          ]
        },
        {
          "output_type": "stream",
          "name": "stdout",
          "text": [
            "\n",
            "train_loss_epoch: 5.246518135070801\n"
          ]
        },
        {
          "output_type": "stream",
          "name": "stderr",
          "text": [
            "100%|██████████| 53/53 [00:00<00:00, 80.76it/s]\n"
          ]
        },
        {
          "output_type": "stream",
          "name": "stdout",
          "text": [
            "\n",
            "mse: 7.093315124511719\n",
            "\n",
            "rmse: 2.6633278289597992\n",
            "\n",
            "eval_loss_epoch: 7.093316078186035\n",
            "\n",
            "mae: 2.2703073024749756\n",
            "\n",
            "Improvement of 0.0161740779876709 observed, resetting counter. \n",
            "Early stopping counter: 0/2\n",
            "\n",
            "Starting epoch 7\n"
          ]
        },
        {
          "output_type": "stream",
          "name": "stderr",
          "text": [
            "100%|██████████| 211/211 [00:03<00:00, 60.51it/s]\n"
          ]
        },
        {
          "output_type": "stream",
          "name": "stdout",
          "text": [
            "\n",
            "train_loss_epoch: 5.116235256195068\n"
          ]
        },
        {
          "output_type": "stream",
          "name": "stderr",
          "text": [
            "100%|██████████| 53/53 [00:01<00:00, 52.25it/s]\n"
          ]
        },
        {
          "output_type": "stream",
          "name": "stdout",
          "text": [
            "\n",
            "mse: 7.056127548217773\n",
            "\n",
            "rmse: 2.6563372429376835\n",
            "\n",
            "eval_loss_epoch: 7.056127071380615\n",
            "\n",
            "mae: 2.263728380203247\n",
            "\n",
            "Improvement of 0.006578922271728516 observed, resetting counter. \n",
            "Early stopping counter: 0/2\n",
            "\n",
            "Starting epoch 8\n"
          ]
        },
        {
          "output_type": "stream",
          "name": "stderr",
          "text": [
            "100%|██████████| 211/211 [00:02<00:00, 76.29it/s]\n"
          ]
        },
        {
          "output_type": "stream",
          "name": "stdout",
          "text": [
            "\n",
            "train_loss_epoch: 4.974285125732422\n"
          ]
        },
        {
          "output_type": "stream",
          "name": "stderr",
          "text": [
            "100%|██████████| 53/53 [00:00<00:00, 77.25it/s]\n"
          ]
        },
        {
          "output_type": "stream",
          "name": "stdout",
          "text": [
            "\n",
            "mse: 7.01375675201416\n",
            "\n",
            "rmse: 2.6483498167753745\n",
            "\n",
            "eval_loss_epoch: 7.013757705688477\n",
            "\n",
            "mae: 2.2524678707122803\n",
            "\n",
            "Improvement of 0.011260509490966797 observed, resetting counter. \n",
            "Early stopping counter: 0/2\n",
            "\n",
            "Starting epoch 9\n"
          ]
        },
        {
          "output_type": "stream",
          "name": "stderr",
          "text": [
            "100%|██████████| 211/211 [00:02<00:00, 76.25it/s]\n"
          ]
        },
        {
          "output_type": "stream",
          "name": "stdout",
          "text": [
            "\n",
            "train_loss_epoch: 4.847530841827393\n"
          ]
        },
        {
          "output_type": "stream",
          "name": "stderr",
          "text": [
            "100%|██████████| 53/53 [00:00<00:00, 81.38it/s]\n"
          ]
        },
        {
          "output_type": "stream",
          "name": "stdout",
          "text": [
            "\n",
            "mse: 6.999873638153076\n",
            "\n",
            "rmse: 2.64572743081238\n",
            "\n",
            "eval_loss_epoch: 6.999873638153076\n",
            "\n",
            "mae: 2.2525949478149414\n",
            "No improvement above threshold observed, incrementing counter. \n",
            "Early stopping counter: 1/2\n",
            "\n",
            "Starting epoch 10\n"
          ]
        },
        {
          "output_type": "stream",
          "name": "stderr",
          "text": [
            "100%|██████████| 211/211 [00:02<00:00, 76.49it/s]\n"
          ]
        },
        {
          "output_type": "stream",
          "name": "stdout",
          "text": [
            "\n",
            "train_loss_epoch: 4.6916046142578125\n"
          ]
        },
        {
          "output_type": "stream",
          "name": "stderr",
          "text": [
            "100%|██████████| 53/53 [00:01<00:00, 49.60it/s]\n"
          ]
        },
        {
          "output_type": "stream",
          "name": "stdout",
          "text": [
            "\n",
            "mse: 6.90678071975708\n",
            "\n",
            "rmse: 2.6280754783219376\n",
            "\n",
            "eval_loss_epoch: 6.906781196594238\n",
            "\n",
            "mae: 2.2299675941467285\n",
            "\n",
            "Improvement of 0.022500276565551758 observed, resetting counter. \n",
            "Early stopping counter: 0/2\n",
            "\n",
            "Starting epoch 11\n"
          ]
        },
        {
          "output_type": "stream",
          "name": "stderr",
          "text": [
            "100%|██████████| 211/211 [00:03<00:00, 62.69it/s]\n"
          ]
        },
        {
          "output_type": "stream",
          "name": "stdout",
          "text": [
            "\n",
            "train_loss_epoch: 4.593469619750977\n"
          ]
        },
        {
          "output_type": "stream",
          "name": "stderr",
          "text": [
            "100%|██████████| 53/53 [00:00<00:00, 74.52it/s]\n"
          ]
        },
        {
          "output_type": "stream",
          "name": "stdout",
          "text": [
            "\n",
            "mse: 6.830533027648926\n",
            "\n",
            "rmse: 2.613528845765611\n",
            "\n",
            "eval_loss_epoch: 6.830531597137451\n",
            "\n",
            "mae: 2.212993621826172\n",
            "\n",
            "Improvement of 0.01697397232055664 observed, resetting counter. \n",
            "Early stopping counter: 0/2\n",
            "\n",
            "Starting epoch 12\n"
          ]
        },
        {
          "output_type": "stream",
          "name": "stderr",
          "text": [
            "100%|██████████| 211/211 [00:02<00:00, 77.36it/s]\n"
          ]
        },
        {
          "output_type": "stream",
          "name": "stdout",
          "text": [
            "\n",
            "train_loss_epoch: 4.436087608337402\n"
          ]
        },
        {
          "output_type": "stream",
          "name": "stderr",
          "text": [
            "100%|██████████| 53/53 [00:00<00:00, 81.04it/s]\n"
          ]
        },
        {
          "output_type": "stream",
          "name": "stdout",
          "text": [
            "\n",
            "mse: 6.778157711029053\n",
            "\n",
            "rmse: 2.6034895258151227\n",
            "\n",
            "eval_loss_epoch: 6.778158187866211\n",
            "\n",
            "mae: 2.2027785778045654\n",
            "\n",
            "Improvement of 0.010215044021606445 observed, resetting counter. \n",
            "Early stopping counter: 0/2\n",
            "\n",
            "Starting epoch 13\n"
          ]
        },
        {
          "output_type": "stream",
          "name": "stderr",
          "text": [
            "100%|██████████| 211/211 [00:02<00:00, 74.25it/s]\n"
          ]
        },
        {
          "output_type": "stream",
          "name": "stdout",
          "text": [
            "\n",
            "train_loss_epoch: 4.3401947021484375\n"
          ]
        },
        {
          "output_type": "stream",
          "name": "stderr",
          "text": [
            "100%|██████████| 53/53 [00:00<00:00, 80.70it/s]\n"
          ]
        },
        {
          "output_type": "stream",
          "name": "stdout",
          "text": [
            "\n",
            "mse: 6.712183475494385\n",
            "\n",
            "rmse: 2.590788195799569\n",
            "\n",
            "eval_loss_epoch: 6.712182521820068\n",
            "\n",
            "mae: 2.1957249641418457\n",
            "\n",
            "Improvement of 0.0070536136627197266 observed, resetting counter. \n",
            "Early stopping counter: 0/2\n",
            "\n",
            "Starting epoch 14\n"
          ]
        },
        {
          "output_type": "stream",
          "name": "stderr",
          "text": [
            "100%|██████████| 211/211 [00:03<00:00, 53.97it/s]\n"
          ]
        },
        {
          "output_type": "stream",
          "name": "stdout",
          "text": [
            "\n",
            "train_loss_epoch: 4.208144187927246\n"
          ]
        },
        {
          "output_type": "stream",
          "name": "stderr",
          "text": [
            "100%|██████████| 53/53 [00:00<00:00, 81.16it/s]\n"
          ]
        },
        {
          "output_type": "stream",
          "name": "stdout",
          "text": [
            "\n",
            "mse: 6.612743854522705\n",
            "\n",
            "rmse: 2.571525588930179\n",
            "\n",
            "eval_loss_epoch: 6.612741947174072\n",
            "\n",
            "mae: 2.171140432357788\n",
            "\n",
            "Improvement of 0.024584531784057617 observed, resetting counter. \n",
            "Early stopping counter: 0/2\n",
            "\n",
            "Starting epoch 15\n"
          ]
        },
        {
          "output_type": "stream",
          "name": "stderr",
          "text": [
            "100%|██████████| 211/211 [00:02<00:00, 75.76it/s]\n"
          ]
        },
        {
          "output_type": "stream",
          "name": "stdout",
          "text": [
            "\n",
            "train_loss_epoch: 4.088774681091309\n"
          ]
        },
        {
          "output_type": "stream",
          "name": "stderr",
          "text": [
            "100%|██████████| 53/53 [00:00<00:00, 75.77it/s]\n"
          ]
        },
        {
          "output_type": "stream",
          "name": "stdout",
          "text": [
            "\n",
            "mse: 6.546030044555664\n",
            "\n",
            "rmse: 2.5585210658807687\n",
            "\n",
            "eval_loss_epoch: 6.5460309982299805\n",
            "\n",
            "mae: 2.1492831707000732\n",
            "\n",
            "Improvement of 0.021857261657714844 observed, resetting counter. \n",
            "Early stopping counter: 0/2\n",
            "\n",
            "Starting epoch 16\n"
          ]
        },
        {
          "output_type": "stream",
          "name": "stderr",
          "text": [
            "100%|██████████| 211/211 [00:02<00:00, 75.62it/s]\n"
          ]
        },
        {
          "output_type": "stream",
          "name": "stdout",
          "text": [
            "\n",
            "train_loss_epoch: 3.97440242767334\n"
          ]
        },
        {
          "output_type": "stream",
          "name": "stderr",
          "text": [
            "100%|██████████| 53/53 [00:00<00:00, 77.23it/s]\n"
          ]
        },
        {
          "output_type": "stream",
          "name": "stdout",
          "text": [
            "\n",
            "mse: 6.47320556640625\n",
            "\n",
            "rmse: 2.5442495094636945\n",
            "\n",
            "eval_loss_epoch: 6.473204612731934\n",
            "\n",
            "mae: 2.1304032802581787\n",
            "\n",
            "Improvement of 0.01887989044189453 observed, resetting counter. \n",
            "Early stopping counter: 0/2\n",
            "\n",
            "Starting epoch 17\n"
          ]
        },
        {
          "output_type": "stream",
          "name": "stderr",
          "text": [
            "100%|██████████| 211/211 [00:03<00:00, 58.75it/s]\n"
          ]
        },
        {
          "output_type": "stream",
          "name": "stdout",
          "text": [
            "\n",
            "train_loss_epoch: 3.86776065826416\n"
          ]
        },
        {
          "output_type": "stream",
          "name": "stderr",
          "text": [
            "100%|██████████| 53/53 [00:00<00:00, 54.25it/s]\n"
          ]
        },
        {
          "output_type": "stream",
          "name": "stdout",
          "text": [
            "\n",
            "mse: 6.393141269683838\n",
            "\n",
            "rmse: 2.5284661891518025\n",
            "\n",
            "eval_loss_epoch: 6.393141269683838\n",
            "\n",
            "mae: 2.115511894226074\n",
            "\n",
            "Improvement of 0.014891386032104492 observed, resetting counter. \n",
            "Early stopping counter: 0/2\n",
            "\n",
            "Starting epoch 18\n"
          ]
        },
        {
          "output_type": "stream",
          "name": "stderr",
          "text": [
            "100%|██████████| 211/211 [00:02<00:00, 74.02it/s]\n"
          ]
        },
        {
          "output_type": "stream",
          "name": "stdout",
          "text": [
            "\n",
            "train_loss_epoch: 3.7852518558502197\n"
          ]
        },
        {
          "output_type": "stream",
          "name": "stderr",
          "text": [
            "100%|██████████| 53/53 [00:00<00:00, 81.52it/s]\n"
          ]
        },
        {
          "output_type": "stream",
          "name": "stdout",
          "text": [
            "\n",
            "mse: 6.341608047485352\n",
            "\n",
            "rmse: 2.5182549607784654\n",
            "\n",
            "eval_loss_epoch: 6.341609001159668\n",
            "\n",
            "mae: 2.102046489715576\n",
            "\n",
            "Improvement of 0.013465404510498047 observed, resetting counter. \n",
            "Early stopping counter: 0/2\n",
            "\n",
            "Starting epoch 19\n"
          ]
        },
        {
          "output_type": "stream",
          "name": "stderr",
          "text": [
            "100%|██████████| 211/211 [00:02<00:00, 73.99it/s]\n"
          ]
        },
        {
          "output_type": "stream",
          "name": "stdout",
          "text": [
            "\n",
            "train_loss_epoch: 3.627058506011963\n"
          ]
        },
        {
          "output_type": "stream",
          "name": "stderr",
          "text": [
            "100%|██████████| 53/53 [00:00<00:00, 71.97it/s]\n"
          ]
        },
        {
          "output_type": "stream",
          "name": "stdout",
          "text": [
            "\n",
            "mse: 6.274900436401367\n",
            "\n",
            "rmse: 2.504975136882873\n",
            "\n",
            "eval_loss_epoch: 6.274899005889893\n",
            "\n",
            "mae: 2.091860294342041\n",
            "\n",
            "Improvement of 0.010186195373535156 observed, resetting counter. \n",
            "Early stopping counter: 0/2\n",
            "\n",
            "Starting epoch 20\n"
          ]
        },
        {
          "output_type": "stream",
          "name": "stderr",
          "text": [
            "100%|██████████| 211/211 [00:03<00:00, 69.08it/s]\n"
          ]
        },
        {
          "output_type": "stream",
          "name": "stdout",
          "text": [
            "\n",
            "train_loss_epoch: 3.5530145168304443\n"
          ]
        },
        {
          "output_type": "stream",
          "name": "stderr",
          "text": [
            "100%|██████████| 53/53 [00:01<00:00, 51.95it/s]\n"
          ]
        },
        {
          "output_type": "stream",
          "name": "stdout",
          "text": [
            "\n",
            "mse: 6.218075752258301\n",
            "\n",
            "rmse: 2.493606976301258\n",
            "\n",
            "eval_loss_epoch: 6.218076229095459\n",
            "\n",
            "mae: 2.0785202980041504\n",
            "\n",
            "Improvement of 0.013339996337890625 observed, resetting counter. \n",
            "Early stopping counter: 0/2\n",
            "\n",
            "Starting epoch 21\n"
          ]
        },
        {
          "output_type": "stream",
          "name": "stderr",
          "text": [
            "100%|██████████| 211/211 [00:03<00:00, 64.48it/s]\n"
          ]
        },
        {
          "output_type": "stream",
          "name": "stdout",
          "text": [
            "\n",
            "train_loss_epoch: 3.454432964324951\n"
          ]
        },
        {
          "output_type": "stream",
          "name": "stderr",
          "text": [
            "100%|██████████| 53/53 [00:00<00:00, 76.38it/s]\n"
          ]
        },
        {
          "output_type": "stream",
          "name": "stdout",
          "text": [
            "\n",
            "mse: 6.152307510375977\n",
            "\n",
            "rmse: 2.4803845488907514\n",
            "\n",
            "eval_loss_epoch: 6.152307033538818\n",
            "\n",
            "mae: 2.065969705581665\n",
            "\n",
            "Improvement of 0.012550592422485352 observed, resetting counter. \n",
            "Early stopping counter: 0/2\n",
            "\n",
            "Starting epoch 22\n"
          ]
        },
        {
          "output_type": "stream",
          "name": "stderr",
          "text": [
            "100%|██████████| 211/211 [00:02<00:00, 74.51it/s]\n"
          ]
        },
        {
          "output_type": "stream",
          "name": "stdout",
          "text": [
            "\n",
            "train_loss_epoch: 3.35489821434021\n"
          ]
        },
        {
          "output_type": "stream",
          "name": "stderr",
          "text": [
            "100%|██████████| 53/53 [00:00<00:00, 83.33it/s]\n"
          ]
        },
        {
          "output_type": "stream",
          "name": "stdout",
          "text": [
            "\n",
            "mse: 6.102053165435791\n",
            "\n",
            "rmse: 2.470233423269103\n",
            "\n",
            "eval_loss_epoch: 6.102054119110107\n",
            "\n",
            "mae: 2.0549352169036865\n",
            "\n",
            "Improvement of 0.011034488677978516 observed, resetting counter. \n",
            "Early stopping counter: 0/2\n",
            "\n",
            "Starting epoch 23\n"
          ]
        },
        {
          "output_type": "stream",
          "name": "stderr",
          "text": [
            "100%|██████████| 211/211 [00:02<00:00, 73.52it/s]\n"
          ]
        },
        {
          "output_type": "stream",
          "name": "stdout",
          "text": [
            "\n",
            "train_loss_epoch: 3.2564549446105957\n"
          ]
        },
        {
          "output_type": "stream",
          "name": "stderr",
          "text": [
            "100%|██████████| 53/53 [00:00<00:00, 81.76it/s]\n"
          ]
        },
        {
          "output_type": "stream",
          "name": "stdout",
          "text": [
            "\n",
            "mse: 6.079586029052734\n",
            "\n",
            "rmse: 2.465681656064451\n",
            "\n",
            "eval_loss_epoch: 6.079585552215576\n",
            "\n",
            "mae: 2.050367593765259\n",
            "\n",
            "Improvement of 0.004567623138427734 observed, resetting counter. \n",
            "Early stopping counter: 0/2\n",
            "\n",
            "Starting epoch 24\n"
          ]
        },
        {
          "output_type": "stream",
          "name": "stderr",
          "text": [
            "100%|██████████| 211/211 [00:03<00:00, 54.69it/s]\n"
          ]
        },
        {
          "output_type": "stream",
          "name": "stdout",
          "text": [
            "\n",
            "train_loss_epoch: 3.156956911087036\n"
          ]
        },
        {
          "output_type": "stream",
          "name": "stderr",
          "text": [
            "100%|██████████| 53/53 [00:00<00:00, 78.04it/s]\n"
          ]
        },
        {
          "output_type": "stream",
          "name": "stdout",
          "text": [
            "\n",
            "mse: 6.043258190155029\n",
            "\n",
            "rmse: 2.458303925505353\n",
            "\n",
            "eval_loss_epoch: 6.043257713317871\n",
            "\n",
            "mae: 2.043241024017334\n",
            "\n",
            "Improvement of 0.007126569747924805 observed, resetting counter. \n",
            "Early stopping counter: 0/2\n",
            "\n",
            "Starting epoch 25\n"
          ]
        },
        {
          "output_type": "stream",
          "name": "stderr",
          "text": [
            "100%|██████████| 211/211 [00:02<00:00, 75.77it/s]\n"
          ]
        },
        {
          "output_type": "stream",
          "name": "stdout",
          "text": [
            "\n",
            "train_loss_epoch: 3.082123279571533\n"
          ]
        },
        {
          "output_type": "stream",
          "name": "stderr",
          "text": [
            "100%|██████████| 53/53 [00:00<00:00, 80.70it/s]\n"
          ]
        },
        {
          "output_type": "stream",
          "name": "stdout",
          "text": [
            "\n",
            "mse: 6.025158405303955\n",
            "\n",
            "rmse: 2.45461980870846\n",
            "\n",
            "eval_loss_epoch: 6.025158882141113\n",
            "\n",
            "mae: 2.039036989212036\n",
            "\n",
            "Improvement of 0.0042040348052978516 observed, resetting counter. \n",
            "Early stopping counter: 0/2\n",
            "\n",
            "Starting epoch 26\n"
          ]
        },
        {
          "output_type": "stream",
          "name": "stderr",
          "text": [
            "100%|██████████| 211/211 [00:02<00:00, 74.95it/s]\n"
          ]
        },
        {
          "output_type": "stream",
          "name": "stdout",
          "text": [
            "\n",
            "train_loss_epoch: 2.9951729774475098\n"
          ]
        },
        {
          "output_type": "stream",
          "name": "stderr",
          "text": [
            "100%|██████████| 53/53 [00:00<00:00, 79.22it/s]\n"
          ]
        },
        {
          "output_type": "stream",
          "name": "stdout",
          "text": [
            "\n",
            "mse: 6.012528419494629\n",
            "\n",
            "rmse: 2.4520457621126543\n",
            "\n",
            "eval_loss_epoch: 6.0125274658203125\n",
            "\n",
            "mae: 2.0365524291992188\n",
            "\n",
            "Improvement of 0.002484560012817383 observed, resetting counter. \n",
            "Early stopping counter: 0/2\n",
            "\n",
            "Starting epoch 27\n"
          ]
        },
        {
          "output_type": "stream",
          "name": "stderr",
          "text": [
            "100%|██████████| 211/211 [00:03<00:00, 54.88it/s]\n"
          ]
        },
        {
          "output_type": "stream",
          "name": "stdout",
          "text": [
            "\n",
            "train_loss_epoch: 2.9173829555511475\n"
          ]
        },
        {
          "output_type": "stream",
          "name": "stderr",
          "text": [
            "100%|██████████| 53/53 [00:00<00:00, 70.54it/s]\n"
          ]
        },
        {
          "output_type": "stream",
          "name": "stdout",
          "text": [
            "\n",
            "mse: 6.003983020782471\n",
            "\n",
            "rmse: 2.450302638610682\n",
            "\n",
            "eval_loss_epoch: 6.003983020782471\n",
            "\n",
            "mae: 2.0348007678985596\n",
            "\n",
            "Improvement of 0.0017516613006591797 observed, resetting counter. \n",
            "Early stopping counter: 0/2\n",
            "\n",
            "Starting epoch 28\n"
          ]
        },
        {
          "output_type": "stream",
          "name": "stderr",
          "text": [
            "100%|██████████| 211/211 [00:02<00:00, 73.03it/s]\n"
          ]
        },
        {
          "output_type": "stream",
          "name": "stdout",
          "text": [
            "\n",
            "train_loss_epoch: 2.860440254211426\n"
          ]
        },
        {
          "output_type": "stream",
          "name": "stderr",
          "text": [
            "100%|██████████| 53/53 [00:00<00:00, 76.45it/s]\n"
          ]
        },
        {
          "output_type": "stream",
          "name": "stdout",
          "text": [
            "\n",
            "mse: 6.000992298126221\n",
            "\n",
            "rmse: 2.449692286416035\n",
            "\n",
            "eval_loss_epoch: 6.000992774963379\n",
            "\n",
            "mae: 2.034205675125122\n",
            "No improvement above threshold observed, incrementing counter. \n",
            "Early stopping counter: 1/2\n",
            "\n",
            "Starting epoch 29\n"
          ]
        },
        {
          "output_type": "stream",
          "name": "stderr",
          "text": [
            "100%|██████████| 211/211 [00:02<00:00, 75.61it/s]\n"
          ]
        },
        {
          "output_type": "stream",
          "name": "stdout",
          "text": [
            "\n",
            "train_loss_epoch: 2.836747169494629\n"
          ]
        },
        {
          "output_type": "stream",
          "name": "stderr",
          "text": [
            "100%|██████████| 53/53 [00:00<00:00, 77.70it/s]"
          ]
        },
        {
          "output_type": "stream",
          "name": "stdout",
          "text": [
            "\n",
            "mse: 5.999763011932373\n",
            "\n",
            "rmse: 2.449441367318755\n",
            "\n",
            "eval_loss_epoch: 5.999762535095215\n",
            "\n",
            "mae: 2.0339179039001465\n",
            "No improvement above threshold observed, incrementing counter. \n",
            "Early stopping counter: 2/2\n",
            "Stopping training due to no improvement after 2 epochs\n",
            "Finishing training run\n",
            "Loading checkpoint with mae: 2.0339179039001465 from epoch 29\n"
          ]
        },
        {
          "output_type": "stream",
          "name": "stderr",
          "text": [
            "\n"
          ]
        }
      ]
    },
    {
      "cell_type": "markdown",
      "source": [
        "Сравнивая результат с базовой моделью, видим, что улучшения нет"
      ],
      "metadata": {
        "id": "aufGr4-aCl8c"
      }
    },
    {
      "cell_type": "markdown",
      "source": [
        "**Последовательные рекомендации с использованием transformer**"
      ],
      "metadata": {
        "id": "A6_ISwyuCv7t"
      }
    },
    {
      "cell_type": "markdown",
      "source": [
        "Используя матричную факторизацию, мы рассматриваем каждый рейтинг как независимый от окружающих его рейтингов; однако включение информации о других курсах может дать дополнительный сигнал, который может повысить производительность. Один из способов приблизиться к этому — использовать сеть преобразователей, в частности часть кодера, для кодирования дополнительного контекста в изученные вложения для каждого фильма, а затем использовать полностью подключенную нейронную сеть для прогнозирования рейтингов."
      ],
      "metadata": {
        "id": "vyKqVDTGLS3U"
      }
    },
    {
      "cell_type": "markdown",
      "source": [
        "**Pre-processing**"
      ],
      "metadata": {
        "id": "7CQaIfrNLeCW"
      }
    },
    {
      "cell_type": "markdown",
      "source": [
        "Отсортируем список по времени для каждого пользователя"
      ],
      "metadata": {
        "id": "ul7_Yz_HLfe_"
      }
    },
    {
      "cell_type": "code",
      "source": [
        "grouped_ratings = ratings_df.sort_values(by='unix_timestamp').groupby('user_id').agg(tuple).reset_index()"
      ],
      "metadata": {
        "id": "7Pr-hLe4zxnq"
      },
      "execution_count": 95,
      "outputs": []
    },
    {
      "cell_type": "code",
      "source": [
        "grouped_ratings['num_ratings'] = grouped_ratings['rating'].apply(lambda row: len(row))"
      ],
      "metadata": {
        "id": "Xkz38k9Ezz_D"
      },
      "execution_count": 96,
      "outputs": []
    },
    {
      "cell_type": "code",
      "source": [
        "grouped_ratings['num_ratings'].max()"
      ],
      "metadata": {
        "id": "Oqvm9dh_hDxS",
        "colab": {
          "base_uri": "https://localhost:8080/"
        },
        "outputId": "23f7f340-290b-4631-aa9e-f6878ce562be"
      },
      "execution_count": 97,
      "outputs": [
        {
          "output_type": "execute_result",
          "data": {
            "text/plain": [
              "24"
            ]
          },
          "metadata": {},
          "execution_count": 97
        }
      ]
    },
    {
      "cell_type": "code",
      "source": [
        "grouped_ratings['num_ratings'].plot.hist()"
      ],
      "metadata": {
        "id": "tnmmLIqphFt8",
        "colab": {
          "base_uri": "https://localhost:8080/",
          "height": 447
        },
        "outputId": "4ccadbf2-4b86-4c9e-fb76-9de899881695"
      },
      "execution_count": 98,
      "outputs": [
        {
          "output_type": "execute_result",
          "data": {
            "text/plain": [
              "<Axes: ylabel='Frequency'>"
            ]
          },
          "metadata": {},
          "execution_count": 98
        },
        {
          "output_type": "display_data",
          "data": {
            "text/plain": [
              "<Figure size 640x480 with 1 Axes>"
            ],
            "image/png": "[encoded data removed]"
          },
          "metadata": {}
        }
      ]
    },
    {
      "cell_type": "markdown",
      "source": [
        "Теперь, когда мы сгруппировали все оценки каждого пользователя, давайте разделим их на более мелкие последовательности. Чтобы максимально эффективно использовать данные, мы хотели бы, чтобы модель имела возможность прогнозировать рейтинг каждого фильма в обучающем наборе. Для этого давайте укажем длину последовательности s и будем использовать предыдущие рейтинги s-1 в качестве нашей пользовательской истории.\n",
        "\n",
        "Поскольку модель ожидает, что каждая последовательность будет иметь фиксированную длину, мы заполним пустые места маркером заполнения, чтобы последовательности можно было группировать и передавать в модель. Давайте создадим функцию для этого.\n",
        "\n",
        "Здесь мы произвольно выберем длину 10."
      ],
      "metadata": {
        "id": "Y3mElCjkL0HR"
      }
    },
    {
      "cell_type": "code",
      "source": [
        "sequence_length = 10"
      ],
      "metadata": {
        "id": "hSt2_efrz22h"
      },
      "execution_count": 99,
      "outputs": []
    },
    {
      "cell_type": "code",
      "source": [
        "def create_sequences(values, sequence_length):\n",
        "    sequences = []\n",
        "    for i, v in enumerate(values):\n",
        "        seq = values[:i+1]\n",
        "        if len(seq) > sequence_length:\n",
        "            seq = seq[i-sequence_length+1:i+1]\n",
        "        elif len(seq) < sequence_length:\n",
        "            seq =(*(['[PAD]'] * (sequence_length - len(seq))), *seq)\n",
        "\n",
        "        sequences.append(seq)\n",
        "    return sequences\n"
      ],
      "metadata": {
        "id": "cDICdEgpz4l6"
      },
      "execution_count": 100,
      "outputs": []
    },
    {
      "cell_type": "code",
      "source": [
        "grouped_ratings.iloc[0]['title'][:10]"
      ],
      "metadata": {
        "colab": {
          "base_uri": "https://localhost:8080/"
        },
        "id": "b6_VQA_b0N6I",
        "outputId": "62c7868c-949b-4f68-9cef-872fe5d663b0"
      },
      "execution_count": 101,
      "outputs": [
        {
          "output_type": "execute_result",
          "data": {
            "text/plain": [
              "('Построение долгосрочных отношений с клиентами: Техники и методы',\n",
              " 'Использование эмоционального интеллекта в общении с клиентами',\n",
              " 'Основы психологии клиентского обслуживания',\n",
              " 'Развитие навыков эмпатии в клиентском обслуживании',\n",
              " 'Эффективное планирование и организация работы в клиентском сервисе')"
            ]
          },
          "metadata": {},
          "execution_count": 101
        }
      ]
    },
    {
      "cell_type": "code",
      "source": [
        "create_sequences(grouped_ratings.iloc[0]['title'][:10], 3)"
      ],
      "metadata": {
        "colab": {
          "base_uri": "https://localhost:8080/"
        },
        "id": "firo3N4d0Q9T",
        "outputId": "c5f3d6b6-6a7f-4161-84e3-40a9d78c8f01"
      },
      "execution_count": 102,
      "outputs": [
        {
          "output_type": "execute_result",
          "data": {
            "text/plain": [
              "[('[PAD]',\n",
              "  '[PAD]',\n",
              "  'Построение долгосрочных отношений с клиентами: Техники и методы'),\n",
              " ('[PAD]',\n",
              "  'Построение долгосрочных отношений с клиентами: Техники и методы',\n",
              "  'Использование эмоционального интеллекта в общении с клиентами'),\n",
              " ('Построение долгосрочных отношений с клиентами: Техники и методы',\n",
              "  'Использование эмоционального интеллекта в общении с клиентами',\n",
              "  'Основы психологии клиентского обслуживания'),\n",
              " ('Использование эмоционального интеллекта в общении с клиентами',\n",
              "  'Основы психологии клиентского обслуживания',\n",
              "  'Развитие навыков эмпатии в клиентском обслуживании'),\n",
              " ('Основы психологии клиентского обслуживания',\n",
              "  'Развитие навыков эмпатии в клиентском обслуживании',\n",
              "  'Эффективное планирование и организация работы в клиентском сервисе')]"
            ]
          },
          "metadata": {},
          "execution_count": 102
        }
      ]
    },
    {
      "cell_type": "code",
      "source": [
        "grouped_cols = ['title', 'rating', 'unix_timestamp', 'is_valid']\n",
        "for col in grouped_cols:\n",
        "    grouped_ratings[col] = grouped_ratings[col].apply(lambda x: create_sequences(x, sequence_length))"
      ],
      "metadata": {
        "id": "HzDTEerK0T_H"
      },
      "execution_count": 103,
      "outputs": []
    },
    {
      "cell_type": "markdown",
      "source": [
        "В настоящее время у нас есть одна строка, содержащая все последовательности для определенного пользователя. Однако во время обучения нам хотелось бы создавать пакеты, состоящие из последовательностей от разных пользователей. Для этого нам придется преобразовать данные так, чтобы каждая последовательность имела свою строку, оставаясь при этом связанной с идентификатором пользователя. Мы можем использовать функцию «развернуть» pandas для каждой функции, а затем агрегировать эти DataFrames вместе."
      ],
      "metadata": {
        "id": "VaH8GrOzL_-C"
      }
    },
    {
      "cell_type": "code",
      "source": [
        "exploded_ratings = grouped_ratings[['user_id', 'title']].explode('title', ignore_index=True)\n",
        "dfs = [grouped_ratings[[col]].explode(col, ignore_index=True) for col in grouped_cols[1:]]\n",
        "seq_df = pd.concat([exploded_ratings, *dfs], axis=1)"
      ],
      "metadata": {
        "id": "3xx-kghL0YKZ"
      },
      "execution_count": 104,
      "outputs": []
    },
    {
      "cell_type": "markdown",
      "source": [
        "Теперь мы видим, что каждая последовательность имеет свою собственную строку. Однако для столбца is_valid нас не интересует вся последовательность, нам нужно только последнее значение, поскольку это курс, для которого мы будем пытаться предсказать рейтинг. Давайте создадим функцию для извлечения этого значения и применения его к этим столбцам."
      ],
      "metadata": {
        "id": "lnc15ekQMH6X"
      }
    },
    {
      "cell_type": "code",
      "source": [
        "def get_last_entry(sequence):\n",
        "    return sequence[-1]\n",
        "\n",
        "seq_df['is_valid'] = seq_df['is_valid'].apply(get_last_entry)"
      ],
      "metadata": {
        "id": "eLNXEeLZ0bO2"
      },
      "execution_count": 105,
      "outputs": []
    },
    {
      "cell_type": "code",
      "source": [
        "seq_df['target_rating'] = seq_df['rating'].apply(get_last_entry)\n",
        "seq_df['previous_ratings'] = seq_df['rating'].apply(lambda seq: seq[:-1])\n",
        "seq_df.drop(columns=['rating'], inplace=True)"
      ],
      "metadata": {
        "id": "ZZXkXSkK0dnf"
      },
      "execution_count": 106,
      "outputs": []
    },
    {
      "cell_type": "markdown",
      "source": [
        "Чтобы модель не включала маркеры заполнения при вычислении оценок внимания, мы можем предоставить преобразователю маску внимания; маска должна быть «True» для маркера заполнения и «False» в противном случае. Давайте посчитаем это для каждой строки, а также создадим столбец, чтобы показать количество присутствующих токенов заполнения."
      ],
      "metadata": {
        "id": "Lmfm0FqKMUl6"
      }
    },
    {
      "cell_type": "code",
      "source": [
        "seq_df['pad_mask'] = seq_df['title'].apply(lambda x: (np.array(x) == '[PAD]'))\n",
        "seq_df['num_pads'] = seq_df['pad_mask'].apply(sum)\n",
        "seq_df['pad_mask'] = seq_df['pad_mask'].apply(lambda x: x.tolist())"
      ],
      "metadata": {
        "id": "jJfmQN6j0fR7"
      },
      "execution_count": 107,
      "outputs": []
    },
    {
      "cell_type": "code",
      "source": [
        "train_seq_df = seq_df[seq_df.is_valid == False]\n",
        "valid_seq_df = seq_df[seq_df.is_valid == True]"
      ],
      "metadata": {
        "id": "X2m1QWX-0hgL"
      },
      "execution_count": 108,
      "outputs": []
    },
    {
      "cell_type": "markdown",
      "source": [
        "**Training**"
      ],
      "metadata": {
        "id": "lZZaeCKtMabj"
      }
    },
    {
      "cell_type": "markdown",
      "source": [
        "прежде чем мы сможем передать эти данные в модель, нам необходимо создать справочные таблицы для кодирования наших курсов и пользователей. Однако на этот раз нам нужно включить токен заполнения в наш поиск курса"
      ],
      "metadata": {
        "id": "6vfX-JUyMiZa"
      }
    },
    {
      "cell_type": "code",
      "source": [
        "user_lookup = {v: i+1 for i, v in enumerate(ratings_df['user_id'].unique())}"
      ],
      "metadata": {
        "id": "H0PzyrgT0j8E"
      },
      "execution_count": 109,
      "outputs": []
    },
    {
      "cell_type": "code",
      "source": [
        "def create_feature_lookup(df, feature):\n",
        "    lookup = {v: i+1 for i, v in enumerate(df[feature].unique())}\n",
        "    lookup['[PAD]'] = 0\n",
        "    return lookup"
      ],
      "metadata": {
        "id": "Vi1d2tD30mCu"
      },
      "execution_count": 110,
      "outputs": []
    },
    {
      "cell_type": "code",
      "source": [
        "course_lookup = create_feature_lookup(ratings_df, 'title')"
      ],
      "metadata": {
        "id": "SRqSAK1z0oqX"
      },
      "execution_count": 111,
      "outputs": []
    },
    {
      "cell_type": "markdown",
      "source": [
        "Сейчас мы имеем дело с последовательностями рейтингов, а не с отдельными, поэтому нам нужно будет создать новый набор данных, чтобы обернуть наш обработанный DataFrame:"
      ],
      "metadata": {
        "id": "4z5Ds9rzMtDY"
      }
    },
    {
      "cell_type": "code",
      "source": [
        "class CourseSequenceDataset(Dataset):\n",
        "    def __init__(self, df, course_lookup, user_lookup):\n",
        "        super().__init__()\n",
        "        self.df = df\n",
        "        self.course_lookup = course_lookup\n",
        "        self.user_lookup = user_lookup\n",
        "\n",
        "    def __len__(self):\n",
        "        return len(self.df)\n",
        "\n",
        "    def __getitem__(self, index):\n",
        "        data = self.df.iloc[index]\n",
        "        user_id = self.user_lookup[str(data.user_id)]\n",
        "        course_ids = torch.tensor([self.course_lookup[title] for title in data.title])\n",
        "\n",
        "        previous_ratings = torch.tensor(\n",
        "            [rating if rating != \"[PAD]\" else 0 for rating in data.previous_ratings]\n",
        "        )\n",
        "\n",
        "        attention_mask = torch.tensor(data.pad_mask)\n",
        "        target_rating = data.target_rating\n",
        "        encoded_features = {\n",
        "            \"user_id\": user_id,\n",
        "            \"course_ids\": course_ids,\n",
        "            \"ratings\": previous_ratings,\n",
        "        }\n",
        "\n",
        "        return (encoded_features, attention_mask), torch.tensor(\n",
        "            target_rating, dtype=torch.float32\n",
        "        )\n"
      ],
      "metadata": {
        "id": "L1Cp0UHV0VNy"
      },
      "execution_count": 112,
      "outputs": []
    },
    {
      "cell_type": "code",
      "source": [
        "train_dataset = CourseSequenceDataset(train_seq_df, course_lookup, user_lookup)\n",
        "valid_dataset = CourseSequenceDataset(valid_seq_df, course_lookup, user_lookup)"
      ],
      "metadata": {
        "id": "SJZzOT900tPW"
      },
      "execution_count": 113,
      "outputs": []
    },
    {
      "cell_type": "code",
      "source": [
        "train_seq_df.target_rating.unique()"
      ],
      "metadata": {
        "colab": {
          "base_uri": "https://localhost:8080/"
        },
        "id": "OlYhOgZY6gsP",
        "outputId": "878b41bd-d866-4f58-eebd-2c21cdaa6e84"
      },
      "execution_count": 114,
      "outputs": [
        {
          "output_type": "execute_result",
          "data": {
            "text/plain": [
              "array([5, 2, 3, 4, 1])"
            ]
          },
          "metadata": {},
          "execution_count": 114
        }
      ]
    },
    {
      "cell_type": "code",
      "source": [
        "train_seq_df.previous_ratings"
      ],
      "metadata": {
        "colab": {
          "base_uri": "https://localhost:8080/"
        },
        "id": "DbBGa_rMKgzX",
        "outputId": "234bcfa9-aba1-4f36-c79b-1535c7fc1291"
      },
      "execution_count": 115,
      "outputs": [
        {
          "output_type": "execute_result",
          "data": {
            "text/plain": [
              "0       ([PAD], [PAD], [PAD], [PAD], [PAD], [PAD], [PA...\n",
              "1       ([PAD], [PAD], [PAD], [PAD], [PAD], [PAD], [PA...\n",
              "2       ([PAD], [PAD], [PAD], [PAD], [PAD], [PAD], [PA...\n",
              "3       ([PAD], [PAD], [PAD], [PAD], [PAD], [PAD], 5, ...\n",
              "5       ([PAD], [PAD], [PAD], [PAD], [PAD], [PAD], [PA...\n",
              "                              ...                        \n",
              "8398    ([PAD], [PAD], [PAD], [PAD], [PAD], [PAD], [PA...\n",
              "8399    ([PAD], [PAD], [PAD], [PAD], [PAD], [PAD], [PA...\n",
              "8400    ([PAD], [PAD], [PAD], [PAD], [PAD], [PAD], 5, ...\n",
              "8401      ([PAD], [PAD], [PAD], [PAD], [PAD], 5, 5, 5, 5)\n",
              "8402          ([PAD], [PAD], [PAD], [PAD], 5, 5, 5, 5, 5)\n",
              "Name: previous_ratings, Length: 6727, dtype: object"
            ]
          },
          "metadata": {},
          "execution_count": 115
        }
      ]
    },
    {
      "cell_type": "markdown",
      "source": [
        "Для начала, учитывая, что модель матричной факторизации может обеспечить хорошую производительность, используя только идентификаторы пользователя и фильма, давайте пока включим только эту информацию."
      ],
      "metadata": {
        "id": "5sFdOq4sMz8N"
      }
    },
    {
      "cell_type": "code",
      "source": [
        "class BstTransformer(nn.Module):\n",
        "    def __init__(\n",
        "        self,\n",
        "        courses_num_unique,\n",
        "        users_num_unique,\n",
        "        sequence_length=10,\n",
        "        embedding_size=120,\n",
        "        num_transformer_layers=1,\n",
        "        ratings_range=(0.5, 5.5),\n",
        "    ):\n",
        "        super().__init__()\n",
        "        self.sequence_length = sequence_length\n",
        "        self.y_range = ratings_range\n",
        "        self.courses_embeddings = nn.Embedding(\n",
        "            courses_num_unique + 1, embedding_size, padding_idx=0\n",
        "        )\n",
        "        self.user_embeddings = nn.Embedding(users_num_unique + 1, embedding_size)\n",
        "        self.position_embeddings = nn.Embedding(sequence_length, embedding_size)\n",
        "\n",
        "        self.encoder = nn.TransformerEncoder(\n",
        "            encoder_layer=nn.TransformerEncoderLayer(\n",
        "                d_model=embedding_size,\n",
        "                nhead=12,\n",
        "                dropout=0.1,\n",
        "                batch_first=True,\n",
        "                activation=\"gelu\",\n",
        "            ),\n",
        "            num_layers=num_transformer_layers,\n",
        "        )\n",
        "\n",
        "        self.linear = nn.Sequential(\n",
        "            nn.Linear(\n",
        "                embedding_size + (embedding_size * sequence_length),\n",
        "                1024,\n",
        "            ),\n",
        "            nn.BatchNorm1d(1024),\n",
        "            nn.Mish(),\n",
        "            nn.Linear(1024, 512),\n",
        "            nn.BatchNorm1d(512),\n",
        "            nn.Mish(),\n",
        "            nn.Dropout(0.2),\n",
        "            nn.Linear(512, 256),\n",
        "            nn.BatchNorm1d(256),\n",
        "            nn.Mish(),\n",
        "            nn.Linear(256, 1),\n",
        "            nn.Sigmoid(),\n",
        "        )\n",
        "\n",
        "    def forward(self, inputs):\n",
        "        features, mask = inputs\n",
        "\n",
        "        encoded_user_id = self.user_embeddings(features[\"user_id\"])\n",
        "\n",
        "        user_features = encoded_user_id\n",
        "\n",
        "        encoded_courses = self.courses_embeddings(features[\"course_ids\"])\n",
        "\n",
        "        positions = torch.arange(\n",
        "            0, self.sequence_length, 1, dtype=int, device=features[\"course_ids\"].device\n",
        "        )\n",
        "        positions = self.position_embeddings(positions)\n",
        "\n",
        "        transformer_features = encoded_courses + positions\n",
        "\n",
        "        transformer_output = self.encoder(\n",
        "            transformer_features, src_key_padding_mask=mask\n",
        "        )\n",
        "        transformer_output = torch.flatten(transformer_output, start_dim=1)\n",
        "\n",
        "        combined_output = torch.cat((transformer_output, user_features), dim=1)\n",
        "\n",
        "        rating = self.linear(combined_output)\n",
        "        rating = rating.squeeze()\n",
        "        if self.y_range is None:\n",
        "            return rating\n",
        "        else:\n",
        "            return rating * (self.y_range[1] - self.y_range[0]) + self.y_range[0]\n"
      ],
      "metadata": {
        "id": "V7rlxrP_0vQr"
      },
      "execution_count": 116,
      "outputs": []
    },
    {
      "cell_type": "markdown",
      "source": [
        "Мы видим, что по умолчанию мы помещаем нашу последовательность вложений курсов в один слой преобразователя, а затем объединяем выходные данные с пользовательскими функциями здесь, только идентификатор пользователя и используем это в качестве входных данных для полностью подключенной сети. Здесь мы используем только простое позиционное кодирование, которое обучено представлять последовательность, в которой оценивались курсы; использование подхода, основанного на синусоидах и косинусах, не принесло никакой пользы.\n",
        "\n",
        "Еще раз давайте определим обучающую функцию для этой модели; за исключением инициализации модели, она идентична той, которую мы использовали для обучения модели матричной факторизации."
      ],
      "metadata": {
        "id": "eEPIdnJAM691"
      }
    },
    {
      "cell_type": "code",
      "source": [
        "def train_seq_model():\n",
        "    model = BstTransformer(\n",
        "        len(course_lookup), len(user_lookup), sequence_length, embedding_size=120\n",
        "    )\n",
        "    loss_func = torch.nn.MSELoss()\n",
        "\n",
        "    optimizer = torch.optim.AdamW(model.parameters(), lr=0.01)\n",
        "\n",
        "    create_sched_fn = partial(\n",
        "        torch.optim.lr_scheduler.OneCycleLR,\n",
        "        max_lr=0.01,\n",
        "        epochs=TrainerPlaceholderValues.NUM_EPOCHS,\n",
        "        steps_per_epoch=TrainerPlaceholderValues.NUM_UPDATE_STEPS_PER_EPOCH,\n",
        "    )\n",
        "\n",
        "    trainer = Trainer(\n",
        "        model=model,\n",
        "        loss_func=loss_func,\n",
        "        optimizer=optimizer,\n",
        "        callbacks=(\n",
        "            RecommenderMetricsCallback,\n",
        "            *DEFAULT_CALLBACKS,\n",
        "            SaveBestModelCallback(watch_metric=\"mae\"),\n",
        "            EarlyStoppingCallback(\n",
        "                early_stopping_patience=2,\n",
        "                early_stopping_threshold=0.001,\n",
        "                watch_metric=\"mae\",\n",
        "            ),\n",
        "        ),\n",
        "    )\n",
        "\n",
        "    trainer.train(\n",
        "        train_dataset=train_dataset,\n",
        "        eval_dataset=valid_dataset,\n",
        "        num_epochs=10,\n",
        "        per_device_batch_size=32,\n",
        "        create_scheduler_fn=create_sched_fn,\n",
        "    )\n"
      ],
      "metadata": {
        "id": "JGqTnIYG0x2X"
      },
      "execution_count": 117,
      "outputs": []
    },
    {
      "cell_type": "code",
      "source": [
        "notebook_launcher(train_seq_model, num_processes=2)"
      ],
      "metadata": {
        "colab": {
          "base_uri": "https://localhost:8080/"
        },
        "id": "vWOnAM_s00VD",
        "outputId": "9592dc32-3430-4fa6-f99f-73abbdc4c863"
      },
      "execution_count": 118,
      "outputs": [
        {
          "output_type": "stream",
          "name": "stdout",
          "text": [
            "Launching training on one CPU.\n",
            "\n",
            "Starting training run\n",
            "\n",
            "Starting epoch 1\n"
          ]
        },
        {
          "output_type": "stream",
          "name": "stderr",
          "text": [
            "\r  0%|          | 0/211 [00:00<?, ?it/s]/usr/lib/python3.10/multiprocessing/popen_fork.py:66: RuntimeWarning: os.fork() was called. os.fork() is incompatible with multithreaded code, and JAX is multithreaded, so this will likely lead to a deadlock.\n",
            "  self.pid = os.fork()\n",
            "100%|██████████| 211/211 [00:23<00:00,  8.89it/s]\n"
          ]
        },
        {
          "output_type": "stream",
          "name": "stdout",
          "text": [
            "\n",
            "train_loss_epoch: 1.9015356302261353\n"
          ]
        },
        {
          "output_type": "stream",
          "name": "stderr",
          "text": [
            "100%|██████████| 53/53 [00:01<00:00, 30.10it/s]\n"
          ]
        },
        {
          "output_type": "stream",
          "name": "stdout",
          "text": [
            "\n",
            "mse: 1.666195273399353\n",
            "\n",
            "rmse: 1.2908118659972696\n",
            "\n",
            "eval_loss_epoch: 1.666195273399353\n",
            "\n",
            "mae: 1.0698065757751465\n",
            "\n",
            "Starting epoch 2\n"
          ]
        },
        {
          "output_type": "stream",
          "name": "stderr",
          "text": [
            "100%|██████████| 211/211 [00:21<00:00,  9.60it/s]\n"
          ]
        },
        {
          "output_type": "stream",
          "name": "stdout",
          "text": [
            "\n",
            "train_loss_epoch: 1.232917308807373\n"
          ]
        },
        {
          "output_type": "stream",
          "name": "stderr",
          "text": [
            "100%|██████████| 53/53 [00:02<00:00, 21.07it/s]\n"
          ]
        },
        {
          "output_type": "stream",
          "name": "stdout",
          "text": [
            "\n",
            "mse: 1.2540837526321411\n",
            "\n",
            "rmse: 1.1198588092398707\n",
            "\n",
            "eval_loss_epoch: 1.2540838718414307\n",
            "\n",
            "mae: 0.895598292350769\n",
            "\n",
            "Improvement of 0.17420828342437744 observed, resetting counter. \n",
            "Early stopping counter: 0/2\n",
            "\n",
            "Starting epoch 3\n"
          ]
        },
        {
          "output_type": "stream",
          "name": "stderr",
          "text": [
            "100%|██████████| 211/211 [00:21<00:00,  9.67it/s]\n"
          ]
        },
        {
          "output_type": "stream",
          "name": "stdout",
          "text": [
            "\n",
            "train_loss_epoch: 0.7605065107345581\n"
          ]
        },
        {
          "output_type": "stream",
          "name": "stderr",
          "text": [
            "100%|██████████| 53/53 [00:02<00:00, 21.36it/s]\n"
          ]
        },
        {
          "output_type": "stream",
          "name": "stdout",
          "text": [
            "\n",
            "mse: 1.237689733505249\n",
            "\n",
            "rmse: 1.1125150486646231\n",
            "\n",
            "eval_loss_epoch: 1.237689733505249\n",
            "\n",
            "mae: 0.8906693458557129\n",
            "\n",
            "Improvement of 0.004928946495056152 observed, resetting counter. \n",
            "Early stopping counter: 0/2\n",
            "\n",
            "Starting epoch 4\n"
          ]
        },
        {
          "output_type": "stream",
          "name": "stderr",
          "text": [
            "100%|██████████| 211/211 [00:19<00:00, 10.99it/s]\n"
          ]
        },
        {
          "output_type": "stream",
          "name": "stdout",
          "text": [
            "\n",
            "train_loss_epoch: 0.5789235830307007\n"
          ]
        },
        {
          "output_type": "stream",
          "name": "stderr",
          "text": [
            "100%|██████████| 53/53 [00:01<00:00, 30.83it/s]\n"
          ]
        },
        {
          "output_type": "stream",
          "name": "stdout",
          "text": [
            "\n",
            "mse: 1.110611915588379\n",
            "\n",
            "rmse: 1.0538557375601174\n",
            "\n",
            "eval_loss_epoch: 1.1106117963790894\n",
            "\n",
            "mae: 0.8462344408035278\n",
            "\n",
            "Improvement of 0.04443490505218506 observed, resetting counter. \n",
            "Early stopping counter: 0/2\n",
            "\n",
            "Starting epoch 5\n"
          ]
        },
        {
          "output_type": "stream",
          "name": "stderr",
          "text": [
            "100%|██████████| 211/211 [00:21<00:00,  9.98it/s]\n"
          ]
        },
        {
          "output_type": "stream",
          "name": "stdout",
          "text": [
            "\n",
            "train_loss_epoch: 0.5150419473648071\n"
          ]
        },
        {
          "output_type": "stream",
          "name": "stderr",
          "text": [
            "100%|██████████| 53/53 [00:01<00:00, 30.40it/s]\n"
          ]
        },
        {
          "output_type": "stream",
          "name": "stdout",
          "text": [
            "\n",
            "mse: 1.1563301086425781\n",
            "\n",
            "rmse: 1.075327907497326\n",
            "\n",
            "eval_loss_epoch: 1.1563302278518677\n",
            "\n",
            "mae: 0.8505905270576477\n",
            "No improvement above threshold observed, incrementing counter. \n",
            "Early stopping counter: 1/2\n",
            "\n",
            "Starting epoch 6\n"
          ]
        },
        {
          "output_type": "stream",
          "name": "stderr",
          "text": [
            "100%|██████████| 211/211 [00:22<00:00,  9.50it/s]\n"
          ]
        },
        {
          "output_type": "stream",
          "name": "stdout",
          "text": [
            "\n",
            "train_loss_epoch: 0.4741964638233185\n"
          ]
        },
        {
          "output_type": "stream",
          "name": "stderr",
          "text": [
            "100%|██████████| 53/53 [00:01<00:00, 30.52it/s]\n"
          ]
        },
        {
          "output_type": "stream",
          "name": "stdout",
          "text": [
            "\n",
            "mse: 1.1226476430892944\n",
            "\n",
            "rmse: 1.0595506798116334\n",
            "\n",
            "eval_loss_epoch: 1.1226475238800049\n",
            "\n",
            "mae: 0.8163647055625916\n",
            "\n",
            "Improvement of 0.02986973524093628 observed, resetting counter. \n",
            "Early stopping counter: 0/2\n",
            "\n",
            "Starting epoch 7\n"
          ]
        },
        {
          "output_type": "stream",
          "name": "stderr",
          "text": [
            "100%|██████████| 211/211 [00:22<00:00,  9.50it/s]\n"
          ]
        },
        {
          "output_type": "stream",
          "name": "stdout",
          "text": [
            "\n",
            "train_loss_epoch: 0.40541842579841614\n"
          ]
        },
        {
          "output_type": "stream",
          "name": "stderr",
          "text": [
            "100%|██████████| 53/53 [00:01<00:00, 30.14it/s]\n"
          ]
        },
        {
          "output_type": "stream",
          "name": "stdout",
          "text": [
            "\n",
            "mse: 1.0693517923355103\n",
            "\n",
            "rmse: 1.03409467281072\n",
            "\n",
            "eval_loss_epoch: 1.0693517923355103\n",
            "\n",
            "mae: 0.7872511744499207\n",
            "\n",
            "Improvement of 0.0291135311126709 observed, resetting counter. \n",
            "Early stopping counter: 0/2\n",
            "\n",
            "Starting epoch 8\n"
          ]
        },
        {
          "output_type": "stream",
          "name": "stderr",
          "text": [
            "100%|██████████| 211/211 [00:22<00:00,  9.49it/s]\n"
          ]
        },
        {
          "output_type": "stream",
          "name": "stdout",
          "text": [
            "\n",
            "train_loss_epoch: 0.36745449900627136\n"
          ]
        },
        {
          "output_type": "stream",
          "name": "stderr",
          "text": [
            "100%|██████████| 53/53 [00:02<00:00, 26.49it/s]\n"
          ]
        },
        {
          "output_type": "stream",
          "name": "stdout",
          "text": [
            "\n",
            "mse: 1.0694233179092407\n",
            "\n",
            "rmse: 1.034129255900461\n",
            "\n",
            "eval_loss_epoch: 1.0694233179092407\n",
            "\n",
            "mae: 0.7900968790054321\n",
            "No improvement above threshold observed, incrementing counter. \n",
            "Early stopping counter: 1/2\n",
            "\n",
            "Starting epoch 9\n"
          ]
        },
        {
          "output_type": "stream",
          "name": "stderr",
          "text": [
            "100%|██████████| 211/211 [00:20<00:00, 10.20it/s]\n"
          ]
        },
        {
          "output_type": "stream",
          "name": "stdout",
          "text": [
            "\n",
            "train_loss_epoch: 0.3212393820285797\n"
          ]
        },
        {
          "output_type": "stream",
          "name": "stderr",
          "text": [
            "100%|██████████| 53/53 [00:02<00:00, 23.56it/s]\n"
          ]
        },
        {
          "output_type": "stream",
          "name": "stdout",
          "text": [
            "\n",
            "mse: 1.0989314317703247\n",
            "\n",
            "rmse: 1.048299304478604\n",
            "\n",
            "eval_loss_epoch: 1.0989315509796143\n",
            "\n",
            "mae: 0.7953154444694519\n",
            "No improvement above threshold observed, incrementing counter. \n",
            "Early stopping counter: 2/2\n",
            "Stopping training due to no improvement after 2 epochs\n",
            "Finishing training run\n",
            "Loading checkpoint with mae: 0.7872511744499207 from epoch 7\n"
          ]
        }
      ]
    },
    {
      "cell_type": "markdown",
      "source": [
        "Мы видим, что это значительное улучшение по сравнению с подходом матричной факторизации и базовой моделью"
      ],
      "metadata": {
        "id": "dCWH2GyLNJNn"
      }
    },
    {
      "cell_type": "markdown",
      "source": [
        "**Добавление дополнительных данных**\n",
        "\n",
        "До сих пор для прогнозирования рейтинга мы рассматривали только идентификатор пользователя и последовательность идентификаторов курсов; вполне вероятно, что включение информации о предыдущих оценках пользователя улучшит производительность. К счастью, это легко сделать, и наш набор данных уже возвращает данные. Давайте изменим нашу архитектуру, включив в нее следующее:"
      ],
      "metadata": {
        "id": "J0Fcl90mNOIq"
      }
    },
    {
      "cell_type": "code",
      "source": [
        "class BstTransformer(nn.Module):\n",
        "    def __init__(\n",
        "        self,\n",
        "        courses_num_unique,\n",
        "        users_num_unique,\n",
        "        sequence_length=10,\n",
        "        embedding_size=120,\n",
        "        num_transformer_layers=1,\n",
        "        ratings_range=(0.5, 5.5),\n",
        "    ):\n",
        "        super().__init__()\n",
        "        self.sequence_length = sequence_length\n",
        "        self.y_range = ratings_range\n",
        "        self.courses_embeddings = nn.Embedding(\n",
        "            courses_num_unique + 1, embedding_size, padding_idx=0\n",
        "        )\n",
        "        self.user_embeddings = nn.Embedding(users_num_unique + 1, embedding_size)\n",
        "        self.ratings_embeddings = nn.Embedding(6, embedding_size, padding_idx=0)\n",
        "        self.position_embeddings = nn.Embedding(sequence_length, embedding_size)\n",
        "\n",
        "        self.encoder = nn.TransformerEncoder(\n",
        "            encoder_layer=nn.TransformerEncoderLayer(\n",
        "                d_model=embedding_size,\n",
        "                nhead=12,\n",
        "                dropout=0.1,\n",
        "                batch_first=True,\n",
        "                activation=\"gelu\",\n",
        "            ),\n",
        "            num_layers=num_transformer_layers,\n",
        "        )\n",
        "\n",
        "        self.linear = nn.Sequential(\n",
        "            nn.Linear(\n",
        "                embedding_size + (embedding_size * sequence_length),\n",
        "                1024,\n",
        "            ),\n",
        "            nn.BatchNorm1d(1024),\n",
        "            nn.Mish(),\n",
        "            nn.Linear(1024, 512),\n",
        "            nn.BatchNorm1d(512),\n",
        "            nn.Mish(),\n",
        "            nn.Dropout(0.2),\n",
        "            nn.Linear(512, 256),\n",
        "            nn.BatchNorm1d(256),\n",
        "            nn.Mish(),\n",
        "            nn.Linear(256, 1),\n",
        "            nn.Sigmoid(),\n",
        "        )\n",
        "\n",
        "    def forward(self, inputs):\n",
        "        features, mask = inputs\n",
        "\n",
        "        encoded_user_id = self.user_embeddings(features[\"user_id\"])\n",
        "\n",
        "        user_features = encoded_user_id\n",
        "\n",
        "        course_history = features[\"course_ids\"][:, :-1]\n",
        "        target_course = features[\"course_ids\"][:, -1]\n",
        "\n",
        "        ratings = self.ratings_embeddings(features[\"ratings\"])\n",
        "\n",
        "        encoded_courses = self.courses_embeddings(course_history)\n",
        "        encoded_target_course = self.courses_embeddings(target_course)\n",
        "\n",
        "        positions = torch.arange(\n",
        "            0,\n",
        "            self.sequence_length - 1,\n",
        "            1,\n",
        "            dtype=int,\n",
        "            device=features[\"course_ids\"].device,\n",
        "        )\n",
        "        positions = self.position_embeddings(positions)\n",
        "\n",
        "        encoded_sequence_courses_with_position_and_rating = (\n",
        "            encoded_courses + ratings + positions\n",
        "        )\n",
        "        encoded_target_course = encoded_target_course.unsqueeze(1)\n",
        "\n",
        "        transformer_features = torch.cat(\n",
        "            (encoded_sequence_courses_with_position_and_rating, encoded_target_course),\n",
        "            dim=1,\n",
        "        )\n",
        "        transformer_output = self.encoder(\n",
        "            transformer_features, src_key_padding_mask=mask\n",
        "        )\n",
        "        transformer_output = torch.flatten(transformer_output, start_dim=1)\n",
        "\n",
        "        combined_output = torch.cat((transformer_output, user_features), dim=1)\n",
        "\n",
        "        rating = self.linear(combined_output)\n",
        "        rating = rating.squeeze()\n",
        "        if self.y_range is None:\n",
        "            return rating\n",
        "        else:\n",
        "            return rating * (self.y_range[1] - self.y_range[0]) + self.y_range[0]\n"
      ],
      "metadata": {
        "id": "rvCFUVQZ2FFs"
      },
      "execution_count": 119,
      "outputs": []
    },
    {
      "cell_type": "markdown",
      "source": [
        "Мы видим, что для использования данных рейтингов мы добавили дополнительный слой внедрения. Затем для каждого курсса с ранее присвоенным рейтингом мы суммируем встраивание курса, позиционное кодирование и встраивание рейтинга, прежде чем подавать эту последовательность в преобразователь. В качестве альтернативы данные рейтинга можно было бы объединить или умножить на встраивание курса, но их объединение сработало лучше всего из опробованных мной подходов.\n",
        "\n",
        "Поскольку Jupyter поддерживает актуальное состояние для каждого определения класса, нам не нужно обновлять нашу обучающую функцию; новый класс будет использоваться, когда мы начнем обучение:"
      ],
      "metadata": {
        "id": "QQq4kC4TNbx-"
      }
    },
    {
      "cell_type": "code",
      "source": [
        "notebook_launcher(train_seq_model, num_processes=2)"
      ],
      "metadata": {
        "id": "e30Omwjb2H_F",
        "colab": {
          "base_uri": "https://localhost:8080/"
        },
        "outputId": "975bbec6-7ee3-43d6-ee3b-b009664bf379"
      },
      "execution_count": 121,
      "outputs": [
        {
          "output_type": "stream",
          "name": "stdout",
          "text": [
            "Launching training on one CPU.\n",
            "\n",
            "Starting training run\n",
            "\n",
            "Starting epoch 1\n"
          ]
        },
        {
          "output_type": "stream",
          "name": "stderr",
          "text": [
            "\r  0%|          | 0/211 [00:00<?, ?it/s]/usr/lib/python3.10/multiprocessing/popen_fork.py:66: RuntimeWarning: os.fork() was called. os.fork() is incompatible with multithreaded code, and JAX is multithreaded, so this will likely lead to a deadlock.\n",
            "  self.pid = os.fork()\n",
            "100%|██████████| 211/211 [00:21<00:00,  9.78it/s]\n"
          ]
        },
        {
          "output_type": "stream",
          "name": "stdout",
          "text": [
            "\n",
            "train_loss_epoch: 0.9643571376800537\n"
          ]
        },
        {
          "output_type": "stream",
          "name": "stderr",
          "text": [
            "100%|██████████| 53/53 [00:01<00:00, 29.62it/s]\n"
          ]
        },
        {
          "output_type": "stream",
          "name": "stdout",
          "text": [
            "\n",
            "mse: 0.947973370552063\n",
            "\n",
            "rmse: 0.9736392404541134\n",
            "\n",
            "eval_loss_epoch: 0.9479734301567078\n",
            "\n",
            "mae: 0.7791383266448975\n",
            "\n",
            "Starting epoch 2\n"
          ]
        },
        {
          "output_type": "stream",
          "name": "stderr",
          "text": [
            "100%|██████████| 211/211 [00:20<00:00, 10.09it/s]\n"
          ]
        },
        {
          "output_type": "stream",
          "name": "stdout",
          "text": [
            "\n",
            "train_loss_epoch: 0.8985363841056824\n"
          ]
        },
        {
          "output_type": "stream",
          "name": "stderr",
          "text": [
            "100%|██████████| 53/53 [00:01<00:00, 30.10it/s]\n"
          ]
        },
        {
          "output_type": "stream",
          "name": "stdout",
          "text": [
            "\n",
            "mse: 1.0532605648040771\n",
            "\n",
            "rmse: 1.0262848360976973\n",
            "\n",
            "eval_loss_epoch: 1.0532605648040771\n",
            "\n",
            "mae: 0.7264193296432495\n",
            "\n",
            "Improvement of 0.05271899700164795 observed, resetting counter. \n",
            "Early stopping counter: 0/2\n",
            "\n",
            "Starting epoch 3\n"
          ]
        },
        {
          "output_type": "stream",
          "name": "stderr",
          "text": [
            "100%|██████████| 211/211 [00:20<00:00, 10.39it/s]\n"
          ]
        },
        {
          "output_type": "stream",
          "name": "stdout",
          "text": [
            "\n",
            "train_loss_epoch: 0.8623473048210144\n"
          ]
        },
        {
          "output_type": "stream",
          "name": "stderr",
          "text": [
            "100%|██████████| 53/53 [00:01<00:00, 29.93it/s]\n"
          ]
        },
        {
          "output_type": "stream",
          "name": "stdout",
          "text": [
            "\n",
            "mse: 0.9331973195075989\n",
            "\n",
            "rmse: 0.9660213866719509\n",
            "\n",
            "eval_loss_epoch: 0.9331973195075989\n",
            "\n",
            "mae: 0.7673484683036804\n",
            "No improvement above threshold observed, incrementing counter. \n",
            "Early stopping counter: 1/2\n",
            "\n",
            "Starting epoch 4\n"
          ]
        },
        {
          "output_type": "stream",
          "name": "stderr",
          "text": [
            "100%|██████████| 211/211 [00:22<00:00,  9.28it/s]\n"
          ]
        },
        {
          "output_type": "stream",
          "name": "stdout",
          "text": [
            "\n",
            "train_loss_epoch: 0.6034365892410278\n"
          ]
        },
        {
          "output_type": "stream",
          "name": "stderr",
          "text": [
            "100%|██████████| 53/53 [00:01<00:00, 29.76it/s]"
          ]
        },
        {
          "output_type": "stream",
          "name": "stdout",
          "text": [
            "\n",
            "mse: 0.9482542276382446\n",
            "\n",
            "rmse: 0.9737834603433376\n",
            "\n",
            "eval_loss_epoch: 0.9482539892196655\n",
            "\n",
            "mae: 0.7475705146789551\n",
            "No improvement above threshold observed, incrementing counter. \n",
            "Early stopping counter: 2/2\n",
            "Stopping training due to no improvement after 2 epochs\n",
            "Finishing training run\n",
            "Loading checkpoint with mae: 0.7264193296432495 from epoch 2\n"
          ]
        },
        {
          "output_type": "stream",
          "name": "stderr",
          "text": [
            "\n"
          ]
        }
      ]
    },
    {
      "cell_type": "markdown",
      "source": [
        "Видим улучшение"
      ],
      "metadata": {
        "id": "0RIuggXJTK1b"
      }
    },
    {
      "cell_type": "markdown",
      "source": [
        "**Добавление пользовательских функций**\n",
        "\n",
        "Помимо данных рейтингов, у нас также есть дополнительная информация о пользователях, которую мы могли бы добавить в модель."
      ],
      "metadata": {
        "id": "NAEKAadJ6tiy"
      }
    },
    {
      "cell_type": "code",
      "source": [
        "binned = pd.cut(employees.age, bins=[-np.inf, 17, 25, 35, 45, 55, np.inf])"
      ],
      "metadata": {
        "id": "AtxTJqdr5z63"
      },
      "execution_count": 122,
      "outputs": []
    },
    {
      "cell_type": "code",
      "source": [
        "employees['age_group'] = binned\n"
      ],
      "metadata": {
        "id": "2ULrIUqj65Qj"
      },
      "execution_count": 123,
      "outputs": []
    },
    {
      "cell_type": "code",
      "source": [
        "binned_ = pd.cut(employees.exp_days, 10)"
      ],
      "metadata": {
        "id": "f2SqA9QM7amd"
      },
      "execution_count": 124,
      "outputs": []
    },
    {
      "cell_type": "code",
      "source": [
        "employees['exp_days_group'] = binned_"
      ],
      "metadata": {
        "id": "tOJJqZLs7eeJ"
      },
      "execution_count": 125,
      "outputs": []
    },
    {
      "cell_type": "code",
      "source": [],
      "metadata": {
        "id": "bZtI0MpH8JXa"
      },
      "execution_count": null,
      "outputs": []
    },
    {
      "cell_type": "code",
      "source": [
        "from sklearn.preprocessing import LabelEncoder\n",
        "le = LabelEncoder()\n",
        "\n",
        "employees['sex_encoded'] = le.fit_transform(employees.sex)\n",
        "employees['age_group_encoded'] = le.fit_transform(employees.age_group)\n",
        "employees['region_encoded'] = le.fit_transform(employees.region)\n",
        "employees['head_employee_id_encoded'] = le.fit_transform(employees.head_employee_id)\n",
        "employees['exp_days_group_encoded'] = le.fit_transform(employees.exp_days_group)\n",
        "employees['edu_degree_encoded'] = le.fit_transform(employees.edu_degree)\n",
        "employees['department_id_encoded'] = le.fit_transform(employees.department_id)\n"
      ],
      "metadata": {
        "id": "zMoCA7957MXw"
      },
      "execution_count": 126,
      "outputs": []
    },
    {
      "cell_type": "code",
      "source": [
        "prep=employees[['employee_id','sex_encoded','age_group_encoded','region_encoded',\n",
        "                                                     'head_employee_id_encoded','exp_days_group_encoded','edu_degree_encoded',\n",
        "                                                     'department_id_encoded','work_online_flg']].rename(columns={'employee_id':'user_id'})"
      ],
      "metadata": {
        "id": "n7hWjVih9tEz"
      },
      "execution_count": 127,
      "outputs": []
    },
    {
      "cell_type": "code",
      "source": [
        "seq_with_user_features = pd.merge(seq_df, prep, how='left', on='user_id')\n"
      ],
      "metadata": {
        "id": "da6Mk34L7FHL"
      },
      "execution_count": 128,
      "outputs": []
    },
    {
      "cell_type": "code",
      "source": [
        "seq_with_user_features.head(3)"
      ],
      "metadata": {
        "id": "oZFcKx--9oe2",
        "colab": {
          "base_uri": "https://localhost:8080/",
          "height": 528
        },
        "outputId": "1a4b12aa-0747-4604-d8bb-9cca49f91ff9"
      },
      "execution_count": 129,
      "outputs": [
        {
          "output_type": "execute_result",
          "data": {
            "text/plain": [
              "                                user_id  \\\n",
              "0  00411460-f7c9-2d21-24a6-7ea0f4cb5f85   \n",
              "1  00411460-f7c9-2d21-24a6-7ea0f4cb5f85   \n",
              "2  00411460-f7c9-2d21-24a6-7ea0f4cb5f85   \n",
              "\n",
              "                                               title  \\\n",
              "0  ([PAD], [PAD], [PAD], [PAD], [PAD], [PAD], [PA...   \n",
              "1  ([PAD], [PAD], [PAD], [PAD], [PAD], [PAD], [PA...   \n",
              "2  ([PAD], [PAD], [PAD], [PAD], [PAD], [PAD], [PA...   \n",
              "\n",
              "                                      unix_timestamp  is_valid  target_rating  \\\n",
              "0  ([PAD], [PAD], [PAD], [PAD], [PAD], [PAD], [PA...     False              5   \n",
              "1  ([PAD], [PAD], [PAD], [PAD], [PAD], [PAD], [PA...     False              5   \n",
              "2  ([PAD], [PAD], [PAD], [PAD], [PAD], [PAD], [PA...     False              5   \n",
              "\n",
              "                                    previous_ratings  \\\n",
              "0  ([PAD], [PAD], [PAD], [PAD], [PAD], [PAD], [PA...   \n",
              "1  ([PAD], [PAD], [PAD], [PAD], [PAD], [PAD], [PA...   \n",
              "2  ([PAD], [PAD], [PAD], [PAD], [PAD], [PAD], [PA...   \n",
              "\n",
              "                                            pad_mask  num_pads  sex_encoded  \\\n",
              "0  [True, True, True, True, True, True, True, Tru...         9            0   \n",
              "1  [True, True, True, True, True, True, True, Tru...         8            0   \n",
              "2  [True, True, True, True, True, True, True, Fal...         7            0   \n",
              "\n",
              "   age_group_encoded  region_encoded  head_employee_id_encoded  \\\n",
              "0                  1               3                        30   \n",
              "1                  1               3                        30   \n",
              "2                  1               3                        30   \n",
              "\n",
              "   exp_days_group_encoded  edu_degree_encoded  department_id_encoded  \\\n",
              "0                       1                   1                      1   \n",
              "1                       1                   1                      1   \n",
              "2                       1                   1                      1   \n",
              "\n",
              "   work_online_flg  \n",
              "0                1  \n",
              "1                1  \n",
              "2                1  "
            ],
            "text/html": [
              "\n",
              "  <div id=\"df-66017d42-94c6-4014-b7a0-ac75239c6bff\" class=\"colab-df-container\">\n",
              "    <div>\n",
              "<style scoped>\n",
              "    .dataframe tbody tr th:only-of-type {\n",
              "        vertical-align: middle;\n",
              "    }\n",
              "\n",
              "    .dataframe tbody tr th {\n",
              "        vertical-align: top;\n",
              "    }\n",
              "\n",
              "    .dataframe thead th {\n",
              "        text-align: right;\n",
              "    }\n",
              "</style>\n",
              "<table border=\"1\" class=\"dataframe\">\n",
              "  <thead>\n",
              "    <tr style=\"text-align: right;\">\n",
              "      <th></th>\n",
              "      <th>user_id</th>\n",
              "      <th>title</th>\n",
              "      <th>unix_timestamp</th>\n",
              "      <th>is_valid</th>\n",
              "      <th>target_rating</th>\n",
              "      <th>previous_ratings</th>\n",
              "      <th>pad_mask</th>\n",
              "      <th>num_pads</th>\n",
              "      <th>sex_encoded</th>\n",
              "      <th>age_group_encoded</th>\n",
              "      <th>region_encoded</th>\n",
              "      <th>head_employee_id_encoded</th>\n",
              "      <th>exp_days_group_encoded</th>\n",
              "      <th>edu_degree_encoded</th>\n",
              "      <th>department_id_encoded</th>\n",
              "      <th>work_online_flg</th>\n",
              "    </tr>\n",
              "  </thead>\n",
              "  <tbody>\n",
              "    <tr>\n",
              "      <th>0</th>\n",
              "      <td>00411460-f7c9-2d21-24a6-7ea0f4cb5f85</td>\n",
              "      <td>([PAD], [PAD], [PAD], [PAD], [PAD], [PAD], [PA...</td>\n",
              "      <td>([PAD], [PAD], [PAD], [PAD], [PAD], [PAD], [PA...</td>\n",
              "      <td>False</td>\n",
              "      <td>5</td>\n",
              "      <td>([PAD], [PAD], [PAD], [PAD], [PAD], [PAD], [PA...</td>\n",
              "      <td>[True, True, True, True, True, True, True, Tru...</td>\n",
              "      <td>9</td>\n",
              "      <td>0</td>\n",
              "      <td>1</td>\n",
              "      <td>3</td>\n",
              "      <td>30</td>\n",
              "      <td>1</td>\n",
              "      <td>1</td>\n",
              "      <td>1</td>\n",
              "      <td>1</td>\n",
              "    </tr>\n",
              "    <tr>\n",
              "      <th>1</th>\n",
              "      <td>00411460-f7c9-2d21-24a6-7ea0f4cb5f85</td>\n",
              "      <td>([PAD], [PAD], [PAD], [PAD], [PAD], [PAD], [PA...</td>\n",
              "      <td>([PAD], [PAD], [PAD], [PAD], [PAD], [PAD], [PA...</td>\n",
              "      <td>False</td>\n",
              "      <td>5</td>\n",
              "      <td>([PAD], [PAD], [PAD], [PAD], [PAD], [PAD], [PA...</td>\n",
              "      <td>[True, True, True, True, True, True, True, Tru...</td>\n",
              "      <td>8</td>\n",
              "      <td>0</td>\n",
              "      <td>1</td>\n",
              "      <td>3</td>\n",
              "      <td>30</td>\n",
              "      <td>1</td>\n",
              "      <td>1</td>\n",
              "      <td>1</td>\n",
              "      <td>1</td>\n",
              "    </tr>\n",
              "    <tr>\n",
              "      <th>2</th>\n",
              "      <td>00411460-f7c9-2d21-24a6-7ea0f4cb5f85</td>\n",
              "      <td>([PAD], [PAD], [PAD], [PAD], [PAD], [PAD], [PA...</td>\n",
              "      <td>([PAD], [PAD], [PAD], [PAD], [PAD], [PAD], [PA...</td>\n",
              "      <td>False</td>\n",
              "      <td>5</td>\n",
              "      <td>([PAD], [PAD], [PAD], [PAD], [PAD], [PAD], [PA...</td>\n",
              "      <td>[True, True, True, True, True, True, True, Fal...</td>\n",
              "      <td>7</td>\n",
              "      <td>0</td>\n",
              "      <td>1</td>\n",
              "      <td>3</td>\n",
              "      <td>30</td>\n",
              "      <td>1</td>\n",
              "      <td>1</td>\n",
              "      <td>1</td>\n",
              "      <td>1</td>\n",
              "    </tr>\n",
              "  </tbody>\n",
              "</table>\n",
              "</div>\n",
              "    <div class=\"colab-df-buttons\">\n",
              "\n",
              "  <div class=\"colab-df-container\">\n",
              "    <button class=\"colab-df-convert\" onclick=\"convertToInteractive('df-66017d42-94c6-4014-b7a0-ac75239c6bff')\"\n",
              "            title=\"Convert this dataframe to an interactive table.\"\n",
              "            style=\"display:none;\">\n",
              "\n",
              "  <svg xmlns=\"http://www.w3.org/2000/svg\" height=\"24px\" viewBox=\"0 -960 960 960\">\n",
              "    <path d=\"M120-120v-720h720v720H120Zm60-500h600v-160H180v160Zm220 220h160v-160H400v160Zm0 220h160v-160H400v160ZM180-400h160v-160H180v160Zm440 0h160v-160H620v160ZM180-180h160v-160H180v160Zm440 0h160v-160H620v160Z\"/>\n",
              "  </svg>\n",
              "    </button>\n",
              "\n",
              "  <style>\n",
              "    .colab-df-container {\n",
              "      display:flex;\n",
              "      gap: 12px;\n",
              "    }\n",
              "\n",
              "    .colab-df-convert {\n",
              "      background-color: #E8F0FE;\n",
              "      border: none;\n",
              "      border-radius: 50%;\n",
              "      cursor: pointer;\n",
              "      display: none;\n",
              "      fill: #1967D2;\n",
              "      height: 32px;\n",
              "      padding: 0 0 0 0;\n",
              "      width: 32px;\n",
              "    }\n",
              "\n",
              "    .colab-df-convert:hover {\n",
              "      background-color: #E2EBFA;\n",
              "      box-shadow: 0px 1px 2px rgba(60, 64, 67, 0.3), 0px 1px 3px 1px rgba(60, 64, 67, 0.15);\n",
              "      fill: #174EA6;\n",
              "    }\n",
              "\n",
              "    .colab-df-buttons div {\n",
              "      margin-bottom: 4px;\n",
              "    }\n",
              "\n",
              "    [theme=dark] .colab-df-convert {\n",
              "      background-color: #3B4455;\n",
              "      fill: #D2E3FC;\n",
              "    }\n",
              "\n",
              "    [theme=dark] .colab-df-convert:hover {\n",
              "      background-color: #434B5C;\n",
              "      box-shadow: 0px 1px 3px 1px rgba(0, 0, 0, 0.15);\n",
              "      filter: drop-shadow(0px 1px 2px rgba(0, 0, 0, 0.3));\n",
              "      fill: #FFFFFF;\n",
              "    }\n",
              "  </style>\n",
              "\n",
              "    <script>\n",
              "      const buttonEl =\n",
              "        document.querySelector('#df-66017d42-94c6-4014-b7a0-ac75239c6bff button.colab-df-convert');\n",
              "      buttonEl.style.display =\n",
              "        google.colab.kernel.accessAllowed ? 'block' : 'none';\n",
              "\n",
              "      async function convertToInteractive(key) {\n",
              "        const element = document.querySelector('#df-66017d42-94c6-4014-b7a0-ac75239c6bff');\n",
              "        const dataTable =\n",
              "          await google.colab.kernel.invokeFunction('convertToInteractive',\n",
              "                                                    [key], {});\n",
              "        if (!dataTable) return;\n",
              "\n",
              "        const docLinkHtml = 'Like what you see? Visit the ' +\n",
              "          '<a target=\"_blank\" href=https://colab.research.google.com/notebooks/data_table.ipynb>data table notebook</a>'\n",
              "          + ' to learn more about interactive tables.';\n",
              "        element.innerHTML = '';\n",
              "        dataTable['output_type'] = 'display_data';\n",
              "        await google.colab.output.renderOutput(dataTable, element);\n",
              "        const docLink = document.createElement('div');\n",
              "        docLink.innerHTML = docLinkHtml;\n",
              "        element.appendChild(docLink);\n",
              "      }\n",
              "    </script>\n",
              "  </div>\n",
              "\n",
              "\n",
              "<div id=\"df-7d3c5af6-2055-444f-a07f-801afe6a2f93\">\n",
              "  <button class=\"colab-df-quickchart\" onclick=\"quickchart('df-7d3c5af6-2055-444f-a07f-801afe6a2f93')\"\n",
              "            title=\"Suggest charts\"\n",
              "            style=\"display:none;\">\n",
              "\n",
              "<svg xmlns=\"http://www.w3.org/2000/svg\" height=\"24px\"viewBox=\"0 0 24 24\"\n",
              "     width=\"24px\">\n",
              "    <g>\n",
              "        <path d=\"M19 3H5c-1.1 0-2 .9-2 2v14c0 1.1.9 2 2 2h14c1.1 0 2-.9 2-2V5c0-1.1-.9-2-2-2zM9 17H7v-7h2v7zm4 0h-2V7h2v10zm4 0h-2v-4h2v4z\"/>\n",
              "    </g>\n",
              "</svg>\n",
              "  </button>\n",
              "\n",
              "<style>\n",
              "  .colab-df-quickchart {\n",
              "      --bg-color: #E8F0FE;\n",
              "      --fill-color: #1967D2;\n",
              "      --hover-bg-color: #E2EBFA;\n",
              "      --hover-fill-color: #174EA6;\n",
              "      --disabled-fill-color: #AAA;\n",
              "      --disabled-bg-color: #DDD;\n",
              "  }\n",
              "\n",
              "  [theme=dark] .colab-df-quickchart {\n",
              "      --bg-color: #3B4455;\n",
              "      --fill-color: #D2E3FC;\n",
              "      --hover-bg-color: #434B5C;\n",
              "      --hover-fill-color: #FFFFFF;\n",
              "      --disabled-bg-color: #3B4455;\n",
              "      --disabled-fill-color: #666;\n",
              "  }\n",
              "\n",
              "  .colab-df-quickchart {\n",
              "    background-color: var(--bg-color);\n",
              "    border: none;\n",
              "    border-radius: 50%;\n",
              "    cursor: pointer;\n",
              "    display: none;\n",
              "    fill: var(--fill-color);\n",
              "    height: 32px;\n",
              "    padding: 0;\n",
              "    width: 32px;\n",
              "  }\n",
              "\n",
              "  .colab-df-quickchart:hover {\n",
              "    background-color: var(--hover-bg-color);\n",
              "    box-shadow: 0 1px 2px rgba(60, 64, 67, 0.3), 0 1px 3px 1px rgba(60, 64, 67, 0.15);\n",
              "    fill: var(--button-hover-fill-color);\n",
              "  }\n",
              "\n",
              "  .colab-df-quickchart-complete:disabled,\n",
              "  .colab-df-quickchart-complete:disabled:hover {\n",
              "    background-color: var(--disabled-bg-color);\n",
              "    fill: var(--disabled-fill-color);\n",
              "    box-shadow: none;\n",
              "  }\n",
              "\n",
              "  .colab-df-spinner {\n",
              "    border: 2px solid var(--fill-color);\n",
              "    border-color: transparent;\n",
              "    border-bottom-color: var(--fill-color);\n",
              "    animation:\n",
              "      spin 1s steps(1) infinite;\n",
              "  }\n",
              "\n",
              "  @keyframes spin {\n",
              "    0% {\n",
              "      border-color: transparent;\n",
              "      border-bottom-color: var(--fill-color);\n",
              "      border-left-color: var(--fill-color);\n",
              "    }\n",
              "    20% {\n",
              "      border-color: transparent;\n",
              "      border-left-color: var(--fill-color);\n",
              "      border-top-color: var(--fill-color);\n",
              "    }\n",
              "    30% {\n",
              "      border-color: transparent;\n",
              "      border-left-color: var(--fill-color);\n",
              "      border-top-color: var(--fill-color);\n",
              "      border-right-color: var(--fill-color);\n",
              "    }\n",
              "    40% {\n",
              "      border-color: transparent;\n",
              "      border-right-color: var(--fill-color);\n",
              "      border-top-color: var(--fill-color);\n",
              "    }\n",
              "    60% {\n",
              "      border-color: transparent;\n",
              "      border-right-color: var(--fill-color);\n",
              "    }\n",
              "    80% {\n",
              "      border-color: transparent;\n",
              "      border-right-color: var(--fill-color);\n",
              "      border-bottom-color: var(--fill-color);\n",
              "    }\n",
              "    90% {\n",
              "      border-color: transparent;\n",
              "      border-bottom-color: var(--fill-color);\n",
              "    }\n",
              "  }\n",
              "</style>\n",
              "\n",
              "  <script>\n",
              "    async function quickchart(key) {\n",
              "      const quickchartButtonEl =\n",
              "        document.querySelector('#' + key + ' button');\n",
              "      quickchartButtonEl.disabled = true;  // To prevent multiple clicks.\n",
              "      quickchartButtonEl.classList.add('colab-df-spinner');\n",
              "      try {\n",
              "        const charts = await google.colab.kernel.invokeFunction(\n",
              "            'suggestCharts', [key], {});\n",
              "      } catch (error) {\n",
              "        console.error('Error during call to suggestCharts:', error);\n",
              "      }\n",
              "      quickchartButtonEl.classList.remove('colab-df-spinner');\n",
              "      quickchartButtonEl.classList.add('colab-df-quickchart-complete');\n",
              "    }\n",
              "    (() => {\n",
              "      let quickchartButtonEl =\n",
              "        document.querySelector('#df-7d3c5af6-2055-444f-a07f-801afe6a2f93 button');\n",
              "      quickchartButtonEl.style.display =\n",
              "        google.colab.kernel.accessAllowed ? 'block' : 'none';\n",
              "    })();\n",
              "  </script>\n",
              "</div>\n",
              "    </div>\n",
              "  </div>\n"
            ],
            "application/vnd.google.colaboratory.intrinsic+json": {
              "type": "dataframe",
              "variable_name": "seq_with_user_features",
              "summary": "{\n  \"name\": \"seq_with_user_features\",\n  \"rows\": 8404,\n  \"fields\": [\n    {\n      \"column\": \"user_id\",\n      \"properties\": {\n        \"dtype\": \"category\",\n        \"num_unique_values\": 1677,\n        \"samples\": [\n          \"f516dfb8-4b90-51ed-85b8-9cdc3a8ab7f5\",\n          \"470e7a4f-017a-5476-afb7-eeb3f8b96f9b\",\n          \"1b36ea1c-9b7a-1c3a-d668-b8bb5df7963f\"\n        ],\n        \"semantic_type\": \"\",\n        \"description\": \"\"\n      }\n    },\n    {\n      \"column\": \"title\",\n      \"properties\": {\n        \"dtype\": \"string\",\n        \"num_unique_values\": 6411,\n        \"samples\": [\n          [\n            \"[PAD]\",\n            \"[PAD]\",\n            \"[PAD]\",\n            \"\\u0420\\u0430\\u0437\\u0432\\u0438\\u0442\\u0438\\u0435 \\u043d\\u0430\\u0432\\u044b\\u043a\\u043e\\u0432 \\u0430\\u043a\\u0442\\u0438\\u0432\\u043d\\u043e\\u0433\\u043e \\u043f\\u0440\\u043e\\u0441\\u043b\\u0443\\u0448\\u0438\\u0432\\u0430\\u043d\\u0438\\u044f \\u0432 \\u043a\\u043b\\u0438\\u0435\\u043d\\u0442\\u0441\\u043a\\u043e\\u043c \\u0441\\u0435\\u0440\\u0432\\u0438\\u0441\\u0435\",\n            \"\\u0418\\u0441\\u043f\\u043e\\u043b\\u044c\\u0437\\u043e\\u0432\\u0430\\u043d\\u0438\\u0435 \\u044d\\u043c\\u043e\\u0446\\u0438\\u043e\\u043d\\u0430\\u043b\\u044c\\u043d\\u043e\\u0433\\u043e \\u0438\\u043d\\u0442\\u0435\\u043b\\u043b\\u0435\\u043a\\u0442\\u0430 \\u0432 \\u043e\\u0431\\u0449\\u0435\\u043d\\u0438\\u0438 \\u0441 \\u043a\\u043b\\u0438\\u0435\\u043d\\u0442\\u0430\\u043c\\u0438\",\n            \"\\u042d\\u0444\\u0444\\u0435\\u043a\\u0442\\u0438\\u0432\\u043d\\u043e\\u0435 \\u0432\\u043d\\u0435\\u0434\\u0440\\u0435\\u043d\\u0438\\u0435 \\u0438 \\u0438\\u0441\\u043f\\u043e\\u043b\\u044c\\u0437\\u043e\\u0432\\u0430\\u043d\\u0438\\u0435 \\u0447\\u0430\\u0442-\\u0431\\u043e\\u0442\\u043e\\u0432 \\u0432 \\u043a\\u043b\\u0438\\u0435\\u043d\\u0442\\u0441\\u043a\\u043e\\u043c \\u0441\\u0435\\u0440\\u0432\\u0438\\u0441\\u0435\",\n            \"\\u0422\\u0435\\u0445\\u043d\\u0438\\u043a\\u0438 \\u043f\\u0435\\u0440\\u0435\\u0433\\u043e\\u0432\\u043e\\u0440\\u043e\\u0432 \\u0438 \\u0443\\u0440\\u0435\\u0433\\u0443\\u043b\\u0438\\u0440\\u043e\\u0432\\u0430\\u043d\\u0438\\u044f \\u0441\\u043f\\u043e\\u0440\\u043d\\u044b\\u0445 \\u0432\\u043e\\u043f\\u0440\\u043e\\u0441\\u043e\\u0432 \\u0441 \\u043a\\u043b\\u0438\\u0435\\u043d\\u0442\\u0430\\u043c\\u0438\",\n            \"\\u041a\\u0430\\u043a \\u044d\\u0444\\u0444\\u0435\\u043a\\u0442\\u0438\\u0432\\u043d\\u043e \\u0440\\u0435\\u0430\\u0433\\u0438\\u0440\\u043e\\u0432\\u0430\\u0442\\u044c \\u043d\\u0430 \\u0438\\u0437\\u043c\\u0435\\u043d\\u0435\\u043d\\u0438\\u044f \\u043f\\u043e\\u0442\\u0440\\u0435\\u0431\\u043d\\u043e\\u0441\\u0442\\u0435\\u0439 \\u043a\\u043b\\u0438\\u0435\\u043d\\u0442\\u043e\\u0432\",\n            \"\\u0423\\u043f\\u0440\\u0430\\u0432\\u043b\\u0435\\u043d\\u0438\\u0435 \\u043e\\u0436\\u0438\\u0434\\u0430\\u043d\\u0438\\u044f\\u043c\\u0438 \\u043a\\u043b\\u0438\\u0435\\u043d\\u0442\\u043e\\u0432 \\u0432 \\u0443\\u0441\\u043b\\u043e\\u0432\\u0438\\u044f\\u0445 \\u0434\\u0438\\u043d\\u0430\\u043c\\u0438\\u0447\\u043d\\u043e\\u0433\\u043e \\u0440\\u044b\\u043d\\u043a\\u0430\",\n            \"\\u041a\\u0440\\u0435\\u0430\\u0442\\u0438\\u0432\\u043d\\u044b\\u0435 \\u043f\\u043e\\u0434\\u0445\\u043e\\u0434\\u044b \\u043a \\u0440\\u0435\\u0448\\u0435\\u043d\\u0438\\u044e \\u0441\\u043b\\u043e\\u0436\\u043d\\u044b\\u0445 \\u0441\\u0438\\u0442\\u0443\\u0430\\u0446\\u0438\\u0439 \\u0441 \\u043a\\u043b\\u0438\\u0435\\u043d\\u0442\\u0430\\u043c\\u0438\"\n          ],\n          [\n            \"[PAD]\",\n            \"[PAD]\",\n            \"[PAD]\",\n            \"[PAD]\",\n            \"[PAD]\",\n            \"[PAD]\",\n            \"[PAD]\",\n            \"[PAD]\",\n            \"\\u041f\\u0440\\u043e\\u0444\\u0435\\u0441\\u0441\\u0438\\u043e\\u043d\\u0430\\u043b\\u044c\\u043d\\u044b\\u0439 \\u0440\\u043e\\u0441\\u0442 \\u0432 \\u043e\\u0431\\u043b\\u0430\\u0441\\u0442\\u0438 \\u043a\\u043b\\u0438\\u0435\\u043d\\u0442\\u0441\\u043a\\u043e\\u0433\\u043e \\u0441\\u0435\\u0440\\u0432\\u0438\\u0441\\u0430: \\u041f\\u043b\\u0430\\u043d\\u0438\\u0440\\u043e\\u0432\\u0430\\u043d\\u0438\\u0435 \\u043a\\u0430\\u0440\\u044c\\u0435\\u0440\\u044b\",\n            \"\\u0420\\u0430\\u0437\\u0432\\u0438\\u0442\\u0438\\u0435 \\u043d\\u0430\\u0432\\u044b\\u043a\\u043e\\u0432 \\u0430\\u043a\\u0442\\u0438\\u0432\\u043d\\u043e\\u0433\\u043e \\u043f\\u0440\\u043e\\u0441\\u043b\\u0443\\u0448\\u0438\\u0432\\u0430\\u043d\\u0438\\u044f \\u0432 \\u043a\\u043b\\u0438\\u0435\\u043d\\u0442\\u0441\\u043a\\u043e\\u043c \\u0441\\u0435\\u0440\\u0432\\u0438\\u0441\\u0435\"\n          ],\n          [\n            \"\\u0421\\u043e\\u0437\\u0434\\u0430\\u043d\\u0438\\u0435 \\u0438\\u043d\\u0434\\u0438\\u0432\\u0438\\u0434\\u0443\\u0430\\u043b\\u044c\\u043d\\u044b\\u0445 \\u043f\\u043b\\u0430\\u043d\\u043e\\u0432 \\u043e\\u0431\\u0441\\u043b\\u0443\\u0436\\u0438\\u0432\\u0430\\u043d\\u0438\\u044f \\u0434\\u043b\\u044f \\u043a\\u043b\\u044e\\u0447\\u0435\\u0432\\u044b\\u0445 \\u043a\\u043b\\u0438\\u0435\\u043d\\u0442\\u043e\\u0432\",\n            \"\\u0418\\u0441\\u043f\\u043e\\u043b\\u044c\\u0437\\u043e\\u0432\\u0430\\u043d\\u0438\\u0435 \\u0438\\u043d\\u0441\\u0442\\u0440\\u0443\\u043c\\u0435\\u043d\\u0442\\u043e\\u0432 \\u043c\\u0430\\u0440\\u043a\\u0435\\u0442\\u0438\\u043d\\u0433\\u0430 \\u0432 \\u043a\\u043b\\u0438\\u0435\\u043d\\u0442\\u0441\\u043a\\u043e\\u043c \\u043e\\u0431\\u0441\\u043b\\u0443\\u0436\\u0438\\u0432\\u0430\\u043d\\u0438\\u0438\",\n            \"\\u0418\\u0441\\u043f\\u043e\\u043b\\u044c\\u0437\\u043e\\u0432\\u0430\\u043d\\u0438\\u0435 storytelling \\u0432 \\u043a\\u043b\\u0438\\u0435\\u043d\\u0442\\u0441\\u043a\\u043e\\u043c \\u043e\\u0431\\u0441\\u043b\\u0443\\u0436\\u0438\\u0432\\u0430\\u043d\\u0438\\u0438: \\u041f\\u0440\\u0438\\u0432\\u043b\\u0435\\u0447\\u0435\\u043d\\u0438\\u0435 \\u0432\\u043d\\u0438\\u043c\\u0430\\u043d\\u0438\\u044f\",\n            \"\\u0418\\u0441\\u043f\\u043e\\u043b\\u044c\\u0437\\u043e\\u0432\\u0430\\u043d\\u0438\\u0435 \\u0442\\u0435\\u0445\\u043d\\u043e\\u043b\\u043e\\u0433\\u0438\\u0439 \\u0432 \\u043a\\u043b\\u0438\\u0435\\u043d\\u0442\\u0441\\u043a\\u043e\\u043c \\u043e\\u0431\\u0441\\u043b\\u0443\\u0436\\u0438\\u0432\\u0430\\u043d\\u0438\\u0438: \\u041b\\u0443\\u0447\\u0448\\u0438\\u0435 \\u043f\\u0440\\u0430\\u043a\\u0442\\u0438\\u043a\\u0438\",\n            \"\\u0421\\u043e\\u0432\\u0440\\u0435\\u043c\\u0435\\u043d\\u043d\\u044b\\u0435 \\u0442\\u0435\\u043d\\u0434\\u0435\\u043d\\u0446\\u0438\\u0438 \\u0432 \\u043a\\u043b\\u0438\\u0435\\u043d\\u0442\\u0441\\u043a\\u043e\\u043c \\u0441\\u0435\\u0440\\u0432\\u0438\\u0441\\u0435: \\u0410\\u043d\\u0430\\u043b\\u0438\\u0437 \\u0438 \\u043f\\u0440\\u043e\\u0433\\u043d\\u043e\\u0437\\u0438\\u0440\\u043e\\u0432\\u0430\\u043d\\u0438\\u0435\",\n            \"\\u0420\\u0430\\u0437\\u0440\\u0430\\u0431\\u043e\\u0442\\u043a\\u0430 \\u0441\\u0442\\u0440\\u0430\\u0442\\u0435\\u0433\\u0438\\u0438 \\u043e\\u0431\\u0441\\u043b\\u0443\\u0436\\u0438\\u0432\\u0430\\u043d\\u0438\\u044f \\u0434\\u043b\\u044f \\u0440\\u0430\\u0437\\u043d\\u044b\\u0445 \\u0441\\u0435\\u0433\\u043c\\u0435\\u043d\\u0442\\u043e\\u0432 \\u0440\\u044b\\u043d\\u043a\\u0430\",\n            \"\\u0420\\u0430\\u0437\\u0432\\u0438\\u0442\\u0438\\u0435 \\u043d\\u0430\\u0432\\u044b\\u043a\\u043e\\u0432 \\u044d\\u043c\\u043f\\u0430\\u0442\\u0438\\u0438 \\u0432 \\u043a\\u043b\\u0438\\u0435\\u043d\\u0442\\u0441\\u043a\\u043e\\u043c \\u043e\\u0431\\u0441\\u043b\\u0443\\u0436\\u0438\\u0432\\u0430\\u043d\\u0438\\u0438\",\n            \"\\u0423\\u043f\\u0440\\u0430\\u0432\\u043b\\u0435\\u043d\\u0438\\u0435 \\u043e\\u0436\\u0438\\u0434\\u0430\\u043d\\u0438\\u044f\\u043c\\u0438 \\u043a\\u043b\\u0438\\u0435\\u043d\\u0442\\u043e\\u0432 \\u0432 \\u0443\\u0441\\u043b\\u043e\\u0432\\u0438\\u044f\\u0445 \\u0434\\u0438\\u043d\\u0430\\u043c\\u0438\\u0447\\u043d\\u043e\\u0433\\u043e \\u0440\\u044b\\u043d\\u043a\\u0430\",\n            \"\\u0420\\u0430\\u0437\\u0432\\u0438\\u0442\\u0438\\u0435 \\u043d\\u0430\\u0432\\u044b\\u043a\\u043e\\u0432 \\u0430\\u0434\\u0430\\u043f\\u0442\\u0430\\u0446\\u0438\\u0438 \\u043a \\u0440\\u0430\\u0437\\u043b\\u0438\\u0447\\u043d\\u044b\\u043c \\u0442\\u0438\\u043f\\u0430\\u043c \\u043a\\u043b\\u0438\\u0435\\u043d\\u0442\\u043e\\u0432\",\n            \"\\u0423\\u043f\\u0440\\u0430\\u0432\\u043b\\u0435\\u043d\\u0438\\u0435 \\u043d\\u0435\\u0441\\u0442\\u0430\\u043d\\u0434\\u0430\\u0440\\u0442\\u043d\\u044b\\u043c\\u0438 \\u0441\\u0438\\u0442\\u0443\\u0430\\u0446\\u0438\\u044f\\u043c\\u0438 \\u0432 \\u043a\\u043b\\u0438\\u0435\\u043d\\u0442\\u0441\\u043a\\u043e\\u043c \\u043e\\u0431\\u0441\\u043b\\u0443\\u0436\\u0438\\u0432\\u0430\\u043d\\u0438\\u0438\"\n          ]\n        ],\n        \"semantic_type\": \"\",\n        \"description\": \"\"\n      }\n    },\n    {\n      \"column\": \"unix_timestamp\",\n      \"properties\": {\n        \"dtype\": \"string\",\n        \"num_unique_values\": 6893,\n        \"samples\": [\n          [\n            \"[PAD]\",\n            \"[PAD]\",\n            \"[PAD]\",\n            \"[PAD]\",\n            \"[PAD]\",\n            \"[PAD]\",\n            \"[PAD]\",\n            \"[PAD]\",\n            \"[PAD]\",\n            \"2023-05-14\"\n          ],\n          [\n            \"[PAD]\",\n            \"[PAD]\",\n            \"[PAD]\",\n            \"[PAD]\",\n            \"[PAD]\",\n            \"[PAD]\",\n            \"[PAD]\",\n            \"[PAD]\",\n            \"2023-03-29\",\n            \"2023-06-02\"\n          ],\n          [\n            \"[PAD]\",\n            \"[PAD]\",\n            \"2023-01-28\",\n            \"2023-02-05\",\n            \"2023-03-21\",\n            \"2023-03-26\",\n            \"2023-04-20\",\n            \"2023-05-13\",\n            \"2023-05-14\",\n            \"2023-05-22\"\n          ]\n        ],\n        \"semantic_type\": \"\",\n        \"description\": \"\"\n      }\n    },\n    {\n      \"column\": \"is_valid\",\n      \"properties\": {\n        \"dtype\": \"boolean\",\n        \"num_unique_values\": 2,\n        \"samples\": [\n          true,\n          false\n        ],\n        \"semantic_type\": \"\",\n        \"description\": \"\"\n      }\n    },\n    {\n      \"column\": \"target_rating\",\n      \"properties\": {\n        \"dtype\": \"number\",\n        \"std\": 1,\n        \"min\": 1,\n        \"max\": 5,\n        \"num_unique_values\": 5,\n        \"samples\": [\n          4,\n          1\n        ],\n        \"semantic_type\": \"\",\n        \"description\": \"\"\n      }\n    },\n    {\n      \"column\": \"previous_ratings\",\n      \"properties\": {\n        \"dtype\": \"category\",\n        \"num_unique_values\": 1639,\n        \"samples\": [\n          [\n            \"[PAD]\",\n            \"[PAD]\",\n            \"[PAD]\",\n            3,\n            3,\n            3,\n            3,\n            4,\n            4\n          ],\n          [\n            \"[PAD]\",\n            \"[PAD]\",\n            \"[PAD]\",\n            4,\n            3,\n            3,\n            2,\n            2,\n            1\n          ]\n        ],\n        \"semantic_type\": \"\",\n        \"description\": \"\"\n      }\n    },\n    {\n      \"column\": \"pad_mask\",\n      \"properties\": {\n        \"dtype\": \"object\",\n        \"semantic_type\": \"\",\n        \"description\": \"\"\n      }\n    },\n    {\n      \"column\": \"num_pads\",\n      \"properties\": {\n        \"dtype\": \"number\",\n        \"std\": 2,\n        \"min\": 0,\n        \"max\": 9,\n        \"num_unique_values\": 10,\n        \"samples\": [\n          1,\n          8\n        ],\n        \"semantic_type\": \"\",\n        \"description\": \"\"\n      }\n    },\n    {\n      \"column\": \"sex_encoded\",\n      \"properties\": {\n        \"dtype\": \"number\",\n        \"std\": 0,\n        \"min\": 0,\n        \"max\": 1,\n        \"num_unique_values\": 2,\n        \"samples\": [\n          1,\n          0\n        ],\n        \"semantic_type\": \"\",\n        \"description\": \"\"\n      }\n    },\n    {\n      \"column\": \"age_group_encoded\",\n      \"properties\": {\n        \"dtype\": \"number\",\n        \"std\": 0,\n        \"min\": 0,\n        \"max\": 4,\n        \"num_unique_values\": 5,\n        \"samples\": [\n          0,\n          4\n        ],\n        \"semantic_type\": \"\",\n        \"description\": \"\"\n      }\n    },\n    {\n      \"column\": \"region_encoded\",\n      \"properties\": {\n        \"dtype\": \"number\",\n        \"std\": 2,\n        \"min\": 0,\n        \"max\": 7,\n        \"num_unique_values\": 8,\n        \"samples\": [\n          0,\n          7\n        ],\n        \"semantic_type\": \"\",\n        \"description\": \"\"\n      }\n    },\n    {\n      \"column\": \"head_employee_id_encoded\",\n      \"properties\": {\n        \"dtype\": \"number\",\n        \"std\": 37,\n        \"min\": 0,\n        \"max\": 131,\n        \"num_unique_values\": 132,\n        \"samples\": [\n          18,\n          84\n        ],\n        \"semantic_type\": \"\",\n        \"description\": \"\"\n      }\n    },\n    {\n      \"column\": \"exp_days_group_encoded\",\n      \"properties\": {\n        \"dtype\": \"number\",\n        \"std\": 1,\n        \"min\": 0,\n        \"max\": 9,\n        \"num_unique_values\": 10,\n        \"samples\": [\n          9,\n          0\n        ],\n        \"semantic_type\": \"\",\n        \"description\": \"\"\n      }\n    },\n    {\n      \"column\": \"edu_degree_encoded\",\n      \"properties\": {\n        \"dtype\": \"number\",\n        \"std\": 0,\n        \"min\": 0,\n        \"max\": 2,\n        \"num_unique_values\": 3,\n        \"samples\": [\n          1,\n          2\n        ],\n        \"semantic_type\": \"\",\n        \"description\": \"\"\n      }\n    },\n    {\n      \"column\": \"department_id_encoded\",\n      \"properties\": {\n        \"dtype\": \"number\",\n        \"std\": 0,\n        \"min\": 0,\n        \"max\": 2,\n        \"num_unique_values\": 3,\n        \"samples\": [\n          1,\n          2\n        ],\n        \"semantic_type\": \"\",\n        \"description\": \"\"\n      }\n    },\n    {\n      \"column\": \"work_online_flg\",\n      \"properties\": {\n        \"dtype\": \"number\",\n        \"std\": 0,\n        \"min\": 0,\n        \"max\": 1,\n        \"num_unique_values\": 2,\n        \"samples\": [\n          0,\n          1\n        ],\n        \"semantic_type\": \"\",\n        \"description\": \"\"\n      }\n    }\n  ]\n}"
            }
          },
          "metadata": {},
          "execution_count": 129
        }
      ]
    },
    {
      "cell_type": "code",
      "source": [
        "train_df = seq_with_user_features[seq_with_user_features.is_valid == False]\n",
        "valid_df = seq_with_user_features[seq_with_user_features.is_valid == True]"
      ],
      "metadata": {
        "id": "DhS1KKt49Zee"
      },
      "execution_count": 130,
      "outputs": []
    },
    {
      "cell_type": "code",
      "source": [
        "class CourseSequenceDataset(Dataset):\n",
        "    def __init__(self, df, course_lookup, user_lookup):\n",
        "        super().__init__()\n",
        "        self.df = df\n",
        "        self.course_lookup = course_lookup\n",
        "        self.user_lookup = user_lookup\n",
        "\n",
        "    def __len__(self):\n",
        "        return len(self.df)\n",
        "\n",
        "    def __getitem__(self, index):\n",
        "        data = self.df.iloc[index]\n",
        "        user_id = self.user_lookup[str(data.user_id)]\n",
        "        course_ids = torch.tensor([self.course_lookup[title] for title in data.title])\n",
        "\n",
        "        previous_ratings = torch.tensor(\n",
        "            [rating if rating != \"[PAD]\" else 0 for rating in data.previous_ratings]\n",
        "        )\n",
        "\n",
        "        attention_mask = torch.tensor(data.pad_mask)\n",
        "        target_rating = data.target_rating\n",
        "        encoded_features = {\n",
        "            \"user_id\": user_id,\n",
        "            \"course_ids\": course_ids,\n",
        "            \"ratings\": previous_ratings,\n",
        "            \"age_group\": data[\"age_group_encoded\"],\n",
        "            \"sex\": data[\"sex_encoded\"],\n",
        "            \"region\": data[\"region_encoded\"],\n",
        "            \"head_employee_id\": data[\"head_employee_id_encoded\"],\n",
        "            \"exp_days_group\": data[\"exp_days_group_encoded\"],\n",
        "            \"edu_degree\": data[\"edu_degree_encoded\"],\n",
        "            \"department_id\": data[\"department_id_encoded\"],\n",
        "            \"work_online_flg\": data[\"work_online_flg\"],\n",
        "        }\n",
        "\n",
        "        return (encoded_features, attention_mask), torch.tensor(\n",
        "            target_rating, dtype=torch.float32\n",
        "        )\n"
      ],
      "metadata": {
        "id": "q6SVlfvx9eMd"
      },
      "execution_count": 131,
      "outputs": []
    },
    {
      "cell_type": "code",
      "source": [
        "train_dataset = CourseSequenceDataset(train_df, course_lookup, user_lookup)\n",
        "valid_dataset = CourseSequenceDataset(valid_df, course_lookup, user_lookup)"
      ],
      "metadata": {
        "id": "HCiXy5jpDMd9"
      },
      "execution_count": 132,
      "outputs": []
    },
    {
      "cell_type": "markdown",
      "source": [
        "Теперь мы можем изменить нашу архитектуру, включив в нее внедрения для этих функций и объединить эти внедрения с выходными данными преобразователя; затем мы передаем это в сеть прямой связи."
      ],
      "metadata": {
        "id": "gxzvZB2rNztK"
      }
    },
    {
      "cell_type": "code",
      "source": [
        "class BstTransformer(nn.Module):\n",
        "    def __init__(\n",
        "        self,\n",
        "        courses_num_unique,\n",
        "        users_num_unique,\n",
        "        sequence_length=10,\n",
        "        embedding_size=120,\n",
        "        num_transformer_layers=1,\n",
        "        ratings_range=(0.5, 5.5),\n",
        "    ):\n",
        "        super().__init__()\n",
        "        self.sequence_length = sequence_length\n",
        "        self.y_range = ratings_range\n",
        "        self.courses_embeddings = nn.Embedding(\n",
        "            courses_num_unique + 1, embedding_size, padding_idx=0\n",
        "        )\n",
        "        self.user_embeddings = nn.Embedding(users_num_unique + 1, embedding_size)\n",
        "        self.ratings_embeddings = nn.Embedding(6, embedding_size, padding_idx=0)\n",
        "        self.position_embeddings = nn.Embedding(sequence_length, embedding_size)\n",
        "\n",
        "        self.sex_embeddings = nn.Embedding(\n",
        "            len(employees.sex.unique()),\n",
        "            2,\n",
        "        )\n",
        "        self.age_group_embeddings = nn.Embedding(\n",
        "            len(employees.age_group.unique()),\n",
        "            4,\n",
        "        )\n",
        "        self.region_embeddings = nn.Embedding(\n",
        "            len(employees.region.unique()),\n",
        "            2,\n",
        "        )\n",
        "        self.head_employee_id_embeddings = nn.Embedding(\n",
        "            len(employees.head_employee_id.unique()),\n",
        "            11,\n",
        "        )\n",
        "        self.exp_days_group_embeddings = nn.Embedding(\n",
        "            len(employees.exp_days_group.unique()),\n",
        "            4,\n",
        "        )\n",
        "        self.edu_degree_embeddings = nn.Embedding(\n",
        "            len(employees.edu_degree.unique()),\n",
        "            2,\n",
        "        )\n",
        "        self.department_id_embeddings = nn.Embedding(\n",
        "            len(employees.department_id.unique()),\n",
        "            2,\n",
        "        )\n",
        "        self.work_online_flg_embeddings = nn.Embedding(\n",
        "            len(employees.work_online_flg.unique()),\n",
        "            2,\n",
        "        )\n",
        "\n",
        "        self.encoder = nn.TransformerEncoder(\n",
        "            encoder_layer=nn.TransformerEncoderLayer(\n",
        "                d_model=embedding_size,\n",
        "                nhead=12,\n",
        "                dropout=0.1,\n",
        "                batch_first=True,\n",
        "                activation=\"gelu\",\n",
        "            ),\n",
        "            num_layers=num_transformer_layers,\n",
        "        )\n",
        "\n",
        "        self.linear = nn.Sequential(\n",
        "            nn.Linear(\n",
        "                embedding_size + (embedding_size * sequence_length) + 2 + 4 + 2 + 4 + 2, # + 11 + 2 + 2\n",
        "                1024,\n",
        "            ),\n",
        "            nn.BatchNorm1d(1024),\n",
        "            nn.Mish(),\n",
        "            nn.Linear(1024, 512),\n",
        "            nn.BatchNorm1d(512),\n",
        "            nn.Mish(),\n",
        "            nn.Dropout(0.2),\n",
        "            nn.Linear(512, 256),\n",
        "            nn.BatchNorm1d(256),\n",
        "            nn.Mish(),\n",
        "            nn.Linear(256, 1),\n",
        "            nn.Sigmoid(),\n",
        "        )\n",
        "\n",
        "    def forward(self, inputs):\n",
        "        features, mask = inputs\n",
        "\n",
        "        user_id = self.user_embeddings(features[\"user_id\"])\n",
        "\n",
        "        age_group = self.age_group_embeddings(features[\"age_group\"])\n",
        "        sex = self.sex_embeddings(features[\"sex\"])\n",
        "        region = self.region_embeddings(features[\"region\"])\n",
        "        #head_employee_id = self.head_employee_id_embeddings(features[\"head_employee_id\"])\n",
        "        exp_days_group = self.exp_days_group_embeddings(features[\"exp_days_group\"])\n",
        "        edu_degree = self.edu_degree_embeddings(features[\"edu_degree\"])\n",
        "        #department_id = self.department_id_embeddings(features[\"department_id\"])\n",
        "        #work_online_flg = self.work_online_flg_embeddings(features[\"work_online_flg\"])\n",
        "\n",
        "\n",
        "        user_features = user_features = torch.cat(\n",
        "            (user_id, sex, age_group, region, exp_days_group, edu_degree), 1 #, head_employee_id, department_id, work_online_flg\n",
        "        )\n",
        "\n",
        "        course_history = features[\"course_ids\"][:, :-1]\n",
        "        target_course = features[\"course_ids\"][:, -1]\n",
        "\n",
        "        ratings = self.ratings_embeddings(features[\"ratings\"])\n",
        "\n",
        "        encoded_courses = self.courses_embeddings(course_history)\n",
        "        encoded_target_course = self.courses_embeddings(target_course)\n",
        "\n",
        "        positions = torch.arange(\n",
        "            0,\n",
        "            self.sequence_length - 1,\n",
        "            1,\n",
        "            dtype=int,\n",
        "            device=features[\"course_ids\"].device,\n",
        "        )\n",
        "        positions = self.position_embeddings(positions)\n",
        "\n",
        "        encoded_sequence_courses_with_position_and_rating = (\n",
        "            encoded_courses + ratings + positions\n",
        "        )\n",
        "        encoded_target_course = encoded_target_course.unsqueeze(1)\n",
        "\n",
        "        transformer_features = torch.cat(\n",
        "            (encoded_sequence_courses_with_position_and_rating, encoded_target_course),\n",
        "            dim=1,\n",
        "        )\n",
        "        transformer_output = self.encoder(\n",
        "            transformer_features, src_key_padding_mask=mask\n",
        "        )\n",
        "        transformer_output = torch.flatten(transformer_output, start_dim=1)\n",
        "\n",
        "        combined_output = torch.cat((transformer_output, user_features), dim=1)\n",
        "\n",
        "        rating = self.linear(combined_output)\n",
        "        rating = rating.squeeze()\n",
        "        if self.y_range is None:\n",
        "            return rating\n",
        "        else:\n",
        "            return rating * (self.y_range[1] - self.y_range[0]) + self.y_range[0]\n"
      ],
      "metadata": {
        "id": "XWaiy_WGDOPk"
      },
      "execution_count": 133,
      "outputs": []
    },
    {
      "cell_type": "code",
      "source": [
        "notebook_launcher(train_seq_model, num_processes=2)"
      ],
      "metadata": {
        "id": "zhU3bBaUE9-H",
        "colab": {
          "base_uri": "https://localhost:8080/"
        },
        "outputId": "848ace46-9aaa-4c83-edd5-4f111a46af98"
      },
      "execution_count": 134,
      "outputs": [
        {
          "output_type": "stream",
          "name": "stdout",
          "text": [
            "Launching training on one CPU.\n",
            "\n",
            "Starting training run\n",
            "\n",
            "Starting epoch 1\n"
          ]
        },
        {
          "output_type": "stream",
          "name": "stderr",
          "text": [
            "\r  0%|          | 0/211 [00:00<?, ?it/s]/usr/lib/python3.10/multiprocessing/popen_fork.py:66: RuntimeWarning: os.fork() was called. os.fork() is incompatible with multithreaded code, and JAX is multithreaded, so this will likely lead to a deadlock.\n",
            "  self.pid = os.fork()\n",
            "100%|██████████| 211/211 [00:25<00:00,  8.21it/s]\n"
          ]
        },
        {
          "output_type": "stream",
          "name": "stdout",
          "text": [
            "\n",
            "train_loss_epoch: 0.9691553711891174\n"
          ]
        },
        {
          "output_type": "stream",
          "name": "stderr",
          "text": [
            "100%|██████████| 53/53 [00:02<00:00, 23.66it/s]\n"
          ]
        },
        {
          "output_type": "stream",
          "name": "stdout",
          "text": [
            "\n",
            "mse: 0.9231170415878296\n",
            "\n",
            "rmse: 0.9607898009387015\n",
            "\n",
            "eval_loss_epoch: 0.9231171011924744\n",
            "\n",
            "mae: 0.7396212816238403\n",
            "\n",
            "Starting epoch 2\n"
          ]
        },
        {
          "output_type": "stream",
          "name": "stderr",
          "text": [
            "100%|██████████| 211/211 [00:23<00:00,  8.79it/s]\n"
          ]
        },
        {
          "output_type": "stream",
          "name": "stdout",
          "text": [
            "\n",
            "train_loss_epoch: 0.893917441368103\n"
          ]
        },
        {
          "output_type": "stream",
          "name": "stderr",
          "text": [
            "100%|██████████| 53/53 [00:02<00:00, 19.98it/s]\n"
          ]
        },
        {
          "output_type": "stream",
          "name": "stdout",
          "text": [
            "\n",
            "mse: 0.9699275493621826\n",
            "\n",
            "rmse: 0.9848489982541397\n",
            "\n",
            "eval_loss_epoch: 0.9699274897575378\n",
            "\n",
            "mae: 0.7309500575065613\n",
            "\n",
            "Improvement of 0.008671224117279053 observed, resetting counter. \n",
            "Early stopping counter: 0/2\n",
            "\n",
            "Starting epoch 3\n"
          ]
        },
        {
          "output_type": "stream",
          "name": "stderr",
          "text": [
            "100%|██████████| 211/211 [00:23<00:00,  8.80it/s]\n"
          ]
        },
        {
          "output_type": "stream",
          "name": "stdout",
          "text": [
            "\n",
            "train_loss_epoch: 0.8912466168403625\n"
          ]
        },
        {
          "output_type": "stream",
          "name": "stderr",
          "text": [
            "100%|██████████| 53/53 [00:03<00:00, 16.48it/s]\n"
          ]
        },
        {
          "output_type": "stream",
          "name": "stdout",
          "text": [
            "\n",
            "mse: 0.9052268266677856\n",
            "\n",
            "rmse: 0.9514340895026757\n",
            "\n",
            "eval_loss_epoch: 0.9052267670631409\n",
            "\n",
            "mae: 0.7512356042861938\n",
            "No improvement above threshold observed, incrementing counter. \n",
            "Early stopping counter: 1/2\n",
            "\n",
            "Starting epoch 4\n"
          ]
        },
        {
          "output_type": "stream",
          "name": "stderr",
          "text": [
            "100%|██████████| 211/211 [00:25<00:00,  8.32it/s]\n"
          ]
        },
        {
          "output_type": "stream",
          "name": "stdout",
          "text": [
            "\n",
            "train_loss_epoch: 0.5940999388694763\n"
          ]
        },
        {
          "output_type": "stream",
          "name": "stderr",
          "text": [
            "100%|██████████| 53/53 [00:02<00:00, 23.98it/s]\n"
          ]
        },
        {
          "output_type": "stream",
          "name": "stdout",
          "text": [
            "\n",
            "mse: 0.9380069971084595\n",
            "\n",
            "rmse: 0.9685076133456357\n",
            "\n",
            "eval_loss_epoch: 0.9380069971084595\n",
            "\n",
            "mae: 0.7446690201759338\n",
            "No improvement above threshold observed, incrementing counter. \n",
            "Early stopping counter: 2/2\n",
            "Stopping training due to no improvement after 2 epochs\n",
            "Finishing training run\n",
            "Loading checkpoint with mae: 0.7309500575065613 from epoch 2\n"
          ]
        }
      ]
    },
    {
      "cell_type": "markdown",
      "source": [
        "Видим улучшение"
      ],
      "metadata": {
        "id": "ka65cMGpN6XV"
      }
    }
  ]
}