{
 "cells": [
  {
   "cell_type": "code",
   "execution_count": 1,
   "id": "806b2677-c51d-4492-8cfa-58cbbc1942c4",
   "metadata": {},
   "outputs": [],
   "source": [
    "from pathlib import Path\n",
    "\n",
    "import numpy as np\n",
    "import pandas as pd\n",
    "from statsmodels.distributions.empirical_distribution import ECDF\n",
    "import matplotlib.pyplot as plt"
   ]
  },
  {
   "cell_type": "code",
   "execution_count": 2,
   "id": "d947ae4e-424b-4d40-b5b4-d6ff16be35da",
   "metadata": {},
   "outputs": [],
   "source": [
    "communications = pd.read_csv('communications.csv', sep=';')\n",
    "course_employee_sms = pd.read_csv('course_employee_sms.csv', sep=';')\n",
    "employees = pd.read_csv('employees.csv', sep=';')\n",
    "courses_passing = pd.read_csv('courses_passing.csv', sep=';')\n",
    "courses_info = pd.read_csv('courses_info.csv', sep=';')"
   ]
  },
  {
   "cell_type": "code",
   "execution_count": 3,
   "id": "6f2b07a6-77a1-43d1-ad61-28f4e6be8819",
   "metadata": {},
   "outputs": [],
   "source": [
    "communications['communication_dt'] = pd.to_datetime(communications['communication_dt'])\n",
    "courses_passing['start_dt'] = pd.to_datetime(courses_passing['start_dt'])\n",
    "courses_passing['last_activity_dt'] = pd.to_datetime(courses_passing['last_activity_dt'])\n",
    "courses_passing['end_dt'] = pd.to_datetime(courses_passing['end_dt'])"
   ]
  },
  {
   "cell_type": "code",
   "execution_count": 4,
   "id": "ac53552c-69fc-4ebf-bc1e-0d774bc24664",
   "metadata": {},
   "outputs": [],
   "source": [
    "communications_prep = communications.groupby(['employee_id','communication_dt'])['communication_score'].mean().reset_index()"
   ]
  },
  {
   "cell_type": "code",
   "execution_count": 5,
   "id": "1ff46696-f460-4100-9954-2df9ab94b20d",
   "metadata": {},
   "outputs": [],
   "source": [
    "res = communications_prep.merge(courses_passing[courses_passing.pass_frac==1], how='left', on='employee_id')\n",
    "res = res[res['course_id'].notnull()]\n",
    "res['before_course'] = res[['end_dt', 'communication_dt']].apply(lambda x: 1 if x.end_dt < x.communication_dt else 0, axis=1)"
   ]
  },
  {
   "cell_type": "code",
   "execution_count": 6,
   "id": "ea615c8e-5a84-48d3-919c-76018bd70f82",
   "metadata": {},
   "outputs": [],
   "source": [
    "test5 = res.groupby(['course_id','before_course','employee_id'])['communication_score'].mean().reset_index()"
   ]
  },
  {
   "cell_type": "code",
   "execution_count": 7,
   "id": "2e3bf5c5-52a0-48d0-85db-080a1cdd7a71",
   "metadata": {},
   "outputs": [],
   "source": [
    "test6 = test5[test5['before_course']==1].merge(test5[test5['before_course']==0], how='left', on=['employee_id','course_id'])"
   ]
  },
  {
   "cell_type": "code",
   "execution_count": 8,
   "id": "854bf7e7-5010-460e-b4e6-69377e8fcbd1",
   "metadata": {},
   "outputs": [],
   "source": [
    "test6['diff']=test6['communication_score_x']-test6['communication_score_y']"
   ]
  },
  {
   "cell_type": "code",
   "execution_count": 9,
   "id": "9664022e-da23-4257-9bae-8646fef602c7",
   "metadata": {},
   "outputs": [],
   "source": [
    "test6['target'] = test6['diff'] #.apply(lambda x: 1 if x>2 else 0)"
   ]
  },
  {
   "cell_type": "code",
   "execution_count": 10,
   "id": "84988ac3-25b4-47b7-a379-4a078ef92520",
   "metadata": {},
   "outputs": [],
   "source": [
    "new_df = test6.merge(res[['course_id','employee_id','end_dt']].drop_duplicates(), how='left', on=['employee_id','course_id'])[['course_id','employee_id','target','end_dt']] "
   ]
  },
  {
   "cell_type": "code",
   "execution_count": 11,
   "id": "aa8fc0fe-7116-4f6e-8c46-b298cac0eed6",
   "metadata": {},
   "outputs": [],
   "source": [
    "new_df = new_df.merge(courses_info, how='left', on='course_id')"
   ]
  },
  {
   "cell_type": "code",
   "execution_count": 12,
   "id": "f623fb55-270a-4ac9-9736-8ce964cedc62",
   "metadata": {},
   "outputs": [],
   "source": [
    "new_df = new_df.rename(columns={'employee_id':'user_id', 'course_nm':'title', 'target':'rating','end_dt':'unix_timestamp'})"
   ]
  },
  {
   "cell_type": "code",
   "execution_count": 13,
   "id": "f199e41e-630c-48bd-9ab2-dc6788c33e0e",
   "metadata": {},
   "outputs": [
    {
     "data": {
      "text/html": [
       "<div>\n",
       "<style scoped>\n",
       "    .dataframe tbody tr th:only-of-type {\n",
       "        vertical-align: middle;\n",
       "    }\n",
       "\n",
       "    .dataframe tbody tr th {\n",
       "        vertical-align: top;\n",
       "    }\n",
       "\n",
       "    .dataframe thead th {\n",
       "        text-align: right;\n",
       "    }\n",
       "</style>\n",
       "<table border=\"1\" class=\"dataframe\">\n",
       "  <thead>\n",
       "    <tr style=\"text-align: right;\">\n",
       "      <th></th>\n",
       "      <th>course_id</th>\n",
       "      <th>user_id</th>\n",
       "      <th>rating</th>\n",
       "      <th>unix_timestamp</th>\n",
       "      <th>title</th>\n",
       "    </tr>\n",
       "  </thead>\n",
       "  <tbody>\n",
       "    <tr>\n",
       "      <th>0</th>\n",
       "      <td>0.0</td>\n",
       "      <td>0c048b3a-434e-49e6-55c1-247efb389cec</td>\n",
       "      <td>6.228863</td>\n",
       "      <td>2023-03-24</td>\n",
       "      <td>Основы клиентского сервиса: Практический подход</td>\n",
       "    </tr>\n",
       "    <tr>\n",
       "      <th>1</th>\n",
       "      <td>0.0</td>\n",
       "      <td>1543843a-4723-ed2a-b08e-18053ae6dc5b</td>\n",
       "      <td>2.075101</td>\n",
       "      <td>2023-11-05</td>\n",
       "      <td>Основы клиентского сервиса: Практический подход</td>\n",
       "    </tr>\n",
       "    <tr>\n",
       "      <th>2</th>\n",
       "      <td>0.0</td>\n",
       "      <td>1c383cd3-0b7c-298a-b502-93adfecb7b18</td>\n",
       "      <td>5.857167</td>\n",
       "      <td>2023-04-06</td>\n",
       "      <td>Основы клиентского сервиса: Практический подход</td>\n",
       "    </tr>\n",
       "  </tbody>\n",
       "</table>\n",
       "</div>"
      ],
      "text/plain": [
       "   course_id                               user_id    rating unix_timestamp  \\\n",
       "0        0.0  0c048b3a-434e-49e6-55c1-247efb389cec  6.228863     2023-03-24   \n",
       "1        0.0  1543843a-4723-ed2a-b08e-18053ae6dc5b  2.075101     2023-11-05   \n",
       "2        0.0  1c383cd3-0b7c-298a-b502-93adfecb7b18  5.857167     2023-04-06   \n",
       "\n",
       "                                             title  \n",
       "0  Основы клиентского сервиса: Практический подход  \n",
       "1  Основы клиентского сервиса: Практический подход  \n",
       "2  Основы клиентского сервиса: Практический подход  "
      ]
     },
     "execution_count": 13,
     "metadata": {},
     "output_type": "execute_result"
    }
   ],
   "source": [
    "new_df.head(3)"
   ]
  },
  {
   "cell_type": "code",
   "execution_count": 14,
   "id": "46c3ad47-e6e6-4118-b550-7bfa6607723f",
   "metadata": {},
   "outputs": [],
   "source": [
    "new_df.to_csv('new_df.csv')"
   ]
  },
  {
   "cell_type": "code",
   "execution_count": null,
   "id": "30b1f201-d097-4c7f-a623-a4c8890fd589",
   "metadata": {},
   "outputs": [],
   "source": []
  }
 ],
 "metadata": {
  "kernelspec": {
   "display_name": "Python 3 (ipykernel)",
   "language": "python",
   "name": "python3"
  },
  "language_info": {
   "codemirror_mode": {
    "name": "ipython",
    "version": 3
   },
   "file_extension": ".py",
   "mimetype": "text/x-python",
   "name": "python",
   "nbconvert_exporter": "python",
   "pygments_lexer": "ipython3",
   "version": "3.11.1"
  }
 },
 "nbformat": 4,
 "nbformat_minor": 5
}
