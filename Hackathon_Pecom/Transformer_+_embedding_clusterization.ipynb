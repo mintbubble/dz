{
 "cells": [
  {
   "cell_type": "code",
   "execution_count": 1,
   "metadata": {
    "id": "rBwHhkqPvWwI"
   },
   "outputs": [],
   "source": [
    "import pandas as pd\n",
    "import numpy as np"
   ]
  },
  {
   "cell_type": "code",
   "execution_count": 2,
   "metadata": {
    "id": "e8QpKGSRxx2Z"
   },
   "outputs": [],
   "source": [
    "behavior = pd.read_csv('TASK2_DS_behavior.csv', sep=';')\n",
    "behaviorII = pd.read_csv('TASK2_DS_behaviorII.csv', sep=';')\n",
    "feedback = pd.read_csv('TASK2_DS_feedback.csv', sep=';')"
   ]
  },
  {
   "cell_type": "code",
   "execution_count": 3,
   "metadata": {
    "id": "ikNKZOBsyLqd"
   },
   "outputs": [],
   "source": [
    "behavior_data = pd.concat([behavior,behaviorII])"
   ]
  },
  {
   "cell_type": "code",
   "execution_count": 4,
   "metadata": {
    "id": "2jX3_iT72Ffv"
   },
   "outputs": [],
   "source": [
    "behavior_data['BeginDate'] = pd.to_datetime(behavior_data['BeginDate'])\n",
    "behavior_data['EndDate'] = pd.to_datetime(behavior_data['EndDate'])"
   ]
  },
  {
   "cell_type": "code",
   "execution_count": 5,
   "metadata": {
    "id": "Alb1axGx4ACH"
   },
   "outputs": [],
   "source": [
    "behavior_data['OKVED'] = behavior_data['OKVED'].fillna(0.0)\n",
    "behavior_data['OKVED'] = behavior_data['OKVED'].astype(int)"
   ]
  },
  {
   "cell_type": "code",
   "execution_count": 6,
   "metadata": {
    "id": "j6pAGiki18_M"
   },
   "outputs": [],
   "source": [
    "def get_last_n_behavior_by_user(\n",
    "    df, n, min_ratings_per_user=1, user_colname=\"UID\", timestamp_colname=\"BeginDate\"\n",
    "):\n",
    "    return (\n",
    "        df.groupby(user_colname)\n",
    "        .filter(lambda x: len(x) >= min_ratings_per_user)\n",
    "        .sort_values(timestamp_colname)\n",
    "        .groupby(user_colname)\n",
    "        .tail(n)\n",
    "        .sort_values(user_colname)\n",
    "    )"
   ]
  },
  {
   "cell_type": "code",
   "execution_count": 7,
   "metadata": {
    "colab": {
     "base_uri": "https://localhost:8080/"
    },
    "id": "XLIi2B3G3d3g",
    "outputId": "1049657e-84f1-4f7f-d3e4-dd628ca3b7ca"
   },
   "outputs": [
    {
     "data": {
      "text/plain": [
       "(6194, 11)"
      ]
     },
     "execution_count": 7,
     "metadata": {},
     "output_type": "execute_result"
    }
   ],
   "source": [
    "behavior_data.drop_duplicates(['UID']).shape"
   ]
  },
  {
   "cell_type": "code",
   "execution_count": 8,
   "metadata": {},
   "outputs": [],
   "source": [
    "sequence_length = 50"
   ]
  },
  {
   "cell_type": "code",
   "execution_count": 9,
   "metadata": {
    "id": "Qu32OLks5c7Y"
   },
   "outputs": [],
   "source": [
    "behavior_data['Action_Caption'] = behavior_data['Action'] + ' ' + behavior_data['Caption']"
   ]
  },
  {
   "cell_type": "code",
   "execution_count": 10,
   "metadata": {
    "id": "nAulMd_i24AH"
   },
   "outputs": [],
   "source": [
    "behavior_data_prep = get_last_n_behavior_by_user(behavior_data, sequence_length)"
   ]
  },
  {
   "cell_type": "code",
   "execution_count": 11,
   "metadata": {
    "id": "c-FsMq1dC76t"
   },
   "outputs": [],
   "source": [
    "grouped_behavior = behavior_data_prep.sort_values(by='BeginDate').groupby('UID').agg(tuple).reset_index()"
   ]
  },
  {
   "cell_type": "code",
   "execution_count": 12,
   "metadata": {
    "id": "iXrfJ-tuEMkI"
   },
   "outputs": [],
   "source": [
    "def create_sequences(values, sequence_length):\n",
    "    sequences = []\n",
    "    for i, v in enumerate(values):\n",
    "        seq = values[:i+1]\n",
    "        if len(seq) > sequence_length:\n",
    "            seq = seq[i-sequence_length+1:i+1]\n",
    "        elif len(seq) < sequence_length:\n",
    "            seq =(*(['[PAD]'] * (sequence_length - len(seq))), *seq)\n",
    "\n",
    "        sequences.append(seq)\n",
    "    return sequences"
   ]
  },
  {
   "cell_type": "code",
   "execution_count": 13,
   "metadata": {
    "id": "sG1PuHKK650I"
   },
   "outputs": [],
   "source": [
    "grouped_cols = ['OKVED', 'Action_Caption']\n",
    "for col in grouped_cols:\n",
    "    grouped_behavior[col] = grouped_behavior[col].apply(lambda x: create_sequences(x, sequence_length))"
   ]
  },
  {
   "cell_type": "code",
   "execution_count": 14,
   "metadata": {
    "colab": {
     "base_uri": "https://localhost:8080/"
    },
    "id": "CTcV09CMl-cy",
    "outputId": "44955d26-1f68-4d1d-d25e-08caeab465fc"
   },
   "outputs": [
    {
     "data": {
      "text/plain": [
       "Index(['UID', 'UnitType', 'OKVED', 'Action', 'Caption', 'BeginDate', 'EndDate',\n",
       "       'nCount', 'Amount', 'Volume', 'Weight', 'Action_Caption'],\n",
       "      dtype='object')"
      ]
     },
     "execution_count": 14,
     "metadata": {},
     "output_type": "execute_result"
    }
   ],
   "source": [
    "grouped_behavior.columns"
   ]
  },
  {
   "cell_type": "code",
   "execution_count": 15,
   "metadata": {
    "id": "hbPv1Cvk3872"
   },
   "outputs": [],
   "source": [
    "grouped_behavior['UnitType'] = grouped_behavior['UnitType'].apply(lambda x: x[0])"
   ]
  },
  {
   "cell_type": "code",
   "execution_count": 16,
   "metadata": {
    "colab": {
     "base_uri": "https://localhost:8080/"
    },
    "id": "Wwk53vhq9I85",
    "outputId": "d031eeed-8ce6-4309-a10f-2e6cb4fdbe49"
   },
   "outputs": [
    {
     "name": "stderr",
     "output_type": "stream",
     "text": [
      "C:\\Users\\Владислав\\AppData\\Local\\Temp\\ipykernel_10092\\2637723014.py:2: RuntimeWarning: Mean of empty slice.\n",
      "  grouped_behavior['Volume'] = grouped_behavior['Volume'].apply(lambda x: np.array(x)[~np.isnan(np.array(x))].mean())\n",
      "C:\\ProgramData\\Anaconda3\\envs\\pytorch_env\\Lib\\site-packages\\numpy\\core\\_methods.py:129: RuntimeWarning: invalid value encountered in scalar divide\n",
      "  ret = ret.dtype.type(ret / rcount)\n",
      "C:\\Users\\Владислав\\AppData\\Local\\Temp\\ipykernel_10092\\2637723014.py:3: RuntimeWarning: Mean of empty slice.\n",
      "  grouped_behavior['Weight'] = grouped_behavior['Weight'].apply(lambda x: np.array(x)[~np.isnan(np.array(x))].mean())\n"
     ]
    }
   ],
   "source": [
    "grouped_behavior['Amount'] = grouped_behavior['Amount'].apply(lambda x: np.array(x)[~np.isnan(np.array(x))].mean())\n",
    "grouped_behavior['Volume'] = grouped_behavior['Volume'].apply(lambda x: np.array(x)[~np.isnan(np.array(x))].mean())\n",
    "grouped_behavior['Weight'] = grouped_behavior['Weight'].apply(lambda x: np.array(x)[~np.isnan(np.array(x))].mean())"
   ]
  },
  {
   "cell_type": "code",
   "execution_count": 17,
   "metadata": {
    "id": "LIVAOWK7QDyY"
   },
   "outputs": [],
   "source": [
    "feedback['all_action'] = feedback['nClick']+feedback['nOpen']+feedback['nSend']"
   ]
  },
  {
   "cell_type": "code",
   "execution_count": 18,
   "metadata": {
    "id": "89EwOohPQLlC"
   },
   "outputs": [],
   "source": [
    "feedback['rating'] = (feedback['nClick']*5 +feedback['nOpen'])/feedback['all_action']"
   ]
  },
  {
   "cell_type": "code",
   "execution_count": 19,
   "metadata": {
    "colab": {
     "base_uri": "https://localhost:8080/",
     "height": 448
    },
    "id": "XO-BsWxATw6x",
    "outputId": "42721891-05f5-4351-e002-d35423d91d7d"
   },
   "outputs": [
    {
     "data": {
      "text/plain": [
       "<Axes: >"
      ]
     },
     "execution_count": 19,
     "metadata": {},
     "output_type": "execute_result"
    },
    {
     "data": {
      "image/png": "[encoded data removed]",
      "text/plain": [
       "<Figure size 640x480 with 1 Axes>"
      ]
     },
     "metadata": {},
     "output_type": "display_data"
    }
   ],
   "source": [
    "feedback.rating.hist()"
   ]
  },
  {
   "cell_type": "code",
   "execution_count": 20,
   "metadata": {
    "id": "UOgGL1sVXFwG"
   },
   "outputs": [],
   "source": [
    "def make_rating(x):\n",
    "  if x < 1:\n",
    "    return 1\n",
    "  elif x == 1:\n",
    "    return 2\n",
    "  elif x > 1 and x < 3:\n",
    "    return 3\n",
    "  else:\n",
    "    return 4"
   ]
  },
  {
   "cell_type": "code",
   "execution_count": 21,
   "metadata": {
    "id": "gkQG_ipMXEE7"
   },
   "outputs": [],
   "source": [
    "feedback['rating_cut'] = feedback.rating.apply(lambda x: make_rating(x))"
   ]
  },
  {
   "cell_type": "code",
   "execution_count": 22,
   "metadata": {
    "colab": {
     "base_uri": "https://localhost:8080/"
    },
    "id": "NmYocBa6WX50",
    "outputId": "97e355df-ab51-44b9-f692-3c36aba53075"
   },
   "outputs": [
    {
     "data": {
      "text/plain": [
       "array([1.        , 2.33333333, 3.        , 0.        , 1.8       ,\n",
       "       2.        , 0.5       , 1.66666667, 2.6       , 2.71428571,\n",
       "       1.57142857, 2.14285714, 1.88888889, 0.66666667, 3.66666667,\n",
       "       5.        , 1.44444444, 1.5       , 2.5       ])"
      ]
     },
     "execution_count": 22,
     "metadata": {},
     "output_type": "execute_result"
    }
   ],
   "source": [
    "feedback.rating.unique()"
   ]
  },
  {
   "cell_type": "code",
   "execution_count": 23,
   "metadata": {
    "id": "kA5mpmZh-tQk"
   },
   "outputs": [],
   "source": [
    "grouped_behavior['Amount'] = grouped_behavior['Amount'].fillna(grouped_behavior['Amount'].median())\n",
    "grouped_behavior['Volume'] = grouped_behavior['Volume'].fillna(grouped_behavior['Volume'].median())\n",
    "grouped_behavior['Weight'] = grouped_behavior['Weight'].fillna(grouped_behavior['Weight'].median())"
   ]
  },
  {
   "cell_type": "code",
   "execution_count": 24,
   "metadata": {
    "id": "USYCkCg1_kHg"
   },
   "outputs": [],
   "source": [
    "grouped_behavior['Amount'] = (grouped_behavior['Amount']-grouped_behavior['Amount'].mean())/grouped_behavior['Amount'].std()\n",
    "grouped_behavior['Volume'] = (grouped_behavior['Volume']-grouped_behavior['Volume'].mean())/grouped_behavior['Volume'].std()\n",
    "grouped_behavior['Weight'] = (grouped_behavior['Weight']-grouped_behavior['Weight'].mean())/grouped_behavior['Weight'].std()"
   ]
  },
  {
   "cell_type": "code",
   "execution_count": 25,
   "metadata": {
    "id": "yortrj9vmrDO"
   },
   "outputs": [],
   "source": [
    "exploded_behavior = grouped_behavior[['UID', 'UnitType', 'Amount', 'Volume', 'Weight', 'OKVED']].explode('OKVED', ignore_index=True)\n",
    "dfs = [grouped_behavior[[col]].explode(col, ignore_index=True) for col in grouped_cols[1:]]\n",
    "seq_df = pd.concat([exploded_behavior, *dfs], axis=1)"
   ]
  },
  {
   "cell_type": "code",
   "execution_count": 26,
   "metadata": {
    "id": "3PbveANa8kpP"
   },
   "outputs": [],
   "source": [
    "seq_df = seq_df.merge(feedback, how='inner', on='UID')"
   ]
  },
  {
   "cell_type": "code",
   "execution_count": 27,
   "metadata": {
    "id": "AcFbB-yfAx3x"
   },
   "outputs": [],
   "source": [
    "def create_feature_lookup(df, feature):\n",
    "    lookup = {v: i+1 for i, v in enumerate(df[feature].unique())}\n",
    "    lookup['[PAD]'] = 0\n",
    "    return lookup"
   ]
  },
  {
   "cell_type": "code",
   "execution_count": 28,
   "metadata": {
    "id": "9ANBamHU47AV"
   },
   "outputs": [],
   "source": [
    "okved_lookup = create_feature_lookup(behavior_data_prep, 'OKVED')"
   ]
  },
  {
   "cell_type": "code",
   "execution_count": 29,
   "metadata": {
    "colab": {
     "base_uri": "https://localhost:8080/"
    },
    "id": "UHlNdk4SIB2R",
    "outputId": "d4a2b5b2-b484-4e1c-9425-eb54b44a3d62"
   },
   "outputs": [
    {
     "data": {
      "text/plain": [
       "863"
      ]
     },
     "execution_count": 29,
     "metadata": {},
     "output_type": "execute_result"
    }
   ],
   "source": [
    "len(okved_lookup)"
   ]
  },
  {
   "cell_type": "code",
   "execution_count": 30,
   "metadata": {
    "id": "dIFcCqJt4_xD"
   },
   "outputs": [],
   "source": [
    "unit_lookup = create_feature_lookup(behavior_data_prep, 'UnitType')"
   ]
  },
  {
   "cell_type": "code",
   "execution_count": 31,
   "metadata": {
    "colab": {
     "base_uri": "https://localhost:8080/"
    },
    "id": "v8WewI5sIDw7",
    "outputId": "83375b01-7a4f-4a32-d93a-31d6a19c6f69"
   },
   "outputs": [
    {
     "data": {
      "text/plain": [
       "4"
      ]
     },
     "execution_count": 31,
     "metadata": {},
     "output_type": "execute_result"
    }
   ],
   "source": [
    "len(unit_lookup)"
   ]
  },
  {
   "cell_type": "code",
   "execution_count": 32,
   "metadata": {
    "id": "qKLTSHb-5oUF"
   },
   "outputs": [],
   "source": [
    "action_caption_lookup = create_feature_lookup(behavior_data_prep, 'Action_Caption')"
   ]
  },
  {
   "cell_type": "code",
   "execution_count": 33,
   "metadata": {
    "colab": {
     "base_uri": "https://localhost:8080/"
    },
    "id": "zD2KjXDRII5x",
    "outputId": "3e3da3a2-6121-4043-aa63-176bffab65f4"
   },
   "outputs": [
    {
     "data": {
      "text/plain": [
       "841"
      ]
     },
     "execution_count": 33,
     "metadata": {},
     "output_type": "execute_result"
    }
   ],
   "source": [
    "len(action_caption_lookup)"
   ]
  },
  {
   "cell_type": "code",
   "execution_count": 34,
   "metadata": {
    "colab": {
     "base_uri": "https://localhost:8080/"
    },
    "id": "jHaC7qJmTz2W",
    "outputId": "34cc8035-1b80-4a5d-ca1f-47fdce8bcc09"
   },
   "outputs": [
    {
     "name": "stdout",
     "output_type": "stream",
     "text": [
      "[array([1, 2, 3, 4], dtype=int64)]\n"
     ]
    },
    {
     "data": {
      "text/plain": [
       "array([[0., 1., 0., 0.],\n",
       "       [0., 1., 0., 0.],\n",
       "       [0., 1., 0., 0.],\n",
       "       ...,\n",
       "       [0., 0., 0., 1.],\n",
       "       [0., 0., 0., 1.],\n",
       "       [0., 0., 0., 1.]])"
      ]
     },
     "execution_count": 34,
     "metadata": {},
     "output_type": "execute_result"
    }
   ],
   "source": [
    "from sklearn.preprocessing import OneHotEncoder\n",
    "y = seq_df[['rating_cut']].values\n",
    "ohe = OneHotEncoder(handle_unknown='ignore', sparse_output=False).fit(y)\n",
    "print(ohe.categories_)\n",
    "\n",
    "ohe.transform(y)"
   ]
  },
  {
   "cell_type": "code",
   "execution_count": 35,
   "metadata": {
    "id": "FeayNBiMZTAS"
   },
   "outputs": [],
   "source": [
    "from torch.utils.data import Dataset\n",
    "class BehaviorSequenceDataset(Dataset):\n",
    "    def __init__(self, df, okved_lookup, unittype_lookup, action_caption_lookup):\n",
    "        super().__init__()\n",
    "        self.df = df\n",
    "        self.okved_lookup = okved_lookup\n",
    "        self.action_caption_lookup = action_caption_lookup\n",
    "        self.unittype_lookup = unittype_lookup\n",
    "\n",
    "    def __len__(self):\n",
    "        return len(self.df)\n",
    "\n",
    "    def __getitem__(self, index):\n",
    "        data = self.df.iloc[index]\n",
    "        okveds = torch.tensor([self.okved_lookup[okved] for okved in data.OKVED])\n",
    "        action_caption = torch.tensor([self.action_caption_lookup[ac] for ac in data.Action_Caption])\n",
    "        unitType = torch.tensor(self.unittype_lookup[data.UnitType])\n",
    "\n",
    "        attention_mask = torch.tensor(data.pad_mask, dtype=torch.float32).to(device)\n",
    "        value = [[data.rating_cut]]\n",
    "        target_rating = ohe.transform(value)\n",
    "        encoded_features = {\n",
    "            \"okveds\": okveds.to(device),\n",
    "            \"action_captions\": action_caption.to(device),\n",
    "            \"UnitType\": unitType.to(device),\n",
    "            \"Amount\": torch.tensor([data.Amount], dtype=torch.float32).to(device),\n",
    "            \"Weight\": torch.tensor([data.Weight], dtype=torch.float32).to(device),\n",
    "            \"Volume\": torch.tensor([data.Volume], dtype=torch.float32).to(device)\n",
    "        }\n",
    "\n",
    "        return (encoded_features, attention_mask), torch.tensor(\n",
    "            target_rating[0], dtype=torch.float32\n",
    "        ).to(device)\n"
   ]
  },
  {
   "cell_type": "code",
   "execution_count": 36,
   "metadata": {
    "colab": {
     "base_uri": "https://localhost:8080/",
     "height": 205
    },
    "id": "CANxHa99n6gJ",
    "outputId": "06795713-5262-496e-d2e7-24863a2ba03b"
   },
   "outputs": [
    {
     "data": {
      "text/html": [
       "<div>\n",
       "<style scoped>\n",
       "    .dataframe tbody tr th:only-of-type {\n",
       "        vertical-align: middle;\n",
       "    }\n",
       "\n",
       "    .dataframe tbody tr th {\n",
       "        vertical-align: top;\n",
       "    }\n",
       "\n",
       "    .dataframe thead th {\n",
       "        text-align: right;\n",
       "    }\n",
       "</style>\n",
       "<table border=\"1\" class=\"dataframe\">\n",
       "  <thead>\n",
       "    <tr style=\"text-align: right;\">\n",
       "      <th></th>\n",
       "      <th>UID</th>\n",
       "      <th>UnitType</th>\n",
       "      <th>Amount</th>\n",
       "      <th>Volume</th>\n",
       "      <th>Weight</th>\n",
       "      <th>OKVED</th>\n",
       "      <th>Action_Caption</th>\n",
       "      <th>nClick</th>\n",
       "      <th>nOpen</th>\n",
       "      <th>nSend</th>\n",
       "      <th>all_action</th>\n",
       "      <th>rating</th>\n",
       "      <th>rating_cut</th>\n",
       "    </tr>\n",
       "  </thead>\n",
       "  <tbody>\n",
       "    <tr>\n",
       "      <th>0</th>\n",
       "      <td>0005003F-B422-4815-8360-62D54F8B8C23</td>\n",
       "      <td>Юридическое лицо</td>\n",
       "      <td>0.387195</td>\n",
       "      <td>-0.243641</td>\n",
       "      <td>-0.29503</td>\n",
       "      <td>([PAD], [PAD], [PAD], [PAD], [PAD], [PAD], [PA...</td>\n",
       "      <td>([PAD], [PAD], [PAD], [PAD], [PAD], [PAD], [PA...</td>\n",
       "      <td>0</td>\n",
       "      <td>2</td>\n",
       "      <td>0</td>\n",
       "      <td>2</td>\n",
       "      <td>1.0</td>\n",
       "      <td>2</td>\n",
       "    </tr>\n",
       "  </tbody>\n",
       "</table>\n",
       "</div>"
      ],
      "text/plain": [
       "                                    UID          UnitType    Amount    Volume  \\\n",
       "0  0005003F-B422-4815-8360-62D54F8B8C23  Юридическое лицо  0.387195 -0.243641   \n",
       "\n",
       "    Weight                                              OKVED  \\\n",
       "0 -0.29503  ([PAD], [PAD], [PAD], [PAD], [PAD], [PAD], [PA...   \n",
       "\n",
       "                                      Action_Caption  nClick  nOpen  nSend  \\\n",
       "0  ([PAD], [PAD], [PAD], [PAD], [PAD], [PAD], [PA...       0      2      0   \n",
       "\n",
       "   all_action  rating  rating_cut  \n",
       "0           2     1.0           2  "
      ]
     },
     "execution_count": 36,
     "metadata": {},
     "output_type": "execute_result"
    }
   ],
   "source": [
    "seq_df.head(1)"
   ]
  },
  {
   "cell_type": "code",
   "execution_count": 37,
   "metadata": {
    "id": "asCKtbf_acLT"
   },
   "outputs": [],
   "source": [
    "seq_df['pad_mask'] = seq_df['OKVED'].apply(lambda x: (np.array(x) == '[PAD]'))"
   ]
  },
  {
   "cell_type": "code",
   "execution_count": 38,
   "metadata": {
    "id": "CtyM-C0ca6h3"
   },
   "outputs": [],
   "source": [
    "from sklearn.model_selection import train_test_split\n",
    "\n",
    "train, test = train_test_split(seq_df, test_size=0.2)"
   ]
  },
  {
   "cell_type": "code",
   "execution_count": 52,
   "metadata": {
    "id": "Zru4CsdTbQYu"
   },
   "outputs": [],
   "source": [
    "train_dataset = BehaviorSequenceDataset(train, okved_lookup, unit_lookup, action_caption_lookup)\n",
    "valid_dataset = BehaviorSequenceDataset(test, okved_lookup, unit_lookup, action_caption_lookup)"
   ]
  },
  {
   "cell_type": "code",
   "execution_count": 62,
   "metadata": {
    "id": "F_VqtkxVEsxt"
   },
   "outputs": [],
   "source": [
    "from torch import nn\n",
    "import torch\n",
    "\n",
    "class BstTransformer(nn.Module):\n",
    "    def __init__(\n",
    "        self,\n",
    "        okved_num_unique,\n",
    "        unit_num_unique,\n",
    "        action_caption_unique,\n",
    "        okved_embeddings,\n",
    "        sequence_length=50,\n",
    "        embedding_size=120,\n",
    "        num_transformer_layers=1\n",
    "    ):\n",
    "        super().__init__()\n",
    "        self.sequence_length = sequence_length\n",
    "        self.okved_embeddings = okved_embeddings\n",
    "        self.unit_embeddings = nn.Embedding(unit_num_unique + 1, 2)\n",
    "        self.action_caption_embeddings = nn.Embedding(action_caption_unique + 1, embedding_size, padding_idx=0)\n",
    "        self.position_embeddings = nn.Embedding(sequence_length, embedding_size)\n",
    "\n",
    "\n",
    "        self.encoder = nn.TransformerEncoder(\n",
    "            encoder_layer=nn.TransformerEncoderLayer(\n",
    "                d_model=embedding_size,\n",
    "                nhead=12,\n",
    "                dropout=0.1,\n",
    "                batch_first=True,\n",
    "                activation=\"gelu\",\n",
    "            ),\n",
    "            num_layers=num_transformer_layers,\n",
    "        )\n",
    "\n",
    "\n",
    "        self.linear = nn.Sequential(\n",
    "            nn.Linear(\n",
    "                embedding_size * sequence_length,\n",
    "                1024,\n",
    "            ),\n",
    "            nn.BatchNorm1d(1024),\n",
    "            nn.Mish(),\n",
    "            nn.Linear(1024, 512),\n",
    "            nn.BatchNorm1d(512),\n",
    "            nn.Mish(),\n",
    "            nn.Dropout(0.2),\n",
    "            nn.Linear(512, 256)\n",
    "        )\n",
    "\n",
    "        self.linear3 = nn.Sequential(\n",
    "            nn.Linear(256 + 5, 256),\n",
    "            nn.BatchNorm1d(256),\n",
    "            nn.Mish(),\n",
    "            nn.Linear(256, 4)\n",
    "        )\n",
    "\n",
    "    def forward(self, inputs):\n",
    "        features, mask = inputs\n",
    "        positions = torch.arange(\n",
    "            0,\n",
    "            self.sequence_length,\n",
    "            1,\n",
    "            dtype=int,\n",
    "            device=features[\"okveds\"].device,\n",
    "        )\n",
    "        positions = self.position_embeddings(positions)\n",
    "\n",
    "        okved = self.okved_embeddings(features[\"okveds\"])\n",
    "        action_caption = self.action_caption_embeddings(features[\"action_captions\"])\n",
    "\n",
    "        unut_type = self.unit_embeddings(features['UnitType'])\n",
    "\n",
    "        user_features = torch.cat((features[\"Amount\"], features[\"Volume\"], features[\"Weight\"], unut_type), 1)\n",
    "\n",
    "        transformer_features = okved + action_caption + positions\n",
    "\n",
    "        transformer_features2 = action_caption + positions\n",
    "        transformer_output = self.encoder(\n",
    "            transformer_features, src_key_padding_mask=mask\n",
    "        )\n",
    "        transformer_output = torch.flatten(transformer_output, start_dim=1)\n",
    "\n",
    "\n",
    "        l1 = self.linear(transformer_output)\n",
    "        combined_output = torch.cat((l1, user_features), dim=1)\n",
    "\n",
    "        return self.linear3(combined_output)\n"
   ]
  },
  {
   "cell_type": "code",
   "execution_count": 63,
   "metadata": {
    "id": "NcF93w_udBLv"
   },
   "outputs": [],
   "source": [
    "from pathlib import Path\n",
    "\n",
    "import numpy as np\n",
    "import pandas as pd\n",
    "import matplotlib.pyplot as plt"
   ]
  },
  {
   "cell_type": "code",
   "execution_count": 64,
   "metadata": {
    "id": "SCCbbCEgd27C"
   },
   "outputs": [],
   "source": [
    "device = torch.device('cuda') if torch.cuda.is_available() else torch.device('cpu')"
   ]
  },
  {
   "cell_type": "code",
   "execution_count": 68,
   "metadata": {},
   "outputs": [],
   "source": [
    "embedding_size = 120\n",
    "\n",
    "okved_embeddings = nn.Embedding(len(okved_lookup) + 1, embedding_size, padding_idx=0)\n",
    "\n",
    "model = BstTransformer(\n",
    "    len(okved_lookup), len(unit_lookup), len(action_caption_lookup), okved_embeddings, sequence_length, embedding_size=embedding_size\n",
    ")\n",
    "loss_func = torch.nn.CrossEntropyLoss()\n",
    "\n",
    "optimizer = torch.optim.AdamW(model.parameters(), lr=0.01)"
   ]
  },
  {
   "cell_type": "code",
   "execution_count": 69,
   "metadata": {},
   "outputs": [],
   "source": [
    "from torch.utils.data import DataLoader\n",
    "train_dataloader = DataLoader(train_dataset, batch_size=32, shuffle=True)\n",
    "test_dataloader = DataLoader(valid_dataset, batch_size=32, shuffle=False)"
   ]
  },
  {
   "cell_type": "code",
   "execution_count": 70,
   "metadata": {},
   "outputs": [],
   "source": [
    "from tqdm import tqdm"
   ]
  },
  {
   "cell_type": "code",
   "execution_count": 71,
   "metadata": {},
   "outputs": [],
   "source": [
    "model = model.to(device)"
   ]
  },
  {
   "cell_type": "code",
   "execution_count": 72,
   "metadata": {},
   "outputs": [],
   "source": [
    "from sklearn.metrics import accuracy_score, f1_score, recall_score, precision_score"
   ]
  },
  {
   "cell_type": "code",
   "execution_count": null,
   "metadata": {},
   "outputs": [
    {
     "name": "stdout",
     "output_type": "stream",
     "text": [
      "[1,  1600] loss: 0.401\n",
      "Accuracy: 0.8195510499637944\n",
      "F1 score: 0.8055876264417766\n",
      "Recall: 0.8195510499637944\n",
      "Precision: 0.8123618979087796\n",
      "[2,  1600] loss: 0.398\n",
      "Accuracy: 0.8194786386676322\n",
      "F1 score: 0.7970200160664316\n",
      "Recall: 0.8194786386676322\n",
      "Precision: 0.8257666204480053\n",
      "[3,  1600] loss: 0.387\n",
      "Accuracy: 0.8312092686459087\n",
      "F1 score: 0.8103548106898522\n",
      "Recall: 0.8312092686459087\n",
      "Precision: 0.8438659511934735\n",
      "[4,  1600] loss: 0.376\n",
      "Accuracy: 0.8366401158580739\n",
      "F1 score: 0.8192441342694918\n",
      "Recall: 0.8366401158580739\n",
      "Precision: 0.8457112531545473\n",
      "[5,  1600] loss: 0.376\n",
      "Accuracy: 0.8265025343953657\n",
      "F1 score: 0.8111600807498468\n",
      "Recall: 0.8265025343953657\n",
      "Precision: 0.8259020995430832\n",
      "[6,  1600] loss: 0.373\n",
      "Accuracy: 0.8292541636495293\n",
      "F1 score: 0.8170546432316148\n",
      "Recall: 0.8292541636495293\n",
      "Precision: 0.8266492840717875\n",
      "[7,  1600] loss: 0.370\n",
      "Accuracy: 0.8393917451122375\n",
      "F1 score: 0.8235831897547722\n",
      "Recall: 0.8393917451122375\n",
      "Precision: 0.8452539872712445\n"
     ]
    }
   ],
   "source": [
    "for epoch in range(100):\n",
    "\n",
    "    running_loss = 0.0\n",
    "    for i, data in enumerate(train_dataloader, 0):\n",
    "        inputs, labels = data\n",
    "\n",
    "        optimizer.zero_grad()\n",
    "\n",
    "        outputs = model(inputs)\n",
    "        loss = loss_func(outputs, labels)\n",
    "        loss.backward()\n",
    "        optimizer.step()\n",
    "\n",
    "        running_loss += loss.item()\n",
    "        if (i + 1) % 1600 == 0: \n",
    "            print(f'[{epoch + 1}, {i + 1:5d}] loss: {running_loss / 2000:.3f}')\n",
    "            running_loss = 0.0\n",
    "            prediction = []\n",
    "            fact = []\n",
    "            with torch.no_grad():\n",
    "                for i, tdata in enumerate(test_dataloader, 0):\n",
    "                    tinputs, tlabels = tdata\n",
    "                    pred1 = model(tinputs).argmax(dim=-1)\n",
    "                    prediction += list(pred1.detach().cpu().numpy())\n",
    "                    fact += list(tlabels.argmax(dim=-1).detach().cpu().numpy())\n",
    "            \n",
    "            print('Accuracy:', accuracy_score(fact, prediction))\n",
    "            print('F1 score:', f1_score(fact, prediction,average='weighted'))\n",
    "            print('Recall:', recall_score(fact, prediction,average='weighted'))\n",
    "            print('Precision:', precision_score(fact, prediction,average='weighted'))\n",
    "\n",
    "print('Finished Training')"
   ]
  },
  {
   "cell_type": "code",
   "execution_count": 128,
   "metadata": {
    "id": "SNGXPy4swgBf"
   },
   "outputs": [],
   "source": [
    "prediction = []\n",
    "fact = []\n",
    "with torch.no_grad():\n",
    "    for i, tdata in enumerate(test_dataloader, 0):\n",
    "        tinputs, tlabels = tdata\n",
    "        pred1 = model(tinputs).argmax(dim=-1)\n",
    "        prediction += list(pred1.detach().cpu().numpy())\n",
    "        fact += list(tlabels.argmax(dim=-1).detach().cpu().numpy())"
   ]
  },
  {
   "cell_type": "code",
   "execution_count": 136,
   "metadata": {
    "id": "TjNIo2WERVs3"
   },
   "outputs": [],
   "source": [
    "df = pd.DataFrame(np.hstack((np.array(prediction).reshape(-1, 1), np.array(fact).reshape(-1, 1))), columns=['predict', 'fact'])"
   ]
  },
  {
   "cell_type": "code",
   "execution_count": 137,
   "metadata": {},
   "outputs": [],
   "source": [
    "#df.to_csv(r'result.csv', sep=';')"
   ]
  },
  {
   "cell_type": "code",
   "execution_count": 79,
   "metadata": {},
   "outputs": [],
   "source": [
    "emd_dataset = []\n",
    "for i in range(len(okved_lookup) + 1):\n",
    "    emb = okved_embeddings(torch.tensor(i).to(device)).detach().cpu().numpy()\n",
    "    emd_dataset.append(emb)"
   ]
  },
  {
   "cell_type": "code",
   "execution_count": 80,
   "metadata": {},
   "outputs": [],
   "source": [
    "from sklearn.decomposition import PCA\n",
    "pca = PCA(n_components = 2)\n",
    "XPCAreduced = pca.fit_transform(emd_dataset)"
   ]
  },
  {
   "cell_type": "code",
   "execution_count": 81,
   "metadata": {},
   "outputs": [
    {
     "data": {
      "text/plain": [
       "array([[ 3.00982139,  1.48200038],\n",
       "       [ 3.42417151,  3.32253438],\n",
       "       [-3.55577613,  3.50582462],\n",
       "       ...,\n",
       "       [ 2.87991024,  8.72746278],\n",
       "       [-3.35402723, -0.92332022],\n",
       "       [ 2.74823409,  1.17185577]])"
      ]
     },
     "execution_count": 81,
     "metadata": {},
     "output_type": "execute_result"
    }
   ],
   "source": [
    "XPCAreduced"
   ]
  },
  {
   "cell_type": "code",
   "execution_count": 84,
   "metadata": {},
   "outputs": [
    {
     "data": {
      "image/png": "[encoded data removed]",
      "text/plain": [
       "<Figure size 640x480 with 1 Axes>"
      ]
     },
     "metadata": {},
     "output_type": "display_data"
    }
   ],
   "source": [
    "import matplotlib.pyplot as plt\n",
    "import numpy as np\n",
    "\n",
    "x = XPCAreduced[:, 0]\n",
    "y = XPCAreduced[:, 1]\n",
    "\n",
    "plt.scatter(x, y)\n",
    "plt.show()"
   ]
  },
  {
   "cell_type": "code",
   "execution_count": null,
   "metadata": {},
   "outputs": [],
   "source": []
  }
 ],
 "metadata": {
  "colab": {
   "provenance": []
  },
  "kernelspec": {
   "display_name": "pytorch_env",
   "language": "python",
   "name": "pytorch_env"
  },
  "language_info": {
   "codemirror_mode": {
    "name": "ipython",
    "version": 3
   },
   "file_extension": ".py",
   "mimetype": "text/x-python",
   "name": "python",
   "nbconvert_exporter": "python",
   "pygments_lexer": "ipython3",
   "version": "3.11.8"
  }
 },
 "nbformat": 4,
 "nbformat_minor": 1
}
